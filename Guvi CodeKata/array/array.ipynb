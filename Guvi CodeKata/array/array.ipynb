{
 "cells": [
  {
   "cell_type": "markdown",
   "metadata": {},
   "source": [
    "6. Find the first 0 in window of size k. You  are given n numbers and window size ‘w’\n",
    "\n",
    "Your task is to print the first index which has 0\n",
    "\n",
    "Input Description:\n",
    "You are given two numbers ‘n’ and ‘w’ n representing size of array and ‘w’ size of window\n",
    "\n",
    "Output Description:\n",
    "Print the index of first 0(1 basedindexing),if there is no index with 0 print -1\n",
    "\n",
    "Sample Input :\n",
    "7 2\n",
    "1 0 6 7 4 0 9\n",
    "Sample Output :\n",
    "2 2 -1 -1 6 6"
   ]
  },
  {
   "cell_type": "code",
   "execution_count": null,
   "metadata": {},
   "outputs": [],
   "source": [
    "n,w=map(int,input().split())\n",
    "\n",
    "nums = list(map(int,input().split()))\n",
    "\n",
    "inds = []\n",
    "for i in range(n-w+1):\n",
    "    inds.append(-1)\n",
    "    for j in range(i, i+w):\n",
    "        if nums[j]==0:\n",
    "            inds[-1]  = j+1\n",
    "            break\n",
    "print(*inds)\n"
   ]
  },
  {
   "cell_type": "markdown",
   "metadata": {},
   "source": [
    "3"
   ]
  },
  {
   "cell_type": "markdown",
   "metadata": {},
   "source": [
    "8. You are given with an circular array .Your task is calculate the difference between two consecutive number. And if difference is greater than ‘k’, print 1 else print 0\n",
    "\n",
    "Input Description:\n",
    "You are given two numbers ‘n’, ’m’. Next line contains n space separated integers.\n",
    "\n",
    "Output Description:\n",
    "Print 1 if the difference is greater than ‘m’.\n",
    "\n",
    "Sample Input :\n",
    "5 15\n",
    "50 65 85 98 35\n",
    "Sample Output :\n",
    "0 1 0 1 0"
   ]
  },
  {
   "cell_type": "code",
   "execution_count": null,
   "metadata": {},
   "outputs": [],
   "source": [
    "n, k = map(int, input().split())\n",
    "nums = list(map(int,input().split()))\n",
    "\n",
    "ans = []\n",
    "for i in range(n-1):\n",
    "    if abs(nums[i]-nums[i+1]) > k:\n",
    "        ans.append(1)\n",
    "    else:\n",
    "        ans.append(0)\n",
    "if abs(nums[-1]-nums[0]) > k:\n",
    "    ans.append(1)\n",
    "else:\n",
    "    ans.append(0)\n",
    "print(*ans)"
   ]
  },
  {
   "cell_type": "markdown",
   "metadata": {},
   "source": [
    "4"
   ]
  },
  {
   "cell_type": "markdown",
   "metadata": {},
   "source": [
    "11. A person saves his monthly saving according to given schema. He saves same amount of money which is equal to the money saved in immediate previous two months. Assume, initially he saved 1000 rupees and in first month he saved another 1000. Your task is to tell how much he had totally saved at the end of ‘n’ months\n",
    "\n",
    "Input Description:\n",
    "You will be given a number ‘n’->No. of months\n",
    "\n",
    "Output Description:\n",
    "Print the total savings at the end of ‘n’ months\n",
    "\n",
    "Sample Input :\n",
    "1\n",
    "Sample Output :\n",
    "2000"
   ]
  },
  {
   "cell_type": "code",
   "execution_count": null,
   "metadata": {},
   "outputs": [],
   "source": [
    "n = 2\n",
    "\n",
    "amounts = [1000]\n",
    "\n",
    "for i in range(0, n+1):\n",
    "    if i == 0: continue\n",
    "    elif i == 1: amounts.append(amounts[0])\n",
    "    else:\n",
    "        amounts.append(sum(amounts[-2:]))\n",
    "\n",
    "print(sum(amounts))"
   ]
  },
  {
   "cell_type": "markdown",
   "metadata": {},
   "source": [
    "5"
   ]
  },
  {
   "cell_type": "markdown",
   "metadata": {},
   "source": [
    "12\n",
    "Share\n",
    "Ramesh is a student and wants to find out if there is any other student in his class who has got the same marks as his, in maths. Help him to find out.\n",
    " \n",
    "\n",
    "Input Description:\n",
    "First line contains the number of students in the class followed by Ramesh’s mark. Second line contains the marks of all students in the class.\n",
    "\n",
    "Output Description:\n",
    "Index of student who got mark same as Ramesh’s mark. If no such mark exists, return -1.\n",
    "\n",
    "Sample Input :\n",
    "2 10\n",
    "1 2\n",
    "Sample Output :\n",
    "-1"
   ]
  },
  {
   "cell_type": "code",
   "execution_count": null,
   "metadata": {},
   "outputs": [],
   "source": [
    "n, r = map(int, input().split())\n",
    "\n",
    "ind = -1\n",
    "marks = list(map(int, input().split()))\n",
    "\n",
    "for i in range(n):\n",
    "    if marks[i] == r: ind = i \n",
    "\n",
    "print(ind)"
   ]
  },
  {
   "cell_type": "markdown",
   "metadata": {},
   "source": [
    "6"
   ]
  },
  {
   "cell_type": "markdown",
   "metadata": {},
   "source": [
    "13\n",
    "Share\n",
    "Pk finds it difficult to judge the minimum element in the list of elements given to him. Your task is to develop the algorithm in order to find the minimum element.\n",
    "\n",
    " \n",
    "\n",
    "Note:Don’t use sorting\n",
    " \n",
    "\n",
    "Input Description:\n",
    "You are given ‘n’ number of elements. Next line contains n space separated numbers.\n",
    "\n",
    "Output Description:\n",
    "Print the minimum element\n",
    "\n",
    "Sample Input :\n",
    "5\n",
    "3 4 9 1 6\n",
    "Sample Output :\n",
    "1"
   ]
  },
  {
   "cell_type": "code",
   "execution_count": null,
   "metadata": {},
   "outputs": [],
   "source": [
    "n = int(input())\n",
    "nums = list(map(int, input().split()))\n",
    "\n",
    "ans = nums[0]\n",
    "\n",
    "for i in nums:\n",
    "    if i<ans : ans = i\n",
    "    \n",
    "print(ans)"
   ]
  },
  {
   "cell_type": "markdown",
   "metadata": {},
   "source": [
    "7"
   ]
  },
  {
   "cell_type": "markdown",
   "metadata": {},
   "source": [
    "14\n",
    "Share\n",
    "You are given with an array. For each element present in the array your task is to print the next smallest than that number. If it is not smallest print -1\n",
    "\n",
    "Input Description:\n",
    "You are given a number ‘n’ representing size of array. And n space separated numbers.\n",
    "\n",
    "Output Description:\n",
    "Print the next smallest number present in array and -1 if no smallest is present\n",
    "\n",
    "Sample Input :\n",
    "7\n",
    "10 7 9 3 2 1 15\n",
    "Sample Output :\n",
    "7 3 3 2 1 -1 -1"
   ]
  },
  {
   "cell_type": "code",
   "execution_count": null,
   "metadata": {},
   "outputs": [],
   "source": [
    "n = int(input())\n",
    "nums = list(map(int,input().split()))\n",
    "ans = []\n",
    "for i in range(n):\n",
    "    lower = -1\n",
    "    for j in range(i+1, n):\n",
    "        if nums[j]<nums[i]: \n",
    "            lower=nums[j]\n",
    "            break\n",
    "    ans.append(lower)\n",
    "print(*ans)"
   ]
  },
  {
   "cell_type": "markdown",
   "metadata": {},
   "source": [
    "8"
   ]
  },
  {
   "cell_type": "markdown",
   "metadata": {},
   "source": [
    "15\n",
    "Share\n",
    "Shreya is a brilliant girl. She likes to memorize the numbers. These numbers will be shown to her. As an examiner develop an algorithm to test her memory.\n",
    "\n",
    " \n",
    "\n",
    "CONSTRAINTS\n",
    "\n",
    "1<=Y,N,T<=1000\n",
    "\n",
    "Input Description:\n",
    "First line contains no. of test cases(Y). Next line contains a number N. Next line contains n space separated numbers Next line contains a number T denoting the number of questions asked from you regarding the given array. Next line contains T space separated numbers.\n",
    "\n",
    "Output Description:\n",
    "Print the occurrence of each number if present else “NOT PRESENT”\n",
    "\n",
    "Sample Input :\n",
    "10\n",
    "1 1 1 2 2 2 3 8 9 7\n",
    "5\n",
    "1 2 3 0 5\n",
    "Sample Output :\n",
    "3 3 1 Not Present Not Present"
   ]
  },
  {
   "cell_type": "code",
   "execution_count": null,
   "metadata": {},
   "outputs": [],
   "source": [
    "y = int(input())\n",
    "nums = list(map(int,input().split()))\n",
    "t = int(input())\n",
    "qs = list(map(int,input().split()))\n",
    "\n",
    "numsd = {}\n",
    "for i in nums:\n",
    "    numsd[i] = numsd.get(i, 0) + 1\n",
    "\n",
    "ans = []\n",
    "for i in qs:\n",
    "    ans.append(numsd.get(i, 'Not Present'))\n",
    "print(*ans)"
   ]
  },
  {
   "cell_type": "markdown",
   "metadata": {},
   "source": [
    "9"
   ]
  },
  {
   "cell_type": "markdown",
   "metadata": {},
   "source": [
    "16\n",
    "Share\n",
    "You are given an array of non-negative integers representing height of walls at index i as Ai and the width of each block is 1. Compute how much air can be encapsulated between the walls of chamber.\n",
    "\n",
    " \n",
    "\n",
    "Input Description:\n",
    "Each line contains an integer ‘N’ denoting the size of the array Next line contains N space separated numbers to be stored in array.\n",
    "\n",
    "Output Description:\n",
    "Output the total unit of Air encapsulated between the walls of chamber.\n",
    "\n",
    "Sample Input :\n",
    "3\n",
    "7 4 9\n",
    "Sample Output :\n",
    "3"
   ]
  },
  {
   "cell_type": "code",
   "execution_count": null,
   "metadata": {},
   "outputs": [],
   "source": [
    "n = int(input())\n",
    "arr = list(map(int,input().split()))\n",
    "\n",
    "res = 0\n",
    "\n",
    "# For every element of the array \n",
    "for i in range(1, n - 1): \n",
    "\n",
    "\t# Find the maximum element on its left \n",
    "\tleft = arr[i] \n",
    "\tfor j in range(i): \n",
    "\t\tleft = max(left, arr[j]) \n",
    "\n",
    "\t# Find the maximum element on its right \n",
    "\tright = arr[i] \n",
    "\n",
    "\tfor j in range(i + 1, n): \n",
    "\t\tright = max(right, arr[j]) \n",
    "\n",
    "\t# Update the maximum water \n",
    "\tres = res + (min(left, right) - arr[i]) \n",
    "print(res)\n"
   ]
  },
  {
   "cell_type": "markdown",
   "metadata": {},
   "source": [
    "10"
   ]
  },
  {
   "cell_type": "markdown",
   "metadata": {},
   "source": [
    "17\n",
    "Share\n",
    "You are given with a list of size ‘n’. The list is imposed with a condition that all elements must be of range 0 to n-1.Your task is to rearrange the numbers such that arr[i] becomes arr[arr[i]].\n",
    "\n",
    "Input Description:\n",
    "You are given size of array ‘n’.n space separated numbers in next line.\n",
    "\n",
    "Output Description:\n",
    "Print all elements after rearranging.\n",
    "\n",
    "Sample Input :\n",
    "5\n",
    "4 0 2 1 3\n",
    "Sample Output :\n",
    "3 4 2 0 1"
   ]
  },
  {
   "cell_type": "code",
   "execution_count": null,
   "metadata": {},
   "outputs": [],
   "source": [
    "n = int(input())\n",
    "\n",
    "nums = list(map(int, input().split()))\n",
    "\n",
    "ans = []\n",
    "\n",
    "for i in range(n):\n",
    "    ans.append(nums[nums[i]])\n",
    "print(*ans)"
   ]
  },
  {
   "cell_type": "markdown",
   "metadata": {},
   "source": [
    "11"
   ]
  },
  {
   "cell_type": "markdown",
   "metadata": {},
   "source": [
    "18\n",
    "Share\n",
    "You are given an array of numbers. Print the least occurring element. If there is more than 1 element print all of them in decreasing order of their value.\n",
    "\n",
    "Input Description:\n",
    "You are given a number ‘n’ denoting size of array. Next line contains n space separated numbers.\n",
    "\n",
    "Output Description:\n",
    "Print the number as mentioned\n",
    "\n",
    "Sample Input :\n",
    "9\n",
    "1 6 4 56 56 56 6 4 2\n",
    "Sample Output :\n",
    "2 1"
   ]
  },
  {
   "cell_type": "code",
   "execution_count": null,
   "metadata": {},
   "outputs": [],
   "source": [
    "n = int(input())\n",
    "nums = list(map(int, input().split()))\n",
    "\n",
    "counts = {}\n",
    "for i in nums:\n",
    "    counts[i] = counts.get(i, 0) + 1 \n",
    "    \n",
    "m = min(counts.values())\n",
    "ans = []\n",
    "for i in counts:\n",
    "    if counts[i] == m: ans.append(i)\n",
    "print(*ans)"
   ]
  },
  {
   "cell_type": "markdown",
   "metadata": {},
   "source": [
    "12"
   ]
  },
  {
   "cell_type": "markdown",
   "metadata": {},
   "source": [
    "19\n",
    "Share\n",
    "Assume you are a student studying in school.You are given a task to find first negative integer for each and every window of size k.\n",
    "\n",
    "Input Description:\n",
    "First line contains an integer n denoting the size of the array. The next line contains n space separated integers forming the array. The last line contains the window size k.\n",
    "\n",
    "Output Description:\n",
    "Print the first negative integer in that window.If all the numbers are positive print 0\n",
    "\n",
    "Sample Input :\n",
    "7\n",
    "1 -2 -3 -4 5 6 -7\n",
    "3\n",
    "Sample Output :\n",
    "-2 -2 -3 -4 -7"
   ]
  },
  {
   "cell_type": "code",
   "execution_count": null,
   "metadata": {},
   "outputs": [],
   "source": [
    "n = int(input())\n",
    "nums = list(map(int, input().split()))\n",
    "w = int(input())\n",
    "\n",
    "ans = []\n",
    "for i in range(n-w+1):\n",
    "    num = 0\n",
    "    for j in range(i, i+w):\n",
    "        if nums[j]<0:\n",
    "            num = nums[j]\n",
    "            break\n",
    "    ans.append(num)\n",
    "\n",
    "print(*ans)"
   ]
  },
  {
   "cell_type": "markdown",
   "metadata": {},
   "source": [
    "13"
   ]
  },
  {
   "cell_type": "markdown",
   "metadata": {},
   "source": [
    "20\n",
    "Share\n",
    "Given a number N, print the odd digits in the number(space seperated) or print -1 if there is no odd digit in the given number.\n",
    "Input Size : N <= 100000\n",
    "Sample Testcase :\n",
    "INPUT\n",
    "2143\n",
    "OUTPUT\n",
    "1 3"
   ]
  },
  {
   "cell_type": "code",
   "execution_count": null,
   "metadata": {},
   "outputs": [],
   "source": [
    "nums = input()\n",
    "odds = []\n",
    "\n",
    "for i in nums:\n",
    "    if int(i)%2!=0:\n",
    "        odds.append(int(i))\n",
    "if odds:\n",
    "    print(*odds)\n",
    "else:\n",
    "    print(-1)"
   ]
  },
  {
   "cell_type": "markdown",
   "metadata": {},
   "source": [
    "14"
   ]
  },
  {
   "cell_type": "markdown",
   "metadata": {},
   "source": [
    "21\n",
    "Share\n",
    "Rajesh and Ram are having a conflict on the maximum marks that they have scored in all the exams conducted in the past year. The one having scored the maximum gets a treat from the other. They decide to go through their test papers and record their highest marks. You are Rajesh’s best friend and as he has tutions to attend, he gives you all his test papers and asks you to find out the maximum marks that he has scored among all the marks in all exams. He promises you a treat if he wins the bet with Ram. Help Rajesh find out his highest marks.\n",
    "\n",
    "Constraints:\n",
    "\n",
    "1 <= N <= 10\n",
    "\n",
    "0 <= A[] <= 100\n",
    "\n",
    "Input Description:\n",
    "First line contains count of marks. Next line is the list of marks obtained by Rajesh.\n",
    "\n",
    "Output Description:\n",
    "Highest marks obtained by Rajesh.\n",
    "\n",
    "Sample Input :\n",
    "3\n",
    "82 96 72\n",
    "Sample Output :\n",
    "96"
   ]
  },
  {
   "cell_type": "code",
   "execution_count": null,
   "metadata": {},
   "outputs": [],
   "source": [
    "n = int(input())\n",
    "nums = list(map(int, input().split()))\n",
    "\n",
    "print(max(nums))"
   ]
  },
  {
   "cell_type": "markdown",
   "metadata": {},
   "source": [
    "15"
   ]
  },
  {
   "cell_type": "markdown",
   "metadata": {},
   "source": [
    "22\n",
    "Share\n",
    "You are a software engineer at an MNC. You are given the task of sorting the employees in your company based on their salary. Perform the task so that the employees, including yourself, will get a bonus from the management.\n",
    "\n",
    "CONSTRAINT:\n",
    "\n",
    "0<=salary<=1000000\n",
    "\n",
    " \n",
    "\n",
    "Input Description:\n",
    "Number of employees followed by their name and salary\n",
    "\n",
    "Output Description:\n",
    "Sorted list of employee names\n",
    "\n",
    "Sample Input :\n",
    "3\n",
    "Karthik 23000 rohan 81734 varshini 12343\n",
    "Sample Output :\n",
    "varshini\n",
    "Karthik\n",
    "Rohan"
   ]
  },
  {
   "cell_type": "code",
   "execution_count": null,
   "metadata": {},
   "outputs": [],
   "source": [
    "n = int(input())\n",
    "nums = input().split()\n",
    "\n",
    "counts = {}\n",
    "for i in range(0, n*2-1, 2):\n",
    "    counts[nums[i]] = int(nums[i+1])\n",
    "\n",
    "order = sorted(counts.items(), key = lambda x : x[1])\n",
    "print(*[x[0] for x in order], sep='\\n')"
   ]
  },
  {
   "cell_type": "markdown",
   "metadata": {},
   "source": [
    "16"
   ]
  },
  {
   "cell_type": "markdown",
   "metadata": {},
   "source": [
    "23\n",
    "Share\n",
    "You are given an array of numbers. Print the least occurring element. If there is more than 1 element print all of them in decreasing order of their value.\n",
    "\n",
    "Input Description:\n",
    "You are given a number ‘n’ denoting size of array. Next line contains n space separated numbers.\n",
    "\n",
    "Output Description:\n",
    "Print the number as mentioned\n",
    "\n",
    "Sample Input :\n",
    "9\n",
    "1 6 4 56 56 56 6 4 2\n",
    "Sample Output :\n",
    "2 1"
   ]
  },
  {
   "cell_type": "code",
   "execution_count": null,
   "metadata": {},
   "outputs": [],
   "source": [
    "n = int(input())\n",
    "nums = list(map(int, input().split()))\n",
    "\n",
    "counts = {}\n",
    "for i in nums:\n",
    "    counts[i] = counts.get(i, 0) + 1 \n",
    "    \n",
    "m = min(counts.values())\n",
    "ans = []\n",
    "for i in counts:\n",
    "    if counts[i] == m: ans.append(i)\n",
    "print(*reversed(ans))"
   ]
  },
  {
   "cell_type": "markdown",
   "metadata": {},
   "source": [
    "17"
   ]
  },
  {
   "cell_type": "markdown",
   "metadata": {},
   "source": [
    "25\n",
    "Share\n",
    "Rahul is fond of numbers.He is given a list of queries. 1 means store that element,2 means means print the minimum element of the stored list. For more clarity see the input and output example\n",
    "\n",
    "Input Description:\n",
    "The first line of the input N indicates the size of the query list. For N lines, the queries are given with the format of '1 M', where M indicates the number to be stored and 1 indicates the query type. Similarly, '2' which indicates the type of query and it does not contain M since it is not required by this query type. Briefly saying, '1 M' means store that element M in a list '2' means print the minimum element of stored list\n",
    "\n",
    "Output Description:\n",
    "Print the minimum element and -1 if there are no elements in stored list if the querytype is 2. Store the given number in the list if the query type is 1.\n",
    "\n",
    "Sample Input :\n",
    "5\n",
    "1 60\n",
    "2\n",
    "1 58\n",
    "2\n",
    "1 69\n",
    "Sample Output :\n",
    "60 58"
   ]
  },
  {
   "cell_type": "code",
   "execution_count": null,
   "metadata": {},
   "outputs": [],
   "source": [
    "n = int(input())\n",
    "nums = []\n",
    "for i in range(n):\n",
    "    nums.append(list(map(int, input().split())))\n",
    "\n",
    "store = []\n",
    "mins = []\n",
    "\n",
    "for i in nums:\n",
    "    if i[0] == 1: store.append(i[1])\n",
    "    elif i[0] == 2: \n",
    "        if store:\n",
    "            mins.append(min(store))\n",
    "        else:\n",
    "            mins.append(-1)\n",
    "print(*mins)"
   ]
  },
  {
   "cell_type": "markdown",
   "metadata": {},
   "source": [
    "\n",
    "18"
   ]
  },
  {
   "cell_type": "markdown",
   "metadata": {},
   "source": [
    "27\n",
    "Share\n",
    "You are given two arrays of equal length. Your task is to merge the two arrays then sort them too and then find the sum of two middlemost elements.\n",
    "\n",
    "Input Description:\n",
    "You are given a number ‘n’. Then Next line contains first list of 'n' separated numbers.Third line contains second list of 'n' space separated numbers.\n",
    "\n",
    "Output Description:\n",
    "Print the sum of two middle elements\n",
    "\n",
    "Sample Input :\n",
    "5\n",
    "1 9 16 25 46\n",
    "2 3 4 5 6\n",
    "Sample Output :\n",
    "11"
   ]
  },
  {
   "cell_type": "code",
   "execution_count": null,
   "metadata": {},
   "outputs": [],
   "source": [
    "n = int(input())\n",
    "nums = list(map(int, input().split()))\n",
    "nums.extend(list(map(int, input().split())))\n",
    "nums = sorted(nums)\n",
    "print(nums[int(n)]+nums[int(n-1)])"
   ]
  },
  {
   "cell_type": "markdown",
   "metadata": {},
   "source": [
    "19"
   ]
  },
  {
   "cell_type": "markdown",
   "metadata": {},
   "source": [
    "28\n",
    "Share\n",
    "You are an intern at GUVI and the company wants to organise its data and delete unnecessary extra storage elements used. You are given k arrays of unequal dimensions. Sort the k arrays individually and concatenate them.\n",
    " \n",
    "\n",
    "Input Description:\n",
    "First line contains the number of arrays. Subsequent lines contain the size of the array followed by the elements of the array.\n",
    "\n",
    "Output Description:\n",
    "An array containing the sorted elements of k sorted arrays\n",
    "\n",
    "Sample Input :\n",
    "3\n",
    "2\n",
    "98 12\n",
    "6\n",
    "1 2 3 8 5 9\n",
    "1\n",
    "11\n",
    "Sample Output :\n",
    "12 98 1 2 3 5 8 9 11"
   ]
  },
  {
   "cell_type": "code",
   "execution_count": null,
   "metadata": {},
   "outputs": [],
   "source": [
    "n = int(input())\n",
    "nums = []\n",
    "for i in range(n):\n",
    "    l = int(input())\n",
    "    nums.extend(sorted(list(map(int,input().split()))))\n",
    "    \n",
    "print(*nums)"
   ]
  },
  {
   "cell_type": "markdown",
   "metadata": {},
   "source": [
    "20"
   ]
  },
  {
   "cell_type": "markdown",
   "metadata": {},
   "source": [
    "29\n",
    "Share\n",
    "Loki wants to steal the tesseract but in order to do so, he has to rearrange the elements in an array in a specific manner which is mentioned in a clue. The clue says ‘cursed are the odd and sorted are the even’. Loki manages to decode the clue which translates to “sort the even positioned elements of an array, starting from the element at index 0, in ascending order”. Manipulate the array so as to help Loki steal the tesseract.\n",
    " \n",
    "\n",
    "Input Description:\n",
    "Size of the array followed by the elements of the array\n",
    "\n",
    "Output Description:\n",
    "Even index array elements sorted in ascending order\n",
    "\n",
    "Sample Input :\n",
    "5\n",
    "3 9 1 44 6\n",
    "Sample Output :\n",
    "1 9 3 44 6"
   ]
  },
  {
   "cell_type": "code",
   "execution_count": null,
   "metadata": {},
   "outputs": [],
   "source": [
    "n = int(input())\n",
    "nums = list(map(int, input().split()))\n",
    "\n",
    "odds = []\n",
    "evens = []\n",
    "\n",
    "for i in range(n):\n",
    "    if i%2==0: evens.append(nums[i])\n",
    "    else: odds.append(nums[i])\n",
    "    \n",
    "ans = odds\n",
    "evens = sorted(evens)\n",
    "\n",
    "for i in range(len(evens)):\n",
    "    ans.insert(i*2, evens[i])\n",
    "    \n",
    "print(*ans)"
   ]
  },
  {
   "cell_type": "markdown",
   "metadata": {},
   "source": [
    "21"
   ]
  },
  {
   "cell_type": "markdown",
   "metadata": {},
   "source": [
    "30\n",
    "Share\n",
    "you are given with array of numbers.you have to find whether array is beautiful or not. A beautiful array is an array whose sum of all numbers is divisible by 2, 3 and 5\n",
    "\n",
    "Input Description:\n",
    "You are given a number ‘n’ denoting the size of array.Next line contains n space separated numbers.\n",
    "\n",
    "Output Description:\n",
    "Print 1 if array is beautiful and 0 if it is not\n",
    "\n",
    "Sample Input :\n",
    "5\n",
    "5 25 35 -5 30\n",
    "Sample Output :\n",
    "1"
   ]
  },
  {
   "cell_type": "code",
   "execution_count": null,
   "metadata": {},
   "outputs": [],
   "source": [
    "n = int(input())\n",
    "nums = list(map(int, input().split()))\n",
    "print(1 if sum(nums)/2/3%5 == 0 else 0)"
   ]
  },
  {
   "cell_type": "markdown",
   "metadata": {},
   "source": [
    "22"
   ]
  },
  {
   "cell_type": "markdown",
   "metadata": {},
   "source": [
    "31\n",
    "Share\n",
    "Given a number N print a right angled traingle structure with the starting level as single 1 and every immediate proceeding level with 2 more additional ones than the previous level .Repeat the pattern for N levels.\n",
    "Input Size : N <= 1000\n",
    "Sample Testcase :\n",
    "INPUT\n",
    "3\n",
    "OUTPUT\n",
    "1\n",
    "1 1 1\n",
    "1 1 1 1 1"
   ]
  },
  {
   "cell_type": "code",
   "execution_count": null,
   "metadata": {},
   "outputs": [],
   "source": [
    "for i in range(int(input())):\n",
    "    print(*([1]*((i+1)*2-1)))"
   ]
  },
  {
   "cell_type": "markdown",
   "metadata": {},
   "source": [
    "23"
   ]
  },
  {
   "cell_type": "markdown",
   "metadata": {},
   "source": [
    "32\n",
    "Share\n",
    "Given 2 numbers N and K followed by N elements,print the number of repetition of K otherwise print '-1' if the element not found.\n",
    "Sample Testcase :\n",
    "INPUT\n",
    "6 2\n",
    "1 2 3 5 7 8\n",
    "OUTPUT\n",
    "0"
   ]
  },
  {
   "cell_type": "code",
   "execution_count": null,
   "metadata": {},
   "outputs": [],
   "source": [
    "r, c = map(int, input().split())\n",
    "nums = []\n",
    "for i in range(r):\n",
    "    nums.extend(list(map(int, input().split())))\n",
    "    \n",
    "print(f'RAM: {nums.count(0)}')\n",
    "print(f'SITA: {nums.count(1)}')"
   ]
  },
  {
   "cell_type": "markdown",
   "metadata": {},
   "source": [
    "24"
   ]
  },
  {
   "cell_type": "markdown",
   "metadata": {},
   "source": [
    "34\n",
    "Share\n",
    "Given a number N and 2 arrays A and B of sorted order of size N, print the common elements.If it is not found print -1.\n",
    "Input Size : 1 <= N <= 100000\n",
    "Sample Testcase :\n",
    "INPUT\n",
    "5\n",
    "1 1 1 1 1\n",
    "1 2 3 4 5\n",
    "OUTPUT\n",
    "1"
   ]
  },
  {
   "cell_type": "code",
   "execution_count": null,
   "metadata": {},
   "outputs": [],
   "source": [
    "n = int(input())\n",
    "nums1 = list(map(int, input().split()))\n",
    "nums2 = list(map(int, input().split()))\n",
    "\n",
    "com = []\n",
    "\n",
    "\n",
    "for i in nums1:\n",
    "    if i in nums2: com.append(i)\n",
    "\n",
    "\n",
    "if com:\n",
    "    print(*com)\n",
    "else:\n",
    "    print(-1)"
   ]
  },
  {
   "cell_type": "markdown",
   "metadata": {},
   "source": [
    "25"
   ]
  },
  {
   "cell_type": "markdown",
   "metadata": {},
   "source": [
    "35\n",
    "Share\n",
    "You are a passport issuer, but due to some problems in the system, there are redundant  passport numbers. Your task is to delete all the duplicate passport numbers. You are given a list of passport numbers.\n",
    "\n",
    "Input Description:\n",
    "You are given length of list.Second line,You are given with a list.\n",
    "\n",
    "Output Description:\n",
    "Print the list of passport numbers without duplicates.\n",
    "\n",
    "Sample Input :\n",
    "5\n",
    "A23 B56 B56 C79 D16\n",
    "Sample Output :\n",
    "A23 B56 C79 D16"
   ]
  },
  {
   "cell_type": "code",
   "execution_count": null,
   "metadata": {},
   "outputs": [],
   "source": [
    "n = int(input())\n",
    "ls = input().split()\n",
    "ans = []\n",
    "c = 0\n",
    "while c<len(ls):\n",
    "    if ls[c] in ans: ls.pop(c)\n",
    "    else: ans.append(ls[c])\n",
    "\n",
    "print(*ans)"
   ]
  },
  {
   "cell_type": "markdown",
   "metadata": {},
   "source": [
    "26"
   ]
  },
  {
   "cell_type": "markdown",
   "metadata": {},
   "source": [
    "37\n",
    "Share\n",
    "Prakash is bored and wants to spends his time. He starts rolling a die and observes the value that is shown. He rolls the dice N times and observes that just one number appears distinctly, all the others get repeated or does not appear at all. Find out which was the number that puzzled Prakash for sometime, after which he realised that it was just a coincidence.\n",
    "\n",
    "Constraints\n",
    "0 <   N  <= 100\n",
    "0 <= A[i] <= 100\n",
    " \n",
    "\n",
    "Input Description:\n",
    "The first line contains a positive integer N, denoting the size of the array. The second line contains N positive integers, denoting the face values that appeared when the die was rolled.\n",
    "\n",
    "Output Description:\n",
    "Print out the singly occurring number.\n",
    "\n",
    "Sample Input :\n",
    "5\n",
    "1 1 2 5 5\n",
    "Sample Output :\n",
    "2"
   ]
  },
  {
   "cell_type": "code",
   "execution_count": null,
   "metadata": {},
   "outputs": [],
   "source": [
    "n = int(input())\n",
    "nums = list(map(int, input().split()))\n",
    "\n",
    "checked = []\n",
    "ans = []\n",
    "for i in range(n):\n",
    "    if nums[i] in ans: ans.remove(nums[i])\n",
    "    elif nums[i] not in checked: ans.append(nums[i])\n",
    "    checked.append(nums[i])\n",
    "\n",
    "print(*ans)"
   ]
  },
  {
   "cell_type": "markdown",
   "metadata": {},
   "source": [
    "27"
   ]
  },
  {
   "cell_type": "markdown",
   "metadata": {},
   "source": [
    "38\n",
    "Share\n",
    "Indian politics has an interesting trend in history. A party which assumes that it is the undefeatable champion in elections has been defeated by other parties in many instances.You are a data analyst in the Election Commission. You are given a list containing a year and the party which won the election in that particular year. Your task is to analyse the trend and find the years in which, one party, which won many elections consecutively, was suddenly defeated by another.\n",
    " \n",
    "\n",
    "Input Description:\n",
    "Size of the array, followed by 2 arrays, one containing the year values and the other containing the party which won the election that year.\n",
    "\n",
    "Output Description:\n",
    "The year of transition from one party to another.\n",
    "\n",
    "Sample Input :\n",
    "5\n",
    "2004 1999 2019 2009 2014\n",
    "JDU JDU CON JDU CON\n",
    "Sample Output :\n",
    "2014"
   ]
  },
  {
   "cell_type": "code",
   "execution_count": null,
   "metadata": {},
   "outputs": [],
   "source": [
    "n = int(input())\n",
    "years = list(map(int, input().split()))\n",
    "party = input().split()\n",
    "\n",
    "wins = {}\n",
    "\n",
    "for i in range(n):\n",
    "    wins[years[i]] = party[i]\n",
    "\n",
    "order = sorted(wins.items())\n",
    "\n",
    "trends = []\n",
    "prev = order[0][1]\n",
    "for i in order:\n",
    "    if i[1] != prev:\n",
    "        trends.append(i[0])\n",
    "    prev = i[1]\n",
    "\n",
    "print(*trends, sep='\\n')"
   ]
  },
  {
   "cell_type": "markdown",
   "metadata": {},
   "source": [
    "28"
   ]
  },
  {
   "cell_type": "markdown",
   "metadata": {},
   "source": [
    "39\n",
    "Share\n",
    "The prison warden at Central jail is given a tip-off that a prison inmate is planning an escape. The warden suspects a particular prisoner of planning an escape and wants to find out if he/she is present in his/her cell. The layout of the prison is modelled in a matrix with every cell of the matrix representing a prison cell. The matrix is filled with the prisoner ids at the corresponding cells. Find out whether the person the warden suspects is present in the prison or not.\n",
    " \n",
    "\n",
    "Input Description:\n",
    "First line contains the dimensions of the prison matrix, followed by the ids of prisoners as elements of the matrix. The third line contains the id to be searched.\n",
    "\n",
    "Output Description:\n",
    "(yes/no) whether the given element is present in the matrix or not.\n",
    "\n",
    "Sample Input :\n",
    "2 5\n",
    "2 3 0 7 1 5 3 4 1 8\n",
    "11\n",
    "Sample Output :\n",
    "no"
   ]
  },
  {
   "cell_type": "code",
   "execution_count": null,
   "metadata": {},
   "outputs": [],
   "source": [
    "r, c = map(int, input().split())\n",
    "nums = list(map(int, input().split()))\n",
    "cell = int(input())\n",
    "\n",
    "print('yes' if cell in nums else 'no')"
   ]
  },
  {
   "cell_type": "markdown",
   "metadata": {},
   "source": [
    "29"
   ]
  },
  {
   "cell_type": "markdown",
   "metadata": {},
   "source": [
    "40\n",
    "Share\n",
    "Ria is always fascinated by the number 2. She always wants to know who came second in a race, the second person to set foot on the moon and so on. She is given a list of numbers and asked to find the maximum. As always, she reports the second highest number as the maximum because according to her, 2 is higher than 1. Find out which was the number that Ria would have reported, given a list of N numbers.\n",
    " \n",
    "\n",
    "Input Description:\n",
    "Size of the array followed by the elements of the array.\n",
    "\n",
    "Output Description:\n",
    "Second largest element of the array.\n",
    "\n",
    "Sample Input :\n",
    "10\n",
    "1 9 8 7 6 5 2 3 4 10\n",
    "Sample Output :\n",
    "9"
   ]
  },
  {
   "cell_type": "code",
   "execution_count": null,
   "metadata": {},
   "outputs": [],
   "source": [
    "n = int(input())\n",
    "nums = list(map(int, input().split()))\n",
    "\n",
    "nums.remove(max(nums))\n",
    "print(max(nums))"
   ]
  },
  {
   "cell_type": "markdown",
   "metadata": {},
   "source": [
    "30"
   ]
  },
  {
   "cell_type": "markdown",
   "metadata": {},
   "source": [
    "41\n",
    "Share\n",
    "You are given given task is to print whether array is ‘majestic’ or not.A ‘majsetic’ array is an array whose sum of first three number is equal to last three number.\n",
    "\n",
    "Input Description:\n",
    "You are given a number ‘n’,Next line contains ‘n’ space separated\n",
    "\n",
    "Output Description:\n",
    "Print 1 if array is majestic and 0 if it is not\n",
    "\n",
    "Sample Input :\n",
    "7\n",
    "1 2 3 4 6 0 0\n",
    "Sample Output :\n",
    "1"
   ]
  },
  {
   "cell_type": "code",
   "execution_count": null,
   "metadata": {},
   "outputs": [],
   "source": [
    "n = int(input())\n",
    "nums = list(map(int, input().split()))\n",
    "\n",
    "if sum(nums[:3]) == sum(nums[-3:]):\n",
    "    print(1)\n",
    "else: print(0)"
   ]
  },
  {
   "cell_type": "markdown",
   "metadata": {},
   "source": [
    "31"
   ]
  },
  {
   "cell_type": "markdown",
   "metadata": {},
   "source": [
    "42\n",
    "Share\n",
    "Given a number N, print the sum of squares of all its digits.\n",
    "Input Size : 1 <= N <= 100000\n",
    "Sample Testcase :\n",
    "INPUT\n",
    "12\n",
    "OUTPUT\n",
    "5"
   ]
  },
  {
   "cell_type": "code",
   "execution_count": null,
   "metadata": {},
   "outputs": [],
   "source": [
    "nums = input()\n",
    "ans = 0\n",
    "for i in nums:\n",
    "    ans+=int(i)**2\n",
    "print(ans)"
   ]
  },
  {
   "cell_type": "markdown",
   "metadata": {},
   "source": [
    "32"
   ]
  },
  {
   "cell_type": "markdown",
   "metadata": {},
   "source": [
    "43\n",
    "Share\n",
    "Prakash is bored and wants to spends his time. He starts rolling a die (having the face values as 1, 2, 3, 4, 8, 15, 7, 9) and observes that some of the values keep repeating. Also while rolling n times, some face appear once only. Find the number on its face.\n",
    "\n",
    "Constraints\n",
    "\n",
    "0 <   N  <= 100\n",
    "\n",
    "0 <= A[i] <= 100\n",
    "\n",
    " \n",
    "\n",
    "Input Description:\n",
    "The first line contains a positive integer N, denoting the size of the array. The second line contains N positive integers, denoting the face values that appeared when the die was rolled.\n",
    "\n",
    "Output Description:\n",
    "Print out the singly occurring number. print 0 if no numbers are repeating.\n",
    "\n",
    "Sample Input :\n",
    "5\n",
    "1 1 2 5 5\n",
    "Sample Output :\n",
    "2"
   ]
  },
  {
   "cell_type": "code",
   "execution_count": null,
   "metadata": {},
   "outputs": [],
   "source": [
    "n = int(input())\n",
    "nums = list(map(int, input().split()))\n",
    "\n",
    "checked = []\n",
    "ans = []\n",
    "for i in range(n):\n",
    "    if nums[i] in ans: ans.remove(nums[i])\n",
    "    elif nums[i] not in checked: ans.append(nums[i])\n",
    "    checked.append(nums[i])\n",
    "\n",
    "print(*ans)"
   ]
  },
  {
   "cell_type": "markdown",
   "metadata": {},
   "source": [
    "33"
   ]
  },
  {
   "cell_type": "markdown",
   "metadata": {},
   "source": [
    "44\n",
    "Share\n",
    "An organization named “JPOKS” has a well-maintained library in its own building. Librarian orders and gets books for the library very frequently. Each book which is newly arrived has its own unique serial number. The books initially are placed in descending order. The librarian want to place a new book without disturbing the descending order of books in terms of unique id. Now you must help librarian to find the right spot for placing the book.\n",
    "\n",
    "Input Description:\n",
    "The first line of program contains integer ‘n denoting no. of books already placed in the shelf. Next line contains n serial number of already placed books. Next line contains integer m denoting no of new books to be placed on the shelf. Next line contains m serial numbers of new book.\n",
    "\n",
    "Output Description:\n",
    "print the position at which it must be placed\n",
    "\n",
    "Sample Input :\n",
    "7\n",
    "95 68 62 58 55 41 30\n",
    "2\n",
    "45 61\n",
    "Sample Output :\n",
    "6 4"
   ]
  },
  {
   "cell_type": "code",
   "execution_count": null,
   "metadata": {},
   "outputs": [],
   "source": [
    "n1 = int(input())\n",
    "nums1 = list(map(int, input().split()))\n",
    "\n",
    "n2 = int(input())\n",
    "nums2 = list(map(int, input().split()))\n",
    "\n",
    "ans = []\n",
    "\n",
    "for i in nums2:\n",
    "    ind = 0\n",
    "    for j in range(n1):\n",
    "        if nums1[j] < i: \n",
    "            ind = j+1\n",
    "            break\n",
    "    if ind:\n",
    "        ans.append(ind)\n",
    "    else: \n",
    "        ans.append(n1+1)\n",
    "print(*ans)"
   ]
  },
  {
   "cell_type": "markdown",
   "metadata": {},
   "source": [
    "34"
   ]
  },
  {
   "cell_type": "markdown",
   "metadata": {},
   "source": [
    "array45\n",
    "Share\n",
    "Mr.Stark wants to order the employee ids, which are recorded in a 2D matrix, in ascending order. He wants to do it so as to allot a new id to a person who joins as a fresher. You are the CTO of the Stark industries and you are asked by Mr.Stark to sort the data.\n",
    " \n",
    "\n",
    "Input Description:\n",
    "Dimensions of the matrix m and n, followed by the elements of the matrix.\n",
    "\n",
    "Output Description:\n",
    "Matrix sorted in ascending order\n",
    "\n",
    "Sample Input :\n",
    "3 3\n",
    "87 21 34\n",
    "89 32 78\n",
    "12 23 45\n",
    "Sample Output :\n",
    "12 21 23\n",
    "32 34 45\n",
    "78 87 89\n"
   ]
  },
  {
   "cell_type": "code",
   "execution_count": null,
   "metadata": {},
   "outputs": [],
   "source": [
    "r, c = map(int, input().split())\n",
    "nums = []\n",
    "for i in range(r):\n",
    "    nums.extend(list(map(int, input().split())))\n",
    "\n",
    "nums = sorted(nums)\n",
    "for i in range(r):\n",
    "    row = []\n",
    "    for j in range(c):\n",
    "        row.append(nums.pop(0))\n",
    "    print(*row)"
   ]
  },
  {
   "cell_type": "markdown",
   "metadata": {},
   "source": [
    "35"
   ]
  },
  {
   "cell_type": "markdown",
   "metadata": {},
   "source": [
    "46\n",
    "Share\n",
    "You are given an array F of focal lengths of size f, F[0], F[1],...F[f-1]. You are asked to determine the indices of the elements from the biggest element to the smallest element.\n",
    "\n",
    "Input Description:\n",
    "The first line contains an integer f. The next line contains f space separated integers F[i], (0 <= i <= f-1) Note: The elements of F[i] are pairwise distinct.\n",
    "\n",
    "Output Description:\n",
    "Print f space separated integers, denoting the indices of the elements, from biggest element to smallest.\n",
    "\n",
    "Sample Input :\n",
    "3\n",
    "1 5 4\n",
    "Sample Output :\n",
    "1 2 0"
   ]
  },
  {
   "cell_type": "code",
   "execution_count": null,
   "metadata": {},
   "outputs": [],
   "source": [
    "n = int(input())\n",
    "nums = list(map(int, input().split()))\n",
    "\n",
    "nums2 = nums.copy()\n",
    "ans = []\n",
    "\n",
    "for i in nums:\n",
    "    ans.append(nums.index(max(nums2)))\n",
    "    nums2.remove(max(nums2))\n",
    "\n",
    "print(*ans)"
   ]
  },
  {
   "cell_type": "markdown",
   "metadata": {},
   "source": [
    "36"
   ]
  },
  {
   "cell_type": "markdown",
   "metadata": {},
   "source": [
    "47\n",
    "Share\n",
    "Your old mobile phone gets broken and so you want to purchase a new smartphone and decide to go through all the online websites to find out which dealer has the best offer for a particular model. You document the prices of N dealers. Dealer ids start from 0 and go up to N.  Find out which dealer has the best price for you.\n",
    "\n",
    "Constraints:\n",
    "\n",
    "1 <= N <= 100\n",
    "\n",
    "1 <= A[] <= 100000\n",
    "\n",
    " \n",
    "\n",
    "Input Description:\n",
    "Number of dealers followed by the price offered by each dealer\n",
    "\n",
    "Output Description:\n",
    "Dealer offering the best price.\n",
    "\n",
    "Sample Input :\n",
    "3\n",
    "10000 11200 12030\n",
    "Sample Output :\n",
    "Dealer0"
   ]
  },
  {
   "cell_type": "code",
   "execution_count": null,
   "metadata": {},
   "outputs": [],
   "source": [
    "n = int(input())\n",
    "nums = list(map(int, input().split()))\n",
    "\n",
    "print('Dealer'+str(nums.index(min(nums))))"
   ]
  },
  {
   "cell_type": "markdown",
   "metadata": {},
   "source": [
    "37"
   ]
  },
  {
   "cell_type": "markdown",
   "metadata": {},
   "source": [
    "49\n",
    "Share\n",
    "Ramit is given a list of both positive and negative integers. He has to tell the maximum sum out of all subarrays in the given list. He got confused and requested help from you. Now it is your task to find the maximum sum out of all subarrays in the given list.\n",
    "\n",
    "Input Description:\n",
    "You are given a number 'n'. Next line contains n space separated numbers.\n",
    "\n",
    "Output Description:\n",
    "Print the max sum of subarray.\n",
    "\n",
    "Sample Input :\n",
    "5\n",
    "1 2 3 -2 5\n",
    "Sample Output :\n",
    "9"
   ]
  },
  {
   "cell_type": "code",
   "execution_count": null,
   "metadata": {},
   "outputs": [],
   "source": [
    "n = int(input())\n",
    "nums = list(map(int, input().split()))\n",
    "\n",
    "sums = []\n",
    "\n",
    "for i in range(n):\n",
    "    sums.append(sum(nums[i:]))   \n",
    "    sums.append(sum(nums[0:n-i]))\n",
    "print(max(sums))"
   ]
  },
  {
   "cell_type": "markdown",
   "metadata": {},
   "source": [
    "38"
   ]
  },
  {
   "cell_type": "markdown",
   "metadata": {},
   "source": [
    "50\n",
    "Share\n",
    "Ram is the CEO of an MNC. He wants to order the employee salaries in ascending order so that he can do a salary hike based on the salary values of employees. He selects you to do the task of sorting the salaries. Sort the salaries in ascending order and pass on the information to Ram.\n",
    " \n",
    "\n",
    "Input Description:\n",
    "Number of employees followed by the salaries of employees.\n",
    "\n",
    "Output Description:\n",
    "Salaries sorted in ascending order.\n",
    "\n",
    "Sample Input :\n",
    "8\n",
    "7000 8000 6500 1200 4000 2800 3000 5230\n",
    "Sample Output :\n",
    "1200 2800 3000 4000 5230 6500 7000 8000"
   ]
  },
  {
   "cell_type": "code",
   "execution_count": null,
   "metadata": {},
   "outputs": [],
   "source": [
    "n = int(input())\n",
    "nums = list(map(int, input().split()))\n",
    "\n",
    "print(*sorted(nums))"
   ]
  },
  {
   "cell_type": "markdown",
   "metadata": {},
   "source": [
    "39"
   ]
  },
  {
   "cell_type": "markdown",
   "metadata": {},
   "source": [
    "52\n",
    "Share\n",
    "You are head incharge of sports activity in queue. Your task is to sort the students height wise in line. But you can only swap students.Your task is to determine the minimum possible swaps required to sort the students in queue according to heights\n",
    "\n",
    "Input Description:\n",
    "You are given with number ‘n’ denoting number of students. Next line contains n space separated integers denoting their height.\n",
    "\n",
    "Output Description:\n",
    "Print the minimum number of swaps required to sort the students in line.\n",
    "\n",
    "Sample Input :\n",
    "5\n",
    "1 5 4 3 2\n",
    "Sample Output :\n",
    "2"
   ]
  },
  {
   "cell_type": "code",
   "execution_count": null,
   "metadata": {},
   "outputs": [],
   "source": [
    "n = int(input())\n",
    "nums = list(map(int, input().split()))\n",
    "\n",
    "def min_swaps_to_sort(heights):\n",
    "    height_to_index = {height: i for i, height in enumerate(heights)}\n",
    "    print(height_to_index)\n",
    "\n",
    "    visited = [False] * len(heights)  # Track visited indices\n",
    "    swaps = 0\n",
    "\n",
    "    for i in range(len(heights)):\n",
    "        if visited[i]:  # Skip if already visited\n",
    "            continue\n",
    "\n",
    "        cycle_length = 0\n",
    "        j = i\n",
    "        while not visited[j]:\n",
    "            visited[j] = True\n",
    "            print(heights[j])\n",
    "            j = height_to_index[heights[j]]\n",
    "            cycle_length += 1\n",
    "\n",
    "        swaps += cycle_length  # Swaps in a cycle\n",
    "\n",
    "    return swaps\n",
    "\n",
    "result = min_swaps_to_sort(nums)\n",
    "print(result//2)  # Output: 2\n"
   ]
  },
  {
   "cell_type": "code",
   "execution_count": null,
   "metadata": {},
   "outputs": [],
   "source": [
    "def min_swaps_to_sort(arr):\n",
    "    n = len(arr)\n",
    "\n",
    "    # Create two arrays and use\n",
    "    # as pairs where first array\n",
    "    # is element and second array\n",
    "    # is position of first element\n",
    "    arrpos = [*enumerate(arr)]\n",
    "\n",
    "    # Sort the array by array element\n",
    "    # values to get right position of\n",
    "    # every element as the elements\n",
    "    # of second array.\n",
    "    arrpos.sort(key=lambda it: it[1])\n",
    "\n",
    "    # To keep track of visited elements.\n",
    "    # Initialize all elements as not\n",
    "    # visited or false.\n",
    "    vis = {k: False for k in range(n)}\n",
    "\n",
    "    # Initialize result\n",
    "    ans = 0\n",
    "    print('arrpos', arrpos)\n",
    "    for i in range(n):\n",
    "\n",
    "        # already swapped or\n",
    "        # already present at\n",
    "        # correct position\n",
    "        if vis[i] or arrpos[i][0] == i:\n",
    "            print(f' continuing cause: visited {i}, or index in index {i} is = {i}')\n",
    "            continue\n",
    "\n",
    "        # find number of nodes\n",
    "        # in this cycle and\n",
    "        # add it to ans\n",
    "        cycle_size = 0\n",
    "        j = i\n",
    "\n",
    "        while not vis[j]:\n",
    "            print(f'i,j {i,j}')\n",
    "\n",
    "            # mark node as visited\n",
    "            vis[j] = True\n",
    "            print(f'visited index {j}, {vis}')\n",
    "\n",
    "            # move to next node\n",
    "            print(f'find n move to what index is in current j = {j}')\n",
    "            j = arrpos[j][0]\n",
    "            print(f'moved to {j}')\n",
    "            cycle_size += 1\n",
    "            print(f'add 1 cycle size , {cycle_size}')\n",
    "\n",
    "        # update answer by adding\n",
    "        # current cycle\n",
    "        if cycle_size > 0:\n",
    "            ans += (cycle_size - 1)\n",
    "            print(f'add {cycle_size } cycles to ans {ans}')\n",
    "\n",
    "    # return answer\n",
    "    return ans\n",
    "\n",
    "result = min_swaps_to_sort([1,12,1])\n",
    "print(result)  # Output: 2\n"
   ]
  },
  {
   "cell_type": "markdown",
   "metadata": {},
   "source": [
    "40"
   ]
  },
  {
   "cell_type": "markdown",
   "metadata": {},
   "source": [
    "54\n",
    "Share\n",
    "Given a number N and an array of N integers, find the sum of all the negative numbers in the array.\n",
    "Input Size : N <= 100000\n",
    "Sample Testcase :\n",
    "INPUT\n",
    "2\n",
    "3 0\n",
    "OUTPUT\n",
    "0"
   ]
  },
  {
   "cell_type": "code",
   "execution_count": null,
   "metadata": {},
   "outputs": [],
   "source": [
    "n = int(input())\n",
    "nums = list(map(int, input().split()))\n",
    "\n",
    "ans = 0\n",
    "for i in range(n):\n",
    "    if nums[i]<0:ans+=nums[i]\n",
    "print(ans)"
   ]
  },
  {
   "cell_type": "markdown",
   "metadata": {},
   "source": [
    "41"
   ]
  },
  {
   "cell_type": "markdown",
   "metadata": {},
   "source": [
    "55\n",
    "Share\n",
    "Given 2 numbers N and K followed by N elements, find the Kth smallest element.If the element cannot be found then print -1\n",
    "Input Size : N <= 100000\n",
    "Sample Testcase :\n",
    "INPUT\n",
    "5 2\n",
    "1 1 2 4 5\n",
    "OUTPUT\n",
    "2"
   ]
  },
  {
   "cell_type": "code",
   "execution_count": null,
   "metadata": {},
   "outputs": [],
   "source": [
    "n, k = map(int, input().split())\n",
    "nums = list(map(int, input().split()))\n",
    "nums = list(set(nums))\n",
    "if len(nums)<k: print(-1)\n",
    "else:\n",
    "    for i in range(len(nums)-1):\n",
    "        nums.remove(min(nums))\n",
    "    \n",
    "    print(min(nums) if nums else -1)"
   ]
  },
  {
   "cell_type": "markdown",
   "metadata": {},
   "source": [
    "42"
   ]
  },
  {
   "cell_type": "markdown",
   "metadata": {},
   "source": [
    "56\n",
    "Share\n",
    "Rajesh was going through alternative array sorting. He wishes to print the array alternatively. Hence hired you. Your task is to help rajesh in printing the array alternatively.\n",
    "\n",
    "\n",
    "\n",
    "An alternative array is an array in which first element is maximum of the whole array second element is minimum of the whole array. Third element is the second largest. Fourth element is the second smallest And so on. print the array in the desired manner.\n",
    "\n",
    "\n",
    "\n",
    "\n",
    "Input Description:\n",
    "You are given with the length of array ‘n’. followed by ‘n’ space separated numbers.\n",
    "\n",
    "Output Description:\n",
    "Print the array as mentioned.\n",
    "\n",
    "Sample Input :\n",
    "5 1 7 11 16 19\n",
    "Sample Output :\n",
    "19 1 16 7 11"
   ]
  },
  {
   "cell_type": "code",
   "execution_count": null,
   "metadata": {},
   "outputs": [],
   "source": [
    "n = int(input())\n",
    "nums = list(map(int, input().split()))\n",
    "ans = []\n",
    "while len(nums) > 0:\n",
    "    if len(ans)%2 == 0:\n",
    "        ans.append(max(nums))\n",
    "        nums.remove(max(nums))\n",
    "    else:\n",
    "        ans.append(min(nums))\n",
    "        nums.remove(min(nums))\n",
    "\n",
    "print(*ans)"
   ]
  },
  {
   "cell_type": "markdown",
   "metadata": {},
   "source": [
    "43"
   ]
  },
  {
   "cell_type": "markdown",
   "metadata": {},
   "source": [
    "57\n",
    "Share\n",
    "You are given an array of digits. Your task is to print the digit with maximum frequency.\n",
    "\n",
    "Input Description:\n",
    "You are given length of array ’n’,next line contains n space separated numbers.\n",
    "\n",
    "Output Description:\n",
    "Print the number with maximum frequency. If two number have equal freqency prin the number that comes first\n",
    "\n",
    "Sample Input :\n",
    "7\n",
    "1 2 3 4 4 4 5\n",
    "Sample Output :\n",
    "4"
   ]
  },
  {
   "cell_type": "code",
   "execution_count": null,
   "metadata": {},
   "outputs": [],
   "source": [
    "n = int(input())\n",
    "nums = list(map(int, input().split()))\n",
    "counts = {}\n",
    "for i in nums:\n",
    "    counts[i] = counts.get(i, 0) + 1\n",
    "order = sorted(counts.items(), key=lambda x: -x[1])\n",
    "print(order[0][0])"
   ]
  },
  {
   "cell_type": "markdown",
   "metadata": {},
   "source": [
    "44"
   ]
  },
  {
   "cell_type": "markdown",
   "metadata": {},
   "source": [
    "Given 2 numbers N,K print the array after deleting the last K elements.\n",
    "Input Size : N,K <= 100000\n",
    "Sample Testcase :\n",
    "INPUT\n",
    "5 4\n",
    "1 2 3 4 5\n",
    "OUTPUT\n",
    "1"
   ]
  },
  {
   "cell_type": "code",
   "execution_count": null,
   "metadata": {},
   "outputs": [],
   "source": [
    "n, k = map(int, input().split())\n",
    "nums = list(map(int, input().split()))\n",
    "\n",
    "print(*nums[:n-k])"
   ]
  },
  {
   "cell_type": "markdown",
   "metadata": {},
   "source": [
    "45"
   ]
  },
  {
   "cell_type": "markdown",
   "metadata": {},
   "source": [
    "array59\n",
    "Share\n",
    "Given 2 numbers N,K followed by N elements print all the elements lesser than K in sorted order.If the elements could not be found print -1\n",
    "Input Size : N <= 100000\n",
    "Sample Testcase :\n",
    "INPUT\n",
    "5 3\n",
    "1 2 1 4 1\n",
    "OUTPUT\n",
    "1 1 1 2\n",
    "\n"
   ]
  },
  {
   "cell_type": "code",
   "execution_count": null,
   "metadata": {},
   "outputs": [],
   "source": [
    "n, k = map(int, input().split())\n",
    "nums = list(map(int, input().split()))\n",
    "\n",
    "ans = [i for i in nums if i < k]\n",
    "\n",
    "print(*ans if ans else [-1])"
   ]
  },
  {
   "cell_type": "markdown",
   "metadata": {},
   "source": [
    "46"
   ]
  },
  {
   "cell_type": "markdown",
   "metadata": {},
   "source": [
    "60\n",
    "Share\n",
    " Rajat is given some special task to calculate the largest sum of two consecutive elements.He solved some of questions but he is not sure whether his answer is correct or not. Your task is to help him in determining whether answers posted by him are correct or not.\n",
    "\n",
    "Input Description:\n",
    "The first line of the input is a integer N. The second line of the input consists of N space separated integer.\n",
    "\n",
    "Output Description:\n",
    "Print the max sum of two consecutive numbers from the given N numbers\n",
    "\n",
    "Sample Input :\n",
    "5\n",
    "1 5 6 8 3\n",
    "Sample Output :\n",
    "14"
   ]
  },
  {
   "cell_type": "code",
   "execution_count": null,
   "metadata": {},
   "outputs": [],
   "source": [
    "n = int(input())\n",
    "nums = list(map(int, input().split()))\n",
    "\n",
    "sums = [sum(nums[i:i+2]) for i in range(n-1)]\n",
    "print(max(sums))"
   ]
  },
  {
   "cell_type": "markdown",
   "metadata": {},
   "source": [
    "47"
   ]
  },
  {
   "cell_type": "markdown",
   "metadata": {},
   "source": [
    "61\n",
    "Share\n",
    "Given an array, find the maximum difference between any two elements.\n",
    "Input Size : N <= 1000000(complexity O(n) or O(nlogn))\n",
    "Sample Testcase :\n",
    "INPUT\n",
    "5\n",
    "1 2 3 4 5\n",
    "OUTPUT\n",
    "4"
   ]
  },
  {
   "cell_type": "code",
   "execution_count": null,
   "metadata": {},
   "outputs": [],
   "source": [
    "n = int(input())\n",
    "nums = list(map(int, input().split()))\n",
    "\n",
    "difs = []\n",
    "for i in nums:\n",
    "    for j in nums:\n",
    "        difs.append(i-j) \n",
    "print(max(difs))"
   ]
  },
  {
   "cell_type": "markdown",
   "metadata": {},
   "source": [
    "48"
   ]
  },
  {
   "cell_type": "markdown",
   "metadata": {},
   "source": [
    "63\n",
    "Share\n",
    "Given a number N followed by N elements if the number '0' occurs print the proceeding numbers until next '0' is encountered.If there is no balancing 0's print -1.\n",
    "Input Size : 1 < N <= 100000(complexity O(n))\n",
    "Sample Testcase :\n",
    "INPUT\n",
    "10\n",
    "1 1 1 0 1 0 1 1 0 1\n",
    "OUTPUT\n",
    "1 1 1"
   ]
  },
  {
   "cell_type": "code",
   "execution_count": null,
   "metadata": {},
   "outputs": [],
   "source": [
    "n = int(input())\n",
    "nums = list(map(int, input().split()))\n",
    "\n",
    "if nums.count(0) > 1:\n",
    "    ans = []\n",
    "    started = 0\n",
    "    items = []\n",
    "    for i in nums:\n",
    "        if started:\n",
    "            if i ==1:\n",
    "                items.append(1)\n",
    "            elif i==0: \n",
    "                ans.extend(items)\n",
    "                items = []\n",
    "        elif i == 0: \n",
    "            started = 1\n",
    "        \n",
    "    print(*ans)\n",
    "else: print(-1)"
   ]
  },
  {
   "cell_type": "markdown",
   "metadata": {},
   "source": [
    "49"
   ]
  },
  {
   "cell_type": "markdown",
   "metadata": {},
   "source": [
    "65\n",
    "Share\n",
    "Prateek finds it difficult to judge the minimum element in the list of elements given to him. Your task is to develop the algorithm in order to find the minimum element.\n",
    "\n",
    "Input Description:\n",
    "You are given ‘n’ number of elements. Next line contains n space separated numbers.\n",
    "\n",
    "Output Description:\n",
    "Print the minimum element\n",
    "\n",
    "Sample Input :\n",
    "5\n",
    "3 4 9 1 6\n",
    "Sample Output :\n",
    "1"
   ]
  },
  {
   "cell_type": "code",
   "execution_count": null,
   "metadata": {},
   "outputs": [],
   "source": [
    "n = int(input())\n",
    "nums = list(map(int, input().split()))\n",
    "\n",
    "print(min(nums))"
   ]
  },
  {
   "cell_type": "markdown",
   "metadata": {},
   "source": [
    "50"
   ]
  },
  {
   "cell_type": "markdown",
   "metadata": {},
   "source": [
    "66\n",
    "Share\n",
    "Given a number N followed by N elements for every 2 consecutive numbers print the maximum of the 2.\n",
    "Input Size : N <= 100000 (ie do it in O(n) time complexity)\n",
    "Sample Testcase :\n",
    "INPUT\n",
    "5\n",
    "1 1 3 0 5\n",
    "OUTPUT\n",
    "1 3 3 5"
   ]
  },
  {
   "cell_type": "code",
   "execution_count": null,
   "metadata": {},
   "outputs": [],
   "source": [
    "n = int(input())\n",
    "nums = list(map(int, input().split()))\n",
    "\n",
    "print(*[max(nums[i:i+2]) for i in range(0, n-1)])"
   ]
  },
  {
   "cell_type": "markdown",
   "metadata": {},
   "source": [
    "51"
   ]
  },
  {
   "cell_type": "markdown",
   "metadata": {},
   "source": [
    "70\n",
    "Share\n",
    "Given a number N followed by N elements, find the second smallest element.If it cannot be found then print -1\n",
    "Input Size : N <= 100000 (ie do it in O(log n) time complexity)\n",
    "Sample Testcase :\n",
    "INPUT\n",
    "5\n",
    "1 2 3 4 5\n",
    "OUTPUT\n",
    "2"
   ]
  },
  {
   "cell_type": "code",
   "execution_count": null,
   "metadata": {},
   "outputs": [],
   "source": [
    "n = int(input())\n",
    "nums = list(set(map(int, input().split())))\n",
    "if len(nums)<2: print(-1)\n",
    "else:\n",
    "    nums.remove(min(nums))\n",
    "    print(min(nums))"
   ]
  },
  {
   "cell_type": "markdown",
   "metadata": {},
   "source": [
    "52"
   ]
  },
  {
   "cell_type": "markdown",
   "metadata": {},
   "source": [
    "71\n",
    "Share\n",
    "Given two numbers N,K followed by an array of N elements, print the array after doing right shift K times (in cyclic manner).\n",
    "Input Size : 1 <= N, K <= 100000\n",
    "Sample Testcase :\n",
    "INPUT\n",
    "3 2\n",
    "7 2 3\n",
    "OUTPUT\n",
    "2 3 7"
   ]
  },
  {
   "cell_type": "code",
   "execution_count": null,
   "metadata": {},
   "outputs": [],
   "source": [
    "n, k = map(int, input().split())\n",
    "nums = list(map(int, input().split()))\n",
    "\n",
    "\n",
    "for i in range(k):\n",
    "    nums.insert(0, nums.pop(-1))\n",
    "print(*nums)"
   ]
  },
  {
   "cell_type": "markdown",
   "metadata": {},
   "source": [
    "53"
   ]
  },
  {
   "cell_type": "markdown",
   "metadata": {},
   "source": [
    "72\n",
    "Share\n",
    "Given a number N,K followed by array of N elements where the difference between any adjacent elements is 1. Find the position of the given number K.If K not found in the array print -1\n",
    "Sample Testcase :\n",
    "INPUT\n",
    "5 1\n",
    "3 2 1 2 3\n",
    "OUTPUT\n",
    "3"
   ]
  },
  {
   "cell_type": "code",
   "execution_count": null,
   "metadata": {},
   "outputs": [],
   "source": [
    "n, k = map(int, input().split())\n",
    "nums = list(map(int, input().split()))\n",
    "if k in nums:\n",
    "    print(nums.index(k)+1)\n",
    "else: print(-1)"
   ]
  },
  {
   "cell_type": "markdown",
   "metadata": {},
   "source": [
    "54"
   ]
  },
  {
   "cell_type": "markdown",
   "metadata": {},
   "source": [
    "73\n",
    "Share\n",
    "Given 2 numbers N,K followed by a sorted array of N elements, search and tell if an element K is present in the array.print 'yes' if element is present otherwise print 'no'.\n",
    "Input Size : 1 <= N <= 1000000000000000(Do it in logN time complexity)\n",
    "Sample Testcase :\n",
    "INPUT\n",
    "3 2\n",
    "2 3 7\n",
    "OUTPUT\n",
    "Yes"
   ]
  },
  {
   "cell_type": "code",
   "execution_count": null,
   "metadata": {},
   "outputs": [],
   "source": [
    "n, k = map(int, input().split())\n",
    "nums = list(map(int, input().split()))\n",
    "if k in nums:\n",
    "    print('yes')\n",
    "else: print('no')"
   ]
  },
  {
   "cell_type": "markdown",
   "metadata": {},
   "source": [
    "55"
   ]
  },
  {
   "cell_type": "markdown",
   "metadata": {},
   "source": [
    "75\n",
    "Share\n",
    "Given 2 array of size N and M.merge them in sorted order and print it.\n",
    "Input Size : |N||M| <= 100000( O(n))\n",
    "Sample Testcase :\n",
    "INPUT\n",
    "5 4\n",
    "1 2 3 4 5\n",
    "1 2 3 4\n",
    "OUTPUT\n",
    "1 1 2 2 3 3 4 4 5"
   ]
  },
  {
   "cell_type": "code",
   "execution_count": null,
   "metadata": {},
   "outputs": [],
   "source": [
    "n, k = map(int, input().split())\n",
    "nums = list(map(int, input().split()))\n",
    "nums.extend(list(map(int, input().split())))\n",
    "nums = sorted(nums)\n",
    "print(*nums)"
   ]
  },
  {
   "cell_type": "markdown",
   "metadata": {},
   "source": [
    "56"
   ]
  },
  {
   "cell_type": "markdown",
   "metadata": {},
   "source": [
    "76\n",
    "Share\n",
    "Given two strings S1 and S2. The task is to find if a string 'S2’' can be obtained by rotating another string 'S1’' by 2 places using Stack.\n",
    "\n",
    "Input Description:\n",
    "The first line of the input contains the string S1. The second line of the input contains the string S2\n",
    "\n",
    "Output Description:\n",
    "Print 1 if the string S2 can be obtained by rotating string S1 by two places else print 0.\n",
    "\n",
    "Sample Input :\n",
    "amazon\n",
    "azonam\n",
    "Sample Output :\n",
    "1"
   ]
  },
  {
   "cell_type": "code",
   "execution_count": null,
   "metadata": {},
   "outputs": [],
   "source": [
    "a = input()\n",
    "b = input()\n",
    "\n",
    "if a == b[-2:]+b[:-2]: print(1)\n",
    "else: print(0)"
   ]
  },
  {
   "cell_type": "markdown",
   "metadata": {},
   "source": [
    "57"
   ]
  },
  {
   "cell_type": "markdown",
   "metadata": {},
   "source": [
    "78\n",
    "Share\n",
    "Given a number N and an array of N elements, find the length of the longest repeating sequence of the elements.If no such sequence is found print -1\n",
    "Input Size : N <= 100000\n",
    "Sample Testcase :\n",
    "INPUT\n",
    "8\n",
    "1 2 2 2 3 4 5 6\n",
    "OUTPUT\n",
    "3"
   ]
  },
  {
   "cell_type": "code",
   "execution_count": null,
   "metadata": {},
   "outputs": [],
   "source": [
    "n = int(input())\n",
    "nums = list(map(int, input().split()))\n",
    "counts = {}\n",
    "for i in nums:\n",
    "    counts[i] = counts.get(i, 0) + 1\n",
    "order = sorted([x for x in counts.items() if x[1] > 1], key=lambda x: -x[1])\n",
    "if order:\n",
    "    print(order[0][1])\n",
    "else: print(-1)"
   ]
  },
  {
   "cell_type": "markdown",
   "metadata": {},
   "source": [
    "58"
   ]
  },
  {
   "cell_type": "markdown",
   "metadata": {},
   "source": [
    "79\n",
    "Share\n",
    "Given a number N and an array of N elements, find the sum of the sums obtained by considering all consecutive pairs of adjacent elements.\n",
    "Input Size : N <= 100000\n",
    "Sample Testcase :\n",
    "INPUT\n",
    "5\n",
    "1 2 3 4 5\n",
    "OUTPUT\n",
    "24((1+2)+(2+3)+(3+4)+(4+5))"
   ]
  },
  {
   "cell_type": "code",
   "execution_count": null,
   "metadata": {},
   "outputs": [],
   "source": [
    "n = int(input())\n",
    "nums = list(map(int, input().split()))\n",
    "\n",
    "print(sum(nums)*2-nums[0]-nums[-1])"
   ]
  },
  {
   "cell_type": "markdown",
   "metadata": {},
   "source": [
    "59"
   ]
  },
  {
   "cell_type": "markdown",
   "metadata": {},
   "source": [
    "80\n",
    "Share\n",
    "Given 2 numbers N and M followed by N numbers and M numbers, print the common numbers in sorted order.\n",
    "Input Size : N,M <= 100000 (ie do it in O(n) time complexity)\n",
    "Sample Testcase :\n",
    "INPUT\n",
    "5 4\n",
    "1 2 3 4 5 1 2 3 4\n",
    "OUTPUT\n",
    "1 2 3 4"
   ]
  },
  {
   "cell_type": "code",
   "execution_count": null,
   "metadata": {},
   "outputs": [],
   "source": [
    "n, m = map(int, input().split())\n",
    "nums = list(map(int, input().split()))\n",
    "\n",
    "reps = []\n",
    "\n",
    "for i in nums[:n]:\n",
    "    if i in nums[-m:]: reps.append(i)\n",
    "print(*reps)"
   ]
  },
  {
   "cell_type": "markdown",
   "metadata": {},
   "source": [
    "60"
   ]
  },
  {
   "cell_type": "markdown",
   "metadata": {},
   "source": [
    "Given a number N in decimal convert it into binary value.\n",
    "Input Size : N <= 100000\n",
    "Sample Testcase :\n",
    "INPUT\n",
    "5\n",
    "OUTPUT\n",
    "101"
   ]
  },
  {
   "cell_type": "code",
   "execution_count": null,
   "metadata": {},
   "outputs": [],
   "source": [
    "a = int(input())\n",
    "print(bin(a).replace(\"0b\", \"\"))"
   ]
  },
  {
   "cell_type": "markdown",
   "metadata": {},
   "source": [
    "61"
   ]
  },
  {
   "cell_type": "markdown",
   "metadata": {},
   "source": [
    "82\n",
    "Share\n",
    "Given a number N and an array of N elements, print the array after removing duplicate elements.If no duplicate elements found print the same.\n",
    "Input Size : N <= 100000\n",
    "Sample Testcase :\n",
    "INPUT\n",
    "4\n",
    "2 4 4 2\n",
    "OUTPUT\n",
    "2 4"
   ]
  },
  {
   "cell_type": "code",
   "execution_count": null,
   "metadata": {},
   "outputs": [],
   "source": [
    "n = int(input())\n",
    "nums = list(map(int, input().split()))\n",
    "reps=[]\n",
    "for i in nums:\n",
    "    if i not in reps and nums.count(i)>1: reps.append(i)\n",
    "print(*reps if reps else nums)"
   ]
  },
  {
   "cell_type": "markdown",
   "metadata": {},
   "source": [
    "62"
   ]
  },
  {
   "cell_type": "markdown",
   "metadata": {},
   "source": [
    "83\n",
    "Share\n",
    "Given a number N, followed by an array of N elements,print 'yes' if it is a sorted array(either ascending or descending)otherwise print 'no'.\n",
    "Input Size : 1 <= N <= 100000\n",
    "Sample Testcase :\n",
    "INPUT\n",
    "3\n",
    "2 3 7\n",
    "OUTPUT\n",
    "yes"
   ]
  },
  {
   "cell_type": "code",
   "execution_count": null,
   "metadata": {},
   "outputs": [],
   "source": [
    "n = int(input())\n",
    "nums = list(map(int, input().split()))\n",
    "print('yes' if nums == sorted(nums) or nums == sorted(nums, key=lambda x:-x) else 'no')"
   ]
  },
  {
   "cell_type": "markdown",
   "metadata": {},
   "source": [
    "63"
   ]
  },
  {
   "cell_type": "markdown",
   "metadata": {},
   "source": [
    "84\n",
    "Share\n",
    "Given 3 points check whether they lie on the same line.If they lie on the same line print 'yes' Otherwise print 'no'.\n",
    "Sample Testcase :\n",
    "INPUT\n",
    "0 1\n",
    "0 0\n",
    "0 2\n",
    "OUTPUT\n",
    "yes"
   ]
  },
  {
   "cell_type": "code",
   "execution_count": null,
   "metadata": {},
   "outputs": [],
   "source": [
    "a = list(map(int, input().split()))\n",
    "b = list(map(int, input().split()))\n",
    "c = list(map(int, input().split()))\n",
    "\n",
    "\n",
    "if  0.5 * abs((a[0] * (b[1] - c[1]) + b[0] * (c[1] - a[1]) + c[0] * (a[1] - b[1]))) == 0:\n",
    "    print('yes')\n",
    "else:\n",
    "    print('no')"
   ]
  },
  {
   "cell_type": "markdown",
   "metadata": {},
   "source": [
    "64"
   ]
  },
  {
   "cell_type": "markdown",
   "metadata": {},
   "source": [
    "86\n",
    "Share\n",
    "Given an array of N elements which follows either even number or odd number series.There may exists at maximum 1 even number in the odd series or 1 odd number in the even series.Find the different number if exists otherwise print '-1'?\n",
    "Input Size : |N| <= 100000\n",
    "Sample Testcase :\n",
    "INPUT\n",
    "5\n",
    "1 3 4 5 7\n",
    "OUTPUT\n",
    "4"
   ]
  },
  {
   "cell_type": "code",
   "execution_count": null,
   "metadata": {},
   "outputs": [],
   "source": [
    "n = int(input())\n",
    "nums = list(map(int, input().split()))\n",
    "\n",
    "evens = [x for x in nums if x%2 != 0]\n",
    "odds = [x for x in nums if x%2 == 0]\n",
    "\n",
    "if evens and odds:\n",
    "    if len(evens)<len(odds):\n",
    "        print(evens[0])\n",
    "    else: print(odds[0])\n",
    "else:\n",
    "    print(-1)"
   ]
  },
  {
   "cell_type": "markdown",
   "metadata": {},
   "source": [
    "65"
   ]
  },
  {
   "cell_type": "markdown",
   "metadata": {},
   "source": [
    "Given a number N and an array of N integers, print the minimum sum of the sub-array from the given array.\n",
    "Input Size : N <= 100000\n",
    "Sample Testcase :\n",
    "INPUT\n",
    "4\n",
    "2 4 4 2\n",
    "OUTPUT\n",
    "2"
   ]
  },
  {
   "cell_type": "code",
   "execution_count": null,
   "metadata": {},
   "outputs": [],
   "source": [
    "n = int(input())\n",
    "nums = list(map(int, input().split()))\n",
    "\n",
    "sums = []\n",
    "\n",
    "for i in range(n):\n",
    "    sums.append(sum(nums[i:]))   \n",
    "    sums.append(sum(nums[0:n-i]))\n",
    "print(min(sums))"
   ]
  },
  {
   "cell_type": "markdown",
   "metadata": {},
   "source": [
    "66"
   ]
  },
  {
   "cell_type": "markdown",
   "metadata": {},
   "source": [
    "92\n",
    "Share\n",
    "Given an array print the number of subarrays that can be formed with it.\n",
    "Input Size : N <= 100000\n",
    "Sample Testcase :\n",
    "INPUT\n",
    "5\n",
    "1 2 3 2 1\n",
    "OUTPUT\n",
    "15"
   ]
  },
  {
   "cell_type": "code",
   "execution_count": null,
   "metadata": {},
   "outputs": [],
   "source": [
    "n = int(input())\n",
    "nums = list(map(int, input().split()))\n",
    "\n",
    "ans = 0\n",
    "for i in range(n+1):\n",
    "    ans+=i \n",
    "    \n",
    "print(ans)"
   ]
  },
  {
   "cell_type": "markdown",
   "metadata": {},
   "source": [
    "67"
   ]
  },
  {
   "cell_type": "markdown",
   "metadata": {},
   "source": [
    "A number is given as input.Find the maximum number that can be formed using the digits.\n",
    "Input Size : N <= 10000000\n",
    "Sample Testcase :\n",
    "INPUT\n",
    "4123\n",
    "OUTPUT\n",
    "4321"
   ]
  },
  {
   "cell_type": "code",
   "execution_count": null,
   "metadata": {},
   "outputs": [],
   "source": [
    "print(*sorted(list(map(int, *input().split())), key= lambda x:-x), sep='')"
   ]
  },
  {
   "cell_type": "markdown",
   "metadata": {},
   "source": [
    "68"
   ]
  },
  {
   "cell_type": "markdown",
   "metadata": {},
   "source": [
    "94\n",
    "Share\n",
    "Given a number N and array of N integers, find the number which occurs the least number of times.\n",
    "Input Size : |N| <= 1000000\n",
    "Sample Testcase :\n",
    "INPUT\n",
    "5\n",
    "3 3 4 4 7\n",
    "OUTPUT\n",
    "7"
   ]
  },
  {
   "cell_type": "code",
   "execution_count": null,
   "metadata": {},
   "outputs": [],
   "source": [
    "n = int(input())\n",
    "nums = list(map(int, input().split()))\n",
    "\n",
    "counts = {}\n",
    "for i in nums:\n",
    "    counts[i] = counts.get(i, 0) + 1 \n",
    "    \n",
    "m = min(counts.values())\n",
    "ans = []\n",
    "for i in counts:\n",
    "    if counts[i] == m: ans.append(i)\n",
    "print(*reversed(ans))"
   ]
  },
  {
   "cell_type": "markdown",
   "metadata": {},
   "source": [
    "69"
   ]
  },
  {
   "cell_type": "markdown",
   "metadata": {},
   "source": [
    "95\n",
    "Share\n",
    "Given an array N, check if the values are alternating between increasing and decreasing.\n",
    "Input Size : N <= 100000\n",
    "Sample Testcase :\n",
    "INPUT\n",
    "5\n",
    "12 14 3 7 4\n",
    "OUTPUT\n",
    "yes"
   ]
  },
  {
   "cell_type": "code",
   "execution_count": null,
   "metadata": {},
   "outputs": [],
   "source": [
    "n = int(input())\n",
    "nums = list(map(int, input().split()))\n",
    "\n",
    "inc = True\n",
    "flag = 1\n",
    "\n",
    "\n",
    "for i in range(n-1):\n",
    "    if i==0:\n",
    "        if nums[i]<nums[i+1]:\n",
    "            inc = True\n",
    "        else:\n",
    "            inc = False\n",
    "    else:\n",
    "        if inc:\n",
    "            if nums[i]<nums[i+1]:\n",
    "                flag = 0\n",
    "                break\n",
    "            else:\n",
    "                inc = False\n",
    "        else:\n",
    "            if nums[i]>nums[i+1]:\n",
    "                flag = 0\n",
    "                break\n",
    "            else:\n",
    "                inc = True\n",
    "\n",
    "print('yes' if flag else 'no')"
   ]
  },
  {
   "cell_type": "markdown",
   "metadata": {},
   "source": [
    "70"
   ]
  },
  {
   "cell_type": "markdown",
   "metadata": {},
   "source": [
    "96\n",
    "Share\n",
    "Given 2 arrays print 'yes' if they are mirror images of each other,otherwise 'no'.\n",
    "Input Size : N <= 1000000\n",
    "Sample Testcase :\n",
    "INPUT\n",
    "4\n",
    "1 2 3 4\n",
    "4 3 2 1\n",
    "OUTPUT\n",
    "yes"
   ]
  },
  {
   "cell_type": "code",
   "execution_count": null,
   "metadata": {},
   "outputs": [],
   "source": [
    "n = int(input())\n",
    "nums1 = list(map(int, input().split()))\n",
    "nums2 = list(map(int, input().split()))\n",
    "\n",
    "if nums1 == list(reversed(nums2)):\n",
    "    print('yes')\n",
    "else:\n",
    "    print('no')"
   ]
  },
  {
   "cell_type": "markdown",
   "metadata": {},
   "source": [
    "71"
   ]
  },
  {
   "cell_type": "markdown",
   "metadata": {},
   "source": [
    "97\n",
    "Share\n",
    "Given 2 numbers N and K.Print the number of occurrences of K in N.If K is not found print '-1'.\n",
    "Input Size : 1 <= N <= 100000, 0 <= K <= 9\n",
    "Sample Testcase :\n",
    "INPUT\n",
    "1000 0\n",
    "OUTPUT\n",
    "3"
   ]
  },
  {
   "cell_type": "code",
   "execution_count": null,
   "metadata": {},
   "outputs": [],
   "source": [
    "a,b = input().split()\n",
    "ans = -1\n",
    "if b in a:\n",
    "    ans = a.count(b)\n",
    "print(ans)"
   ]
  },
  {
   "cell_type": "markdown",
   "metadata": {},
   "source": [
    "72"
   ]
  },
  {
   "cell_type": "markdown",
   "metadata": {},
   "source": [
    "Given a number N and array of N integers, print the difference between the indices of smallest and largest number(if there are multiple occurances, consider the first occurance).\n",
    "Input Size : |N| <= 1000000\n",
    "Sample Testcase :\n",
    "INPUT\n",
    "5\n",
    "3 5 4 4 7\n",
    "OUTPUT\n",
    "4"
   ]
  },
  {
   "cell_type": "code",
   "execution_count": null,
   "metadata": {},
   "outputs": [],
   "source": [
    "n = int(input())\n",
    "nums = list(map(int, input().split()))\n",
    "\n",
    "print(abs(nums.index(min(nums))-nums.index(max(nums))))"
   ]
  },
  {
   "cell_type": "markdown",
   "metadata": {},
   "source": [
    "73"
   ]
  },
  {
   "cell_type": "markdown",
   "metadata": {},
   "source": [
    "100\n",
    "Share\n",
    "J.S.Bhayana gave an integer array A of size N. If A[i] occurs A[i + 1] times in the array, i is called a beautiful index. Find the number of beautiful indices in the array. (1 <= i < N)\n",
    "(1 based indexing)\n",
    "\n",
    "Input Description:\n",
    "The first line contains an integer N, denoting the size of the array. The next line contains N space separated integers.\n",
    "\n",
    "Output Description:\n",
    "Print a line containing the number of beautiful indices in the array.\n",
    "\n",
    "Sample Input :\n",
    "4\n",
    "1 2 1 4 1 1\n",
    "Sample Output :\n",
    "3"
   ]
  },
  {
   "cell_type": "code",
   "execution_count": null,
   "metadata": {},
   "outputs": [],
   "source": [
    "n = int(input())\n",
    "nums = list(map(int, input().split()))\n",
    "\n",
    "counts = []\n",
    "for i in range(n):\n",
    "    counts.append((i+1, nums.count(nums[i])))\n",
    "\n",
    "btful = [x[0] for x in counts if x[0]+1==x[1]]\n",
    "\n",
    "print(*btful if btful else [0])"
   ]
  },
  {
   "cell_type": "markdown",
   "metadata": {},
   "source": [
    "74"
   ]
  },
  {
   "cell_type": "markdown",
   "metadata": {},
   "source": [
    "101\n",
    "Share\n",
    "Given an array arr[] and a number K where K is smaller than the size of array, the task is to find the Kth smallest element in the given array. It is given that all array elements are NOT distinct.\n",
    "\n",
    "Constraints:\n",
    "\n",
    "1 <= T <= 100\n",
    "\n",
    "1 <= N <= 105\n",
    "\n",
    "1 <= arr[i] <= 105\n",
    "\n",
    "1 <= K <= N\n",
    "\n",
    " \n",
    "\n",
    "Input Description:\n",
    "The first line of input contains an integer T, denoting the number of test cases. Then T test cases follow. Each test case consists of three lines. First line of each test case contains an integer N denoting size of the array. Second line contains N space separated integer denoting elements of the array. Third line of the test case contains an integer K.\n",
    "\n",
    "Output Description:\n",
    "Corresponding to each test case, print the desired output in a new line.\n",
    "\n",
    "Sample Input :\n",
    "2\n",
    "6\n",
    "7 10 4 3 3 4 \n",
    "3\n",
    "5\n",
    "7 10 4 15 15\n",
    "4\n",
    "Sample Output :\n",
    "7\n",
    "15"
   ]
  },
  {
   "cell_type": "code",
   "execution_count": null,
   "metadata": {},
   "outputs": [],
   "source": [
    "n = int(input())\n",
    "\n",
    "els = []\n",
    "for i in range(n):\n",
    "    c = int(input())\n",
    "    nums = sorted(list(map(int, input().split())))\n",
    "    k = int(input())\n",
    "    els.append(nums[k-1])\n",
    "print(*els, sep='\\n')"
   ]
  },
  {
   "cell_type": "markdown",
   "metadata": {},
   "source": [
    "75"
   ]
  },
  {
   "cell_type": "markdown",
   "metadata": {},
   "source": [
    "102\n",
    "Share\n",
    "Given an array of numbers and another number k. Find whether K exists and the number of time k repeats. If it does not exist just print no.\n",
    "Input Size : |N| <= 1000000\n",
    "Sample Testcase :\n",
    "INPUT\n",
    "5 3\n",
    "3 3 4 4 7\n",
    "OUTPUT\n",
    "yes 2"
   ]
  },
  {
   "cell_type": "code",
   "execution_count": null,
   "metadata": {},
   "outputs": [],
   "source": [
    "n, k = map(int, input().split())\n",
    "nums = list(map(int, input().split()))\n",
    "\n",
    "print(f'yes {nums.count(k)}' if k in nums else 'no')"
   ]
  },
  {
   "cell_type": "markdown",
   "metadata": {},
   "source": [
    "76"
   ]
  },
  {
   "cell_type": "markdown",
   "metadata": {},
   "source": [
    "103\n",
    "Share\n",
    "ou are given with an array of numbers.You have to print the middlemost element until the size of array becomes zero. When n is odd print the (n/2)+1 index(indexing at 1)\n",
    "\n",
    "Input Description:\n",
    "You are given a number ‘n’ denoting the size of array.Next line contains n space separated numbers.\n",
    "\n",
    "Output Description:\n",
    "Print as mentioned above\n",
    "\n",
    "Sample Input :\n",
    "5\n",
    "1 2 3 4 5 \n",
    "Sample Output :\n",
    "3 2 4 1 5"
   ]
  },
  {
   "cell_type": "code",
   "execution_count": null,
   "metadata": {},
   "outputs": [],
   "source": [
    "n = int(input())\n",
    "nums = list(map(int, input().split()))\n",
    "\n",
    "ans = []\n",
    "for i in range(n):\n",
    "    if len(nums)%2==0: \n",
    "        ans.append(nums.pop(len(nums)//2-1))\n",
    "    else:\n",
    "        ans.append(nums.pop(len(nums)//2))\n",
    "print(*ans)"
   ]
  },
  {
   "cell_type": "markdown",
   "metadata": {},
   "source": [
    "77"
   ]
  },
  {
   "cell_type": "markdown",
   "metadata": {},
   "source": [
    "105\n",
    "Share\n",
    "Given a number 'N' print the sum of each digit to the power of number of digits in given input.\n",
    "Example :\n",
    "Input => 1234\n",
    "=> ( 1 ^ 4 ) + ( 2 ^ 4 ) + ( 3 ^ 4 ) + ( 4 ^ 4 )\n",
    "=> 1 + 16 + 81 + 256\n",
    "Output => 354\n",
    "N <=100000000000\n",
    "Sample Testcase :\n",
    "INPUT\n",
    "1234\n",
    "OUTPUT\n",
    "354"
   ]
  },
  {
   "cell_type": "code",
   "execution_count": null,
   "metadata": {},
   "outputs": [],
   "source": [
    "nums = list(map(int, [*input()]))\n",
    "ans = 0\n",
    "for i in nums:\n",
    "    ans += i**len(nums)\n",
    "print(ans)"
   ]
  },
  {
   "cell_type": "markdown",
   "metadata": {},
   "source": [
    "78"
   ]
  },
  {
   "cell_type": "markdown",
   "metadata": {},
   "source": [
    "106\n",
    "Share\n",
    "Ram is a marketing manager at GUVI. He observes that for every two batches of products, one package is extra in one of the batches. He realises that someone is stealing the package from the other batch. He decides to document the discovery so as to report to his superior. Find out the package number of the package that gets stolen from one of the batches of products.\n",
    " \n",
    "\n",
    "Constraints:\n",
    "\n",
    "1<=T<=100\n",
    "\n",
    "1<=N<=100\n",
    "\n",
    "1<=Ai<=1000\n",
    "\n",
    " \n",
    "\n",
    "Input Description:\n",
    "The first line of input contains an integer T, denoting the no of test cases. Then T test cases follow. The first line of each test case contains an integer N, denoting the number of packages in Batch A. The second line of each test case contains N space separated values of number of items in each package of Batch A. The Third line of each test case contains N-1 space separated number of items in each package of Batch B.\n",
    "\n",
    "Output Description:\n",
    "Return the package number of the corresponding package stolen from Batch B. The array index denotes the package number.\n",
    "\n",
    "Sample Input :\n",
    "2\n",
    "7\n",
    "2 4 6 8 9 10 12\n",
    "2 4 6 8 10 12\n",
    "6\n",
    "3 5 7 9 11 13\n",
    "3 5 7 11 13\n",
    "Sample Output :\n",
    "4\n",
    "3"
   ]
  },
  {
   "cell_type": "code",
   "execution_count": null,
   "metadata": {},
   "outputs": [],
   "source": [
    "n = int(input())\n",
    "\n",
    "mis = []\n",
    "\n",
    "for i in range(n):\n",
    "    c = int(input())\n",
    "    nums1 = list(map(int, input().split()))\n",
    "    nums2 = list(map(int, input().split()))\n",
    "    \n",
    "    for i in range(c):\n",
    "        if nums1[i] not in nums2: mis.append(i)\n",
    "\n",
    "print(*mis, sep='\\n')"
   ]
  },
  {
   "cell_type": "markdown",
   "metadata": {},
   "source": [
    "79"
   ]
  },
  {
   "cell_type": "markdown",
   "metadata": {},
   "source": [
    "108\n",
    "Share\n",
    "harish learnt about gcd and and want to apply the concept to find the gcd of n numbers.\n",
    "\n",
    "But in between he got stuck and now he is asking for some help your task is to print the gcd of n numbers and print -1 if there is no gcd possible\n",
    "\n",
    " \n",
    "\n",
    "Input Description:\n",
    "You are given an array size ‘n’.Next line contains n space separated numbers.\n",
    "\n",
    "Output Description:\n",
    "Your task is to print the gcd of number\n",
    "\n",
    "Sample Input :\n",
    "6\n",
    "2 4 8 16\n",
    "Sample Output :\n",
    "2"
   ]
  },
  {
   "cell_type": "code",
   "execution_count": null,
   "metadata": {},
   "outputs": [],
   "source": [
    "n = int(input())\n",
    "nums = list(map(int, input().split()))\n",
    "nums = sorted(nums, key=lambda x: -x)\n",
    "ans = -1\n",
    "for i in nums:\n",
    "    div = 1\n",
    "    for j in nums:\n",
    "        if j%i!=0: div = 0\n",
    "    if div: \n",
    "        ans = i\n",
    "        break\n",
    "print(ans)"
   ]
  },
  {
   "cell_type": "markdown",
   "metadata": {},
   "source": [
    "80"
   ]
  },
  {
   "cell_type": "markdown",
   "metadata": {},
   "source": [
    "109\n",
    "Share\n",
    "Given a string S consisting of a sentence, the task is to reverse every word of the sentence except the first and last character of the words.\n",
    "Sample Testcase :\n",
    "INPUT\n",
    "guvi coding platform\n",
    "OUTPUT\n",
    "gvui cnidog proftalm."
   ]
  },
  {
   "cell_type": "code",
   "execution_count": null,
   "metadata": {},
   "outputs": [],
   "source": [
    "words = input().split()\n",
    "for i in range(len(words)):\n",
    "    if len(words[i])>2:\n",
    "        words[i] = words[i][0] + words[i][1:-1][::-1] + words[i][-1]\n",
    "print(*words)"
   ]
  },
  {
   "cell_type": "markdown",
   "metadata": {},
   "source": [
    "81"
   ]
  },
  {
   "cell_type": "markdown",
   "metadata": {},
   "source": [
    "111\n",
    "Share\n",
    "Gunjan was going through the book of ‘hyp’ numbers. She is given task to find the nth hyp number.Your task is to help gunjan\n",
    "\n",
    "A hyp number is a number whose all digits are prime.\n",
    "\n",
    "Input Description:\n",
    "You are given a number ‘n’.\n",
    "\n",
    "Output Description:\n",
    "Print the ‘nth’ hyp number.\n",
    "\n",
    "Sample Input :\n",
    "3\n",
    "Sample Output :\n",
    "5"
   ]
  },
  {
   "cell_type": "code",
   "execution_count": null,
   "metadata": {},
   "outputs": [],
   "source": [
    "primes = [2,3,5,7]\n",
    "n = int(input())\n",
    "nums = []\n",
    "i = 2\n",
    "while len(nums)!=n:\n",
    "    ans = 1\n",
    "    for j in [*str(i)]:\n",
    "        if int(j) not in primes:\n",
    "            ans = 0\n",
    "            break \n",
    "    if ans: nums.append(i)\n",
    "    i+=1\n",
    "print(nums[-1])"
   ]
  },
  {
   "cell_type": "markdown",
   "metadata": {},
   "source": [
    "82"
   ]
  },
  {
   "cell_type": "markdown",
   "metadata": {},
   "source": [
    "112\n",
    "Share\n",
    "Vasanth is working at GUVI. He has been taking leave often in the past couple of weeks and his manager, who also happens to be his friend, is worried that Vasanth might be exceeding his number of paid holidays, which might be a black mark in Vasanth monthly report. The manager analysis Vasanth’s attendance register and decides to warn him beforehand. The attendance register has a ‘P’ marked for present and an ‘A’ marked for absent. Vasanth will be blacklisted if his attendance falls below 25%. Your task is to help the manager find out whether Vasanth could be blacklisted or not.\n",
    "\n",
    " \n",
    "\n",
    "Input Description:\n",
    "First line contains the number of entries in the attendance register, followed by space separated values of attendance (‘P’ or ‘A’)\n",
    "\n",
    "Output Description:\n",
    "‘Blacklisted’ if attendance is below 25% ‘Not Blacklisted’ if attendance is above 25%\n",
    "\n",
    "Sample Input :\n",
    "5\n",
    "P P A A A\n",
    "Sample Output :\n",
    "Not Blacklisted"
   ]
  },
  {
   "cell_type": "code",
   "execution_count": null,
   "metadata": {},
   "outputs": [],
   "source": [
    "n = int(input())\n",
    "nums = input().split()\n",
    "\n",
    "\n",
    "print('Blacklisted' if nums.count('P')/n <= 0.25 else 'Not Blacklisted')"
   ]
  },
  {
   "cell_type": "markdown",
   "metadata": {},
   "source": [
    "83"
   ]
  },
  {
   "cell_type": "markdown",
   "metadata": {},
   "source": [
    "113\n",
    "Share\n",
    ":You are given an array of ‘n’ numbers.your task is to print the lcm of ‘n’ numbers\n",
    "\n",
    "Input Description:\n",
    "An integer ‘n’ denoting the size of array.Next line contains ‘n’ space separated numbers\n",
    "\n",
    "Output Description:\n",
    "Print the lcm\n",
    "\n",
    "Sample Input :\n",
    "4\n",
    "2 4 6 8\n",
    "Sample Output :\n",
    "24"
   ]
  },
  {
   "cell_type": "code",
   "execution_count": null,
   "metadata": {},
   "outputs": [],
   "source": [
    "n = int(input())\n",
    "nums = list(map(int, input().split()))\n",
    "\n",
    "c = 1\n",
    "high = max(nums)\n",
    "lcm = c*high\n",
    "while True:\n",
    "    flag = 1\n",
    "    for i in nums:\n",
    "        if lcm%i != 0:\n",
    "            flag = 0\n",
    "    if flag:\n",
    "        break\n",
    "    else:\n",
    "        c += 1\n",
    "        lcm = high*c\n",
    "print(lcm)"
   ]
  },
  {
   "cell_type": "markdown",
   "metadata": {},
   "source": [
    "84"
   ]
  },
  {
   "cell_type": "markdown",
   "metadata": {},
   "source": [
    "114\n",
    "Share\n",
    "Ramesh is searching a solution to problem posted. The statement is as follows\n",
    "\n",
    "Print the maximum sum produced by increasing subarray. Ramesh is very confused to see the question,Help him.\n",
    "\n",
    "Input Description:\n",
    "You are given a number ‘n’,Then next line contains n space separated numbers.\n",
    "\n",
    "Output Description:\n",
    "Maximum sum value produced by the increasing sub array of size 'n'\n",
    "\n",
    "Sample Input :\n",
    "6\n",
    "2 1 4 7 3 6\n",
    "Sample Output :\n",
    "12"
   ]
  },
  {
   "cell_type": "code",
   "execution_count": null,
   "metadata": {},
   "outputs": [],
   "source": [
    "n = int(input())\n",
    "nums = list(map(int, input().split()))\n",
    "\n",
    "sums = []\n",
    "prev = []\n",
    "for i in range(n):\n",
    "    # print(nums, nums[0], prev, sums)\n",
    "    if prev:\n",
    "        # print(prev[-1], i)\n",
    "        if nums[0] < prev[-1]:\n",
    "            sums.append(sum(prev))\n",
    "            prev = [nums.pop(0)]\n",
    "        else:\n",
    "            prev.append(nums.pop(0))\n",
    "    else:\n",
    "        prev.append(nums.pop(0))\n",
    "    \n",
    "\n",
    "print(max(sums))\n",
    "\n"
   ]
  },
  {
   "cell_type": "markdown",
   "metadata": {},
   "source": [
    "85"
   ]
  },
  {
   "cell_type": "markdown",
   "metadata": {},
   "source": []
  },
  {
   "cell_type": "code",
   "execution_count": 9,
   "metadata": {},
   "outputs": [
    {
     "data": {
      "text/plain": [
       "True"
      ]
     },
     "execution_count": 9,
     "metadata": {},
     "output_type": "execute_result"
    }
   ],
   "source": [
    "n = int(input())\n",
    "nums = list(map(int, input().split()))\n",
    "\n",
    "ps = []\n",
    "\n",
    "for i in range(len(nums)-1):\n",
    "    for j in range(i+1, len(nums)):\n",
    "        if nums[i]<nums[j] and (nums[i],nums[j]) not in ps:\n",
    "            ps.append((nums[i],nums[j]))\n",
    "\n",
    "print(len(ps) if ps else -1)"
   ]
  },
  {
   "cell_type": "markdown",
   "metadata": {},
   "source": [
    "86"
   ]
  },
  {
   "cell_type": "markdown",
   "metadata": {},
   "source": [
    "116\n",
    "Share\n",
    "Given two numbers L,R print the smallest number which is divisible by both L and R.\n",
    "Input Size : 1 <= L,R <= 100000\n",
    "Sample Testcase :\n",
    "INPUT\n",
    "10 130\n",
    "OUTPUT\n",
    "130"
   ]
  },
  {
   "cell_type": "code",
   "execution_count": null,
   "metadata": {},
   "outputs": [],
   "source": [
    "a, b = map(int, input().split())\n",
    "\n",
    "ans = max([a,b])\n",
    "\n",
    "while (ans%a != 0) or (ans%b != 0):\n",
    "    ans += max([a,b])\n",
    "print(ans)"
   ]
  },
  {
   "cell_type": "markdown",
   "metadata": {},
   "source": [
    "87"
   ]
  },
  {
   "cell_type": "markdown",
   "metadata": {},
   "source": [
    "117\n",
    "Share\n",
    "Given a number N and an array of N elements, every number is repeated except for one. Print that one number.\n",
    "Input Size : 1 <= N <= 100000\n",
    "Sample Testcase :\n",
    "INPUT\n",
    "10\n",
    "1 2 3 2 3 3 2 5 5 2\n",
    "OUTPUT\n",
    "1"
   ]
  },
  {
   "cell_type": "code",
   "execution_count": null,
   "metadata": {},
   "outputs": [],
   "source": [
    "n = int(input())\n",
    "nums = list(map(int, input().split()))\n",
    "\n",
    "for i in nums:\n",
    "    if nums.count(i) == 1:\n",
    "        print(i)\n",
    "        break"
   ]
  },
  {
   "cell_type": "markdown",
   "metadata": {},
   "source": [
    "88"
   ]
  },
  {
   "cell_type": "markdown",
   "metadata": {},
   "source": [
    "118\n",
    "Share\n",
    "You are given with string of words,we have to arrange them in reverse saturated order.\n",
    "\n",
    "Input Description:\n",
    "You are given a string ‘s’.\n",
    "\n",
    "Output Description:\n",
    "Print the reverse saturated order\n",
    "\n",
    "Sample Input :\n",
    "I am kohli fan\n",
    "Sample Output :\n",
    "I ma ilhok naf"
   ]
  },
  {
   "cell_type": "code",
   "execution_count": null,
   "metadata": {},
   "outputs": [],
   "source": [
    "words = input().split()\n",
    "print(*[word[::-1] for word in words])"
   ]
  },
  {
   "cell_type": "markdown",
   "metadata": {},
   "source": [
    "89"
   ]
  },
  {
   "cell_type": "markdown",
   "metadata": {},
   "source": [
    "119\n",
    "Share\n",
    "Given a number N, print their prime factors in sorted order.\n",
    "Input Size : 2 <= N <= 100000\n",
    "Sample Testcase :\n",
    "INPUT\n",
    "18\n",
    "OUTPUT\n",
    "2 3"
   ]
  },
  {
   "cell_type": "code",
   "execution_count": null,
   "metadata": {},
   "outputs": [],
   "source": [
    "n = int(input())\n",
    "def isprime(num):\n",
    "    prime = 1\n",
    "    for i in range(2, num):\n",
    "        if num%i == 0: \n",
    "            prime = 0\n",
    "            break\n",
    "    return prime\n",
    "    \n",
    "fs = [x for x in range(2,n+1) if isprime(x) and n%x == 0]\n",
    "print(*fs)"
   ]
  },
  {
   "cell_type": "markdown",
   "metadata": {},
   "source": [
    "90"
   ]
  },
  {
   "cell_type": "markdown",
   "metadata": {},
   "source": [
    "120\n",
    "Share\n",
    "You are head incharge of sports activity in queue. Your task is to sort the students height wise in line. But you can only swap students.Your task is to determine the minimum possible swaps required to sort the students in queue according to heights\n",
    "\n",
    "Input Description:\n",
    "You are given with number ‘n’ denoting number of students. Next line contains n space separated integers denoting their height.\n",
    "\n",
    "Output Description:\n",
    "Print the minimum number of swaps required to sort the students in line.\n",
    "a\n",
    "Sample Input :\n",
    "5\n",
    "1 5 4 3 2\n",
    "Sample Output :\n",
    "2"
   ]
  },
  {
   "cell_type": "code",
   "execution_count": null,
   "metadata": {},
   "outputs": [],
   "source": [
    "n = int(input())\n",
    "nums = list(map(int, input().split()))\n",
    "\n",
    "def min_swaps_to_sort(arr):\n",
    "    n = len(arr)\n",
    "    arrpos = [*enumerate(arr)]\n",
    "    arrpos.sort(key=lambda it: it[1])\n",
    "    vis = {k: False for k in range(n)}\n",
    "    ans = 0\n",
    "    for i in range(n):\n",
    "        if vis[i] or arrpos[i][0] == i:\n",
    "            continue\n",
    "\n",
    "        cycle_size = 0\n",
    "        j = i\n",
    "\n",
    "        while not vis[j]:\n",
    "            # mark node as visited\n",
    "            vis[j] = True\n",
    "\n",
    "            # move to next node\n",
    "            j = arrpos[j][0]\n",
    "            cycle_size += 1\n",
    "\n",
    "        # update answer by adding\n",
    "        # current cycle\n",
    "        if cycle_size > 0:\n",
    "            ans += (cycle_size - 1)\n",
    "\n",
    "    # return answer\n",
    "    return ans\n",
    "    \n",
    "result = min_swaps_to_sort(nums)\n",
    "print(result)  # Output: 2\n"
   ]
  },
  {
   "cell_type": "markdown",
   "metadata": {},
   "source": [
    "91"
   ]
  },
  {
   "cell_type": "markdown",
   "metadata": {},
   "source": [
    "121\n",
    "Share\n",
    "Given 2 numbers N,X and an array of N elements, check if there exists any 2 numbers in the array with sum equal to X.If found print 'yes' otherwise print 'no'\n",
    "Input Size : N,X <= 100000\n",
    "Sample Testcase :\n",
    "INPUT\n",
    "4 4\n",
    "2 2 0 0\n",
    "OUTPUT\n",
    "yes"
   ]
  },
  {
   "cell_type": "code",
   "execution_count": null,
   "metadata": {},
   "outputs": [],
   "source": [
    "n, x = map(int, input().split())\n",
    "nums = list(map(int, input().split()))\n",
    "\n",
    "flag = 0\n",
    "\n",
    "for i in range(n-1):\n",
    "    for j in range(i+1,n):\n",
    "        if nums[i]+nums[j] == x:\n",
    "            flag = 1 \n",
    "            break\n",
    "    if flag:\n",
    "        break\n",
    "print('yes' if flag else 'no')\n"
   ]
  },
  {
   "cell_type": "markdown",
   "metadata": {},
   "source": [
    "92"
   ]
  },
  {
   "cell_type": "markdown",
   "metadata": {},
   "source": [
    "122\n",
    "Share\n",
    "Given a number N and K followed by N elements and K elements. Now insert the given K elements one by one into the array and print the maximum in the array after each insertion .\n",
    "Input Size : K <= N <= 10000(read about priority queues and implement)\n",
    "Sample Testcase :\n",
    "INPUT\n",
    "5 2\n",
    "1 2 3 4 5\n",
    "5 4\n",
    "OUTPUT\n",
    "5 5"
   ]
  },
  {
   "cell_type": "code",
   "execution_count": null,
   "metadata": {},
   "outputs": [],
   "source": [
    "n, x = map(int, input().split())\n",
    "nums1 = list(map(int, input().split()))\n",
    "nums2 = list(map(int, input().split()))\n",
    "ms = []\n",
    "for i in range(x):\n",
    "    ms.append(max(nums1+nums2[:i]))\n",
    "print(*ms)"
   ]
  },
  {
   "cell_type": "markdown",
   "metadata": {},
   "source": [
    "93"
   ]
  },
  {
   "cell_type": "markdown",
   "metadata": {},
   "source": [
    "123\n",
    "Share\n",
    "Given 2 strings and a number K, check whether they differ exactly by K characters.\n",
    "Input Size : |s| <= 100000(complexity O(nlogn) or O(n))\n",
    "Sample Testcase :\n",
    "INPUT\n",
    "codekata codeguvi 4\n",
    "OUTPUT\n",
    "yes"
   ]
  },
  {
   "cell_type": "code",
   "execution_count": null,
   "metadata": {},
   "outputs": [],
   "source": [
    "w1, w2, c = input().split()\n",
    "\n",
    "difs = 0\n",
    "\n",
    "for i in range(len(w1)):\n",
    "    if w1[i] != w2[i]: difs += 1\n",
    "    \n",
    "print('yes' if difs == int(c) else 'no')"
   ]
  },
  {
   "cell_type": "markdown",
   "metadata": {},
   "source": [
    "94"
   ]
  },
  {
   "cell_type": "markdown",
   "metadata": {},
   "source": [
    "124\n",
    "Share\n",
    "Given a range (i.e) two numbers L and R count the number of perfect squares within the range (inclusive of L and R).If no perfect square exists within the range print '-1'.\n",
    "Input Size : L <= R <= 100000(complexity O(n))\n",
    "Sample Testcase :\n",
    "INPUT\n",
    "2 10\n",
    "OUTPUT\n",
    "2"
   ]
  },
  {
   "cell_type": "code",
   "execution_count": null,
   "metadata": {},
   "outputs": [],
   "source": [
    "a, b = map(int, input().split())\n",
    "\n",
    "s = 0\n",
    "# print(round(a**0.5)-1, round(b**0.5)+1)\n",
    "for i in range(round(a**0.5), round(b**0.5)+1):\n",
    "    # print(f'if {i}*{i} in {range(i, b+1)}')\n",
    "    if i*i in list(range(a, b+1)):\n",
    "        s += 1\n",
    "print(s if s else -1)"
   ]
  },
  {
   "cell_type": "markdown",
   "metadata": {},
   "source": [
    "95"
   ]
  },
  {
   "cell_type": "markdown",
   "metadata": {},
   "source": [
    "125\n",
    "Share\n",
    "Given a number N and an array of N elements, print all elements lesser than N in descending order.If no element found print -1\n",
    "Input Size : 1 <= N <= 10000\n",
    "Sample Testcase :\n",
    "INPUT\n",
    "5\n",
    "2 14 15 14 3\n",
    "OUTPUT\n",
    "3 2"
   ]
  },
  {
   "cell_type": "code",
   "execution_count": null,
   "metadata": {},
   "outputs": [],
   "source": [
    "n = int(input())\n",
    "nums = list(map(int, input().split()))\n",
    "\n",
    "less = [x for x in nums if x<n]\n",
    "print(*sorted(less, key=lambda x:-x) if less else [-1])"
   ]
  },
  {
   "cell_type": "markdown",
   "metadata": {},
   "source": [
    "96"
   ]
  },
  {
   "cell_type": "markdown",
   "metadata": {},
   "source": [
    "126\n",
    "Share\n",
    "You are given an array.Your task is to print the length of longest consecutive subsequence. A longest consecutive subsequence is such that next element differ from previous by 1.\n",
    "\n",
    "Input Description:\n",
    "You are given with the length of array. Next line contains n space separated integers.\n",
    "\n",
    "Output Description:\n",
    "Print the length of longest consecutive subsequence.\n",
    "\n",
    "Sample Input :\n",
    "8\n",
    "1 6 5 3 2 4 10 12\n",
    "Sample Output :\n",
    "6"
   ]
  },
  {
   "cell_type": "code",
   "execution_count": null,
   "metadata": {},
   "outputs": [],
   "source": [
    "n = int(input())\n",
    "nums = list(map(int, input().split()))\n",
    "\n",
    "nums = sorted(nums)\n",
    "\n",
    "\n",
    "s = 0\n",
    "prev = []\n",
    "\n",
    "i = 0\n",
    "while i < len(nums)-1:\n",
    "    if abs(nums[i]-nums[i+1]) != 1:\n",
    "        if len(prev)+1 > s:\n",
    "            s = len(prev)+1\n",
    "        prev = [nums[i]]\n",
    "        i += 2\n",
    "    else:\n",
    "        prev.append(nums[i])\n",
    "        i += 1\n",
    "\n",
    "if s:\n",
    "    print(s)\n",
    "elif prev:\n",
    "    print(len(prev)+1)\n"
   ]
  },
  {
   "cell_type": "markdown",
   "metadata": {},
   "source": [
    "97"
   ]
  },
  {
   "cell_type": "markdown",
   "metadata": {},
   "source": [
    "127\n",
    "Share\n",
    "Given a number N, print the distinct pairs formed by multiplying two prime numbers (i.e)prime x prime should yield the N.Also print the numbers in descending order.If no such pairs can be formed print '-1'.\n",
    "Input Size : 1 <= N <= 100000\n",
    "Sample Testcase :\n",
    "INPUT\n",
    "65\n",
    "OUTPUT\n",
    "13 5"
   ]
  },
  {
   "cell_type": "code",
   "execution_count": null,
   "metadata": {},
   "outputs": [],
   "source": [
    "n = int(input())\n",
    "def isprime(num):\n",
    "    prime = 1\n",
    "    for i in range(2, num):\n",
    "        if num%i == 0: \n",
    "            prime = 0\n",
    "            break\n",
    "    return prime\n",
    "    \n",
    "fs = []\n",
    "\n",
    "\n",
    "for i in range(n//2+1,2,-1):\n",
    "    for j in range(i-1,2,-1):\n",
    "        if (n%i == 0) and (n%j == 0):\n",
    "            fs = [i,j]\n",
    "            break\n",
    "    if fs: break\n",
    "\n",
    "\n",
    "print(*fs if fs else [-1])"
   ]
  },
  {
   "cell_type": "markdown",
   "metadata": {},
   "source": [
    "98"
   ]
  },
  {
   "cell_type": "markdown",
   "metadata": {},
   "source": [
    "128\n",
    "Share\n",
    "Given a number N and an array of N elements, find the Bitwise XOR of the array elements.\n",
    "Input Size : N <= 100000\n",
    "Sample Testcase :\n",
    "INPUT\n",
    "2\n",
    "2 4\n",
    "OUTPUT\n",
    "6"
   ]
  },
  {
   "cell_type": "code",
   "execution_count": null,
   "metadata": {},
   "outputs": [],
   "source": [
    "n = int(input())\n",
    "nums = list(map(int, input().split()))\n",
    "\n",
    "x = nums[0]\n",
    "\n",
    "for i in range(1,n):\n",
    "    x = x ^ nums[i]\n",
    "print(x)"
   ]
  },
  {
   "cell_type": "markdown",
   "metadata": {},
   "source": [
    "99"
   ]
  },
  {
   "cell_type": "markdown",
   "metadata": {},
   "source": [
    "129\n",
    "Share\n",
    "Given a number N and 2 arrays of N integers and their weights, sort the array based on their weights in the ascending order.\n",
    "Input Size : N <= 100000\n",
    "Sample Testcase :\n",
    "INPUT\n",
    "5\n",
    "1 2 3 4 5\n",
    "5 4 3 2 1\n",
    "OUTPUT\n",
    "5 4 3 2 1"
   ]
  },
  {
   "cell_type": "code",
   "execution_count": null,
   "metadata": {},
   "outputs": [],
   "source": [
    "n = int(input())\n",
    "nums1 = list(map(int, input().split()))\n",
    "nums2 = list(map(int, input().split()))\n",
    "\n",
    "comb = []\n",
    "\n",
    "for i in range(n):\n",
    "    comb.append((nums1[i], nums2[i]))\n",
    "\n",
    "comb = sorted(comb, key=lambda x: x[1])\n",
    "print(*[x[0] for x in comb])"
   ]
  },
  {
   "cell_type": "markdown",
   "metadata": {},
   "source": [
    "100"
   ]
  },
  {
   "cell_type": "markdown",
   "metadata": {},
   "source": [
    "130\n",
    "Share\n",
    "Given an value 'M' follwed by array of M elements in which the elements would have been rotated for certain 'N' times from the intial array representation where all elements are arranged in ascending order.Print the 'N' or print -1 if there is no rotation made or cannot be determined.Note: 1<=N<=length of the given array.Sample Testcase :\n",
    "INPUT\n",
    "5\n",
    "15 18 2 3 6 12\n",
    "OUTPUT\n",
    "2"
   ]
  },
  {
   "cell_type": "code",
   "execution_count": null,
   "metadata": {},
   "outputs": [],
   "source": [
    "n = int(input())\n",
    "nums = list(map(int, input().split()))\n",
    "r = nums.index(nums[-1])-sorted(nums).index(nums[-1])\n",
    "print(r if r else -1)"
   ]
  }
 ],
 "metadata": {
  "kernelspec": {
   "display_name": "Python 3",
   "language": "python",
   "name": "python3"
  },
  "language_info": {
   "codemirror_mode": {
    "name": "ipython",
    "version": 3
   },
   "file_extension": ".py",
   "mimetype": "text/x-python",
   "name": "python",
   "nbconvert_exporter": "python",
   "pygments_lexer": "ipython3",
   "version": "3.12.0"
  }
 },
 "nbformat": 4,
 "nbformat_minor": 2
}
