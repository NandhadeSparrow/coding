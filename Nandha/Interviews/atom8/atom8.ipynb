{
 "cells": [
  {
   "cell_type": "markdown",
   "metadata": {},
   "source": [
    "Please email the solution in compilable format to contact@atom8.tech\n",
    " \n",
    "Input to your program are 3 strings S1 S2 and S3 of lower case alphabets and no spaces or special characters. S1 and S2 are the same size. Here are the constraints on S1 and S2:\n",
    "In string S1 and S2 the alphabets at the same index can be replaced with each other.\n",
    "If alphabet p can be replaced with q then q can also be replaced with p\n",
    "If alphabet p can be replaced with alphabet q , and the alphabet q can be replaced with alphabet r then alphabet p can also be replaced with r.\n",
    "1 <  length of strings  S1,S2,S3 < 999999\n",
    "length of string S1 = length of string S2\n",
    "All the strings consist of lowercase English letters.\n",
    " \n",
    "Ex : You are given two strings:\n",
    "S1−pqr\n",
    "S2−zrg\n",
    " \n",
    "Here, the alphabet p can be replaced with alphabet z, alphabet q can be replaced with r, and alphabet r with g. The alphabet q can also be replaced with g according to the 3rd rule above.\n",
    " \n",
    "Definition of lexicographical sorting https://en.wikipedia.org/wiki/Lexicographic_order#:~:text=In%20mathematics%2C%20the%20lexicographic%20or,of%20a%20totally%20ordered%20set.\n",
    " \n",
    "Input format\n",
    "First line: String S1\n",
    "Second line: String S2\n",
    "Third line: String S3\n",
    "Output format\n",
    "You can replace any alphabet of S3 with any of these alternatives based on the properties learned from S1 and S2. By doing so you can construct many such new strings. Out of all these strings your program should output the smallest string assuming they are sorted lexicographically.\n",
    " \n",
    "Sample Input\n",
    "dcba\n",
    "edcb\n",
    "decb\n",
    "Output\n",
    "aaaa"
   ]
  },
  {
   "cell_type": "code",
   "execution_count": null,
   "metadata": {},
   "outputs": [],
   "source": [
    "def recheck(dp):\n",
    "    flag=0\n",
    "    for i in dp.keys():\n",
    "        if dp[dp[i]] <dp[i]:\n",
    "            dp[i]=dp[dp[i]]\n",
    "            flag+=1\n",
    "    if(flag==0):\n",
    "        return\n",
    "    else:\n",
    "        recheck(dp)\n",
    "        \n",
    "s1=\"dcba\"\n",
    "s2=\"edcb\"\n",
    "s3=\"decb\"\n",
    "\n",
    "dp={}\n",
    "for i in range(97,123):\n",
    "    dp[chr(i)]=chr(i)\n",
    "   \n",
    "for i in range(len(s1)):\n",
    "    if(s1[i]<s2[i]):\n",
    "        dp[s2[i]]=s1[i]\n",
    "    elif(s1[i]>s2[i]):\n",
    "        dp[s1[i]]=s2[i]\n",
    "    recheck(dp)\n",
    "    print(dp)\n",
    "\n",
    "res=\"\"\n",
    "for i in range(len(s3)):\n",
    "    res+=dp[s3[i]]\n",
    "print(res)"
   ]
  },
  {
   "cell_type": "code",
   "execution_count": 2,
   "metadata": {},
   "outputs": [
    {
     "name": "stdout",
     "output_type": "stream",
     "text": [
      "dab\n"
     ]
    }
   ],
   "source": [
    "dict = {a:a for a in \"abcdefghijklmnopqrstuvwxyz\"}\n",
    "\n",
    "def change():\n",
    "  ok = True\n",
    "\n",
    "  for i in dict.keys():\n",
    "    if dict[dict[i]] < dict[i]:\n",
    "      dict[i] = dict[dict[i]]\n",
    "      ok = False\n",
    "    if not ok:\n",
    "      change()\n",
    "  \n",
    "def ans(s1, s2, s3):\n",
    "  out = \"\"\n",
    "\n",
    "  for c1, c2 in zip(s1, s2):\n",
    "    if dict[c1] < dict[c2]:\n",
    "      dict[c2] = dict[c1]\n",
    "    else:\n",
    "      dict[c1] = dict[c2]\n",
    "    \n",
    "    change()\n",
    "      \n",
    "  for c in s3:\n",
    "    out += dict[c]\n",
    "      \n",
    "  print(out)\n",
    "\n",
    "\n",
    "ans(input(), input(), input())"
   ]
  },
  {
   "cell_type": "code",
   "execution_count": 8,
   "metadata": {},
   "outputs": [
    {
     "name": "stdout",
     "output_type": "stream",
     "text": [
      "{'c': 'c'}\n",
      "{'c': 'c'}\n",
      "{'c': 'c', 'd': 'c'}\n",
      "{'c': 'c', 'd': 'c', 'a': 'a'}\n",
      "{'c': 'c', 'd': 'c', 'a': 'a'}\n",
      "{'c': 'c', 'd': 'c', 'a': 'a', 'b': 'a'}\n",
      "{'c': 'c', 'd': 'c', 'a': 'a', 'b': 'a'}\n",
      "{'c': 'c', 'd': 'c', 'a': 'a', 'b': 'a'}\n",
      "{'c': 'c', 'd': 'c', 'a': 'a', 'b': 'a'}\n",
      "caa\n"
     ]
    }
   ],
   "source": [
    "dict = {}\n",
    "a = 'cab'\n",
    "b = 'cab'\n",
    "c = 'dba'\n",
    "ws = [a,b,c]\n",
    "l = len(a)\n",
    "r = 3\n",
    "for i in range(l):\n",
    "    ivs = [a[i],b[i],c[i]]\n",
    "    m = min(ivs)\n",
    "    for j in ivs: \n",
    "        if dict.get(j, 'z') > m: dict[j] = m\n",
    "        print(dict)\n",
    "\n",
    "out = ''  \n",
    "for i in c:\n",
    "    out += dict[i]\n",
    "print(out)"
   ]
  }
 ],
 "metadata": {
  "kernelspec": {
   "display_name": "Python 3",
   "language": "python",
   "name": "python3"
  },
  "language_info": {
   "codemirror_mode": {
    "name": "ipython",
    "version": 3
   },
   "file_extension": ".py",
   "mimetype": "text/x-python",
   "name": "python",
   "nbconvert_exporter": "python",
   "pygments_lexer": "ipython3",
   "version": "3.12.0"
  }
 },
 "nbformat": 4,
 "nbformat_minor": 2
}
