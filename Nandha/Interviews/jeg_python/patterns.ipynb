{
 "cells": [
  {
   "cell_type": "markdown",
   "metadata": {},
   "source": [
    "1)\n",
    " * * * * *\n",
    " * * * * *\n",
    " * * * * *\n",
    " * * * * *\n",
    " * * * * *\n"
   ]
  },
  {
   "cell_type": "markdown",
   "metadata": {},
   "source": [
    "2)\n",
    "* \n",
    " * * \n",
    " * * * \n",
    " * * * *\n",
    " * * * * *\n",
    "\n"
   ]
  },
  {
   "cell_type": "markdown",
   "metadata": {},
   "source": [
    "3)\n",
    "                 *\n",
    "             *  *\n",
    "         *  *  *\n",
    "     *  *  *  *\n",
    " *  *  *  *  *\n"
   ]
  },
  {
   "cell_type": "code",
   "execution_count": 1,
   "metadata": {},
   "outputs": [
    {
     "name": "stdout",
     "output_type": "stream",
     "text": [
      "        * \n",
      "      * * \n",
      "    * * * \n",
      "  * * * * \n",
      "* * * * * \n"
     ]
    }
   ],
   "source": [
    "for i in range(5):\n",
    "    print(\" \"*(10-2*(i+1)) +  \"* \"*(i+1))\n"
   ]
  },
  {
   "cell_type": "markdown",
   "metadata": {},
   "source": [
    "4)\n",
    " * * * * *\n",
    "    * * * *\n",
    "       * * *\n",
    "          * *\n",
    "             *\n"
   ]
  },
  {
   "cell_type": "code",
   "execution_count": null,
   "metadata": {},
   "outputs": [],
   "source": [
    "for i in range(5):\n",
    "    print(\"  \"*i + \"* \"*(5-i))\n"
   ]
  },
  {
   "cell_type": "markdown",
   "metadata": {},
   "source": [
    "\n",
    "5)\n",
    " * * * * *\n",
    " * * * *\n",
    " * * *\n",
    " * *\n",
    " *\n",
    "\n"
   ]
  },
  {
   "cell_type": "markdown",
   "metadata": {},
   "source": [
    "6)\n",
    "      *\n",
    "     * *\n",
    "    * * *\n",
    "   * * * *\n",
    " * * * * *\n"
   ]
  },
  {
   "cell_type": "markdown",
   "metadata": {},
   "source": [
    "7)\n",
    "             *\n",
    "          * *\n",
    "       * * *\n",
    "    * * * *\n",
    " * * * * *\n",
    "    * * * *\n",
    "       * * *\n",
    "          * *\n",
    "             *\n"
   ]
  },
  {
   "cell_type": "code",
   "execution_count": 2,
   "metadata": {},
   "outputs": [
    {
     "name": "stdout",
     "output_type": "stream",
     "text": [
      "         * \n",
      "       * * \n",
      "     * * * \n",
      "   * * * * \n",
      " * * * * * \n",
      "   * * * * \n",
      "     * * * \n",
      "       * * \n",
      "         * \n"
     ]
    }
   ],
   "source": [
    "for i in range(5):\n",
    "    print(\"  \"*(4-i),  \"* \"*(i+1),   end=\"\\n\")\n",
    "    \n",
    "for i in range(4):\n",
    "    print(\"  \"*(i+1),  \"* \"*(4-i),   end=\"\\n\")\n"
   ]
  },
  {
   "cell_type": "markdown",
   "metadata": {},
   "source": [
    "\n",
    "8)\n",
    "1\n",
    "2 3\n",
    "4 5 6\n",
    "7 8 9 10\n",
    "11 12 13 14 15\n"
   ]
  },
  {
   "cell_type": "code",
   "execution_count": null,
   "metadata": {},
   "outputs": [],
   "source": [
    "def solve(n, l):\n",
    "    for i in range(1, l+1):\n",
    "        for j in range(i):\n",
    "            print(n, \" \", end=\"\")\n",
    "            n += 1\n",
    "        print()\n",
    "\n",
    "solve(1, 5)\n",
    "\n"
   ]
  },
  {
   "cell_type": "markdown",
   "metadata": {},
   "source": [
    "9)\n",
    "         1    \n",
    "       2  2\n",
    "     3  3  3 \n",
    "  4  4  4  4 \n",
    "5  5  5  5  5\n"
   ]
  },
  {
   "cell_type": "code",
   "execution_count": null,
   "metadata": {},
   "outputs": [],
   "source": [
    "def solve(n, l):\n",
    "    for i in range(1,l+1):\n",
    "        print(\"  \"*(5-i),\"{0}   \".format(n)*i)\n",
    "        n += 1\n",
    "solve(1, 5)\n"
   ]
  },
  {
   "cell_type": "markdown",
   "metadata": {},
   "source": [
    "10)\n",
    "15\n",
    "14 13\n",
    "12 11 10\n",
    "9  8 7 6\n",
    "5 4 3 2 1\n"
   ]
  },
  {
   "cell_type": "code",
   "execution_count": null,
   "metadata": {},
   "outputs": [],
   "source": [
    "def solve(n, l):\n",
    "    for i in range(l):\n",
    "        for j in range(i+1):\n",
    "            print(n,\" \", end=\"\")\n",
    "            n-=1\n",
    "        print()\n",
    "\n",
    "solve(15, 5)\n"
   ]
  },
  {
   "cell_type": "markdown",
   "metadata": {},
   "source": [
    "11)\n",
    "        1    \n",
    "      1  2   \n",
    "    1  2  3  \n",
    "  1  2  3  4 \n",
    "1  2  3  4  5\n"
   ]
  },
  {
   "cell_type": "code",
   "execution_count": null,
   "metadata": {},
   "outputs": [],
   "source": [
    "def solve(n, l):\n",
    "    for i in range(1,l+1):\n",
    "        print(\"  \"*(5-i), end=\"\")\n",
    "        for j in range(1,i+1):\n",
    "            print(\"{0}   \".format(n), end=\"\")\n",
    "            n += 1\n",
    "        print()\n",
    "        n = 1\n",
    "        \n",
    "solve(1, 5)\n",
    "\n"
   ]
  },
  {
   "cell_type": "markdown",
   "metadata": {},
   "source": [
    "12)\n",
    "               1\n",
    "           1  2  3\n",
    "       1  2  3  4  5\n",
    "   1  2  3  4  5  6  7\n",
    "1  2  3  4  5  6  7  8  9\n"
   ]
  },
  {
   "cell_type": "code",
   "execution_count": null,
   "metadata": {},
   "outputs": [],
   "source": [
    "def solve(n, l):\n",
    "    for i in range(1,l+1):\n",
    "        print(\"   \"*(5-i), end=\"\")\n",
    "        \n",
    "        for j in range(1,2*i):\n",
    "            print(\"{0}  \".format(n), end=\"\")\n",
    "            n += 1\n",
    "        \n",
    "        print()\n",
    "        n = 1\n",
    "        \n",
    "solve(1, 5)\n",
    "\n"
   ]
  },
  {
   "cell_type": "markdown",
   "metadata": {},
   "source": [
    "13)\n",
    " A B C D E F G G F E D C B A\n",
    "     A B C D E F F E D C B A\n",
    "         A B C D E E D C B A\n",
    "             A B C D D C B A\n",
    "                 A B C C B A\n",
    "                     A B B A\n",
    "                         A A\n"
   ]
  },
  {
   "cell_type": "code",
   "execution_count": null,
   "metadata": {},
   "outputs": [],
   "source": [
    "def solve(l):\n",
    "    for i in range(len(l)):\n",
    "        print(\"  \"*i, end=\"\")\n",
    "        \n",
    "        for j in range(len(l)):\n",
    "            print(l[j],\"\", end=\"\")\n",
    "        for j in range(len(l)):\n",
    "            print(l[-j-1],\"\", end=\"\")\n",
    "            \n",
    "        print()\n",
    "        l.pop()\n",
    "        \n",
    "solve([\"A\",\"B\",\"C\",\"D\",\"E\",\"F\",\"G\"])\n",
    "\n"
   ]
  },
  {
   "cell_type": "markdown",
   "metadata": {},
   "source": [
    "14)\n",
    "11111\n",
    "2222\n",
    "333\n",
    "44\n",
    "5\n"
   ]
  },
  {
   "cell_type": "code",
   "execution_count": null,
   "metadata": {},
   "outputs": [],
   "source": [
    "def solve(l):\n",
    "    for i in range(l):\n",
    "        print(\"{0}\".format(i+1)*(5-i))\n",
    "        \n",
    "solve(5)\n",
    "\n"
   ]
  },
  {
   "cell_type": "markdown",
   "metadata": {},
   "source": [
    "15)\n",
    "1234567\n",
    "12345\n",
    "123\n",
    "1\n",
    "\n"
   ]
  },
  {
   "cell_type": "code",
   "execution_count": null,
   "metadata": {},
   "outputs": [],
   "source": [
    "def solve(n):\n",
    "    while(n>0):\n",
    "        for i in range(1,n+1):\n",
    "            print(\"{0}\".format(i), end=\"\")\n",
    "        print()\n",
    "        n -= 2\n",
    "solve(7)\n",
    "\n"
   ]
  },
  {
   "cell_type": "markdown",
   "metadata": {},
   "source": [
    "16)\n",
    "55555\n",
    "45555\n",
    "34555\n",
    "23455\n",
    "12345\n"
   ]
  },
  {
   "cell_type": "code",
   "execution_count": null,
   "metadata": {},
   "outputs": [],
   "source": [
    "def solve(n):\n",
    "    start = n\n",
    "    for i in range(1,n+1):\n",
    "        \n",
    "        for j in range(6-i, start+1):\n",
    "            print(\"{0}\".format(j), end=\"\")\n",
    "        for j in range(1,n):\n",
    "            print(\"{0}\".format(start), end=\"\")\n",
    "        print()\n",
    "        n -= 1\n",
    "        \n",
    "solve(5)\n",
    "\n"
   ]
  },
  {
   "cell_type": "markdown",
   "metadata": {},
   "source": [
    "17)\n",
    "1\n",
    "10\n",
    "101\n",
    "1010\n",
    "10101\n"
   ]
  },
  {
   "cell_type": "code",
   "execution_count": null,
   "metadata": {},
   "outputs": [],
   "source": [
    "def solve(n):\n",
    "    for i in range(1,n+1):\n",
    "        s = n\n",
    "        a = 3\n",
    "        for j in range(i):\n",
    "            print(a%2, end=\"\")\n",
    "            s -= 1\n",
    "            a += 1\n",
    "        print()\n",
    "            \n",
    "solve(5)\n",
    "\n"
   ]
  },
  {
   "cell_type": "markdown",
   "metadata": {},
   "source": [
    "18)\n",
    "12344321\n",
    "123**321\n",
    "12****21\n",
    "1******1\n"
   ]
  },
  {
   "cell_type": "code",
   "execution_count": null,
   "metadata": {},
   "outputs": [],
   "source": [
    "def solve(num):    \n",
    "    for i in range(num):\n",
    "        n = num\n",
    "        for j in range(1,n-i+1):\n",
    "            print(j, end=\"\")\n",
    "            \n",
    "        print(f\"*\"*2*i, end=\"\")\n",
    "        \n",
    "        for j in range(i, n):\n",
    "            print(n-j, end=\"\")\n",
    "        print()\n",
    "        \n",
    "\n",
    "        \n",
    "solve(4)\n"
   ]
  },
  {
   "cell_type": "markdown",
   "metadata": {},
   "source": [
    "\n",
    "19)\n",
    "5432*\n",
    "543*1\n",
    "54*21\n",
    "5*321\n",
    "*4321\n"
   ]
  },
  {
   "cell_type": "code",
   "execution_count": null,
   "metadata": {},
   "outputs": [],
   "source": [
    "def solve(num):    \n",
    "    for i in range(num):\n",
    "        n = num\n",
    "        for j in range(n-i-1):\n",
    "            print(n-j, end=\"\")\n",
    "            \n",
    "        print(\"*\", end=\"\")\n",
    "        \n",
    "        for j in range(i):\n",
    "            print(i-j, end=\"\")\n",
    "        print()\n",
    "        \n",
    "solve(5)\n",
    "\n"
   ]
  },
  {
   "cell_type": "markdown",
   "metadata": {},
   "source": [
    "20)\n",
    "        1\n",
    "      21\n",
    "    321\n",
    "  4321\n",
    "54321\n"
   ]
  },
  {
   "cell_type": "code",
   "execution_count": null,
   "metadata": {},
   "outputs": [],
   "source": [
    "def solve(num):    \n",
    "     for i in range(1,num+1):\n",
    "        print(\" \"*(num-i), end=\"\")\n",
    "        for j in range(1,i+1):\n",
    "            print(i-j+1, end=\"\")\n",
    "        print()\n",
    "        \n",
    "solve(5)\n"
   ]
  },
  {
   "cell_type": "markdown",
   "metadata": {},
   "source": [
    "21)\n",
    "* * * * * * * * * * * \n",
    "* * * *  * *  * * * *\n",
    "* * *   * * *   * * * \n",
    "* *    * * * *    * * \n",
    "*     * * * * *     * \n"
   ]
  },
  {
   "cell_type": "code",
   "execution_count": null,
   "metadata": {},
   "outputs": [],
   "source": [
    "for i in range(5): print(\"* \"*(5-i) + \" \"*i + \"* \"*(i+1) + \" \"*i + \"* \"*(5-i))\n"
   ]
  },
  {
   "cell_type": "markdown",
   "metadata": {},
   "source": [
    "22)\n",
    " \n",
    "*       * * * * * *       * \n",
    "* *      * * * * *      * * \n",
    "* * *     * * * *     * * * \n",
    "* * * *    * * *    * * * * \n",
    "* * * * *   * *   * * * * * \n",
    "* * * * * *  *  * * * * * * \n",
    "* * * * *   * *   * * * * * \n",
    "* * * *    * * *    * * * * \n",
    "* * *     * * * *     * * * \n",
    "* *      * * * * *      * * \n",
    "*       * * * * * *       * \n"
   ]
  },
  {
   "cell_type": "code",
   "execution_count": 3,
   "metadata": {},
   "outputs": [
    {
     "name": "stdout",
     "output_type": "stream",
     "text": [
      "*       * * * * * *       * \n",
      "* *      * * * * *      * * \n",
      "* * *     * * * *     * * * \n",
      "* * * *    * * *    * * * * \n",
      "* * * * *   * *   * * * * * \n",
      "* * * * * *  *  * * * * * * \n",
      "* * * * *   * *   * * * * * \n",
      "* * * *    * * *    * * * * \n",
      "* * *     * * * *     * * * \n",
      "* *      * * * * *      * * \n",
      "*       * * * * * *       * \n"
     ]
    }
   ],
   "source": [
    "def solve(n):\n",
    "    for i in range(1, n+1):\n",
    "        print(\"* \"*(i) + \" \"*(n-i+1) + \"* \"*(n-i+1) + \" \"*(n-i+1) + \"* \"*(i))\n",
    "    for i in range(2, n+1):\n",
    "        print(\"* \"*(n-i+1) + \" \"*(i) + \"* \"*(i) + \" \"*(i) + \"* \"*(n-i+1))\n",
    "solve(6)\n",
    "\n"
   ]
  }
 ],
 "metadata": {
  "kernelspec": {
   "display_name": "Python 3",
   "language": "python",
   "name": "python3"
  },
  "language_info": {
   "codemirror_mode": {
    "name": "ipython",
    "version": 3
   },
   "file_extension": ".py",
   "mimetype": "text/x-python",
   "name": "python",
   "nbconvert_exporter": "python",
   "pygments_lexer": "ipython3",
   "version": "3.12.0"
  }
 },
 "nbformat": 4,
 "nbformat_minor": 2
}
