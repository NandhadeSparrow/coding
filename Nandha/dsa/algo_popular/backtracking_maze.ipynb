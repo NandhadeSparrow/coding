{
 "cells": [
  {
   "cell_type": "code",
   "execution_count": 5,
   "metadata": {},
   "outputs": [
    {
     "name": "stdout",
     "output_type": "stream",
     "text": [
      "1 1 1 1 1\n",
      "0 1 1 0 1\n",
      "0 1 1 0 1\n",
      "0 1 1 0 1\n",
      "0 0 0 0 1\n"
     ]
    }
   ],
   "source": [
    "def is_safe(maze, x, y, solution):\n",
    "    \"\"\"Check if x, y is valid index for N*N maze.\"\"\"\n",
    "    N = len(maze)\n",
    "    return 0 <= x < N and 0 <= y < N and maze[x][y] == 0 and solution[x][y] == 0\n",
    "\n",
    "def solve_maze(maze):\n",
    "    N = len(maze)\n",
    "    solution = [[0] * N for _ in range(N)]\n",
    "\n",
    "    if not solve_maze_util(maze, 0, 0, solution):\n",
    "        print(\"No solution exists\")\n",
    "        return False\n",
    "\n",
    "    print_solution(solution)\n",
    "    return True\n",
    "\n",
    "def solve_maze_util(maze, x, y, solution):\n",
    "    N = len(maze)\n",
    "\n",
    "    # If (x, y) is the goal, return True\n",
    "    if x == N - 1 and y == N - 1:\n",
    "        solution[x][y] = 1\n",
    "        return True\n",
    "\n",
    "    if is_safe(maze, x, y, solution):\n",
    "        solution[x][y] = 1\n",
    "\n",
    "        # Move forward in x direction\n",
    "        if solve_maze_util(maze, x + 1, y, solution):\n",
    "            return True\n",
    "\n",
    "        # If moving in x direction doesn't give solution, move down in y direction\n",
    "        if solve_maze_util(maze, x, y + 1, solution):\n",
    "            return True\n",
    "        \n",
    "        # Move forward in x direction\n",
    "        if solve_maze_util(maze, x - 1, y, solution):\n",
    "            return True\n",
    "\n",
    "        # If moving in x direction doesn't give solution, move down in y direction\n",
    "        if solve_maze_util(maze, x, y - 1, solution):\n",
    "            return True\n",
    "\n",
    "        # If none of the above movements work, BACKTRACK: unmark x, y as part of solution path\n",
    "        solution[x][y] = 0\n",
    "        return False\n",
    "\n",
    "    return False\n",
    "\n",
    "def print_solution(solution):\n",
    "    for row in solution:\n",
    "        print(\" \".join(str(cell) for cell in row))\n",
    "\n",
    "# Driver code to test the above implementation\n",
    "if __name__ == \"__main__\":\n",
    "    maze = [\n",
    "        [0, 0, 0, 0, 0],\n",
    "        [1, 0, 0, 1, 0],\n",
    "        [0, 0, 0, 1, 0],\n",
    "        [0, 0, 0, 1, 0],\n",
    "        [1, 1, 1, 0, 0]\n",
    "    ]\n",
    "    solve_maze(maze)\n"
   ]
  }
 ],
 "metadata": {
  "kernelspec": {
   "display_name": "Python 3",
   "language": "python",
   "name": "python3"
  },
  "language_info": {
   "codemirror_mode": {
    "name": "ipython",
    "version": 3
   },
   "file_extension": ".py",
   "mimetype": "text/x-python",
   "name": "python",
   "nbconvert_exporter": "python",
   "pygments_lexer": "ipython3",
   "version": "3.12.0"
  }
 },
 "nbformat": 4,
 "nbformat_minor": 2
}
