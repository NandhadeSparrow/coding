{
 "cells": [
  {
   "cell_type": "code",
   "execution_count": null,
   "metadata": {},
   "outputs": [],
   "source": [
    "# Function to perform activity selection\n",
    "def activity_selection(activities):\n",
    "    # Sort the activities based on their finish times\n",
    "    activities.sort(key=lambda x: x[1])\n",
    "\n",
    "    # The first activity always gets selected\n",
    "    selected_activities = [activities[0]]\n",
    "    last_end_time = activities[0][1]\n",
    "\n",
    "    # Consider the rest of the activities\n",
    "    for i in range(1, len(activities)):\n",
    "        if activities[i][0] >= last_end_time:\n",
    "            selected_activities.append(activities[i])\n",
    "            last_end_time = activities[i][1]\n",
    "\n",
    "    return selected_activities\n",
    "\n",
    "# Driver code to test the above implementation\n",
    "if __name__ == \"__main__\":\n",
    "    activities = [(1, 3), (2, 4), (0, 6), (5, 7), (8, 9), (5, 9)]\n",
    "    print(\"Given activities are:\")\n",
    "    for start, end in activities:\n",
    "        print(f\"({start}, {end})\", end=\" \")\n",
    "    print()\n",
    "\n",
    "    selected_activities = activity_selection(activities)\n",
    "    print(\"\\nSelected activities are:\")\n",
    "    for start, end in selected_activities:\n",
    "        print(f\"({start}, {end})\", end=\" \")\n"
   ]
  }
 ],
 "metadata": {
  "language_info": {
   "name": "python"
  }
 },
 "nbformat": 4,
 "nbformat_minor": 2
}
