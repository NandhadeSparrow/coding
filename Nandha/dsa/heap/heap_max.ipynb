{
 "cells": [
  {
   "cell_type": "code",
   "execution_count": 9,
   "metadata": {},
   "outputs": [
    {
     "name": "stdout",
     "output_type": "stream",
     "text": [
      "Heapified list (as max heap): [8, 4, 7, 3, 1, 5, 2]\n",
      "After inserting 4, heap is now: [4]\n",
      "After inserting 1, heap is now: [4, 1]\n",
      "After inserting 7, heap is now: [7, 1, 4]\n",
      "After inserting 3, heap is now: [7, 3, 4, 1]\n",
      "After inserting 8, heap is now: [8, 7, 4, 1, 3]\n",
      "After inserting 5, heap is now: [8, 7, 5, 1, 3, 4]\n",
      "After inserting 2, heap is now: [8, 7, 5, 1, 3, 4, 2]\n",
      "Deleting 8, heap now: [7, 3, 5, 1, 2, 4]\n",
      "Deleting 7, heap now: [5, 3, 4, 1, 2]\n",
      "Deleting 5, heap now: [4, 3, 2, 1]\n",
      "Deleting 4, heap now: [3, 1, 2]\n",
      "Deleting 3, heap now: [2, 1]\n",
      "Deleting 2, heap now: [1]\n",
      "Deleting 1, heap now: []\n"
     ]
    }
   ],
   "source": [
    "# Max heap Implementation\n",
    "\n",
    "import heapq\n",
    "\n",
    "max_heap = []\n",
    "\n",
    "def insert_max_operation(heap,item):\n",
    "    heapq.heappush(heap, -item)\n",
    "    print(f\"After inserting {item}, heap is now: {[-x for x in heap]}\")\n",
    "\n",
    "def deletion_max_operation(heap):\n",
    "    largest = -heapq.heappop(heap)\n",
    "    print(f\"Deleting {largest}, heap now: {[-x for x in heap]}\")\n",
    "    return largest\n",
    "\n",
    "def heapify_max_operation(items):\n",
    "    heap = [-x for x in items]\n",
    "    heapq.heapify(heap)\n",
    "    print(f\"Heapified list (as max heap): {[-x for x in heap]}\")\n",
    "    return heap\n",
    "\n",
    "numbers = [4,1,7,3,8,5,2]\n",
    "max_heapify = heapify_max_operation(numbers)\n",
    "\n",
    "# Insert into Max heap\n",
    "insert_max_operation(max_heap,4)\n",
    "insert_max_operation(max_heap,1)\n",
    "insert_max_operation(max_heap,7)\n",
    "insert_max_operation(max_heap,3)\n",
    "insert_max_operation(max_heap,8)\n",
    "insert_max_operation(max_heap,5)\n",
    "insert_max_operation(max_heap,2)\n",
    "\n",
    "# Delete from Max heap\n",
    "\n",
    "while max_heap:\n",
    "    deletion_max_operation(max_heap)"
   ]
  },
  {
   "cell_type": "code",
   "execution_count": 8,
   "metadata": {},
   "outputs": [
    {
     "name": "stdout",
     "output_type": "stream",
     "text": [
      "Max element: 10\n",
      "Extracted max element: 10\n",
      "Max element after extraction: 7\n",
      "[7, 5, 2, 3]\n"
     ]
    }
   ],
   "source": [
    "import heapq\n",
    "\n",
    "class MaxHeap:\n",
    "    def __init__(self):\n",
    "        self.heap = []\n",
    "\n",
    "    def insert(self, element):\n",
    "        # Push the negative of the element to simulate max heap\n",
    "        heapq.heappush(self.heap, -element)\n",
    "\n",
    "    def extract_max(self):\n",
    "        # Pop the smallest (negative largest) and return its positive value\n",
    "        return -heapq.heappop(self.heap)\n",
    "\n",
    "    def peek(self):\n",
    "        # Return the positive value of the smallest (negative largest)\n",
    "        return -self.heap[0]\n",
    "\n",
    "    def size(self):\n",
    "        return len(self.heap)\n",
    "    \n",
    "    def print_heap(self):\n",
    "        # Print the positive values of the heap elements\n",
    "        print([-x for x in self.heap])\n",
    "\n",
    "# Example usage\n",
    "max_heap = MaxHeap()\n",
    "max_heap.insert(10)\n",
    "max_heap.insert(5)\n",
    "max_heap.insert(2)\n",
    "max_heap.insert(3)\n",
    "max_heap.insert(7)\n",
    "\n",
    "print(f\"Max element: {max_heap.peek()}\")  # Output: 10\n",
    "print(f\"Extracted max element: {max_heap.extract_max()}\")  # Output: 10\n",
    "print(f\"Max element after extraction: {max_heap.peek()}\")  # Output: 7\n",
    "max_heap.print_heap()\n"
   ]
  },
  {
   "cell_type": "code",
   "execution_count": null,
   "metadata": {},
   "outputs": [],
   "source": [
    "def heap_sort(arr):\n",
    "    max_heap = MaxHeap()\n",
    "    sorted_arr = []\n",
    "\n",
    "    # Insert all elements into the max heap\n",
    "    for element in arr:\n",
    "        max_heap.insert(element)\n",
    "\n",
    "    # Extract elements from the max heap to get them in sorted order\n",
    "    while max_heap.size() > 0:\n",
    "        sorted_arr.append(max_heap.extract_max())\n",
    "\n",
    "    # The sorted array will be in descending order, so reverse it for ascending order\n",
    "    sorted_arr.reverse()\n",
    "    return sorted_arr\n",
    "\n",
    "# Example usage\n",
    "arr = [10, 5, 3, 2, 7]\n",
    "sorted_arr = heap_sort(arr)\n",
    "print(f\"Sorted array: {sorted_arr}\")  # Output: [2, 3, 5, 7, 10]\n"
   ]
  }
 ],
 "metadata": {
  "kernelspec": {
   "display_name": "Python 3",
   "language": "python",
   "name": "python3"
  },
  "language_info": {
   "codemirror_mode": {
    "name": "ipython",
    "version": 3
   },
   "file_extension": ".py",
   "mimetype": "text/x-python",
   "name": "python",
   "nbconvert_exporter": "python",
   "pygments_lexer": "ipython3",
   "version": "3.12.0"
  }
 },
 "nbformat": 4,
 "nbformat_minor": 2
}
