{
 "cells": [
  {
   "cell_type": "code",
   "execution_count": 4,
   "metadata": {},
   "outputs": [
    {
     "name": "stdout",
     "output_type": "stream",
     "text": [
      "Heapified list : [1, 3, 2, 4, 8, 5, 7]\n",
      "After inserting 1, heap is now: [1]\n",
      "After inserting 7, heap is now: [1, 7]\n",
      "After inserting 3, heap is now: [1, 7, 3]\n",
      "After inserting 8, heap is now: [1, 7, 3, 8]\n",
      "After inserting 5, heap is now: [1, 5, 3, 8, 7]\n",
      "After inserting 2, heap is now: [1, 5, 2, 8, 7, 3]\n",
      "[1, 5, 2, 8, 7, 3]\n",
      "Deleted element is 1, heap is now : [2, 5, 3, 8, 7]\n",
      "[2, 5, 3, 8, 7]\n",
      "Deleted element is 2, heap is now : [3, 5, 7, 8]\n",
      "[3, 5, 7, 8]\n",
      "Deleted element is 3, heap is now : [5, 8, 7]\n",
      "[5, 8, 7]\n",
      "Deleted element is 5, heap is now : [7, 8]\n",
      "[7, 8]\n",
      "Deleted element is 7, heap is now : [8]\n",
      "[8]\n",
      "Deleted element is 8, heap is now : []\n"
     ]
    }
   ],
   "source": [
    "# Min heap Implementation\n",
    "\n",
    "import heapq\n",
    "\n",
    "min_heap = []\n",
    "\n",
    "def insert_operation(heap,item):\n",
    "    heapq.heappush(heap,item)\n",
    "    print(f\"After inserting {item}, heap is now: {heap}\")\n",
    "\n",
    "def delete_operation(heap):\n",
    "    smallest = heapq.heappop(heap)\n",
    "    print(f\"Deleted element is {smallest}, heap is now : {heap}\")\n",
    "    return smallest\n",
    "\n",
    "def heapify_operation(values_list):\n",
    "    heapq.heapify(values_list)\n",
    "    print(f\"Heapified list : {values_list}\")\n",
    "    return values_list\n",
    "\n",
    "values = [4,1,7,3,8,5,2]\n",
    "#heapified_nums = heapify_operation(values)\n",
    "\n",
    "# Insertion\n",
    "heapify_operation(values)\n",
    "insert_operation(min_heap,1)\n",
    "insert_operation(min_heap,7)\n",
    "insert_operation(min_heap,3)\n",
    "insert_operation(min_heap,8)\n",
    "insert_operation(min_heap,5)\n",
    "insert_operation(min_heap,2)\n",
    "\n",
    "# Deletion\n",
    "\n",
    "while min_heap:\n",
    "    print(min_heap)\n",
    "    delete_operation(min_heap)"
   ]
  },
  {
   "cell_type": "code",
   "execution_count": 3,
   "metadata": {},
   "outputs": [
    {
     "name": "stdout",
     "output_type": "stream",
     "text": [
      "Min element: 2\n",
      "Extracted min element: 2\n",
      "Min element after extraction: 3\n",
      "[3, 7, 5, 10]\n"
     ]
    }
   ],
   "source": [
    "class MinHeap:\n",
    "    def __init__(self):\n",
    "        self.heap = []\n",
    "\n",
    "    def _parent(self, index):\n",
    "        return (index - 1) // 2\n",
    "\n",
    "    def _left_child(self, index):\n",
    "        return 2 * index + 1\n",
    "\n",
    "    def _right_child(self, index):\n",
    "        return 2 * index + 2\n",
    "\n",
    "    def _heapify_up(self, index):\n",
    "        while index > 0 and self.heap[self._parent(index)] > self.heap[index]:\n",
    "            self.heap[self._parent(index)], self.heap[index] = self.heap[index], self.heap[self._parent(index)]\n",
    "            index = self._parent(index)\n",
    "\n",
    "    def _heapify_down(self, index):\n",
    "        smallest = index\n",
    "        left = self._left_child(index)\n",
    "        right = self._right_child(index)\n",
    "\n",
    "        if left < len(self.heap) and self.heap[left] < self.heap[smallest]:\n",
    "            smallest = left\n",
    "        if right < len(self.heap) and self.heap[right] < self.heap[smallest]:\n",
    "            smallest = right\n",
    "\n",
    "        if smallest != index:\n",
    "            self.heap[index], self.heap[smallest] = self.heap[smallest], self.heap[index]\n",
    "            self._heapify_down(smallest)\n",
    "\n",
    "    def insert(self, element):\n",
    "        self.heap.append(element)\n",
    "        self._heapify_up(len(self.heap) - 1)\n",
    "\n",
    "    def extract_min(self):\n",
    "        if len(self.heap) == 0:\n",
    "            raise IndexError(\"Extract from an empty heap\")\n",
    "        min_element = self.heap[0]\n",
    "        self.heap[0] = self.heap.pop()\n",
    "        self._heapify_down(0)\n",
    "        return min_element\n",
    "\n",
    "    def peek(self):\n",
    "        if len(self.heap) == 0:\n",
    "            raise IndexError(\"Peek from an empty heap\")\n",
    "        return self.heap[0]\n",
    "\n",
    "    def size(self):\n",
    "        return len(self.heap)\n",
    "    def print(self):\n",
    "        print(self.heap)\n",
    "\n",
    "# Example usage\n",
    "min_heap = MinHeap()\n",
    "min_heap.insert(10)\n",
    "min_heap.insert(5)\n",
    "min_heap.insert(3)\n",
    "min_heap.insert(2)\n",
    "min_heap.insert(7)\n",
    "\n",
    "print(f\"Min element: {min_heap.peek()}\")  # Output: 2\n",
    "print(f\"Extracted min element: {min_heap.extract_min()}\")  # Output: 2\n",
    "print(f\"Min element after extraction: {min_heap.peek()}\")  # Output: 3\n",
    "min_heap.print()\n"
   ]
  },
  {
   "cell_type": "code",
   "execution_count": 1,
   "metadata": {},
   "outputs": [
    {
     "data": {
      "text/plain": [
       "2"
      ]
     },
     "execution_count": 1,
     "metadata": {},
     "output_type": "execute_result"
    }
   ],
   "source": [
    "[1,2].pop()"
   ]
  },
  {
   "cell_type": "code",
   "execution_count": 10,
   "metadata": {},
   "outputs": [
    {
     "name": "stdout",
     "output_type": "stream",
     "text": [
      "[5, 4, 2, 1, 3]\n"
     ]
    }
   ],
   "source": [
    "def heapify(arr, n, i):\n",
    "    largest = i  # Initialize largest as root\n",
    "    left = 2 * i + 1  # left = 2*i + 1\n",
    "    right = 2 * i + 2  # right = 2*i + 2\n",
    "\n",
    "    # See if left child of root exists and is greater than root\n",
    "    if left < n and arr[i] < arr[left]:\n",
    "        largest = left\n",
    "\n",
    "    # See if right child of root exists and is greater than root\n",
    "    if right < n and arr[largest] < arr[right]:\n",
    "        largest = right\n",
    "\n",
    "    # Change root, if needed\n",
    "    if largest != i:\n",
    "        arr[i], arr[largest] = arr[largest], arr[i]  # swap\n",
    "\n",
    "        # Heapify the root.\n",
    "        heapify(arr, n, largest)\n",
    "    \n",
    "    \n",
    "\n",
    "def heap_sort(arr):\n",
    "    n = len(arr)\n",
    "\n",
    "    # Build a max heap.\n",
    "    for i in range(n // 2 - 1, -1, -1):\n",
    "        heapify(arr, n, i)\n",
    "\n",
    "    # One by one extract\n",
    "arr= [2,3,5,1,4]\n",
    "heapify(arr, 3, 3)\n",
    "heap_sort(arr)\n",
    "print(arr)"
   ]
  },
  {
   "cell_type": "code",
   "execution_count": null,
   "metadata": {},
   "outputs": [],
   "source": [
    "import heapq\n",
    "\n",
    "class MinHeap:\n",
    "    def __init__(self):\n",
    "        self.heap = []\n",
    "\n",
    "    def insert(self, element):\n",
    "        heapq.heappush(self.heap, element)\n",
    "\n",
    "    def extract_min(self):\n",
    "        return heapq.heappop(self.heap)\n",
    "\n",
    "    def peek(self):\n",
    "        return self.heap[0]\n",
    "\n",
    "    def size(self):\n",
    "        return len(self.heap)\n",
    "    \n",
    "    def print_heap(self):\n",
    "        print(self.heap)\n",
    "\n",
    "# Example usage\n",
    "min_heap = MinHeap()\n",
    "min_heap.insert(10)\n",
    "min_heap.insert(5)\n",
    "min_heap.insert(3)\n",
    "min_heap.insert(2)\n",
    "min_heap.insert(7)\n",
    "\n",
    "print(f\"Min element: {min_heap.peek()}\")  # Output: 2\n",
    "print(f\"Extracted min element: {min_heap.extract_min()}\")  # Output: 2\n",
    "print(f\"Min element after extraction: {min_heap.peek()}\")  # Output: 3\n"
   ]
  },
  {
   "cell_type": "code",
   "execution_count": null,
   "metadata": {},
   "outputs": [],
   "source": [
    "def heap_sort(arr):\n",
    "    min_heap = MinHeap()\n",
    "    sorted_arr = []\n",
    "\n",
    "    # Insert all elements into the min heap\n",
    "    for element in arr:\n",
    "        min_heap.insert(element)\n",
    "\n",
    "    # Extract elements from the min heap to get them in sorted order\n",
    "    while min_heap.size() > 0:\n",
    "        sorted_arr.append(min_heap.extract_min())\n",
    "\n",
    "    return sorted_arr\n",
    "\n",
    "# Example usage\n",
    "arr = [10, 5, 3, 2, 7]\n",
    "sorted_arr = heap_sort(arr)\n",
    "print(f\"Sorted array: {sorted_arr}\")  # Output: [2, 3, 5, 7, 10]\n"
   ]
  }
 ],
 "metadata": {
  "kernelspec": {
   "display_name": "Python 3",
   "language": "python",
   "name": "python3"
  },
  "language_info": {
   "codemirror_mode": {
    "name": "ipython",
    "version": 3
   },
   "file_extension": ".py",
   "mimetype": "text/x-python",
   "name": "python",
   "nbconvert_exporter": "python",
   "pygments_lexer": "ipython3",
   "version": "3.12.0"
  }
 },
 "nbformat": 4,
 "nbformat_minor": 2
}
