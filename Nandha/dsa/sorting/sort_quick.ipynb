{
 "cells": [
  {
   "cell_type": "code",
   "execution_count": 1,
   "metadata": {},
   "outputs": [
    {
     "name": "stdout",
     "output_type": "stream",
     "text": [
      "\n",
      " Initial array :  [38, 27, 43, 3, 9]\n",
      "low 0 high 4\n",
      "low 2 high 4\n",
      "low 3 high 4\n",
      "\n",
      " Sorted array :  [3, 9, 27, 38, 43]\n"
     ]
    }
   ],
   "source": [
    "# Quick Sort Implementation\n",
    "\n",
    "def quick_sorting_algo(arr):\n",
    "    def partitioning(low,high):\n",
    "        # Choosing last element as Pivot value\n",
    "        pivot_value = arr[high]\n",
    "        # Index of the smaller element\n",
    "        i = low - 1\n",
    "\n",
    "        for j in range(low,high):\n",
    "            if arr[j] <= pivot_value:\n",
    "                i = i+1\n",
    "                arr[i], arr[j] = arr[j],arr[i]\n",
    "        arr[i+1],arr[high] = arr[high], arr[i+1]\n",
    "        \n",
    "        return i+1\n",
    "    \n",
    "    def quick_sort_recursion(low,high):\n",
    "        if low < high:\n",
    "            print(\"low\",low,\"high\",high)\n",
    "            pivot_value = partitioning(low,high)\n",
    "            quick_sort_recursion(low,pivot_value-1)\n",
    "            quick_sort_recursion(pivot_value+1,high)\n",
    "    \n",
    "    quick_sort_recursion(0,len(arr)-1)\n",
    "    return arr\n",
    "\n",
    "arr = [38,27,43,3,9]\n",
    "print(\"\\n Initial array : \", arr)\n",
    "quick_sorting_algo(arr)\n",
    "print(\"\\n Sorted array : \", arr)"
   ]
  },
  {
   "cell_type": "code",
   "execution_count": 2,
   "metadata": {},
   "outputs": [
    {
     "name": "stdout",
     "output_type": "stream",
     "text": [
      "Sorted array: [11, 12, 22, 25, 34, 64, 90]\n"
     ]
    }
   ],
   "source": [
    "def quick_sort(arr):\n",
    "    if len(arr) <= 1:\n",
    "        return arr\n",
    "    pivot = arr[len(arr) // 2]  # Choosing middle element as pivot\n",
    "    left = [x for x in arr if x < pivot]\n",
    "    middle = [x for x in arr if x == pivot]\n",
    "    right = [x for x in arr if x > pivot]\n",
    "    return quick_sort(left) + middle + quick_sort(right)\n",
    "\n",
    "# Example usage\n",
    "arr = [64, 34, 25, 12, 22, 11, 90]\n",
    "sorted_arr = quick_sort(arr)\n",
    "print(\"Sorted array:\", sorted_arr)\n"
   ]
  },
  {
   "cell_type": "code",
   "execution_count": 3,
   "metadata": {},
   "outputs": [
    {
     "name": "stdout",
     "output_type": "stream",
     "text": [
      "[1, 2, 3, 4]\n"
     ]
    }
   ],
   "source": [
    "def qs(arr):\n",
    "    if len(arr) <= 1:\n",
    "        return arr\n",
    "    p = arr[len(arr) // 2]\n",
    "    l = [x for x in arr if x < p]\n",
    "    m = [x for x in arr if x == p]\n",
    "    r = [x for x in arr if x > p]\n",
    "    return qs(l) + m + qs(r)\n",
    "print(qs([2,4,3,1]))"
   ]
  }
 ],
 "metadata": {
  "kernelspec": {
   "display_name": "Python 3",
   "language": "python",
   "name": "python3"
  },
  "language_info": {
   "codemirror_mode": {
    "name": "ipython",
    "version": 3
   },
   "file_extension": ".py",
   "mimetype": "text/x-python",
   "name": "python",
   "nbconvert_exporter": "python",
   "pygments_lexer": "ipython3",
   "version": "3.12.0"
  }
 },
 "nbformat": 4,
 "nbformat_minor": 2
}
