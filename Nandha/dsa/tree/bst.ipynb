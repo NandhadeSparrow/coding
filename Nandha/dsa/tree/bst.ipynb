{
 "cells": [
  {
   "cell_type": "code",
   "execution_count": 3,
   "metadata": {},
   "outputs": [
    {
     "name": "stdout",
     "output_type": "stream",
     "text": [
      "Inorder : \n",
      "20 30 40 50 60 70 80 \n",
      "Preorder : \n",
      "50 30 20 40 70 60 80 \n",
      "Postorder : \n",
      "20 40 30 60 80 70 50 "
     ]
    }
   ],
   "source": [
    "# Implementation of Binary Search Tree\n",
    "\n",
    "class Node:\n",
    "    def __init__(self,key):\n",
    "        self.left = None\n",
    "        self.right = None\n",
    "        self.val = key\n",
    "\n",
    "def insertion(root,key):\n",
    "    if root is None:\n",
    "        return Node(key)\n",
    "    else:\n",
    "        if root.val == key:\n",
    "            return root\n",
    "        elif root.val < key:\n",
    "            root.right = insertion(root.right, key)\n",
    "        else:\n",
    "            root.left = insertion(root.left, key)\n",
    "    return root\n",
    "\n",
    "def inorder(root):\n",
    "    if root:\n",
    "        inorder(root.left)\n",
    "        print(root.val, end=\" \")\n",
    "        inorder(root.right)\n",
    "\n",
    "def preorder(root):\n",
    "    if root:\n",
    "        print(root.val, end=\" \")\n",
    "        preorder(root.left)\n",
    "        preorder(root.right)\n",
    "\n",
    "def postorder(root):\n",
    "    if root:\n",
    "        postorder(root.left)\n",
    "        postorder(root.right)\n",
    "        print(root.val, end=\" \")\n",
    "\n",
    "\n",
    "    \n",
    "r = Node(50)\n",
    "r = insertion(r,30)\n",
    "r = insertion(r,20)\n",
    "r = insertion(r,40)\n",
    "r = insertion(r,70)\n",
    "r = insertion(r,60)\n",
    "r = insertion(r,80)\n",
    "\n",
    "print(\"Inorder : \")\n",
    "inorder(r)\n",
    "print(\"\\nPreorder : \")\n",
    "preorder(r)\n",
    "print(\"\\nPostorder : \")\n",
    "postorder(r)"
   ]
  }
 ],
 "metadata": {
  "kernelspec": {
   "display_name": "Python 3",
   "language": "python",
   "name": "python3"
  },
  "language_info": {
   "codemirror_mode": {
    "name": "ipython",
    "version": 3
   },
   "file_extension": ".py",
   "mimetype": "text/x-python",
   "name": "python",
   "nbconvert_exporter": "python",
   "pygments_lexer": "ipython3",
   "version": "3.12.0"
  }
 },
 "nbformat": 4,
 "nbformat_minor": 2
}
