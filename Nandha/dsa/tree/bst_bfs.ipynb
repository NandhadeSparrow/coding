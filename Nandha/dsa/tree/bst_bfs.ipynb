{
 "cells": [
  {
   "cell_type": "code",
   "execution_count": 2,
   "metadata": {},
   "outputs": [
    {
     "name": "stdout",
     "output_type": "stream",
     "text": [
      "A\n",
      "2\n",
      "C\n",
      "D\n",
      "5\n",
      "6\n"
     ]
    }
   ],
   "source": [
    "# Breadth First Search Algorithm Implementation\n",
    "\n",
    "from collections import deque\n",
    "\n",
    "def breadth_first_search_algo(root):\n",
    "    if not root:\n",
    "        return\n",
    "    queue = deque([root])\n",
    "\n",
    "    while queue:\n",
    "        node = queue.popleft()\n",
    "        print(node.value)\n",
    "        if node.left:\n",
    "            queue.append(node.left)\n",
    "        if node.right:\n",
    "            queue.append(node.right)\n",
    "\n",
    "class TreeNode:\n",
    "    def __init__(self, value=0, left=None, right=None):\n",
    "        self.value = value\n",
    "        self.left = left\n",
    "        self.right = right\n",
    "\n",
    "root = TreeNode('A')\n",
    "root.left = TreeNode(2)\n",
    "root.right = TreeNode('C')\n",
    "root.left.left = TreeNode('D')\n",
    "root.left.right = TreeNode(5)\n",
    "root.right.right = TreeNode(6)\n",
    "\n",
    "# BFS function call\n",
    "breadth_first_search_algo(root)"
   ]
  },
  {
   "cell_type": "code",
   "execution_count": 1,
   "metadata": {},
   "outputs": [
    {
     "name": "stdout",
     "output_type": "stream",
     "text": [
      "BFS traversal:\n",
      "1 2 3 4 5 6 7 "
     ]
    }
   ],
   "source": [
    "from collections import deque\n",
    "\n",
    "class TreeNode:\n",
    "    def __init__(self, key):\n",
    "        self.val = key\n",
    "        self.left = None\n",
    "        self.right = None\n",
    "\n",
    "def bfs_binary_tree(root):\n",
    "    if root is None:\n",
    "        return\n",
    "    \n",
    "    queue = deque([root])\n",
    "    \n",
    "    while queue:\n",
    "        node = queue.popleft()\n",
    "        print(node.val, end=\" \")\n",
    "        \n",
    "        if node.left:\n",
    "            queue.append(node.left)\n",
    "        if node.right:\n",
    "            queue.append(node.right)\n",
    "\n",
    "# Example usage\n",
    "root = TreeNode(1)\n",
    "root.left = TreeNode(2)\n",
    "root.right = TreeNode(3)\n",
    "root.left.left = TreeNode(4)\n",
    "root.left.right = TreeNode(5)\n",
    "root.right.left = TreeNode(6)\n",
    "root.right.right = TreeNode(7)\n",
    "\n",
    "print(\"BFS traversal:\")\n",
    "bfs_binary_tree(root)\n"
   ]
  },
  {
   "cell_type": "code",
   "execution_count": 3,
   "metadata": {},
   "outputs": [
    {
     "name": "stdout",
     "output_type": "stream",
     "text": [
      "BFS traversal:\n",
      "1 2 3 4 5 6 7 "
     ]
    }
   ],
   "source": [
    "class TreeNode:\n",
    "    def __init__(self, key):\n",
    "        self.val = key\n",
    "        self.left = None\n",
    "        self.right = None\n",
    "\n",
    "def bfs_binary_tree(root):\n",
    "    if root is None:\n",
    "        return\n",
    "    \n",
    "    # Use a list as a queue\n",
    "    queue = [root]\n",
    "    front = 0  # Pointer to the front of the queue\n",
    "\n",
    "    while front < len(queue):\n",
    "        node = queue[front]\n",
    "        front += 1  # Dequeue operation\n",
    "\n",
    "        print(node.val, end=\" \")\n",
    "\n",
    "        # Enqueue left child\n",
    "        if node.left:\n",
    "            queue.append(node.left)\n",
    "        \n",
    "        # Enqueue right child\n",
    "        if node.right:\n",
    "            queue.append(node.right)\n",
    "\n",
    "# Example usage\n",
    "root = TreeNode(1)\n",
    "root.left = TreeNode(2)\n",
    "root.right = TreeNode(3)\n",
    "root.left.left = TreeNode(4)\n",
    "root.left.right = TreeNode(5)\n",
    "root.right.left = TreeNode(6)\n",
    "root.right.right = TreeNode(7)\n",
    "\n",
    "print(\"BFS traversal:\")\n",
    "bfs_binary_tree(root)\n"
   ]
  }
 ],
 "metadata": {
  "kernelspec": {
   "display_name": "Python 3",
   "language": "python",
   "name": "python3"
  },
  "language_info": {
   "codemirror_mode": {
    "name": "ipython",
    "version": 3
   },
   "file_extension": ".py",
   "mimetype": "text/x-python",
   "name": "python",
   "nbconvert_exporter": "python",
   "pygments_lexer": "ipython3",
   "version": "3.12.0"
  }
 },
 "nbformat": 4,
 "nbformat_minor": 2
}
