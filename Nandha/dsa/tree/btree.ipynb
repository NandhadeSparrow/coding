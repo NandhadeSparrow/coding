{
 "cells": [
  {
   "cell_type": "code",
   "execution_count": 2,
   "metadata": {},
   "outputs": [
    {
     "name": "stdout",
     "output_type": "stream",
     "text": [
      "Binary tree from list:  \n",
      "        _____1__\n",
      "       /        \\\n",
      "    __2___       3\n",
      "   /      \\     / \\\n",
      "  4       _5   6   7\n",
      " / \\     /\n",
      "8   9   10\n",
      "\n",
      "\n",
      " List from binary tree (values):  [1, 2, 3, 4, 5, 6, 7, 8, 9, 10]\n",
      "Pre order :  [Node(1), Node(2), Node(4), Node(8), Node(9), Node(5), Node(10), Node(3), Node(6), Node(7)]\n",
      "In order :  [Node(8), Node(4), Node(9), Node(2), Node(10), Node(5), Node(1), Node(6), Node(3), Node(7)]\n",
      "Post order :  [Node(8), Node(9), Node(4), Node(10), Node(5), Node(2), Node(6), Node(7), Node(3), Node(1)]\n"
     ]
    }
   ],
   "source": [
    "# Implementation of Binary Tree\n",
    "\n",
    "from binarytree import build\n",
    "\n",
    "nodes = [1,2,3,4,5,6,7,8,9,10]\n",
    "\n",
    "# Building the binary tree\n",
    "binary_tree = build(nodes)\n",
    "\n",
    "print(\"Binary tree from list: \",binary_tree)\n",
    "\n",
    "print(\"\\n List from binary tree (values): \", binary_tree.values)\n",
    "\n",
    "print(\"Pre order : \", binary_tree.preorder)\n",
    "print(\"In order : \", binary_tree.inorder)\n",
    "print(\"Post order : \", binary_tree.postorder)"
   ]
  },
  {
   "cell_type": "code",
   "execution_count": null,
   "metadata": {},
   "outputs": [],
   "source": [
    "class TreeNode:\n",
    "    def __init__(self, key):\n",
    "        self.val = key\n",
    "        self.left = None\n",
    "        self.right = None\n",
    "\n",
    "def insert(root, key):\n",
    "    if root is None:\n",
    "        return TreeNode(key)\n",
    "    else:\n",
    "        if key < root.val:\n",
    "            root.left = insert(root.left, key)\n",
    "        else:\n",
    "            root.right = insert(root.right, key)\n",
    "    return root\n",
    "\n",
    "# Example usage\n",
    "root = None\n",
    "keys = [50, 30, 20, 40, 70, 60, 80]\n",
    "\n",
    "for key in keys:\n",
    "    root = insert(root, key)\n",
    "\n",
    "# Print the inorder traversal of the binary tree\n",
    "def inorder_traversal(node):\n",
    "    if node:\n",
    "        inorder_traversal(node.left)\n",
    "        print(node.val, end=\" \")\n",
    "        inorder_traversal(node.right)\n",
    "\n",
    "print(\"Inorder traversal:\")\n",
    "inorder_traversal(root)\n"
   ]
  },
  {
   "cell_type": "code",
   "execution_count": 3,
   "metadata": {},
   "outputs": [
    {
     "name": "stdout",
     "output_type": "stream",
     "text": [
      "Preorder traversal:\n",
      "1 2 4 5 3 6 7 \n",
      "Inorder traversal:\n",
      "4 2 5 1 6 3 7 \n",
      "Postorder traversal:\n",
      "4 5 2 6 7 3 1 "
     ]
    }
   ],
   "source": [
    "class TreeNode:\n",
    "    def __init__(self, key):\n",
    "        self.val = key\n",
    "        self.left = None\n",
    "        self.right = None\n",
    "\n",
    "# Preorder traversal: Root, Left, Right\n",
    "def preorder_traversal(node):\n",
    "    if node:\n",
    "        print(node.val, end=\" \")\n",
    "        preorder_traversal(node.left)\n",
    "        preorder_traversal(node.right)\n",
    "\n",
    "# Inorder traversal: Left, Root, Right\n",
    "def inorder_traversal(node):\n",
    "    if node:\n",
    "        inorder_traversal(node.left)\n",
    "        print(node.val, end=\" \")\n",
    "        inorder_traversal(node.right)\n",
    "\n",
    "# Postorder traversal: Left, Right, Root\n",
    "def postorder_traversal(node):\n",
    "    if node:\n",
    "        postorder_traversal(node.left)\n",
    "        postorder_traversal(node.right)\n",
    "        print(node.val, end=\" \")\n",
    "\n",
    "# Example usage\n",
    "root = TreeNode(1)\n",
    "root.left = TreeNode(2)\n",
    "root.right = TreeNode(3)\n",
    "root.left.left = TreeNode(4)\n",
    "root.left.right = TreeNode(5)\n",
    "root.right.left = TreeNode(6)\n",
    "root.right.right = TreeNode(7)\n",
    "\n",
    "print(\"Preorder traversal:\")\n",
    "preorder_traversal(root)\n",
    "print(\"\\nInorder traversal:\")\n",
    "inorder_traversal(root)\n",
    "print(\"\\nPostorder traversal:\")\n",
    "postorder_traversal(root)\n"
   ]
  }
 ],
 "metadata": {
  "kernelspec": {
   "display_name": "Python 3",
   "language": "python",
   "name": "python3"
  },
  "language_info": {
   "codemirror_mode": {
    "name": "ipython",
    "version": 3
   },
   "file_extension": ".py",
   "mimetype": "text/x-python",
   "name": "python",
   "nbconvert_exporter": "python",
   "pygments_lexer": "ipython3",
   "version": "3.12.0"
  }
 },
 "nbformat": 4,
 "nbformat_minor": 2
}
