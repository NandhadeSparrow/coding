{
 "cells": [
  {
   "cell_type": "code",
   "execution_count": null,
   "metadata": {},
   "outputs": [],
   "source": [
    "class TrieNode:\n",
    "    def __init__(self):\n",
    "        self.children = {}\n",
    "        self.is_end_of_word = False\n",
    "\n",
    "class Trie:\n",
    "    def __init__(self):\n",
    "        self.root = TrieNode()\n",
    "\n",
    "    def insert(self, word):\n",
    "        node = self.root\n",
    "        for char in word:\n",
    "            if char not in node.children:\n",
    "                node.children[char] = TrieNode()\n",
    "            node = node.children[char]\n",
    "        node.is_end_of_word = True\n",
    "\n",
    "    def search(self, word):\n",
    "        node = self.root\n",
    "        for char in word:\n",
    "            if char not in node.children:\n",
    "                return False\n",
    "            node = node.children[char]\n",
    "        return node.is_end_of_word\n",
    "\n",
    "    def starts_with(self, prefix):\n",
    "        node = self.root\n",
    "        for char in prefix:\n",
    "            if char not in node.children:\n",
    "                return False\n",
    "            node = node.children[char]\n",
    "        return True\n",
    "\n",
    "# Driver code to test the above implementation\n",
    "if __name__ == \"__main__\":\n",
    "    trie = Trie()\n",
    "    words = [\"apple\", \"app\", \"banana\", \"bat\", \"bath\", \"batman\"]\n",
    "    for word in words:\n",
    "        trie.insert(word)\n",
    "\n",
    "    print(trie.search(\"apple\"))    # True\n",
    "    print(trie.search(\"app\"))      # True\n",
    "    print(trie.search(\"appl\"))     # False\n",
    "    print(trie.starts_with(\"bat\")) # True\n",
    "    print(trie.starts_with(\"batm\"))# True\n",
    "    print(trie.starts_with(\"cat\")) # False\n"
   ]
  }
 ],
 "metadata": {
  "language_info": {
   "name": "python"
  }
 },
 "nbformat": 4,
 "nbformat_minor": 2
}
