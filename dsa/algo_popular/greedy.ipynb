{
 "cells": [
  {
   "cell_type": "code",
   "execution_count": 1,
   "metadata": {},
   "outputs": [
    {
     "name": "stdout",
     "output_type": "stream",
     "text": [
      "Given activities are:\n",
      "(1, 3) (2, 4) (0, 6) (5, 7) (8, 9) (5, 9) \n",
      "\n",
      "Selected activities are:\n",
      "(1, 3) (5, 7) (8, 9) "
     ]
    }
   ],
   "source": [
    "# Function to perform activity selection\n",
    "def activity_selection(activities):\n",
    "    # Sort the activities based on their finish times\n",
    "    activities.sort(key=lambda x: x[1])\n",
    "\n",
    "    # The first activity always gets selected\n",
    "    selected_activities = [activities[0]]\n",
    "    last_end_time = activities[0][1]\n",
    "\n",
    "    # Consider the rest of the activities\n",
    "    for i in range(1, len(activities)):\n",
    "        if activities[i][0] >= last_end_time:\n",
    "            selected_activities.append(activities[i])\n",
    "            last_end_time = activities[i][1]\n",
    "\n",
    "    return selected_activities\n",
    "\n",
    "# Driver code to test the above implementation\n",
    "if __name__ == \"__main__\":\n",
    "    activities = [(1, 3), (2, 4), (0, 6), (5, 7), (8, 9), (5, 9)]\n",
    "    print(\"Given activities are:\")\n",
    "    for start, end in activities:\n",
    "        print(f\"({start}, {end})\", end=\" \")\n",
    "    print()\n",
    "\n",
    "    selected_activities = activity_selection(activities)\n",
    "    print(\"\\nSelected activities are:\")\n",
    "    for start, end in selected_activities:\n",
    "        print(f\"({start}, {end})\", end=\" \")\n"
   ]
  }
 ],
 "metadata": {
  "kernelspec": {
   "display_name": "Python 3",
   "language": "python",
   "name": "python3"
  },
  "language_info": {
   "codemirror_mode": {
    "name": "ipython",
    "version": 3
   },
   "file_extension": ".py",
   "mimetype": "text/x-python",
   "name": "python",
   "nbconvert_exporter": "python",
   "pygments_lexer": "ipython3",
   "version": "3.12.0"
  }
 },
 "nbformat": 4,
 "nbformat_minor": 2
}
