{
 "cells": [
  {
   "cell_type": "code",
   "execution_count": null,
   "metadata": {},
   "outputs": [],
   "source": [
    "# Directed Graph\n",
    "\n",
    "import networkx as nx\n",
    "import matplotlib.pylab as plt\n",
    "\n",
    "# Create a directed graph\n",
    "\n",
    "DG = nx.DiGraph()\n",
    "\n",
    "# Add nodes\n",
    "nodes = [1,2,3,4,5,6,7,8]\n",
    "DG.add_nodes_from(nodes)\n",
    "\n",
    "# Add Edges\n",
    "\n",
    "edges = [(1,2),(1,3),(2,4),(3,5),(4,6),(5,6),(5,7),(6,8),(7,8)]\n",
    "DG.add_edges_from(edges)\n",
    "\n",
    "# Draw the directed graph\n",
    "pos = nx.spring_layout(DG)\n",
    "\n",
    "#nodes for visualization\n",
    "nx.draw_networkx_nodes(DG, pos, node_size=700, node_color='green')\n",
    "\n",
    "# edges for visualization\n",
    "nx.draw_networkx_edges(DG, pos, edgelist=edges, arrowstyle='-|>', arrowsize=20, edge_color='red')\n",
    "\n",
    "# labels\n",
    "nx.draw_networkx_labels(DG, pos, font_size=20, font_family='sans-serif')\n",
    "\n",
    "plt.title(\"Directed Graph Visualization \")\n",
    "plt.axis('off')\n",
    "plt.show()\n",
    "\n"
   ]
  }
 ],
 "metadata": {
  "language_info": {
   "name": "python"
  }
 },
 "nbformat": 4,
 "nbformat_minor": 2
}
