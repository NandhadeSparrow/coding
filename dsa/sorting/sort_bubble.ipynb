{
 "cells": [
  {
   "cell_type": "code",
   "execution_count": null,
   "metadata": {},
   "outputs": [],
   "source": [
    "# Bubble sort algorithm Implementation\n",
    "\n",
    "def bubble_sorting(arr):\n",
    "    n = len(arr)\n",
    "    for i in range(n):\n",
    "        print(\"Iteration Number : \",i)\n",
    "        for j in range(0, n-i-1):\n",
    "            if arr[j] > arr[j+1]:\n",
    "                arr[j],arr[j+1] = arr[j+1], arr[j]\n",
    "\n",
    "arr = [64,34,25,12,22,11,90]\n",
    "print(\"Before sorting : \",arr)\n",
    "bubble_sorting(arr)\n",
    "print(\"After sorting (Sorted array) : \",arr)\n"
   ]
  },
  {
   "cell_type": "code",
   "execution_count": null,
   "metadata": {},
   "outputs": [],
   "source": [
    "# Bubble sort algorithm Implementation\n",
    "\n",
    "def bubble_sorting(arr):\n",
    "    n = len(arr)\n",
    "    for i in range(n):\n",
    "        print(\"\\nIteration Number : \",i)\n",
    "        for j in range(0, n-i-1):\n",
    "            print(\"Inner iteration Number :\", j)\n",
    "            if arr[j] > arr[j+1]:\n",
    "                arr[j],arr[j+1] = arr[j+1], arr[j]\n",
    "            print(arr)\n",
    "        print(\"End of inner iteration : \",arr)\n",
    "\n",
    "arr = [64,34,25,12,22,11,90]\n",
    "print(\"Before sorting : \",arr)\n",
    "bubble_sorting(arr)\n",
    "print(\"After sorting (Sorted array) : \",arr)"
   ]
  },
  {
   "cell_type": "markdown",
   "metadata": {},
   "source": [
    "34 25 12 22 11 64 90\n",
    "2 1 2 1 3 6 9\n",
    "1 2 1 2 3 6 9\n",
    "1 1 2 2 3 6 9\n"
   ]
  }
 ],
 "metadata": {
  "language_info": {
   "name": "python"
  }
 },
 "nbformat": 4,
 "nbformat_minor": 2
}
