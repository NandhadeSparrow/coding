{
 "cells": [
  {
   "cell_type": "code",
   "execution_count": 1,
   "metadata": {},
   "outputs": [
    {
     "name": "stdout",
     "output_type": "stream",
     "text": [
      "Number of elements in the stack:  0\n",
      "Full value before insertion  False\n",
      "['1', '2']\n",
      "Number of elements in the stack after push operation:  2\n",
      "Full value after inserting 3 elements False\n",
      "Stack size:  2\n",
      "Empty value of stack before removing all elements:  False\n",
      "First pop element:  2\n",
      "Second pop element:  1\n"
     ]
    }
   ],
   "source": [
    "# Stack data structure Implementation in Python\n",
    "\n",
    "from queue import LifoQueue\n",
    "\n",
    "#Initialize stack\n",
    "st = LifoQueue(maxsize=3)\n",
    "\n",
    "print(\"Number of elements in the stack: \",st.qsize())\n",
    "print(\"Full value before insertion \", st.full())\n",
    "for i in range(1,3):\n",
    "        value = input(\"Enter value to insert\")\n",
    "        st.put(value)\n",
    "\n",
    "#Printing stack elements\n",
    "print(list(st.queue))\n",
    "print(\"Number of elements in the stack after push operation: \",st.qsize())\n",
    "# Push (Insert operation in stack)\n",
    "#st.put(\"Lilly\")\n",
    "#st.put(100)\n",
    "#st.put('A')\n",
    "\n",
    "#To check whether our stack is full or not\n",
    "print(\"Full value after inserting 3 elements\", st.full())\n",
    "\n",
    "#To check stack size\n",
    "print(\"Stack size: \",st.qsize())\n",
    "\n",
    "print(\"Empty value of stack before removing all elements: \", st.empty())\n",
    "\n",
    "#Deletion in stack (pop operation in stack)\n",
    "print(\"First pop element: \",st.get())\n",
    "print(\"Second pop element: \",st.get())\n",
    "print(\"Third pop element: \",st.get())\n",
    "\n",
    "#To check whether our stack is empty or not\n",
    "print(\"Empty value of stack after removing all elements: \", st.empty())"
   ]
  },
  {
   "cell_type": "code",
   "execution_count": null,
   "metadata": {},
   "outputs": [],
   "source": [
    "class Stack:\n",
    "    def __init__(self):\n",
    "        self.items = []\n",
    "\n",
    "    def push(self, item):\n",
    "        self.items.append(item)\n",
    "\n",
    "    def pop(self):\n",
    "        if not self.is_empty():\n",
    "            return self.items.pop()\n",
    "        else:\n",
    "            raise IndexError(\"Pop from an empty stack\")\n",
    "\n",
    "    def peek(self):\n",
    "        if not self.is_empty():\n",
    "            return self.items[-1]\n",
    "        else:\n",
    "            raise IndexError(\"Peek from an empty stack\")\n",
    "\n",
    "    def is_empty(self):\n",
    "        return len(self.items) == 0\n",
    "\n",
    "    def size(self):\n",
    "        return len(self.items)\n",
    "\n",
    "# Example usage\n",
    "stack = Stack()\n",
    "stack.push(10)\n",
    "stack.push(20)\n",
    "stack.push(30)\n",
    "\n",
    "print(f\"Top element: {stack.peek()}\")  # Output: 30\n",
    "print(f\"Stack size: {stack.size()}\")   # Output: 3\n",
    "\n",
    "print(f\"Popped element: {stack.pop()}\")  # Output: 30\n",
    "print(f\"Stack size after pop: {stack.size()}\")  # Output: 2\n",
    "\n",
    "print(f\"Is stack empty? {stack.is_empty()}\")  # Output: False\n"
   ]
  }
 ],
 "metadata": {
  "kernelspec": {
   "display_name": "Python 3",
   "language": "python",
   "name": "python3"
  },
  "language_info": {
   "codemirror_mode": {
    "name": "ipython",
    "version": 3
   },
   "file_extension": ".py",
   "mimetype": "text/x-python",
   "name": "python",
   "nbconvert_exporter": "python",
   "pygments_lexer": "ipython3",
   "version": "3.12.0"
  }
 },
 "nbformat": 4,
 "nbformat_minor": 2
}
