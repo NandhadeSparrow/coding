{
 "cells": [
  {
   "cell_type": "code",
   "execution_count": null,
   "metadata": {},
   "outputs": [],
   "source": [
    "# Define a class for tree nodes\n",
    "class TreeNode:\n",
    "    def __init__(self, name=None):\n",
    "        self.name = name\n",
    "        self.left = None\n",
    "        self.right = None\n",
    "\n",
    "def insert_level_order(arr, root, i, n):\n",
    "    if i < n:\n",
    "        if arr[i] is not None:\n",
    "            temp = TreeNode(arr[i])\n",
    "            root = temp\n",
    "\n",
    "            root.left = insert_level_order(arr, root.left, 2 * i + 1, n)\n",
    "            root.right = insert_level_order(arr, root.right, 2 * i + 2, n)\n",
    "        else:\n",
    "            root = None\n",
    "    return root\n",
    "\n",
    "def diameter_of_tree(root):\n",
    "    def height_and_diameter(node):\n",
    "        if node is None:\n",
    "            return 0, 0  # height, diameter\n",
    "\n",
    "        left_height, left_diameter = height_and_diameter(node.left)\n",
    "        right_height, right_diameter = height_and_diameter(node.right)\n",
    "\n",
    "        current_height = 1 + max(left_height, right_height)\n",
    "        current_diameter = max(left_diameter, right_diameter, left_height + right_height)\n",
    "\n",
    "        return current_height, current_diameter\n",
    "\n",
    "    return height_and_diameter(root)[1]\n",
    "\n",
    "\n",
    "student_tree = [\"Alice\", \"Bob\", \"Charlie\", \"David\", \"Eve\", None, \"Frank\"]\n",
    "\n",
    "root = None\n",
    "root = insert_level_order(student_tree, root, 0, len(student_tree))\n",
    "\n",
    "diameter = diameter_of_tree(root)\n",
    "print(f\"The diameter of the tree is: {diameter}\")\n"
   ]
  }
 ],
 "metadata": {
  "language_info": {
   "name": "python"
  }
 },
 "nbformat": 4,
 "nbformat_minor": 2
}
