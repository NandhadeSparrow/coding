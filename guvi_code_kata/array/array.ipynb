{
 "cells": [
  {
   "cell_type": "markdown",
   "metadata": {},
   "source": [
    "2\n",
    "Share\n",
    "You are given with an array of numbers, Your task is to print the difference of indices of largest and smallest number.All number are unique.\n",
    "\n",
    "Input Description:\n",
    "First line contains a number ‘n’. Then next line contains n space separated numbers.\n",
    "\n",
    "Output Description:\n",
    "Print the difference of indices of largest and smallest array\n",
    "\n",
    "Sample Input :\n",
    "5\n",
    "1 6 4 0 3\n",
    "Sample Output :\n",
    "-2"
   ]
  },
  {
   "cell_type": "code",
   "execution_count": null,
   "metadata": {},
   "outputs": [],
   "source": [
    "n = int(input())\n",
    "\n",
    "l = list(map(int,input().split()))\n",
    "\n",
    "small = 0\n",
    "large = 0\n",
    "\n",
    "for i in range(n):\n",
    "    if l[i] < l[small]:\n",
    "        small = i\n",
    "    if l[i]  > l[large]:\n",
    "        large = i\n",
    "print(large-small)"
   ]
  },
  {
   "cell_type": "markdown",
   "metadata": {},
   "source": [
    "3\n",
    "Share\n",
    "You are given with two arrays. Your task is to merge the array such that first array is in ascending order and second one in descending order.\n",
    "\n",
    "Input Description:\n",
    "First line contains two integer ‘n’ and ‘m’. ‘n’ denotes length of array 1 and ‘m’ of array 2.Next line contains n space separated numbers and third line contains ‘m’ space separated numbers\n",
    "\n",
    "Output Description:\n",
    "Print a single array in desired order\n",
    "\n",
    "Sample Input :\n",
    "3 3\n",
    "23 15 16\n",
    "357 65 10\n",
    "Sample Output :\n",
    "15 16 23 357 65 10"
   ]
  },
  {
   "cell_type": "code",
   "execution_count": null,
   "metadata": {},
   "outputs": [],
   "source": [
    "ns = list(map(int, input().split()))\n",
    "ans = []\n",
    "\n",
    "l1 = list(map(int, input().split()))\n",
    "l2 = list(map(int, input().split()))\n",
    "l1.sort()\n",
    "l2.sort(reverse=1)\n",
    "ans = l1+l2\n",
    "\n",
    "print(*ans)"
   ]
  },
  {
   "cell_type": "markdown",
   "metadata": {},
   "source": [
    "\n",
    "4\n",
    "Share\n",
    "You are given an array. Your task is to sort the array in given manner. Print the elements in increasing order of the frequency. If frequency is same print smaller one first.\n",
    "\n",
    "Input Description:\n",
    "You are given a number ‘n’. Then in next line n space separated numbers.\n",
    "\n",
    "Output Description:\n",
    "Print the array as mentioned\n",
    "\n",
    "Sample Input :\n",
    "4\n",
    "1 1 3 2\n",
    "Sample Output :\n",
    "2 3 1"
   ]
  },
  {
   "cell_type": "code",
   "execution_count": null,
   "metadata": {},
   "outputs": [],
   "source": [
    "n = input().split()\n",
    "l = list(map(int, input().split()))\n",
    "\n",
    "count = {}\n",
    "for i in l:\n",
    "    count[i] = 0\n",
    "for i in l:\n",
    "    count[i] += 1\n",
    "ans = count.keys()\n",
    "print(*sorted(ans, key=lambda a: (count[a], a)))"
   ]
  },
  {
   "cell_type": "markdown",
   "metadata": {},
   "source": [
    "5\n",
    "Share\n",
    "You are given an array of ids of prisoners. The jail authority found that there are some prisoners of same id. Your task is to help the authority in finding the common ids.\n",
    "\n",
    "Input Description:\n",
    "First line contains a number ‘n’ representing no of prisoners. Next line contains n space separated numbers.\n",
    "\n",
    "Output Description:\n",
    "Print the ids which are not unique. Print -1 if all ids are unique\n",
    "\n",
    "Sample Input :\n",
    "7\n",
    "1 1 11 121 131 141 98\n",
    "Sample Output :\n",
    "1"
   ]
  },
  {
   "cell_type": "code",
   "execution_count": null,
   "metadata": {},
   "outputs": [],
   "source": [
    "n = input().split()\n",
    "l = list(map(int, input().split()))\n",
    "\n",
    "all = []\n",
    "dup = []\n",
    "for i in l:\n",
    "    if i in all: dup.append(i) \n",
    "    else: all.append(i)\n",
    "\n",
    "print(*dup)"
   ]
  },
  {
   "cell_type": "markdown",
   "metadata": {},
   "source": [
    "6. Find the first 0 in window of size k. You  are given n numbers and window size ‘w’\n",
    "\n",
    "Your task is to print the first index which has 0\n",
    "\n",
    "Input Description:\n",
    "You are given two numbers ‘n’ and ‘w’ n representing size of array and ‘w’ size of window\n",
    "\n",
    "Output Description:\n",
    "Print the index of first 0(1 basedindexing),if there is no index with 0 print -1\n",
    "\n",
    "Sample Input :\n",
    "7 2\n",
    "1 0 6 7 4 0 9\n",
    "Sample Output :\n",
    "2 2 -1 -1 6 6"
   ]
  },
  {
   "cell_type": "code",
   "execution_count": null,
   "metadata": {},
   "outputs": [],
   "source": [
    "n,w=map(int,input().split())\n",
    "\n",
    "nums = list(map(int,input().split()))\n",
    "\n",
    "inds = []\n",
    "for i in range(n-w+1):\n",
    "    inds.append(-1)\n",
    "    for j in range(i, i+w):\n",
    "        if nums[j]==0:\n",
    "            inds[-1]  = j+1\n",
    "            break\n",
    "print(*inds)\n"
   ]
  },
  {
   "cell_type": "markdown",
   "metadata": {},
   "source": [
    "3"
   ]
  },
  {
   "cell_type": "markdown",
   "metadata": {},
   "source": [
    "8. You are given with an circular array .Your task is calculate the difference between two consecutive number. And if difference is greater than ‘k’, print 1 else print 0\n",
    "\n",
    "Input Description:\n",
    "You are given two numbers ‘n’, ’m’. Next line contains n space separated integers.\n",
    "\n",
    "Output Description:\n",
    "Print 1 if the difference is greater than ‘m’.\n",
    "\n",
    "Sample Input :\n",
    "5 15\n",
    "50 65 85 98 35\n",
    "Sample Output :\n",
    "0 1 0 1 0"
   ]
  },
  {
   "cell_type": "code",
   "execution_count": null,
   "metadata": {},
   "outputs": [],
   "source": [
    "n, k = map(int, input().split())\n",
    "nums = list(map(int,input().split()))\n",
    "\n",
    "ans = []\n",
    "for i in range(n-1):\n",
    "    if abs(nums[i]-nums[i+1]) > k:\n",
    "        ans.append(1)\n",
    "    else:\n",
    "        ans.append(0)\n",
    "if abs(nums[-1]-nums[0]) > k:\n",
    "    ans.append(1)\n",
    "else:\n",
    "    ans.append(0)\n",
    "print(*ans)"
   ]
  },
  {
   "cell_type": "markdown",
   "metadata": {},
   "source": [
    "4"
   ]
  },
  {
   "cell_type": "markdown",
   "metadata": {},
   "source": [
    "11. A person saves his monthly saving according to given schema. He saves same amount of money which is equal to the money saved in immediate previous two months. Assume, initially he saved 1000 rupees and in first month he saved another 1000. Your task is to tell how much he had totally saved at the end of ‘n’ months\n",
    "\n",
    "Input Description:\n",
    "You will be given a number ‘n’->No. of months\n",
    "\n",
    "Output Description:\n",
    "Print the total savings at the end of ‘n’ months\n",
    "\n",
    "Sample Input :\n",
    "1\n",
    "Sample Output :\n",
    "2000"
   ]
  },
  {
   "cell_type": "code",
   "execution_count": null,
   "metadata": {},
   "outputs": [],
   "source": [
    "n = 2\n",
    "\n",
    "amounts = [1000]\n",
    "\n",
    "for i in range(0, n+1):\n",
    "    if i == 0: continue\n",
    "    elif i == 1: amounts.append(amounts[0])\n",
    "    else:\n",
    "        amounts.append(sum(amounts[-2:]))\n",
    "\n",
    "print(sum(amounts))"
   ]
  },
  {
   "cell_type": "markdown",
   "metadata": {},
   "source": [
    "5"
   ]
  },
  {
   "cell_type": "markdown",
   "metadata": {},
   "source": [
    "12\n",
    "Share\n",
    "Ramesh is a student and wants to find out if there is any other student in his class who has got the same marks as his, in maths. Help him to find out.\n",
    " \n",
    "\n",
    "Input Description:\n",
    "First line contains the number of students in the class followed by Ramesh’s mark. Second line contains the marks of all students in the class.\n",
    "\n",
    "Output Description:\n",
    "Index of student who got mark same as Ramesh’s mark. If no such mark exists, return -1.\n",
    "\n",
    "Sample Input :\n",
    "2 10\n",
    "1 2\n",
    "Sample Output :\n",
    "-1"
   ]
  },
  {
   "cell_type": "code",
   "execution_count": null,
   "metadata": {},
   "outputs": [],
   "source": [
    "n, r = map(int, input().split())\n",
    "\n",
    "ind = -1\n",
    "marks = list(map(int, input().split()))\n",
    "\n",
    "for i in range(n):\n",
    "    if marks[i] == r: ind = i \n",
    "\n",
    "print(ind)"
   ]
  },
  {
   "cell_type": "markdown",
   "metadata": {},
   "source": [
    "6"
   ]
  },
  {
   "cell_type": "markdown",
   "metadata": {},
   "source": [
    "13\n",
    "Share\n",
    "Pk finds it difficult to judge the minimum element in the list of elements given to him. Your task is to develop the algorithm in order to find the minimum element.\n",
    "\n",
    " \n",
    "\n",
    "Note:Don’t use sorting\n",
    " \n",
    "\n",
    "Input Description:\n",
    "You are given ‘n’ number of elements. Next line contains n space separated numbers.\n",
    "\n",
    "Output Description:\n",
    "Print the minimum element\n",
    "\n",
    "Sample Input :\n",
    "5\n",
    "3 4 9 1 6\n",
    "Sample Output :\n",
    "1"
   ]
  },
  {
   "cell_type": "code",
   "execution_count": null,
   "metadata": {},
   "outputs": [],
   "source": [
    "n = int(input())\n",
    "nums = list(map(int, input().split()))\n",
    "\n",
    "ans = nums[0]\n",
    "\n",
    "for i in nums:\n",
    "    if i<ans : ans = i\n",
    "    \n",
    "print(ans)"
   ]
  },
  {
   "cell_type": "markdown",
   "metadata": {},
   "source": [
    "7"
   ]
  },
  {
   "cell_type": "markdown",
   "metadata": {},
   "source": [
    "14\n",
    "Share\n",
    "You are given with an array. For each element present in the array your task is to print the next smallest than that number. If it is not smallest print -1\n",
    "\n",
    "Input Description:\n",
    "You are given a number ‘n’ representing size of array. And n space separated numbers.\n",
    "\n",
    "Output Description:\n",
    "Print the next smallest number present in array and -1 if no smallest is present\n",
    "\n",
    "Sample Input :\n",
    "7\n",
    "10 7 9 3 2 1 15\n",
    "Sample Output :\n",
    "7 3 3 2 1 -1 -1"
   ]
  },
  {
   "cell_type": "code",
   "execution_count": null,
   "metadata": {},
   "outputs": [],
   "source": [
    "n = int(input())\n",
    "nums = list(map(int,input().split()))\n",
    "ans = []\n",
    "for i in range(n):\n",
    "    lower = -1\n",
    "    for j in range(i+1, n):\n",
    "        if nums[j]<nums[i]: \n",
    "            lower=nums[j]\n",
    "            break\n",
    "    ans.append(lower)\n",
    "print(*ans)"
   ]
  },
  {
   "cell_type": "markdown",
   "metadata": {},
   "source": [
    "8"
   ]
  },
  {
   "cell_type": "markdown",
   "metadata": {},
   "source": [
    "15\n",
    "Share\n",
    "Shreya is a brilliant girl. She likes to memorize the numbers. These numbers will be shown to her. As an examiner develop an algorithm to test her memory.\n",
    "\n",
    " \n",
    "\n",
    "CONSTRAINTS\n",
    "\n",
    "1<=Y,N,T<=1000\n",
    "\n",
    "Input Description:\n",
    "First line contains no. of test cases(Y). Next line contains a number N. Next line contains n space separated numbers Next line contains a number T denoting the number of questions asked from you regarding the given array. Next line contains T space separated numbers.\n",
    "\n",
    "Output Description:\n",
    "Print the occurrence of each number if present else “NOT PRESENT”\n",
    "\n",
    "Sample Input :\n",
    "10\n",
    "1 1 1 2 2 2 3 8 9 7\n",
    "5\n",
    "1 2 3 0 5\n",
    "Sample Output :\n",
    "3 3 1 Not Present Not Present"
   ]
  },
  {
   "cell_type": "code",
   "execution_count": null,
   "metadata": {},
   "outputs": [],
   "source": [
    "y = int(input())\n",
    "nums = list(map(int,input().split()))\n",
    "t = int(input())\n",
    "qs = list(map(int,input().split()))\n",
    "\n",
    "numsd = {}\n",
    "for i in nums:\n",
    "    numsd[i] = numsd.get(i, 0) + 1\n",
    "\n",
    "ans = []\n",
    "for i in qs:\n",
    "    ans.append(numsd.get(i, 'Not Present'))\n",
    "print(*ans)"
   ]
  },
  {
   "cell_type": "markdown",
   "metadata": {},
   "source": [
    "9"
   ]
  },
  {
   "cell_type": "markdown",
   "metadata": {},
   "source": [
    "16\n",
    "Share\n",
    "You are given an array of non-negative integers representing height of walls at index i as Ai and the width of each block is 1. Compute how much air can be encapsulated between the walls of chamber.\n",
    "\n",
    " \n",
    "\n",
    "Input Description:\n",
    "Each line contains an integer ‘N’ denoting the size of the array Next line contains N space separated numbers to be stored in array.\n",
    "\n",
    "Output Description:\n",
    "Output the total unit of Air encapsulated between the walls of chamber.\n",
    "\n",
    "Sample Input :\n",
    "3\n",
    "7 4 9\n",
    "Sample Output :\n",
    "3"
   ]
  },
  {
   "cell_type": "code",
   "execution_count": null,
   "metadata": {},
   "outputs": [],
   "source": [
    "n = int(input())\n",
    "arr = list(map(int,input().split()))\n",
    "\n",
    "res = 0\n",
    "\n",
    "# For every element of the array \n",
    "for i in range(1, n - 1): \n",
    "\n",
    "\t# Find the maximum element on its left \n",
    "\tleft = arr[i] \n",
    "\tfor j in range(i): \n",
    "\t\tleft = max(left, arr[j]) \n",
    "\n",
    "\t# Find the maximum element on its right \n",
    "\tright = arr[i] \n",
    "\n",
    "\tfor j in range(i + 1, n): \n",
    "\t\tright = max(right, arr[j]) \n",
    "\n",
    "\t# Update the maximum water \n",
    "\tres = res + (min(left, right) - arr[i]) \n",
    "print(res)\n"
   ]
  },
  {
   "cell_type": "markdown",
   "metadata": {},
   "source": [
    "10"
   ]
  },
  {
   "cell_type": "markdown",
   "metadata": {},
   "source": [
    "17\n",
    "Share\n",
    "You are given with a list of size ‘n’. The list is imposed with a condition that all elements must be of range 0 to n-1.Your task is to rearrange the numbers such that arr[i] becomes arr[arr[i]].\n",
    "\n",
    "Input Description:\n",
    "You are given size of array ‘n’.n space separated numbers in next line.\n",
    "\n",
    "Output Description:\n",
    "Print all elements after rearranging.\n",
    "\n",
    "Sample Input :\n",
    "5\n",
    "4 0 2 1 3\n",
    "Sample Output :\n",
    "3 4 2 0 1"
   ]
  },
  {
   "cell_type": "code",
   "execution_count": null,
   "metadata": {},
   "outputs": [],
   "source": [
    "n = int(input())\n",
    "\n",
    "nums = list(map(int, input().split()))\n",
    "\n",
    "ans = []\n",
    "\n",
    "for i in range(n):\n",
    "    ans.append(nums[nums[i]])\n",
    "print(*ans)"
   ]
  },
  {
   "cell_type": "markdown",
   "metadata": {},
   "source": [
    "11"
   ]
  },
  {
   "cell_type": "markdown",
   "metadata": {},
   "source": [
    "18\n",
    "Share\n",
    "You are given an array of numbers. Print the least occurring element. If there is more than 1 element print all of them in decreasing order of their value.\n",
    "\n",
    "Input Description:\n",
    "You are given a number ‘n’ denoting size of array. Next line contains n space separated numbers.\n",
    "\n",
    "Output Description:\n",
    "Print the number as mentioned\n",
    "\n",
    "Sample Input :\n",
    "9\n",
    "1 6 4 56 56 56 6 4 2\n",
    "Sample Output :\n",
    "2 1"
   ]
  },
  {
   "cell_type": "code",
   "execution_count": null,
   "metadata": {},
   "outputs": [],
   "source": [
    "n = int(input())\n",
    "nums = list(map(int, input().split()))\n",
    "\n",
    "counts = {}\n",
    "for i in nums:\n",
    "    counts[i] = counts.get(i, 0) + 1 \n",
    "    \n",
    "m = min(counts.values())\n",
    "ans = []\n",
    "for i in counts:\n",
    "    if counts[i] == m: ans.append(i)\n",
    "print(*ans)"
   ]
  },
  {
   "cell_type": "markdown",
   "metadata": {},
   "source": [
    "12"
   ]
  },
  {
   "cell_type": "markdown",
   "metadata": {},
   "source": [
    "19\n",
    "Share\n",
    "Assume you are a student studying in school.You are given a task to find first negative integer for each and every window of size k.\n",
    "\n",
    "Input Description:\n",
    "First line contains an integer n denoting the size of the array. The next line contains n space separated integers forming the array. The last line contains the window size k.\n",
    "\n",
    "Output Description:\n",
    "Print the first negative integer in that window.If all the numbers are positive print 0\n",
    "\n",
    "Sample Input :\n",
    "7\n",
    "1 -2 -3 -4 5 6 -7\n",
    "3\n",
    "Sample Output :\n",
    "-2 -2 -3 -4 -7"
   ]
  },
  {
   "cell_type": "code",
   "execution_count": null,
   "metadata": {},
   "outputs": [],
   "source": [
    "n = int(input())\n",
    "nums = list(map(int, input().split()))\n",
    "w = int(input())\n",
    "\n",
    "ans = []\n",
    "for i in range(n-w+1):\n",
    "    num = 0\n",
    "    for j in range(i, i+w):\n",
    "        if nums[j]<0:\n",
    "            num = nums[j]\n",
    "            break\n",
    "    ans.append(num)\n",
    "\n",
    "print(*ans)"
   ]
  },
  {
   "cell_type": "markdown",
   "metadata": {},
   "source": [
    "13"
   ]
  },
  {
   "cell_type": "markdown",
   "metadata": {},
   "source": [
    "20\n",
    "Share\n",
    "Given a number N, print the odd digits in the number(space seperated) or print -1 if there is no odd digit in the given number.\n",
    "Input Size : N <= 100000\n",
    "Sample Testcase :\n",
    "INPUT\n",
    "2143\n",
    "OUTPUT\n",
    "1 3"
   ]
  },
  {
   "cell_type": "code",
   "execution_count": null,
   "metadata": {},
   "outputs": [],
   "source": [
    "nums = input()\n",
    "odds = []\n",
    "\n",
    "for i in nums:\n",
    "    if int(i)%2!=0:\n",
    "        odds.append(int(i))\n",
    "if odds:\n",
    "    print(*odds)\n",
    "else:\n",
    "    print(-1)"
   ]
  },
  {
   "cell_type": "markdown",
   "metadata": {},
   "source": [
    "14"
   ]
  },
  {
   "cell_type": "markdown",
   "metadata": {},
   "source": [
    "21\n",
    "Share\n",
    "Rajesh and Ram are having a conflict on the maximum marks that they have scored in all the exams conducted in the past year. The one having scored the maximum gets a treat from the other. They decide to go through their test papers and record their highest marks. You are Rajesh’s best friend and as he has tutions to attend, he gives you all his test papers and asks you to find out the maximum marks that he has scored among all the marks in all exams. He promises you a treat if he wins the bet with Ram. Help Rajesh find out his highest marks.\n",
    "\n",
    "Constraints:\n",
    "\n",
    "1 <= N <= 10\n",
    "\n",
    "0 <= A[] <= 100\n",
    "\n",
    "Input Description:\n",
    "First line contains count of marks. Next line is the list of marks obtained by Rajesh.\n",
    "\n",
    "Output Description:\n",
    "Highest marks obtained by Rajesh.\n",
    "\n",
    "Sample Input :\n",
    "3\n",
    "82 96 72\n",
    "Sample Output :\n",
    "96"
   ]
  },
  {
   "cell_type": "code",
   "execution_count": null,
   "metadata": {},
   "outputs": [],
   "source": [
    "n = int(input())\n",
    "nums = list(map(int, input().split()))\n",
    "\n",
    "print(max(nums))"
   ]
  },
  {
   "cell_type": "markdown",
   "metadata": {},
   "source": [
    "15"
   ]
  },
  {
   "cell_type": "markdown",
   "metadata": {},
   "source": [
    "22\n",
    "Share\n",
    "You are a software engineer at an MNC. You are given the task of sorting the employees in your company based on their salary. Perform the task so that the employees, including yourself, will get a bonus from the management.\n",
    "\n",
    "CONSTRAINT:\n",
    "\n",
    "0<=salary<=1000000\n",
    "\n",
    " \n",
    "\n",
    "Input Description:\n",
    "Number of employees followed by their name and salary\n",
    "\n",
    "Output Description:\n",
    "Sorted list of employee names\n",
    "\n",
    "Sample Input :\n",
    "3\n",
    "Karthik 23000 rohan 81734 varshini 12343\n",
    "Sample Output :\n",
    "varshini\n",
    "Karthik\n",
    "Rohan"
   ]
  },
  {
   "cell_type": "code",
   "execution_count": null,
   "metadata": {},
   "outputs": [],
   "source": [
    "n = int(input())\n",
    "nums = input().split()\n",
    "\n",
    "counts = {}\n",
    "for i in range(0, n*2-1, 2):\n",
    "    counts[nums[i]] = int(nums[i+1])\n",
    "\n",
    "order = sorted(counts.items(), key = lambda x : x[1])\n",
    "print(*[x[0] for x in order], sep='\\n')"
   ]
  },
  {
   "cell_type": "markdown",
   "metadata": {},
   "source": [
    "16"
   ]
  },
  {
   "cell_type": "markdown",
   "metadata": {},
   "source": [
    "23\n",
    "Share\n",
    "You are given an array of numbers. Print the least occurring element. If there is more than 1 element print all of them in decreasing order of their value.\n",
    "\n",
    "Input Description:\n",
    "You are given a number ‘n’ denoting size of array. Next line contains n space separated numbers.\n",
    "\n",
    "Output Description:\n",
    "Print the number as mentioned\n",
    "\n",
    "Sample Input :\n",
    "9\n",
    "1 6 4 56 56 56 6 4 2\n",
    "Sample Output :\n",
    "2 1"
   ]
  },
  {
   "cell_type": "code",
   "execution_count": null,
   "metadata": {},
   "outputs": [],
   "source": [
    "n = int(input())\n",
    "nums = list(map(int, input().split()))\n",
    "\n",
    "counts = {}\n",
    "for i in nums:\n",
    "    counts[i] = counts.get(i, 0) + 1 \n",
    "    \n",
    "m = min(counts.values())\n",
    "ans = []\n",
    "for i in counts:\n",
    "    if counts[i] == m: ans.append(i)\n",
    "print(*reversed(ans))"
   ]
  },
  {
   "cell_type": "markdown",
   "metadata": {},
   "source": [
    "24\n",
    "Share\n",
    "In a world cup tournament,no of goals scored by each team is given to you. Your task is to calculate net goal rate of each team.\n",
    "\n",
    "Net goal rate of team is calculated\n",
    "\n",
    " \n",
    "\n",
    "No of goals(team)- sum of(no of goals by last 3 teams)\n",
    "\n",
    "Input Description:\n",
    "You are given a number ‘n’.Next line contains n space separated numbers.\n",
    "\n",
    "Output Description:\n",
    "Print the net goal rate of each team\n",
    "\n",
    "Sample Input :\n",
    "5\n",
    "95 85 75 12 11\n",
    "Sample Output :\n",
    "-3 -13 -23 -86 -87"
   ]
  },
  {
   "cell_type": "markdown",
   "metadata": {},
   "source": [
    "17"
   ]
  },
  {
   "cell_type": "markdown",
   "metadata": {},
   "source": [
    "25\n",
    "Share\n",
    "Rahul is fond of numbers.He is given a list of queries. 1 means store that element,2 means means print the minimum element of the stored list. For more clarity see the input and output example\n",
    "\n",
    "Input Description:\n",
    "The first line of the input N indicates the size of the query list. For N lines, the queries are given with the format of '1 M', where M indicates the number to be stored and 1 indicates the query type. Similarly, '2' which indicates the type of query and it does not contain M since it is not required by this query type. Briefly saying, '1 M' means store that element M in a list '2' means print the minimum element of stored list\n",
    "\n",
    "Output Description:\n",
    "Print the minimum element and -1 if there are no elements in stored list if the querytype is 2. Store the given number in the list if the query type is 1.\n",
    "\n",
    "Sample Input :\n",
    "5\n",
    "1 60\n",
    "2\n",
    "1 58\n",
    "2\n",
    "1 69\n",
    "Sample Output :\n",
    "60 58"
   ]
  },
  {
   "cell_type": "code",
   "execution_count": null,
   "metadata": {},
   "outputs": [],
   "source": [
    "n = int(input())\n",
    "nums = []\n",
    "for i in range(n):\n",
    "    nums.append(list(map(int, input().split())))\n",
    "\n",
    "store = []\n",
    "mins = []\n",
    "\n",
    "for i in nums:\n",
    "    if i[0] == 1: store.append(i[1])\n",
    "    elif i[0] == 2: \n",
    "        if store:\n",
    "            mins.append(min(store))\n",
    "        else:\n",
    "            mins.append(-1)\n",
    "print(*mins)"
   ]
  },
  {
   "cell_type": "markdown",
   "metadata": {},
   "source": [
    "\n",
    "18"
   ]
  },
  {
   "cell_type": "markdown",
   "metadata": {},
   "source": [
    "27\n",
    "Share\n",
    "You are given two arrays of equal length. Your task is to merge the two arrays then sort them too and then find the sum of two middlemost elements.\n",
    "\n",
    "Input Description:\n",
    "You are given a number ‘n’. Then Next line contains first list of 'n' separated numbers.Third line contains second list of 'n' space separated numbers.\n",
    "\n",
    "Output Description:\n",
    "Print the sum of two middle elements\n",
    "\n",
    "Sample Input :\n",
    "5\n",
    "1 9 16 25 46\n",
    "2 3 4 5 6\n",
    "Sample Output :\n",
    "11"
   ]
  },
  {
   "cell_type": "code",
   "execution_count": null,
   "metadata": {},
   "outputs": [],
   "source": [
    "n = int(input())\n",
    "nums = list(map(int, input().split()))\n",
    "nums.extend(list(map(int, input().split())))\n",
    "nums = sorted(nums)\n",
    "print(nums[int(n)]+nums[int(n-1)])"
   ]
  },
  {
   "cell_type": "markdown",
   "metadata": {},
   "source": [
    "19"
   ]
  },
  {
   "cell_type": "markdown",
   "metadata": {},
   "source": [
    "28\n",
    "Share\n",
    "You are an intern at GUVI and the company wants to organise its data and delete unnecessary extra storage elements used. You are given k arrays of unequal dimensions. Sort the k arrays individually and concatenate them.\n",
    " \n",
    "\n",
    "Input Description:\n",
    "First line contains the number of arrays. Subsequent lines contain the size of the array followed by the elements of the array.\n",
    "\n",
    "Output Description:\n",
    "An array containing the sorted elements of k sorted arrays\n",
    "\n",
    "Sample Input :\n",
    "3\n",
    "2\n",
    "98 12\n",
    "6\n",
    "1 2 3 8 5 9\n",
    "1\n",
    "11\n",
    "Sample Output :\n",
    "12 98 1 2 3 5 8 9 11"
   ]
  },
  {
   "cell_type": "code",
   "execution_count": null,
   "metadata": {},
   "outputs": [],
   "source": [
    "n = int(input())\n",
    "nums = []\n",
    "for i in range(n):\n",
    "    l = int(input())\n",
    "    nums.extend(sorted(list(map(int,input().split()))))\n",
    "    \n",
    "print(*nums)"
   ]
  },
  {
   "cell_type": "markdown",
   "metadata": {},
   "source": [
    "20"
   ]
  },
  {
   "cell_type": "markdown",
   "metadata": {},
   "source": [
    "29\n",
    "Share\n",
    "Loki wants to steal the tesseract but in order to do so, he has to rearrange the elements in an array in a specific manner which is mentioned in a clue. The clue says ‘cursed are the odd and sorted are the even’. Loki manages to decode the clue which translates to “sort the even positioned elements of an array, starting from the element at index 0, in ascending order”. Manipulate the array so as to help Loki steal the tesseract.\n",
    " \n",
    "\n",
    "Input Description:\n",
    "Size of the array followed by the elements of the array\n",
    "\n",
    "Output Description:\n",
    "Even index array elements sorted in ascending order\n",
    "\n",
    "Sample Input :\n",
    "5\n",
    "3 9 1 44 6\n",
    "Sample Output :\n",
    "1 9 3 44 6"
   ]
  },
  {
   "cell_type": "code",
   "execution_count": null,
   "metadata": {},
   "outputs": [],
   "source": [
    "n = int(input())\n",
    "nums = list(map(int, input().split()))\n",
    "\n",
    "odds = []\n",
    "evens = []\n",
    "\n",
    "for i in range(n):\n",
    "    if i%2==0: evens.append(nums[i])\n",
    "    else: odds.append(nums[i])\n",
    "    \n",
    "ans = odds\n",
    "evens = sorted(evens)\n",
    "\n",
    "for i in range(len(evens)):\n",
    "    ans.insert(i*2, evens[i])\n",
    "    \n",
    "print(*ans)"
   ]
  },
  {
   "cell_type": "markdown",
   "metadata": {},
   "source": [
    "21"
   ]
  },
  {
   "cell_type": "markdown",
   "metadata": {},
   "source": [
    "30\n",
    "Share\n",
    "you are given with array of numbers.you have to find whether array is beautiful or not. A beautiful array is an array whose sum of all numbers is divisible by 2, 3 and 5\n",
    "\n",
    "Input Description:\n",
    "You are given a number ‘n’ denoting the size of array.Next line contains n space separated numbers.\n",
    "\n",
    "Output Description:\n",
    "Print 1 if array is beautiful and 0 if it is not\n",
    "\n",
    "Sample Input :\n",
    "5\n",
    "5 25 35 -5 30\n",
    "Sample Output :\n",
    "1"
   ]
  },
  {
   "cell_type": "code",
   "execution_count": null,
   "metadata": {},
   "outputs": [],
   "source": [
    "n = int(input())\n",
    "nums = list(map(int, input().split()))\n",
    "print(1 if sum(nums)/2/3%5 == 0 else 0)"
   ]
  },
  {
   "cell_type": "markdown",
   "metadata": {},
   "source": [
    "22"
   ]
  },
  {
   "cell_type": "markdown",
   "metadata": {},
   "source": [
    "31\n",
    "Share\n",
    "Given a number N print a right angled traingle structure with the starting level as single 1 and every immediate proceeding level with 2 more additional ones than the previous level .Repeat the pattern for N levels.\n",
    "Input Size : N <= 1000\n",
    "Sample Testcase :\n",
    "INPUT\n",
    "3\n",
    "OUTPUT\n",
    "1\n",
    "1 1 1\n",
    "1 1 1 1 1"
   ]
  },
  {
   "cell_type": "code",
   "execution_count": null,
   "metadata": {},
   "outputs": [],
   "source": [
    "for i in range(int(input())):\n",
    "    print(*([1]*((i+1)*2-1)))"
   ]
  },
  {
   "cell_type": "markdown",
   "metadata": {},
   "source": [
    "23"
   ]
  },
  {
   "cell_type": "markdown",
   "metadata": {},
   "source": [
    "32\n",
    "Share\n",
    "Given 2 numbers N and K followed by N elements,print the number of repetition of K otherwise print '-1' if the element not found.\n",
    "Sample Testcase :\n",
    "INPUT\n",
    "6 2\n",
    "1 2 3 5 7 8\n",
    "OUTPUT\n",
    "0"
   ]
  },
  {
   "cell_type": "code",
   "execution_count": null,
   "metadata": {},
   "outputs": [],
   "source": [
    "r, c = map(int, input().split())\n",
    "nums = []\n",
    "for i in range(r):\n",
    "    nums.extend(list(map(int, input().split())))\n",
    "    \n",
    "print(f'RAM: {nums.count(0)}')\n",
    "print(f'SITA: {nums.count(1)}')"
   ]
  },
  {
   "cell_type": "markdown",
   "metadata": {},
   "source": [
    "24"
   ]
  },
  {
   "cell_type": "markdown",
   "metadata": {},
   "source": [
    "34\n",
    "Share\n",
    "Given a number N and 2 arrays A and B of sorted order of size N, print the common elements.If it is not found print -1.\n",
    "Input Size : 1 <= N <= 100000\n",
    "Sample Testcase :\n",
    "INPUT\n",
    "5\n",
    "1 1 1 1 1\n",
    "1 2 3 4 5\n",
    "OUTPUT\n",
    "1"
   ]
  },
  {
   "cell_type": "code",
   "execution_count": null,
   "metadata": {},
   "outputs": [],
   "source": [
    "n = int(input())\n",
    "nums1 = list(map(int, input().split()))\n",
    "nums2 = list(map(int, input().split()))\n",
    "\n",
    "com = []\n",
    "\n",
    "\n",
    "for i in nums1:\n",
    "    if i in nums2: com.append(i)\n",
    "\n",
    "\n",
    "if com:\n",
    "    print(*com)\n",
    "else:\n",
    "    print(-1)"
   ]
  },
  {
   "cell_type": "markdown",
   "metadata": {},
   "source": [
    "25"
   ]
  },
  {
   "cell_type": "markdown",
   "metadata": {},
   "source": [
    "35\n",
    "Share\n",
    "You are a passport issuer, but due to some problems in the system, there are redundant  passport numbers. Your task is to delete all the duplicate passport numbers. You are given a list of passport numbers.\n",
    "\n",
    "Input Description:\n",
    "You are given length of list.Second line,You are given with a list.\n",
    "\n",
    "Output Description:\n",
    "Print the list of passport numbers without duplicates.\n",
    "\n",
    "Sample Input :\n",
    "5\n",
    "A23 B56 B56 C79 D16\n",
    "Sample Output :\n",
    "A23 B56 C79 D16"
   ]
  },
  {
   "cell_type": "code",
   "execution_count": null,
   "metadata": {},
   "outputs": [],
   "source": [
    "n = int(input())\n",
    "ls = input().split()\n",
    "ans = []\n",
    "c = 0\n",
    "while c<len(ls):\n",
    "    if ls[c] in ans: ls.pop(c)\n",
    "    else: ans.append(ls[c])\n",
    "\n",
    "print(*ans)"
   ]
  },
  {
   "cell_type": "markdown",
   "metadata": {},
   "source": [
    "26"
   ]
  },
  {
   "cell_type": "markdown",
   "metadata": {},
   "source": [
    "37\n",
    "Share\n",
    "Prakash is bored and wants to spends his time. He starts rolling a die and observes the value that is shown. He rolls the dice N times and observes that just one number appears distinctly, all the others get repeated or does not appear at all. Find out which was the number that puzzled Prakash for sometime, after which he realised that it was just a coincidence.\n",
    "\n",
    "Constraints\n",
    "0 <   N  <= 100\n",
    "0 <= A[i] <= 100\n",
    " \n",
    "\n",
    "Input Description:\n",
    "The first line contains a positive integer N, denoting the size of the array. The second line contains N positive integers, denoting the face values that appeared when the die was rolled.\n",
    "\n",
    "Output Description:\n",
    "Print out the singly occurring number.\n",
    "\n",
    "Sample Input :\n",
    "5\n",
    "1 1 2 5 5\n",
    "Sample Output :\n",
    "2"
   ]
  },
  {
   "cell_type": "code",
   "execution_count": null,
   "metadata": {},
   "outputs": [],
   "source": [
    "n = int(input())\n",
    "nums = list(map(int, input().split()))\n",
    "\n",
    "checked = []\n",
    "ans = []\n",
    "for i in range(n):\n",
    "    if nums[i] in ans: ans.remove(nums[i])\n",
    "    elif nums[i] not in checked: ans.append(nums[i])\n",
    "    checked.append(nums[i])\n",
    "\n",
    "print(*ans)"
   ]
  },
  {
   "cell_type": "markdown",
   "metadata": {},
   "source": [
    "27"
   ]
  },
  {
   "cell_type": "markdown",
   "metadata": {},
   "source": [
    "38\n",
    "Share\n",
    "Indian politics has an interesting trend in history. A party which assumes that it is the undefeatable champion in elections has been defeated by other parties in many instances.You are a data analyst in the Election Commission. You are given a list containing a year and the party which won the election in that particular year. Your task is to analyse the trend and find the years in which, one party, which won many elections consecutively, was suddenly defeated by another.\n",
    " \n",
    "\n",
    "Input Description:\n",
    "Size of the array, followed by 2 arrays, one containing the year values and the other containing the party which won the election that year.\n",
    "\n",
    "Output Description:\n",
    "The year of transition from one party to another.\n",
    "\n",
    "Sample Input :\n",
    "5\n",
    "2004 1999 2019 2009 2014\n",
    "JDU JDU CON JDU CON\n",
    "Sample Output :\n",
    "2014"
   ]
  },
  {
   "cell_type": "code",
   "execution_count": null,
   "metadata": {},
   "outputs": [],
   "source": [
    "n = int(input())\n",
    "years = list(map(int, input().split()))\n",
    "party = input().split()\n",
    "\n",
    "wins = {}\n",
    "\n",
    "for i in range(n):\n",
    "    wins[years[i]] = party[i]\n",
    "\n",
    "order = sorted(wins.items())\n",
    "\n",
    "trends = []\n",
    "prev = order[0][1]\n",
    "for i in order:\n",
    "    if i[1] != prev:\n",
    "        trends.append(i[0])\n",
    "    prev = i[1]\n",
    "\n",
    "print(*trends, sep='\\n')"
   ]
  },
  {
   "cell_type": "markdown",
   "metadata": {},
   "source": [
    "28"
   ]
  },
  {
   "cell_type": "markdown",
   "metadata": {},
   "source": [
    "39\n",
    "Share\n",
    "The prison warden at Central jail is given a tip-off that a prison inmate is planning an escape. The warden suspects a particular prisoner of planning an escape and wants to find out if he/she is present in his/her cell. The layout of the prison is modelled in a matrix with every cell of the matrix representing a prison cell. The matrix is filled with the prisoner ids at the corresponding cells. Find out whether the person the warden suspects is present in the prison or not.\n",
    " \n",
    "\n",
    "Input Description:\n",
    "First line contains the dimensions of the prison matrix, followed by the ids of prisoners as elements of the matrix. The third line contains the id to be searched.\n",
    "\n",
    "Output Description:\n",
    "(yes/no) whether the given element is present in the matrix or not.\n",
    "\n",
    "Sample Input :\n",
    "2 5\n",
    "2 3 0 7 1 5 3 4 1 8\n",
    "11\n",
    "Sample Output :\n",
    "no"
   ]
  },
  {
   "cell_type": "code",
   "execution_count": null,
   "metadata": {},
   "outputs": [],
   "source": [
    "r, c = map(int, input().split())\n",
    "nums = list(map(int, input().split()))\n",
    "cell = int(input())\n",
    "\n",
    "print('yes' if cell in nums else 'no')"
   ]
  },
  {
   "cell_type": "markdown",
   "metadata": {},
   "source": [
    "29"
   ]
  },
  {
   "cell_type": "markdown",
   "metadata": {},
   "source": [
    "40\n",
    "Share\n",
    "Ria is always fascinated by the number 2. She always wants to know who came second in a race, the second person to set foot on the moon and so on. She is given a list of numbers and asked to find the maximum. As always, she reports the second highest number as the maximum because according to her, 2 is higher than 1. Find out which was the number that Ria would have reported, given a list of N numbers.\n",
    " \n",
    "\n",
    "Input Description:\n",
    "Size of the array followed by the elements of the array.\n",
    "\n",
    "Output Description:\n",
    "Second largest element of the array.\n",
    "\n",
    "Sample Input :\n",
    "10\n",
    "1 9 8 7 6 5 2 3 4 10\n",
    "Sample Output :\n",
    "9"
   ]
  },
  {
   "cell_type": "code",
   "execution_count": null,
   "metadata": {},
   "outputs": [],
   "source": [
    "n = int(input())\n",
    "nums = list(map(int, input().split()))\n",
    "\n",
    "nums.remove(max(nums))\n",
    "print(max(nums))"
   ]
  },
  {
   "cell_type": "markdown",
   "metadata": {},
   "source": [
    "30"
   ]
  },
  {
   "cell_type": "markdown",
   "metadata": {},
   "source": [
    "41\n",
    "Share\n",
    "You are given given task is to print whether array is ‘majestic’ or not.A ‘majsetic’ array is an array whose sum of first three number is equal to last three number.\n",
    "\n",
    "Input Description:\n",
    "You are given a number ‘n’,Next line contains ‘n’ space separated\n",
    "\n",
    "Output Description:\n",
    "Print 1 if array is majestic and 0 if it is not\n",
    "\n",
    "Sample Input :\n",
    "7\n",
    "1 2 3 4 6 0 0\n",
    "Sample Output :\n",
    "1"
   ]
  },
  {
   "cell_type": "code",
   "execution_count": null,
   "metadata": {},
   "outputs": [],
   "source": [
    "n = int(input())\n",
    "nums = list(map(int, input().split()))\n",
    "\n",
    "if sum(nums[:3]) == sum(nums[-3:]):\n",
    "    print(1)\n",
    "else: print(0)"
   ]
  },
  {
   "cell_type": "markdown",
   "metadata": {},
   "source": [
    "31"
   ]
  },
  {
   "cell_type": "markdown",
   "metadata": {},
   "source": [
    "42\n",
    "Share\n",
    "Given a number N, print the sum of squares of all its digits.\n",
    "Input Size : 1 <= N <= 100000\n",
    "Sample Testcase :\n",
    "INPUT\n",
    "12\n",
    "OUTPUT\n",
    "5"
   ]
  },
  {
   "cell_type": "code",
   "execution_count": null,
   "metadata": {},
   "outputs": [],
   "source": [
    "nums = input()\n",
    "ans = 0\n",
    "for i in nums:\n",
    "    ans+=int(i)**2\n",
    "print(ans)"
   ]
  },
  {
   "cell_type": "markdown",
   "metadata": {},
   "source": [
    "32"
   ]
  },
  {
   "cell_type": "markdown",
   "metadata": {},
   "source": [
    "43\n",
    "Share\n",
    "Prakash is bored and wants to spends his time. He starts rolling a die (having the face values as 1, 2, 3, 4, 8, 15, 7, 9) and observes that some of the values keep repeating. Also while rolling n times, some face appear once only. Find the number on its face.\n",
    "\n",
    "Constraints\n",
    "\n",
    "0 <   N  <= 100\n",
    "\n",
    "0 <= A[i] <= 100\n",
    "\n",
    " \n",
    "\n",
    "Input Description:\n",
    "The first line contains a positive integer N, denoting the size of the array. The second line contains N positive integers, denoting the face values that appeared when the die was rolled.\n",
    "\n",
    "Output Description:\n",
    "Print out the singly occurring number. print 0 if no numbers are repeating.\n",
    "\n",
    "Sample Input :\n",
    "5\n",
    "1 1 2 5 5\n",
    "Sample Output :\n",
    "2"
   ]
  },
  {
   "cell_type": "code",
   "execution_count": null,
   "metadata": {},
   "outputs": [],
   "source": [
    "n = int(input())\n",
    "nums = list(map(int, input().split()))\n",
    "\n",
    "checked = []\n",
    "ans = []\n",
    "for i in range(n):\n",
    "    if nums[i] in ans: ans.remove(nums[i])\n",
    "    elif nums[i] not in checked: ans.append(nums[i])\n",
    "    checked.append(nums[i])\n",
    "\n",
    "print(*ans)"
   ]
  },
  {
   "cell_type": "markdown",
   "metadata": {},
   "source": [
    "33"
   ]
  },
  {
   "cell_type": "markdown",
   "metadata": {},
   "source": [
    "44\n",
    "Share\n",
    "An organization named “JPOKS” has a well-maintained library in its own building. Librarian orders and gets books for the library very frequently. Each book which is newly arrived has its own unique serial number. The books initially are placed in descending order. The librarian want to place a new book without disturbing the descending order of books in terms of unique id. Now you must help librarian to find the right spot for placing the book.\n",
    "\n",
    "Input Description:\n",
    "The first line of program contains integer ‘n denoting no. of books already placed in the shelf. Next line contains n serial number of already placed books. Next line contains integer m denoting no of new books to be placed on the shelf. Next line contains m serial numbers of new book.\n",
    "\n",
    "Output Description:\n",
    "print the position at which it must be placed\n",
    "\n",
    "Sample Input :\n",
    "7\n",
    "95 68 62 58 55 41 30\n",
    "2\n",
    "45 61\n",
    "Sample Output :\n",
    "6 4"
   ]
  },
  {
   "cell_type": "code",
   "execution_count": null,
   "metadata": {},
   "outputs": [],
   "source": [
    "n1 = int(input())\n",
    "nums1 = list(map(int, input().split()))\n",
    "\n",
    "n2 = int(input())\n",
    "nums2 = list(map(int, input().split()))\n",
    "\n",
    "ans = []\n",
    "\n",
    "for i in nums2:\n",
    "    ind = 0\n",
    "    for j in range(n1):\n",
    "        if nums1[j] < i: \n",
    "            ind = j+1\n",
    "            break\n",
    "    if ind:\n",
    "        ans.append(ind)\n",
    "    else: \n",
    "        ans.append(n1+1)\n",
    "print(*ans)"
   ]
  },
  {
   "cell_type": "markdown",
   "metadata": {},
   "source": [
    "34"
   ]
  },
  {
   "cell_type": "markdown",
   "metadata": {},
   "source": [
    "array45\n",
    "Share\n",
    "Mr.Stark wants to order the employee ids, which are recorded in a 2D matrix, in ascending order. He wants to do it so as to allot a new id to a person who joins as a fresher. You are the CTO of the Stark industries and you are asked by Mr.Stark to sort the data.\n",
    " \n",
    "\n",
    "Input Description:\n",
    "Dimensions of the matrix m and n, followed by the elements of the matrix.\n",
    "\n",
    "Output Description:\n",
    "Matrix sorted in ascending order\n",
    "\n",
    "Sample Input :\n",
    "3 3\n",
    "87 21 34\n",
    "89 32 78\n",
    "12 23 45\n",
    "Sample Output :\n",
    "12 21 23\n",
    "32 34 45\n",
    "78 87 89\n"
   ]
  },
  {
   "cell_type": "code",
   "execution_count": null,
   "metadata": {},
   "outputs": [],
   "source": [
    "r, c = map(int, input().split())\n",
    "nums = []\n",
    "for i in range(r):\n",
    "    nums.extend(list(map(int, input().split())))\n",
    "\n",
    "nums = sorted(nums)\n",
    "for i in range(r):\n",
    "    row = []\n",
    "    for j in range(c):\n",
    "        row.append(nums.pop(0))\n",
    "    print(*row)"
   ]
  },
  {
   "cell_type": "markdown",
   "metadata": {},
   "source": [
    "35"
   ]
  },
  {
   "cell_type": "markdown",
   "metadata": {},
   "source": [
    "46\n",
    "Share\n",
    "You are given an array F of focal lengths of size f, F[0], F[1],...F[f-1]. You are asked to determine the indices of the elements from the biggest element to the smallest element.\n",
    "\n",
    "Input Description:\n",
    "The first line contains an integer f. The next line contains f space separated integers F[i], (0 <= i <= f-1) Note: The elements of F[i] are pairwise distinct.\n",
    "\n",
    "Output Description:\n",
    "Print f space separated integers, denoting the indices of the elements, from biggest element to smallest.\n",
    "\n",
    "Sample Input :\n",
    "3\n",
    "1 5 4\n",
    "Sample Output :\n",
    "1 2 0"
   ]
  },
  {
   "cell_type": "code",
   "execution_count": null,
   "metadata": {},
   "outputs": [],
   "source": [
    "n = int(input())\n",
    "nums = list(map(int, input().split()))\n",
    "\n",
    "nums2 = nums.copy()\n",
    "ans = []\n",
    "\n",
    "for i in nums:\n",
    "    ans.append(nums.index(max(nums2)))\n",
    "    nums2.remove(max(nums2))\n",
    "\n",
    "print(*ans)"
   ]
  },
  {
   "cell_type": "markdown",
   "metadata": {},
   "source": [
    "36"
   ]
  },
  {
   "cell_type": "markdown",
   "metadata": {},
   "source": [
    "47\n",
    "Share\n",
    "Your old mobile phone gets broken and so you want to purchase a new smartphone and decide to go through all the online websites to find out which dealer has the best offer for a particular model. You document the prices of N dealers. Dealer ids start from 0 and go up to N.  Find out which dealer has the best price for you.\n",
    "\n",
    "Constraints:\n",
    "\n",
    "1 <= N <= 100\n",
    "\n",
    "1 <= A[] <= 100000\n",
    "\n",
    " \n",
    "\n",
    "Input Description:\n",
    "Number of dealers followed by the price offered by each dealer\n",
    "\n",
    "Output Description:\n",
    "Dealer offering the best price.\n",
    "\n",
    "Sample Input :\n",
    "3\n",
    "10000 11200 12030\n",
    "Sample Output :\n",
    "Dealer0"
   ]
  },
  {
   "cell_type": "code",
   "execution_count": null,
   "metadata": {},
   "outputs": [],
   "source": [
    "n = int(input())\n",
    "nums = list(map(int, input().split()))\n",
    "\n",
    "print('Dealer'+str(nums.index(min(nums))))"
   ]
  },
  {
   "cell_type": "markdown",
   "metadata": {},
   "source": [
    "37"
   ]
  },
  {
   "cell_type": "markdown",
   "metadata": {},
   "source": [
    "49\n",
    "Share\n",
    "Ramit is given a list of both positive and negative integers. He has to tell the maximum sum out of all subarrays in the given list. He got confused and requested help from you. Now it is your task to find the maximum sum out of all subarrays in the given list.\n",
    "\n",
    "Input Description:\n",
    "You are given a number 'n'. Next line contains n space separated numbers.\n",
    "\n",
    "Output Description:\n",
    "Print the max sum of subarray.\n",
    "\n",
    "Sample Input :\n",
    "5\n",
    "1 2 3 -2 5\n",
    "Sample Output :\n",
    "9"
   ]
  },
  {
   "cell_type": "code",
   "execution_count": null,
   "metadata": {},
   "outputs": [],
   "source": [
    "n = int(input())\n",
    "nums = list(map(int, input().split()))\n",
    "\n",
    "sums = []\n",
    "\n",
    "for i in range(n):\n",
    "    sums.append(sum(nums[i:]))   \n",
    "    sums.append(sum(nums[0:n-i]))\n",
    "print(max(sums))"
   ]
  },
  {
   "cell_type": "markdown",
   "metadata": {},
   "source": [
    "38"
   ]
  },
  {
   "cell_type": "markdown",
   "metadata": {},
   "source": [
    "50\n",
    "Share\n",
    "Ram is the CEO of an MNC. He wants to order the employee salaries in ascending order so that he can do a salary hike based on the salary values of employees. He selects you to do the task of sorting the salaries. Sort the salaries in ascending order and pass on the information to Ram.\n",
    " \n",
    "\n",
    "Input Description:\n",
    "Number of employees followed by the salaries of employees.\n",
    "\n",
    "Output Description:\n",
    "Salaries sorted in ascending order.\n",
    "\n",
    "Sample Input :\n",
    "8\n",
    "7000 8000 6500 1200 4000 2800 3000 5230\n",
    "Sample Output :\n",
    "1200 2800 3000 4000 5230 6500 7000 8000"
   ]
  },
  {
   "cell_type": "code",
   "execution_count": null,
   "metadata": {},
   "outputs": [],
   "source": [
    "n = int(input())\n",
    "nums = list(map(int, input().split()))\n",
    "\n",
    "print(*sorted(nums))"
   ]
  },
  {
   "cell_type": "markdown",
   "metadata": {},
   "source": [
    "39"
   ]
  },
  {
   "cell_type": "markdown",
   "metadata": {},
   "source": [
    "52\n",
    "Share\n",
    "You are head incharge of sports activity in queue. Your task is to sort the students height wise in line. But you can only swap students.Your task is to determine the minimum possible swaps required to sort the students in queue according to heights\n",
    "\n",
    "Input Description:\n",
    "You are given with number ‘n’ denoting number of students. Next line contains n space separated integers denoting their height.\n",
    "\n",
    "Output Description:\n",
    "Print the minimum number of swaps required to sort the students in line.\n",
    "\n",
    "Sample Input :\n",
    "5\n",
    "1 5 4 3 2\n",
    "Sample Output :\n",
    "2"
   ]
  },
  {
   "cell_type": "code",
   "execution_count": null,
   "metadata": {},
   "outputs": [],
   "source": [
    "n = int(input())\n",
    "nums = list(map(int, input().split()))\n",
    "\n",
    "def min_swaps_to_sort(heights):\n",
    "    height_to_index = {height: i for i, height in enumerate(heights)}\n",
    "    print(height_to_index)\n",
    "\n",
    "    visited = [False] * len(heights)  # Track visited indices\n",
    "    swaps = 0\n",
    "\n",
    "    for i in range(len(heights)):\n",
    "        if visited[i]:  # Skip if already visited\n",
    "            continue\n",
    "\n",
    "        cycle_length = 0\n",
    "        j = i\n",
    "        while not visited[j]:\n",
    "            visited[j] = True\n",
    "            print(heights[j])\n",
    "            j = height_to_index[heights[j]]\n",
    "            cycle_length += 1\n",
    "\n",
    "        swaps += cycle_length  # Swaps in a cycle\n",
    "\n",
    "    return swaps\n",
    "\n",
    "result = min_swaps_to_sort(nums)\n",
    "print(result//2)  # Output: 2\n"
   ]
  },
  {
   "cell_type": "code",
   "execution_count": null,
   "metadata": {},
   "outputs": [],
   "source": [
    "def min_swaps_to_sort(arr):\n",
    "    n = len(arr)\n",
    "\n",
    "    # Create two arrays and use\n",
    "    # as pairs where first array\n",
    "    # is element and second array\n",
    "    # is position of first element\n",
    "    arrpos = [*enumerate(arr)]\n",
    "\n",
    "    # Sort the array by array element\n",
    "    # values to get right position of\n",
    "    # every element as the elements\n",
    "    # of second array.\n",
    "    arrpos.sort(key=lambda it: it[1])\n",
    "\n",
    "    # To keep track of visited elements.\n",
    "    # Initialize all elements as not\n",
    "    # visited or false.\n",
    "    vis = {k: False for k in range(n)}\n",
    "\n",
    "    # Initialize result\n",
    "    ans = 0\n",
    "    print('arrpos', arrpos)\n",
    "    for i in range(n):\n",
    "\n",
    "        # already swapped or\n",
    "        # already present at\n",
    "        # correct position\n",
    "        if vis[i] or arrpos[i][0] == i:\n",
    "            print(f' continuing cause: visited {i}, or index in index {i} is = {i}')\n",
    "            continue\n",
    "\n",
    "        # find number of nodes\n",
    "        # in this cycle and\n",
    "        # add it to ans\n",
    "        cycle_size = 0\n",
    "        j = i\n",
    "\n",
    "        while not vis[j]:\n",
    "            print(f'i,j {i,j}')\n",
    "\n",
    "            # mark node as visited\n",
    "            vis[j] = True\n",
    "            print(f'visited index {j}, {vis}')\n",
    "\n",
    "            # move to next node\n",
    "            print(f'find n move to what index is in current j = {j}')\n",
    "            j = arrpos[j][0]\n",
    "            print(f'moved to {j}')\n",
    "            cycle_size += 1\n",
    "            print(f'add 1 cycle size , {cycle_size}')\n",
    "\n",
    "        # update answer by adding\n",
    "        # current cycle\n",
    "        if cycle_size > 0:\n",
    "            ans += (cycle_size - 1)\n",
    "            print(f'add {cycle_size } cycles to ans {ans}')\n",
    "\n",
    "    # return answer\n",
    "    return ans\n",
    "\n",
    "result = min_swaps_to_sort([1,12,1])\n",
    "print(result)  # Output: 2\n"
   ]
  },
  {
   "cell_type": "markdown",
   "metadata": {},
   "source": [
    "40"
   ]
  },
  {
   "cell_type": "markdown",
   "metadata": {},
   "source": [
    "54\n",
    "Share\n",
    "Given a number N and an array of N integers, find the sum of all the negative numbers in the array.\n",
    "Input Size : N <= 100000\n",
    "Sample Testcase :\n",
    "INPUT\n",
    "2\n",
    "3 0\n",
    "OUTPUT\n",
    "0"
   ]
  },
  {
   "cell_type": "code",
   "execution_count": null,
   "metadata": {},
   "outputs": [],
   "source": [
    "n = int(input())\n",
    "nums = list(map(int, input().split()))\n",
    "\n",
    "ans = 0\n",
    "for i in range(n):\n",
    "    if nums[i]<0:ans+=nums[i]\n",
    "print(ans)"
   ]
  },
  {
   "cell_type": "markdown",
   "metadata": {},
   "source": [
    "41"
   ]
  },
  {
   "cell_type": "markdown",
   "metadata": {},
   "source": [
    "55\n",
    "Share\n",
    "Given 2 numbers N and K followed by N elements, find the Kth smallest element.If the element cannot be found then print -1\n",
    "Input Size : N <= 100000\n",
    "Sample Testcase :\n",
    "INPUT\n",
    "5 2\n",
    "1 1 2 4 5\n",
    "OUTPUT\n",
    "2"
   ]
  },
  {
   "cell_type": "code",
   "execution_count": null,
   "metadata": {},
   "outputs": [],
   "source": [
    "n, k = map(int, input().split())\n",
    "nums = list(map(int, input().split()))\n",
    "nums = list(set(nums))\n",
    "if len(nums)<k: print(-1)\n",
    "else:\n",
    "    for i in range(len(nums)-1):\n",
    "        nums.remove(min(nums))\n",
    "    \n",
    "    print(min(nums) if nums else -1)"
   ]
  },
  {
   "cell_type": "markdown",
   "metadata": {},
   "source": [
    "42"
   ]
  },
  {
   "cell_type": "markdown",
   "metadata": {},
   "source": [
    "56\n",
    "Share\n",
    "Rajesh was going through alternative array sorting. He wishes to print the array alternatively. Hence hired you. Your task is to help rajesh in printing the array alternatively.\n",
    "\n",
    "\n",
    "\n",
    "An alternative array is an array in which first element is maximum of the whole array second element is minimum of the whole array. Third element is the second largest. Fourth element is the second smallest And so on. print the array in the desired manner.\n",
    "\n",
    "\n",
    "\n",
    "\n",
    "Input Description:\n",
    "You are given with the length of array ‘n’. followed by ‘n’ space separated numbers.\n",
    "\n",
    "Output Description:\n",
    "Print the array as mentioned.\n",
    "\n",
    "Sample Input :\n",
    "5 1 7 11 16 19\n",
    "Sample Output :\n",
    "19 1 16 7 11"
   ]
  },
  {
   "cell_type": "code",
   "execution_count": null,
   "metadata": {},
   "outputs": [],
   "source": [
    "n = int(input())\n",
    "nums = list(map(int, input().split()))\n",
    "ans = []\n",
    "while len(nums) > 0:\n",
    "    if len(ans)%2 == 0:\n",
    "        ans.append(max(nums))\n",
    "        nums.remove(max(nums))\n",
    "    else:\n",
    "        ans.append(min(nums))\n",
    "        nums.remove(min(nums))\n",
    "\n",
    "print(*ans)"
   ]
  },
  {
   "cell_type": "markdown",
   "metadata": {},
   "source": [
    "43"
   ]
  },
  {
   "cell_type": "markdown",
   "metadata": {},
   "source": [
    "57\n",
    "Share\n",
    "You are given an array of digits. Your task is to print the digit with maximum frequency.\n",
    "\n",
    "Input Description:\n",
    "You are given length of array ’n’,next line contains n space separated numbers.\n",
    "\n",
    "Output Description:\n",
    "Print the number with maximum frequency. If two number have equal freqency prin the number that comes first\n",
    "\n",
    "Sample Input :\n",
    "7\n",
    "1 2 3 4 4 4 5\n",
    "Sample Output :\n",
    "4"
   ]
  },
  {
   "cell_type": "code",
   "execution_count": null,
   "metadata": {},
   "outputs": [],
   "source": [
    "n = int(input())\n",
    "nums = list(map(int, input().split()))\n",
    "counts = {}\n",
    "for i in nums:\n",
    "    counts[i] = counts.get(i, 0) + 1\n",
    "order = sorted(counts.items(), key=lambda x: -x[1])\n",
    "print(order[0][0])"
   ]
  },
  {
   "cell_type": "markdown",
   "metadata": {},
   "source": [
    "44"
   ]
  },
  {
   "cell_type": "markdown",
   "metadata": {},
   "source": [
    "Given 2 numbers N,K print the array after deleting the last K elements.\n",
    "Input Size : N,K <= 100000\n",
    "Sample Testcase :\n",
    "INPUT\n",
    "5 4\n",
    "1 2 3 4 5\n",
    "OUTPUT\n",
    "1"
   ]
  },
  {
   "cell_type": "code",
   "execution_count": null,
   "metadata": {},
   "outputs": [],
   "source": [
    "n, k = map(int, input().split())\n",
    "nums = list(map(int, input().split()))\n",
    "\n",
    "print(*nums[:n-k])"
   ]
  },
  {
   "cell_type": "markdown",
   "metadata": {},
   "source": [
    "45"
   ]
  },
  {
   "cell_type": "markdown",
   "metadata": {},
   "source": [
    "array59\n",
    "Share\n",
    "Given 2 numbers N,K followed by N elements print all the elements lesser than K in sorted order.If the elements could not be found print -1\n",
    "Input Size : N <= 100000\n",
    "Sample Testcase :\n",
    "INPUT\n",
    "5 3\n",
    "1 2 1 4 1\n",
    "OUTPUT\n",
    "1 1 1 2\n",
    "\n"
   ]
  },
  {
   "cell_type": "code",
   "execution_count": null,
   "metadata": {},
   "outputs": [],
   "source": [
    "n, k = map(int, input().split())\n",
    "nums = list(map(int, input().split()))\n",
    "\n",
    "ans = [i for i in nums if i < k]\n",
    "\n",
    "print(*ans if ans else [-1])"
   ]
  },
  {
   "cell_type": "markdown",
   "metadata": {},
   "source": [
    "46"
   ]
  },
  {
   "cell_type": "markdown",
   "metadata": {},
   "source": [
    "60\n",
    "Share\n",
    " Rajat is given some special task to calculate the largest sum of two consecutive elements.He solved some of questions but he is not sure whether his answer is correct or not. Your task is to help him in determining whether answers posted by him are correct or not.\n",
    "\n",
    "Input Description:\n",
    "The first line of the input is a integer N. The second line of the input consists of N space separated integer.\n",
    "\n",
    "Output Description:\n",
    "Print the max sum of two consecutive numbers from the given N numbers\n",
    "\n",
    "Sample Input :\n",
    "5\n",
    "1 5 6 8 3\n",
    "Sample Output :\n",
    "14"
   ]
  },
  {
   "cell_type": "code",
   "execution_count": null,
   "metadata": {},
   "outputs": [],
   "source": [
    "n = int(input())\n",
    "nums = list(map(int, input().split()))\n",
    "\n",
    "sums = [sum(nums[i:i+2]) for i in range(n-1)]\n",
    "print(max(sums))"
   ]
  },
  {
   "cell_type": "markdown",
   "metadata": {},
   "source": [
    "47"
   ]
  },
  {
   "cell_type": "markdown",
   "metadata": {},
   "source": [
    "61\n",
    "Share\n",
    "Given an array, find the maximum difference between any two elements.\n",
    "Input Size : N <= 1000000(complexity O(n) or O(nlogn))\n",
    "Sample Testcase :\n",
    "INPUT\n",
    "5\n",
    "1 2 3 4 5\n",
    "OUTPUT\n",
    "4"
   ]
  },
  {
   "cell_type": "code",
   "execution_count": null,
   "metadata": {},
   "outputs": [],
   "source": [
    "n = int(input())\n",
    "nums = list(map(int, input().split()))\n",
    "\n",
    "difs = []\n",
    "for i in nums:\n",
    "    for j in nums:\n",
    "        difs.append(i-j) \n",
    "print(max(difs))"
   ]
  },
  {
   "cell_type": "markdown",
   "metadata": {},
   "source": [
    "48"
   ]
  },
  {
   "cell_type": "markdown",
   "metadata": {},
   "source": [
    "63\n",
    "Share\n",
    "Given a number N followed by N elements if the number '0' occurs print the proceeding numbers until next '0' is encountered.If there is no balancing 0's print -1.\n",
    "Input Size : 1 < N <= 100000(complexity O(n))\n",
    "Sample Testcase :\n",
    "INPUT\n",
    "10\n",
    "1 1 1 0 1 0 1 1 0 1\n",
    "OUTPUT\n",
    "1 1 1"
   ]
  },
  {
   "cell_type": "code",
   "execution_count": null,
   "metadata": {},
   "outputs": [],
   "source": [
    "n = int(input())\n",
    "nums = list(map(int, input().split()))\n",
    "\n",
    "if nums.count(0) > 1:\n",
    "    ans = []\n",
    "    started = 0\n",
    "    items = []\n",
    "    for i in nums:\n",
    "        if started:\n",
    "            if i ==1:\n",
    "                items.append(1)\n",
    "            elif i==0: \n",
    "                ans.extend(items)\n",
    "                items = []\n",
    "        elif i == 0: \n",
    "            started = 1\n",
    "        \n",
    "    print(*ans)\n",
    "else: print(-1)"
   ]
  },
  {
   "cell_type": "markdown",
   "metadata": {},
   "source": [
    "49"
   ]
  },
  {
   "cell_type": "markdown",
   "metadata": {},
   "source": [
    "65\n",
    "Share\n",
    "Prateek finds it difficult to judge the minimum element in the list of elements given to him. Your task is to develop the algorithm in order to find the minimum element.\n",
    "\n",
    "Input Description:\n",
    "You are given ‘n’ number of elements. Next line contains n space separated numbers.\n",
    "\n",
    "Output Description:\n",
    "Print the minimum element\n",
    "\n",
    "Sample Input :\n",
    "5\n",
    "3 4 9 1 6\n",
    "Sample Output :\n",
    "1"
   ]
  },
  {
   "cell_type": "code",
   "execution_count": null,
   "metadata": {},
   "outputs": [],
   "source": [
    "n = int(input())\n",
    "nums = list(map(int, input().split()))\n",
    "\n",
    "print(min(nums))"
   ]
  },
  {
   "cell_type": "markdown",
   "metadata": {},
   "source": [
    "50"
   ]
  },
  {
   "cell_type": "markdown",
   "metadata": {},
   "source": [
    "66\n",
    "Share\n",
    "Given a number N followed by N elements for every 2 consecutive numbers print the maximum of the 2.\n",
    "Input Size : N <= 100000 (ie do it in O(n) time complexity)\n",
    "Sample Testcase :\n",
    "INPUT\n",
    "5\n",
    "1 1 3 0 5\n",
    "OUTPUT\n",
    "1 3 3 5"
   ]
  },
  {
   "cell_type": "code",
   "execution_count": null,
   "metadata": {},
   "outputs": [],
   "source": [
    "n = int(input())\n",
    "nums = list(map(int, input().split()))\n",
    "\n",
    "print(*[max(nums[i:i+2]) for i in range(0, n-1)])"
   ]
  },
  {
   "cell_type": "markdown",
   "metadata": {},
   "source": [
    "51"
   ]
  },
  {
   "cell_type": "markdown",
   "metadata": {},
   "source": [
    "70\n",
    "Share\n",
    "Given a number N followed by N elements, find the second smallest element.If it cannot be found then print -1\n",
    "Input Size : N <= 100000 (ie do it in O(log n) time complexity)\n",
    "Sample Testcase :\n",
    "INPUT\n",
    "5\n",
    "1 2 3 4 5\n",
    "OUTPUT\n",
    "2"
   ]
  },
  {
   "cell_type": "code",
   "execution_count": null,
   "metadata": {},
   "outputs": [],
   "source": [
    "n = int(input())\n",
    "nums = list(set(map(int, input().split())))\n",
    "if len(nums)<2: print(-1)\n",
    "else:\n",
    "    nums.remove(min(nums))\n",
    "    print(min(nums))"
   ]
  },
  {
   "cell_type": "markdown",
   "metadata": {},
   "source": [
    "52"
   ]
  },
  {
   "cell_type": "markdown",
   "metadata": {},
   "source": [
    "71\n",
    "Share\n",
    "Given two numbers N,K followed by an array of N elements, print the array after doing right shift K times (in cyclic manner).\n",
    "Input Size : 1 <= N, K <= 100000\n",
    "Sample Testcase :\n",
    "INPUT\n",
    "3 2\n",
    "7 2 3\n",
    "OUTPUT\n",
    "2 3 7"
   ]
  },
  {
   "cell_type": "code",
   "execution_count": null,
   "metadata": {},
   "outputs": [],
   "source": [
    "n, k = map(int, input().split())\n",
    "nums = list(map(int, input().split()))\n",
    "\n",
    "\n",
    "for i in range(k):\n",
    "    nums.insert(0, nums.pop(-1))\n",
    "print(*nums)"
   ]
  },
  {
   "cell_type": "markdown",
   "metadata": {},
   "source": [
    "53"
   ]
  },
  {
   "cell_type": "markdown",
   "metadata": {},
   "source": [
    "72\n",
    "Share\n",
    "Given a number N,K followed by array of N elements where the difference between any adjacent elements is 1. Find the position of the given number K.If K not found in the array print -1\n",
    "Sample Testcase :\n",
    "INPUT\n",
    "5 1\n",
    "3 2 1 2 3\n",
    "OUTPUT\n",
    "3"
   ]
  },
  {
   "cell_type": "code",
   "execution_count": null,
   "metadata": {},
   "outputs": [],
   "source": [
    "n, k = map(int, input().split())\n",
    "nums = list(map(int, input().split()))\n",
    "if k in nums:\n",
    "    print(nums.index(k)+1)\n",
    "else: print(-1)"
   ]
  },
  {
   "cell_type": "markdown",
   "metadata": {},
   "source": [
    "54"
   ]
  },
  {
   "cell_type": "markdown",
   "metadata": {},
   "source": [
    "73\n",
    "Share\n",
    "Given 2 numbers N,K followed by a sorted array of N elements, search and tell if an element K is present in the array.print 'yes' if element is present otherwise print 'no'.\n",
    "Input Size : 1 <= N <= 1000000000000000(Do it in logN time complexity)\n",
    "Sample Testcase :\n",
    "INPUT\n",
    "3 2\n",
    "2 3 7\n",
    "OUTPUT\n",
    "Yes"
   ]
  },
  {
   "cell_type": "code",
   "execution_count": null,
   "metadata": {},
   "outputs": [],
   "source": [
    "n, k = map(int, input().split())\n",
    "nums = list(map(int, input().split()))\n",
    "if k in nums:\n",
    "    print('yes')\n",
    "else: print('no')"
   ]
  },
  {
   "cell_type": "markdown",
   "metadata": {},
   "source": [
    "55"
   ]
  },
  {
   "cell_type": "markdown",
   "metadata": {},
   "source": [
    "75\n",
    "Share\n",
    "Given 2 array of size N and M.merge them in sorted order and print it.\n",
    "Input Size : |N||M| <= 100000( O(n))\n",
    "Sample Testcase :\n",
    "INPUT\n",
    "5 4\n",
    "1 2 3 4 5\n",
    "1 2 3 4\n",
    "OUTPUT\n",
    "1 1 2 2 3 3 4 4 5"
   ]
  },
  {
   "cell_type": "code",
   "execution_count": null,
   "metadata": {},
   "outputs": [],
   "source": [
    "n, k = map(int, input().split())\n",
    "nums = list(map(int, input().split()))\n",
    "nums.extend(list(map(int, input().split())))\n",
    "nums = sorted(nums)\n",
    "print(*nums)"
   ]
  },
  {
   "cell_type": "markdown",
   "metadata": {},
   "source": [
    "56"
   ]
  },
  {
   "cell_type": "markdown",
   "metadata": {},
   "source": [
    "76\n",
    "Share\n",
    "Given two strings S1 and S2. The task is to find if a string 'S2’' can be obtained by rotating another string 'S1’' by 2 places using Stack.\n",
    "\n",
    "Input Description:\n",
    "The first line of the input contains the string S1. The second line of the input contains the string S2\n",
    "\n",
    "Output Description:\n",
    "Print 1 if the string S2 can be obtained by rotating string S1 by two places else print 0.\n",
    "\n",
    "Sample Input :\n",
    "amazon\n",
    "azonam\n",
    "Sample Output :\n",
    "1"
   ]
  },
  {
   "cell_type": "code",
   "execution_count": null,
   "metadata": {},
   "outputs": [],
   "source": [
    "a = input()\n",
    "b = input()\n",
    "\n",
    "if a == b[-2:]+b[:-2]: print(1)\n",
    "else: print(0)"
   ]
  },
  {
   "cell_type": "markdown",
   "metadata": {},
   "source": [
    "57"
   ]
  },
  {
   "cell_type": "markdown",
   "metadata": {},
   "source": [
    "78\n",
    "Share\n",
    "Given a number N and an array of N elements, find the length of the longest repeating sequence of the elements.If no such sequence is found print -1\n",
    "Input Size : N <= 100000\n",
    "Sample Testcase :\n",
    "INPUT\n",
    "8\n",
    "1 2 2 2 3 4 5 6\n",
    "OUTPUT\n",
    "3"
   ]
  },
  {
   "cell_type": "code",
   "execution_count": null,
   "metadata": {},
   "outputs": [],
   "source": [
    "n = int(input())\n",
    "nums = list(map(int, input().split()))\n",
    "counts = {}\n",
    "for i in nums:\n",
    "    counts[i] = counts.get(i, 0) + 1\n",
    "order = sorted([x for x in counts.items() if x[1] > 1], key=lambda x: -x[1])\n",
    "if order:\n",
    "    print(order[0][1])\n",
    "else: print(-1)"
   ]
  },
  {
   "cell_type": "markdown",
   "metadata": {},
   "source": [
    "58"
   ]
  },
  {
   "cell_type": "markdown",
   "metadata": {},
   "source": [
    "79\n",
    "Share\n",
    "Given a number N and an array of N elements, find the sum of the sums obtained by considering all consecutive pairs of adjacent elements.\n",
    "Input Size : N <= 100000\n",
    "Sample Testcase :\n",
    "INPUT\n",
    "5\n",
    "1 2 3 4 5\n",
    "OUTPUT\n",
    "24((1+2)+(2+3)+(3+4)+(4+5))"
   ]
  },
  {
   "cell_type": "code",
   "execution_count": null,
   "metadata": {},
   "outputs": [],
   "source": [
    "n = int(input())\n",
    "nums = list(map(int, input().split()))\n",
    "\n",
    "print(sum(nums)*2-nums[0]-nums[-1])"
   ]
  },
  {
   "cell_type": "markdown",
   "metadata": {},
   "source": [
    "59"
   ]
  },
  {
   "cell_type": "markdown",
   "metadata": {},
   "source": [
    "80\n",
    "Share\n",
    "Given 2 numbers N and M followed by N numbers and M numbers, print the common numbers in sorted order.\n",
    "Input Size : N,M <= 100000 (ie do it in O(n) time complexity)\n",
    "Sample Testcase :\n",
    "INPUT\n",
    "5 4\n",
    "1 2 3 4 5 1 2 3 4\n",
    "OUTPUT\n",
    "1 2 3 4"
   ]
  },
  {
   "cell_type": "code",
   "execution_count": null,
   "metadata": {},
   "outputs": [],
   "source": [
    "n, m = map(int, input().split())\n",
    "nums = list(map(int, input().split()))\n",
    "\n",
    "reps = []\n",
    "\n",
    "for i in nums[:n]:\n",
    "    if i in nums[-m:]: reps.append(i)\n",
    "print(*reps)"
   ]
  },
  {
   "cell_type": "markdown",
   "metadata": {},
   "source": [
    "60"
   ]
  },
  {
   "cell_type": "markdown",
   "metadata": {},
   "source": [
    "Given a number N in decimal convert it into binary value.\n",
    "Input Size : N <= 100000\n",
    "Sample Testcase :\n",
    "INPUT\n",
    "5\n",
    "OUTPUT\n",
    "101"
   ]
  },
  {
   "cell_type": "code",
   "execution_count": null,
   "metadata": {},
   "outputs": [],
   "source": [
    "a = int(input())\n",
    "print(bin(a).replace(\"0b\", \"\"))"
   ]
  },
  {
   "cell_type": "markdown",
   "metadata": {},
   "source": [
    "61"
   ]
  },
  {
   "cell_type": "markdown",
   "metadata": {},
   "source": [
    "82\n",
    "Share\n",
    "Given a number N and an array of N elements, print the array after removing duplicate elements.If no duplicate elements found print the same.\n",
    "Input Size : N <= 100000\n",
    "Sample Testcase :\n",
    "INPUT\n",
    "4\n",
    "2 4 4 2\n",
    "OUTPUT\n",
    "2 4"
   ]
  },
  {
   "cell_type": "code",
   "execution_count": null,
   "metadata": {},
   "outputs": [],
   "source": [
    "n = int(input())\n",
    "nums = list(map(int, input().split()))\n",
    "reps=[]\n",
    "for i in nums:\n",
    "    if i not in reps and nums.count(i)>1: reps.append(i)\n",
    "print(*reps if reps else nums)"
   ]
  },
  {
   "cell_type": "markdown",
   "metadata": {},
   "source": [
    "62"
   ]
  },
  {
   "cell_type": "markdown",
   "metadata": {},
   "source": [
    "83\n",
    "Share\n",
    "Given a number N, followed by an array of N elements,print 'yes' if it is a sorted array(either ascending or descending)otherwise print 'no'.\n",
    "Input Size : 1 <= N <= 100000\n",
    "Sample Testcase :\n",
    "INPUT\n",
    "3\n",
    "2 3 7\n",
    "OUTPUT\n",
    "yes"
   ]
  },
  {
   "cell_type": "code",
   "execution_count": null,
   "metadata": {},
   "outputs": [],
   "source": [
    "n = int(input())\n",
    "nums = list(map(int, input().split()))\n",
    "print('yes' if nums == sorted(nums) or nums == sorted(nums, key=lambda x:-x) else 'no')"
   ]
  },
  {
   "cell_type": "markdown",
   "metadata": {},
   "source": [
    "63"
   ]
  },
  {
   "cell_type": "markdown",
   "metadata": {},
   "source": [
    "84\n",
    "Share\n",
    "Given 3 points check whether they lie on the same line.If they lie on the same line print 'yes' Otherwise print 'no'.\n",
    "Sample Testcase :\n",
    "INPUT\n",
    "0 1\n",
    "0 0\n",
    "0 2\n",
    "OUTPUT\n",
    "yes"
   ]
  },
  {
   "cell_type": "code",
   "execution_count": null,
   "metadata": {},
   "outputs": [],
   "source": [
    "a = list(map(int, input().split()))\n",
    "b = list(map(int, input().split()))\n",
    "c = list(map(int, input().split()))\n",
    "\n",
    "\n",
    "if  0.5 * abs((a[0] * (b[1] - c[1]) + b[0] * (c[1] - a[1]) + c[0] * (a[1] - b[1]))) == 0:\n",
    "    print('yes')\n",
    "else:\n",
    "    print('no')"
   ]
  },
  {
   "cell_type": "markdown",
   "metadata": {},
   "source": [
    "64"
   ]
  },
  {
   "cell_type": "markdown",
   "metadata": {},
   "source": [
    "86\n",
    "Share\n",
    "Given an array of N elements which follows either even number or odd number series.There may exists at maximum 1 even number in the odd series or 1 odd number in the even series.Find the different number if exists otherwise print '-1'?\n",
    "Input Size : |N| <= 100000\n",
    "Sample Testcase :\n",
    "INPUT\n",
    "5\n",
    "1 3 4 5 7\n",
    "OUTPUT\n",
    "4"
   ]
  },
  {
   "cell_type": "code",
   "execution_count": null,
   "metadata": {},
   "outputs": [],
   "source": [
    "n = int(input())\n",
    "nums = list(map(int, input().split()))\n",
    "\n",
    "evens = [x for x in nums if x%2 != 0]\n",
    "odds = [x for x in nums if x%2 == 0]\n",
    "\n",
    "if evens and odds:\n",
    "    if len(evens)<len(odds):\n",
    "        print(evens[0])\n",
    "    else: print(odds[0])\n",
    "else:\n",
    "    print(-1)"
   ]
  },
  {
   "cell_type": "markdown",
   "metadata": {},
   "source": [
    "65"
   ]
  },
  {
   "cell_type": "markdown",
   "metadata": {},
   "source": [
    "Given a number N and an array of N integers, print the minimum sum of the sub-array from the given array.\n",
    "Input Size : N <= 100000\n",
    "Sample Testcase :\n",
    "INPUT\n",
    "4\n",
    "2 4 4 2\n",
    "OUTPUT\n",
    "2"
   ]
  },
  {
   "cell_type": "code",
   "execution_count": null,
   "metadata": {},
   "outputs": [],
   "source": [
    "n = int(input())\n",
    "nums = list(map(int, input().split()))\n",
    "\n",
    "sums = []\n",
    "\n",
    "for i in range(n):\n",
    "    sums.append(sum(nums[i:]))   \n",
    "    sums.append(sum(nums[0:n-i]))\n",
    "print(min(sums))"
   ]
  },
  {
   "cell_type": "markdown",
   "metadata": {},
   "source": [
    "66"
   ]
  },
  {
   "cell_type": "markdown",
   "metadata": {},
   "source": [
    "92\n",
    "Share\n",
    "Given an array print the number of subarrays that can be formed with it.\n",
    "Input Size : N <= 100000\n",
    "Sample Testcase :\n",
    "INPUT\n",
    "5\n",
    "1 2 3 2 1\n",
    "OUTPUT\n",
    "15"
   ]
  },
  {
   "cell_type": "code",
   "execution_count": null,
   "metadata": {},
   "outputs": [],
   "source": [
    "n = int(input())\n",
    "nums = list(map(int, input().split()))\n",
    "\n",
    "ans = 0\n",
    "for i in range(n+1):\n",
    "    ans+=i \n",
    "    \n",
    "print(ans)"
   ]
  },
  {
   "cell_type": "markdown",
   "metadata": {},
   "source": [
    "67"
   ]
  },
  {
   "cell_type": "markdown",
   "metadata": {},
   "source": [
    "A number is given as input.Find the maximum number that can be formed using the digits.\n",
    "Input Size : N <= 10000000\n",
    "Sample Testcase :\n",
    "INPUT\n",
    "4123\n",
    "OUTPUT\n",
    "4321"
   ]
  },
  {
   "cell_type": "code",
   "execution_count": null,
   "metadata": {},
   "outputs": [],
   "source": [
    "print(*sorted(list(map(int, *input().split())), key= lambda x:-x), sep='')"
   ]
  },
  {
   "cell_type": "markdown",
   "metadata": {},
   "source": [
    "68"
   ]
  },
  {
   "cell_type": "markdown",
   "metadata": {},
   "source": [
    "94\n",
    "Share\n",
    "Given a number N and array of N integers, find the number which occurs the least number of times.\n",
    "Input Size : |N| <= 1000000\n",
    "Sample Testcase :\n",
    "INPUT\n",
    "5\n",
    "3 3 4 4 7\n",
    "OUTPUT\n",
    "7"
   ]
  },
  {
   "cell_type": "code",
   "execution_count": null,
   "metadata": {},
   "outputs": [],
   "source": [
    "n = int(input())\n",
    "nums = list(map(int, input().split()))\n",
    "\n",
    "counts = {}\n",
    "for i in nums:\n",
    "    counts[i] = counts.get(i, 0) + 1 \n",
    "    \n",
    "m = min(counts.values())\n",
    "ans = []\n",
    "for i in counts:\n",
    "    if counts[i] == m: ans.append(i)\n",
    "print(*reversed(ans))"
   ]
  },
  {
   "cell_type": "markdown",
   "metadata": {},
   "source": [
    "69"
   ]
  },
  {
   "cell_type": "markdown",
   "metadata": {},
   "source": [
    "95\n",
    "Share\n",
    "Given an array N, check if the values are alternating between increasing and decreasing.\n",
    "Input Size : N <= 100000\n",
    "Sample Testcase :\n",
    "INPUT\n",
    "5\n",
    "12 14 3 7 4\n",
    "OUTPUT\n",
    "yes"
   ]
  },
  {
   "cell_type": "code",
   "execution_count": null,
   "metadata": {},
   "outputs": [],
   "source": [
    "n = int(input())\n",
    "nums = list(map(int, input().split()))\n",
    "\n",
    "inc = True\n",
    "flag = 1\n",
    "\n",
    "\n",
    "for i in range(n-1):\n",
    "    if i==0:\n",
    "        if nums[i]<nums[i+1]:\n",
    "            inc = True\n",
    "        else:\n",
    "            inc = False\n",
    "    else:\n",
    "        if inc:\n",
    "            if nums[i]<nums[i+1]:\n",
    "                flag = 0\n",
    "                break\n",
    "            else:\n",
    "                inc = False\n",
    "        else:\n",
    "            if nums[i]>nums[i+1]:\n",
    "                flag = 0\n",
    "                break\n",
    "            else:\n",
    "                inc = True\n",
    "\n",
    "print('yes' if flag else 'no')"
   ]
  },
  {
   "cell_type": "markdown",
   "metadata": {},
   "source": [
    "70"
   ]
  },
  {
   "cell_type": "markdown",
   "metadata": {},
   "source": [
    "96\n",
    "Share\n",
    "Given 2 arrays print 'yes' if they are mirror images of each other,otherwise 'no'.\n",
    "Input Size : N <= 1000000\n",
    "Sample Testcase :\n",
    "INPUT\n",
    "4\n",
    "1 2 3 4\n",
    "4 3 2 1\n",
    "OUTPUT\n",
    "yes"
   ]
  },
  {
   "cell_type": "code",
   "execution_count": null,
   "metadata": {},
   "outputs": [],
   "source": [
    "n = int(input())\n",
    "nums1 = list(map(int, input().split()))\n",
    "nums2 = list(map(int, input().split()))\n",
    "\n",
    "if nums1 == list(reversed(nums2)):\n",
    "    print('yes')\n",
    "else:\n",
    "    print('no')"
   ]
  },
  {
   "cell_type": "markdown",
   "metadata": {},
   "source": [
    "71"
   ]
  },
  {
   "cell_type": "markdown",
   "metadata": {},
   "source": [
    "97\n",
    "Share\n",
    "Given 2 numbers N and K.Print the number of occurrences of K in N.If K is not found print '-1'.\n",
    "Input Size : 1 <= N <= 100000, 0 <= K <= 9\n",
    "Sample Testcase :\n",
    "INPUT\n",
    "1000 0\n",
    "OUTPUT\n",
    "3"
   ]
  },
  {
   "cell_type": "code",
   "execution_count": null,
   "metadata": {},
   "outputs": [],
   "source": [
    "a,b = input().split()\n",
    "ans = -1\n",
    "if b in a:\n",
    "    ans = a.count(b)\n",
    "print(ans)"
   ]
  },
  {
   "cell_type": "markdown",
   "metadata": {},
   "source": [
    "72"
   ]
  },
  {
   "cell_type": "markdown",
   "metadata": {},
   "source": [
    "Given a number N and array of N integers, print the difference between the indices of smallest and largest number(if there are multiple occurances, consider the first occurance).\n",
    "Input Size : |N| <= 1000000\n",
    "Sample Testcase :\n",
    "INPUT\n",
    "5\n",
    "3 5 4 4 7\n",
    "OUTPUT\n",
    "4"
   ]
  },
  {
   "cell_type": "code",
   "execution_count": null,
   "metadata": {},
   "outputs": [],
   "source": [
    "n = int(input())\n",
    "nums = list(map(int, input().split()))\n",
    "\n",
    "print(abs(nums.index(min(nums))-nums.index(max(nums))))"
   ]
  },
  {
   "cell_type": "markdown",
   "metadata": {},
   "source": [
    "73"
   ]
  },
  {
   "cell_type": "markdown",
   "metadata": {},
   "source": [
    "100\n",
    "Share\n",
    "J.S.Bhayana gave an integer array A of size N. If A[i] occurs A[i + 1] times in the array, i is called a beautiful index. Find the number of beautiful indices in the array. (1 <= i < N)\n",
    "(1 based indexing)\n",
    "\n",
    "Input Description:\n",
    "The first line contains an integer N, denoting the size of the array. The next line contains N space separated integers.\n",
    "\n",
    "Output Description:\n",
    "Print a line containing the number of beautiful indices in the array.\n",
    "\n",
    "Sample Input :\n",
    "4\n",
    "1 2 1 4 1 1\n",
    "Sample Output :\n",
    "3"
   ]
  },
  {
   "cell_type": "code",
   "execution_count": null,
   "metadata": {},
   "outputs": [],
   "source": [
    "n = int(input())\n",
    "nums = list(map(int, input().split()))\n",
    "\n",
    "counts = []\n",
    "for i in range(n):\n",
    "    counts.append((i+1, nums.count(nums[i])))\n",
    "\n",
    "btful = [x[0] for x in counts if x[0]+1==x[1]]\n",
    "\n",
    "print(*btful if btful else [0])"
   ]
  },
  {
   "cell_type": "markdown",
   "metadata": {},
   "source": [
    "74"
   ]
  },
  {
   "cell_type": "markdown",
   "metadata": {},
   "source": [
    "101\n",
    "Share\n",
    "Given an array arr[] and a number K where K is smaller than the size of array, the task is to find the Kth smallest element in the given array. It is given that all array elements are NOT distinct.\n",
    "\n",
    "Constraints:\n",
    "\n",
    "1 <= T <= 100\n",
    "\n",
    "1 <= N <= 105\n",
    "\n",
    "1 <= arr[i] <= 105\n",
    "\n",
    "1 <= K <= N\n",
    "\n",
    " \n",
    "\n",
    "Input Description:\n",
    "The first line of input contains an integer T, denoting the number of test cases. Then T test cases follow. Each test case consists of three lines. First line of each test case contains an integer N denoting size of the array. Second line contains N space separated integer denoting elements of the array. Third line of the test case contains an integer K.\n",
    "\n",
    "Output Description:\n",
    "Corresponding to each test case, print the desired output in a new line.\n",
    "\n",
    "Sample Input :\n",
    "2\n",
    "6\n",
    "7 10 4 3 3 4 \n",
    "3\n",
    "5\n",
    "7 10 4 15 15\n",
    "4\n",
    "Sample Output :\n",
    "7\n",
    "15"
   ]
  },
  {
   "cell_type": "code",
   "execution_count": null,
   "metadata": {},
   "outputs": [],
   "source": [
    "n = int(input())\n",
    "\n",
    "els = []\n",
    "for i in range(n):\n",
    "    c = int(input())\n",
    "    nums = sorted(list(map(int, input().split())))\n",
    "    k = int(input())\n",
    "    els.append(nums[k-1])\n",
    "print(*els, sep='\\n')"
   ]
  },
  {
   "cell_type": "markdown",
   "metadata": {},
   "source": [
    "75"
   ]
  },
  {
   "cell_type": "markdown",
   "metadata": {},
   "source": [
    "102\n",
    "Share\n",
    "Given an array of numbers and another number k. Find whether K exists and the number of time k repeats. If it does not exist just print no.\n",
    "Input Size : |N| <= 1000000\n",
    "Sample Testcase :\n",
    "INPUT\n",
    "5 3\n",
    "3 3 4 4 7\n",
    "OUTPUT\n",
    "yes 2"
   ]
  },
  {
   "cell_type": "code",
   "execution_count": null,
   "metadata": {},
   "outputs": [],
   "source": [
    "n, k = map(int, input().split())\n",
    "nums = list(map(int, input().split()))\n",
    "\n",
    "print(f'yes {nums.count(k)}' if k in nums else 'no')"
   ]
  },
  {
   "cell_type": "markdown",
   "metadata": {},
   "source": [
    "76"
   ]
  },
  {
   "cell_type": "markdown",
   "metadata": {},
   "source": [
    "103\n",
    "Share\n",
    "ou are given with an array of numbers.You have to print the middlemost element until the size of array becomes zero. When n is odd print the (n/2)+1 index(indexing at 1)\n",
    "\n",
    "Input Description:\n",
    "You are given a number ‘n’ denoting the size of array.Next line contains n space separated numbers.\n",
    "\n",
    "Output Description:\n",
    "Print as mentioned above\n",
    "\n",
    "Sample Input :\n",
    "5\n",
    "1 2 3 4 5 \n",
    "Sample Output :\n",
    "3 2 4 1 5"
   ]
  },
  {
   "cell_type": "code",
   "execution_count": null,
   "metadata": {},
   "outputs": [],
   "source": [
    "n = int(input())\n",
    "nums = list(map(int, input().split()))\n",
    "\n",
    "ans = []\n",
    "for i in range(n):\n",
    "    if len(nums)%2==0: \n",
    "        ans.append(nums.pop(len(nums)//2-1))\n",
    "    else:\n",
    "        ans.append(nums.pop(len(nums)//2))\n",
    "print(*ans)"
   ]
  },
  {
   "cell_type": "markdown",
   "metadata": {},
   "source": [
    "77"
   ]
  },
  {
   "cell_type": "markdown",
   "metadata": {},
   "source": [
    "105\n",
    "Share\n",
    "Given a number 'N' print the sum of each digit to the power of number of digits in given input.\n",
    "Example :\n",
    "Input => 1234\n",
    "=> ( 1 ^ 4 ) + ( 2 ^ 4 ) + ( 3 ^ 4 ) + ( 4 ^ 4 )\n",
    "=> 1 + 16 + 81 + 256\n",
    "Output => 354\n",
    "N <=100000000000\n",
    "Sample Testcase :\n",
    "INPUT\n",
    "1234\n",
    "OUTPUT\n",
    "354"
   ]
  },
  {
   "cell_type": "code",
   "execution_count": null,
   "metadata": {},
   "outputs": [],
   "source": [
    "nums = list(map(int, [*input()]))\n",
    "ans = 0\n",
    "for i in nums:\n",
    "    ans += i**len(nums)\n",
    "print(ans)"
   ]
  },
  {
   "cell_type": "markdown",
   "metadata": {},
   "source": [
    "78"
   ]
  },
  {
   "cell_type": "markdown",
   "metadata": {},
   "source": [
    "106\n",
    "Share\n",
    "Ram is a marketing manager at GUVI. He observes that for every two batches of products, one package is extra in one of the batches. He realises that someone is stealing the package from the other batch. He decides to document the discovery so as to report to his superior. Find out the package number of the package that gets stolen from one of the batches of products.\n",
    " \n",
    "\n",
    "Constraints:\n",
    "\n",
    "1<=T<=100\n",
    "\n",
    "1<=N<=100\n",
    "\n",
    "1<=Ai<=1000\n",
    "\n",
    " \n",
    "\n",
    "Input Description:\n",
    "The first line of input contains an integer T, denoting the no of test cases. Then T test cases follow. The first line of each test case contains an integer N, denoting the number of packages in Batch A. The second line of each test case contains N space separated values of number of items in each package of Batch A. The Third line of each test case contains N-1 space separated number of items in each package of Batch B.\n",
    "\n",
    "Output Description:\n",
    "Return the package number of the corresponding package stolen from Batch B. The array index denotes the package number.\n",
    "\n",
    "Sample Input :\n",
    "2\n",
    "7\n",
    "2 4 6 8 9 10 12\n",
    "2 4 6 8 10 12\n",
    "6\n",
    "3 5 7 9 11 13\n",
    "3 5 7 11 13\n",
    "Sample Output :\n",
    "4\n",
    "3"
   ]
  },
  {
   "cell_type": "code",
   "execution_count": null,
   "metadata": {},
   "outputs": [],
   "source": [
    "n = int(input())\n",
    "\n",
    "mis = []\n",
    "\n",
    "for i in range(n):\n",
    "    c = int(input())\n",
    "    nums1 = list(map(int, input().split()))\n",
    "    nums2 = list(map(int, input().split()))\n",
    "    \n",
    "    for i in range(c):\n",
    "        if nums1[i] not in nums2: mis.append(i)\n",
    "\n",
    "print(*mis, sep='\\n')"
   ]
  },
  {
   "cell_type": "markdown",
   "metadata": {},
   "source": [
    "79"
   ]
  },
  {
   "cell_type": "markdown",
   "metadata": {},
   "source": [
    "108\n",
    "Share\n",
    "harish learnt about gcd and and want to apply the concept to find the gcd of n numbers.\n",
    "\n",
    "But in between he got stuck and now he is asking for some help your task is to print the gcd of n numbers and print -1 if there is no gcd possible\n",
    "\n",
    " \n",
    "\n",
    "Input Description:\n",
    "You are given an array size ‘n’.Next line contains n space separated numbers.\n",
    "\n",
    "Output Description:\n",
    "Your task is to print the gcd of number\n",
    "\n",
    "Sample Input :\n",
    "6\n",
    "2 4 8 16\n",
    "Sample Output :\n",
    "2"
   ]
  },
  {
   "cell_type": "code",
   "execution_count": null,
   "metadata": {},
   "outputs": [],
   "source": [
    "n = int(input())\n",
    "nums = list(map(int, input().split()))\n",
    "nums = sorted(nums, key=lambda x: -x)\n",
    "ans = -1\n",
    "for i in nums:\n",
    "    div = 1\n",
    "    for j in nums:\n",
    "        if j%i!=0: div = 0\n",
    "    if div: \n",
    "        ans = i\n",
    "        break\n",
    "print(ans)"
   ]
  },
  {
   "cell_type": "markdown",
   "metadata": {},
   "source": [
    "80"
   ]
  },
  {
   "cell_type": "markdown",
   "metadata": {},
   "source": [
    "109\n",
    "Share\n",
    "Given a string S consisting of a sentence, the task is to reverse every word of the sentence except the first and last character of the words.\n",
    "Sample Testcase :\n",
    "INPUT\n",
    "guvi coding platform\n",
    "OUTPUT\n",
    "gvui cnidog proftalm."
   ]
  },
  {
   "cell_type": "code",
   "execution_count": null,
   "metadata": {},
   "outputs": [],
   "source": [
    "words = input().split()\n",
    "for i in range(len(words)):\n",
    "    if len(words[i])>2:\n",
    "        words[i] = words[i][0] + words[i][1:-1][::-1] + words[i][-1]\n",
    "print(*words)"
   ]
  },
  {
   "cell_type": "markdown",
   "metadata": {},
   "source": [
    "81"
   ]
  },
  {
   "cell_type": "markdown",
   "metadata": {},
   "source": [
    "111\n",
    "Share\n",
    "Gunjan was going through the book of ‘hyp’ numbers. She is given task to find the nth hyp number.Your task is to help gunjan\n",
    "\n",
    "A hyp number is a number whose all digits are prime.\n",
    "\n",
    "Input Description:\n",
    "You are given a number ‘n’.\n",
    "\n",
    "Output Description:\n",
    "Print the ‘nth’ hyp number.\n",
    "\n",
    "Sample Input :\n",
    "3\n",
    "Sample Output :\n",
    "5"
   ]
  },
  {
   "cell_type": "code",
   "execution_count": null,
   "metadata": {},
   "outputs": [],
   "source": [
    "primes = [2,3,5,7]\n",
    "n = int(input())\n",
    "nums = []\n",
    "i = 2\n",
    "while len(nums)!=n:\n",
    "    ans = 1\n",
    "    for j in [*str(i)]:\n",
    "        if int(j) not in primes:\n",
    "            ans = 0\n",
    "            break \n",
    "    if ans: nums.append(i)\n",
    "    i+=1\n",
    "print(nums[-1])"
   ]
  },
  {
   "cell_type": "markdown",
   "metadata": {},
   "source": [
    "82"
   ]
  },
  {
   "cell_type": "markdown",
   "metadata": {},
   "source": [
    "112\n",
    "Share\n",
    "Vasanth is working at GUVI. He has been taking leave often in the past couple of weeks and his manager, who also happens to be his friend, is worried that Vasanth might be exceeding his number of paid holidays, which might be a black mark in Vasanth monthly report. The manager analysis Vasanth’s attendance register and decides to warn him beforehand. The attendance register has a ‘P’ marked for present and an ‘A’ marked for absent. Vasanth will be blacklisted if his attendance falls below 25%. Your task is to help the manager find out whether Vasanth could be blacklisted or not.\n",
    "\n",
    " \n",
    "\n",
    "Input Description:\n",
    "First line contains the number of entries in the attendance register, followed by space separated values of attendance (‘P’ or ‘A’)\n",
    "\n",
    "Output Description:\n",
    "‘Blacklisted’ if attendance is below 25% ‘Not Blacklisted’ if attendance is above 25%\n",
    "\n",
    "Sample Input :\n",
    "5\n",
    "P P A A A\n",
    "Sample Output :\n",
    "Not Blacklisted"
   ]
  },
  {
   "cell_type": "code",
   "execution_count": null,
   "metadata": {},
   "outputs": [],
   "source": [
    "n = int(input())\n",
    "nums = input().split()\n",
    "\n",
    "\n",
    "print('Blacklisted' if nums.count('P')/n <= 0.25 else 'Not Blacklisted')"
   ]
  },
  {
   "cell_type": "markdown",
   "metadata": {},
   "source": [
    "83"
   ]
  },
  {
   "cell_type": "markdown",
   "metadata": {},
   "source": [
    "113\n",
    "Share\n",
    ":You are given an array of ‘n’ numbers.your task is to print the lcm of ‘n’ numbers\n",
    "\n",
    "Input Description:\n",
    "An integer ‘n’ denoting the size of array.Next line contains ‘n’ space separated numbers\n",
    "\n",
    "Output Description:\n",
    "Print the lcm\n",
    "\n",
    "Sample Input :\n",
    "4\n",
    "2 4 6 8\n",
    "Sample Output :\n",
    "24"
   ]
  },
  {
   "cell_type": "code",
   "execution_count": null,
   "metadata": {},
   "outputs": [],
   "source": [
    "n = int(input())\n",
    "nums = list(map(int, input().split()))\n",
    "\n",
    "c = 1\n",
    "high = max(nums)\n",
    "lcm = c*high\n",
    "while True:\n",
    "    flag = 1\n",
    "    for i in nums:\n",
    "        if lcm%i != 0:\n",
    "            flag = 0\n",
    "    if flag:\n",
    "        break\n",
    "    else:\n",
    "        c += 1\n",
    "        lcm = high*c\n",
    "print(lcm)"
   ]
  },
  {
   "cell_type": "markdown",
   "metadata": {},
   "source": [
    "84"
   ]
  },
  {
   "cell_type": "markdown",
   "metadata": {},
   "source": [
    "114\n",
    "Share\n",
    "Ramesh is searching a solution to problem posted. The statement is as follows\n",
    "\n",
    "Print the maximum sum produced by increasing subarray. Ramesh is very confused to see the question,Help him.\n",
    "\n",
    "Input Description:\n",
    "You are given a number ‘n’,Then next line contains n space separated numbers.\n",
    "\n",
    "Output Description:\n",
    "Maximum sum value produced by the increasing sub array of size 'n'\n",
    "\n",
    "Sample Input :\n",
    "6\n",
    "2 1 4 7 3 6\n",
    "Sample Output :\n",
    "12"
   ]
  },
  {
   "cell_type": "code",
   "execution_count": null,
   "metadata": {},
   "outputs": [],
   "source": [
    "n = int(input())\n",
    "nums = list(map(int, input().split()))\n",
    "\n",
    "sums = []\n",
    "prev = []\n",
    "for i in range(n):\n",
    "    # print(nums, nums[0], prev, sums)\n",
    "    if prev:\n",
    "        # print(prev[-1], i)\n",
    "        if nums[0] < prev[-1]:\n",
    "            sums.append(sum(prev))\n",
    "            prev = [nums.pop(0)]\n",
    "        else:\n",
    "            prev.append(nums.pop(0))\n",
    "    else:\n",
    "        prev.append(nums.pop(0))\n",
    "    \n",
    "\n",
    "print(max(sums))\n",
    "\n"
   ]
  },
  {
   "cell_type": "markdown",
   "metadata": {},
   "source": [
    "85"
   ]
  },
  {
   "cell_type": "markdown",
   "metadata": {},
   "source": []
  },
  {
   "cell_type": "code",
   "execution_count": 9,
   "metadata": {},
   "outputs": [
    {
     "data": {
      "text/plain": [
       "True"
      ]
     },
     "execution_count": 9,
     "metadata": {},
     "output_type": "execute_result"
    }
   ],
   "source": [
    "n = int(input())\n",
    "nums = list(map(int, input().split()))\n",
    "\n",
    "ps = []\n",
    "\n",
    "for i in range(len(nums)-1):\n",
    "    for j in range(i+1, len(nums)):\n",
    "        if nums[i]<nums[j] and (nums[i],nums[j]) not in ps:\n",
    "            ps.append((nums[i],nums[j]))\n",
    "\n",
    "print(len(ps) if ps else -1)"
   ]
  },
  {
   "cell_type": "markdown",
   "metadata": {},
   "source": [
    "86"
   ]
  },
  {
   "cell_type": "markdown",
   "metadata": {},
   "source": [
    "116\n",
    "Share\n",
    "Given two numbers L,R print the smallest number which is divisible by both L and R.\n",
    "Input Size : 1 <= L,R <= 100000\n",
    "Sample Testcase :\n",
    "INPUT\n",
    "10 130\n",
    "OUTPUT\n",
    "130"
   ]
  },
  {
   "cell_type": "code",
   "execution_count": null,
   "metadata": {},
   "outputs": [],
   "source": [
    "a, b = map(int, input().split())\n",
    "\n",
    "ans = max([a,b])\n",
    "\n",
    "while (ans%a != 0) or (ans%b != 0):\n",
    "    ans += max([a,b])\n",
    "print(ans)"
   ]
  },
  {
   "cell_type": "markdown",
   "metadata": {},
   "source": [
    "87"
   ]
  },
  {
   "cell_type": "markdown",
   "metadata": {},
   "source": [
    "117\n",
    "Share\n",
    "Given a number N and an array of N elements, every number is repeated except for one. Print that one number.\n",
    "Input Size : 1 <= N <= 100000\n",
    "Sample Testcase :\n",
    "INPUT\n",
    "10\n",
    "1 2 3 2 3 3 2 5 5 2\n",
    "OUTPUT\n",
    "1"
   ]
  },
  {
   "cell_type": "code",
   "execution_count": null,
   "metadata": {},
   "outputs": [],
   "source": [
    "n = int(input())\n",
    "nums = list(map(int, input().split()))\n",
    "\n",
    "for i in nums:\n",
    "    if nums.count(i) == 1:\n",
    "        print(i)\n",
    "        break"
   ]
  },
  {
   "cell_type": "markdown",
   "metadata": {},
   "source": [
    "88"
   ]
  },
  {
   "cell_type": "markdown",
   "metadata": {},
   "source": [
    "118\n",
    "Share\n",
    "You are given with string of words,we have to arrange them in reverse saturated order.\n",
    "\n",
    "Input Description:\n",
    "You are given a string ‘s’.\n",
    "\n",
    "Output Description:\n",
    "Print the reverse saturated order\n",
    "\n",
    "Sample Input :\n",
    "I am kohli fan\n",
    "Sample Output :\n",
    "I ma ilhok naf"
   ]
  },
  {
   "cell_type": "code",
   "execution_count": null,
   "metadata": {},
   "outputs": [],
   "source": [
    "words = input().split()\n",
    "print(*[word[::-1] for word in words])"
   ]
  },
  {
   "cell_type": "markdown",
   "metadata": {},
   "source": [
    "89"
   ]
  },
  {
   "cell_type": "markdown",
   "metadata": {},
   "source": [
    "119\n",
    "Share\n",
    "Given a number N, print their prime factors in sorted order.\n",
    "Input Size : 2 <= N <= 100000\n",
    "Sample Testcase :\n",
    "INPUT\n",
    "18\n",
    "OUTPUT\n",
    "2 3"
   ]
  },
  {
   "cell_type": "code",
   "execution_count": null,
   "metadata": {},
   "outputs": [],
   "source": [
    "n = int(input())\n",
    "def isprime(num):\n",
    "    prime = 1\n",
    "    for i in range(2, num):\n",
    "        if num%i == 0: \n",
    "            prime = 0\n",
    "            break\n",
    "    return prime\n",
    "    \n",
    "fs = [x for x in range(2,n+1) if isprime(x) and n%x == 0]\n",
    "print(*fs)"
   ]
  },
  {
   "cell_type": "markdown",
   "metadata": {},
   "source": [
    "90"
   ]
  },
  {
   "cell_type": "markdown",
   "metadata": {},
   "source": [
    "120\n",
    "Share\n",
    "You are head incharge of sports activity in queue. Your task is to sort the students height wise in line. But you can only swap students.Your task is to determine the minimum possible swaps required to sort the students in queue according to heights\n",
    "\n",
    "Input Description:\n",
    "You are given with number ‘n’ denoting number of students. Next line contains n space separated integers denoting their height.\n",
    "\n",
    "Output Description:\n",
    "Print the minimum number of swaps required to sort the students in line.\n",
    "a\n",
    "Sample Input :\n",
    "5\n",
    "1 5 4 3 2\n",
    "Sample Output :\n",
    "2"
   ]
  },
  {
   "cell_type": "code",
   "execution_count": null,
   "metadata": {},
   "outputs": [],
   "source": [
    "n = int(input())\n",
    "nums = list(map(int, input().split()))\n",
    "\n",
    "def min_swaps_to_sort(arr):\n",
    "    n = len(arr)\n",
    "    arrpos = [*enumerate(arr)]\n",
    "    arrpos.sort(key=lambda it: it[1])\n",
    "    vis = {k: False for k in range(n)}\n",
    "    ans = 0\n",
    "    for i in range(n):\n",
    "        if vis[i] or arrpos[i][0] == i:\n",
    "            continue\n",
    "\n",
    "        cycle_size = 0\n",
    "        j = i\n",
    "\n",
    "        while not vis[j]:\n",
    "            # mark node as visited\n",
    "            vis[j] = True\n",
    "\n",
    "            # move to next node\n",
    "            j = arrpos[j][0]\n",
    "            cycle_size += 1\n",
    "\n",
    "        # update answer by adding\n",
    "        # current cycle\n",
    "        if cycle_size > 0:\n",
    "            ans += (cycle_size - 1)\n",
    "\n",
    "    # return answer\n",
    "    return ans\n",
    "    \n",
    "result = min_swaps_to_sort(nums)\n",
    "print(result)  # Output: 2\n"
   ]
  },
  {
   "cell_type": "markdown",
   "metadata": {},
   "source": [
    "91"
   ]
  },
  {
   "cell_type": "markdown",
   "metadata": {},
   "source": [
    "121\n",
    "Share\n",
    "Given 2 numbers N,X and an array of N elements, check if there exists any 2 numbers in the array with sum equal to X.If found print 'yes' otherwise print 'no'\n",
    "Input Size : N,X <= 100000\n",
    "Sample Testcase :\n",
    "INPUT\n",
    "4 4\n",
    "2 2 0 0\n",
    "OUTPUT\n",
    "yes"
   ]
  },
  {
   "cell_type": "code",
   "execution_count": null,
   "metadata": {},
   "outputs": [],
   "source": [
    "n, x = map(int, input().split())\n",
    "nums = list(map(int, input().split()))\n",
    "\n",
    "flag = 0\n",
    "\n",
    "for i in range(n-1):\n",
    "    for j in range(i+1,n):\n",
    "        if nums[i]+nums[j] == x:\n",
    "            flag = 1 \n",
    "            break\n",
    "    if flag:\n",
    "        break\n",
    "print('yes' if flag else 'no')\n"
   ]
  },
  {
   "cell_type": "markdown",
   "metadata": {},
   "source": [
    "92"
   ]
  },
  {
   "cell_type": "markdown",
   "metadata": {},
   "source": [
    "122\n",
    "Share\n",
    "Given a number N and K followed by N elements and K elements. Now insert the given K elements one by one into the array and print the maximum in the array after each insertion .\n",
    "Input Size : K <= N <= 10000(read about priority queues and implement)\n",
    "Sample Testcase :\n",
    "INPUT\n",
    "5 2\n",
    "1 2 3 4 5\n",
    "5 4\n",
    "OUTPUT\n",
    "5 5"
   ]
  },
  {
   "cell_type": "code",
   "execution_count": null,
   "metadata": {},
   "outputs": [],
   "source": [
    "n, x = map(int, input().split())\n",
    "nums1 = list(map(int, input().split()))\n",
    "nums2 = list(map(int, input().split()))\n",
    "ms = []\n",
    "for i in range(x):\n",
    "    ms.append(max(nums1+nums2[:i]))\n",
    "print(*ms)"
   ]
  },
  {
   "cell_type": "markdown",
   "metadata": {},
   "source": [
    "93"
   ]
  },
  {
   "cell_type": "markdown",
   "metadata": {},
   "source": [
    "123\n",
    "Share\n",
    "Given 2 strings and a number K, check whether they differ exactly by K characters.\n",
    "Input Size : |s| <= 100000(complexity O(nlogn) or O(n))\n",
    "Sample Testcase :\n",
    "INPUT\n",
    "codekata codeguvi 4\n",
    "OUTPUT\n",
    "yes"
   ]
  },
  {
   "cell_type": "code",
   "execution_count": null,
   "metadata": {},
   "outputs": [],
   "source": [
    "w1, w2, c = input().split()\n",
    "\n",
    "difs = 0\n",
    "\n",
    "for i in range(len(w1)):\n",
    "    if w1[i] != w2[i]: difs += 1\n",
    "    \n",
    "print('yes' if difs == int(c) else 'no')"
   ]
  },
  {
   "cell_type": "markdown",
   "metadata": {},
   "source": [
    "94"
   ]
  },
  {
   "cell_type": "markdown",
   "metadata": {},
   "source": [
    "124\n",
    "Share\n",
    "Given a range (i.e) two numbers L and R count the number of perfect squares within the range (inclusive of L and R).If no perfect square exists within the range print '-1'.\n",
    "Input Size : L <= R <= 100000(complexity O(n))\n",
    "Sample Testcase :\n",
    "INPUT\n",
    "2 10\n",
    "OUTPUT\n",
    "2"
   ]
  },
  {
   "cell_type": "code",
   "execution_count": null,
   "metadata": {},
   "outputs": [],
   "source": [
    "a, b = map(int, input().split())\n",
    "\n",
    "s = 0\n",
    "# print(round(a**0.5)-1, round(b**0.5)+1)\n",
    "for i in range(round(a**0.5), round(b**0.5)+1):\n",
    "    # print(f'if {i}*{i} in {range(i, b+1)}')\n",
    "    if i*i in list(range(a, b+1)):\n",
    "        s += 1\n",
    "print(s if s else -1)"
   ]
  },
  {
   "cell_type": "markdown",
   "metadata": {},
   "source": [
    "95"
   ]
  },
  {
   "cell_type": "markdown",
   "metadata": {},
   "source": [
    "125\n",
    "Share\n",
    "Given a number N and an array of N elements, print all elements lesser than N in descending order.If no element found print -1\n",
    "Input Size : 1 <= N <= 10000\n",
    "Sample Testcase :\n",
    "INPUT\n",
    "5\n",
    "2 14 15 14 3\n",
    "OUTPUT\n",
    "3 2"
   ]
  },
  {
   "cell_type": "code",
   "execution_count": null,
   "metadata": {},
   "outputs": [],
   "source": [
    "n = int(input())\n",
    "nums = list(map(int, input().split()))\n",
    "\n",
    "less = [x for x in nums if x<n]\n",
    "print(*sorted(less, key=lambda x:-x) if less else [-1])"
   ]
  },
  {
   "cell_type": "markdown",
   "metadata": {},
   "source": [
    "96"
   ]
  },
  {
   "cell_type": "markdown",
   "metadata": {},
   "source": [
    "126\n",
    "Share\n",
    "You are given an array.Your task is to print the length of longest consecutive subsequence. A longest consecutive subsequence is such that next element differ from previous by 1.\n",
    "\n",
    "Input Description:\n",
    "You are given with the length of array. Next line contains n space separated integers.\n",
    "\n",
    "Output Description:\n",
    "Print the length of longest consecutive subsequence.\n",
    "\n",
    "Sample Input :\n",
    "8\n",
    "1 6 5 3 2 4 10 12\n",
    "Sample Output :\n",
    "6"
   ]
  },
  {
   "cell_type": "code",
   "execution_count": null,
   "metadata": {},
   "outputs": [],
   "source": [
    "n = int(input())\n",
    "nums = list(map(int, input().split()))\n",
    "\n",
    "nums = sorted(nums)\n",
    "\n",
    "\n",
    "s = 0\n",
    "prev = []\n",
    "\n",
    "i = 0\n",
    "while i < len(nums)-1:\n",
    "    if abs(nums[i]-nums[i+1]) != 1:\n",
    "        if len(prev)+1 > s:\n",
    "            s = len(prev)+1\n",
    "        prev = [nums[i]]\n",
    "        i += 2\n",
    "    else:\n",
    "        prev.append(nums[i])\n",
    "        i += 1\n",
    "\n",
    "if s:\n",
    "    print(s)\n",
    "elif prev:\n",
    "    print(len(prev)+1)\n"
   ]
  },
  {
   "cell_type": "markdown",
   "metadata": {},
   "source": [
    "97"
   ]
  },
  {
   "cell_type": "markdown",
   "metadata": {},
   "source": [
    "127\n",
    "Share\n",
    "Given a number N, print the distinct pairs formed by multiplying two prime numbers (i.e)prime x prime should yield the N.Also print the numbers in descending order.If no such pairs can be formed print '-1'.\n",
    "Input Size : 1 <= N <= 100000\n",
    "Sample Testcase :\n",
    "INPUT\n",
    "65\n",
    "OUTPUT\n",
    "13 5"
   ]
  },
  {
   "cell_type": "code",
   "execution_count": null,
   "metadata": {},
   "outputs": [],
   "source": [
    "n = int(input())\n",
    "def isprime(num):\n",
    "    prime = 1\n",
    "    for i in range(2, num):\n",
    "        if num%i == 0: \n",
    "            prime = 0\n",
    "            break\n",
    "    return prime\n",
    "    \n",
    "fs = []\n",
    "\n",
    "\n",
    "for i in range(n//2+1,2,-1):\n",
    "    for j in range(i-1,2,-1):\n",
    "        if (n%i == 0) and (n%j == 0):\n",
    "            fs = [i,j]\n",
    "            break\n",
    "    if fs: break\n",
    "\n",
    "\n",
    "print(*fs if fs else [-1])"
   ]
  },
  {
   "cell_type": "markdown",
   "metadata": {},
   "source": [
    "98"
   ]
  },
  {
   "cell_type": "markdown",
   "metadata": {},
   "source": [
    "128\n",
    "Share\n",
    "Given a number N and an array of N elements, find the Bitwise XOR of the array elements.\n",
    "Input Size : N <= 100000\n",
    "Sample Testcase :\n",
    "INPUT\n",
    "2\n",
    "2 4\n",
    "OUTPUT\n",
    "6"
   ]
  },
  {
   "cell_type": "code",
   "execution_count": null,
   "metadata": {},
   "outputs": [],
   "source": [
    "n = int(input())\n",
    "nums = list(map(int, input().split()))\n",
    "\n",
    "x = nums[0]\n",
    "\n",
    "for i in range(1,n):\n",
    "    x = x ^ nums[i]\n",
    "print(x)"
   ]
  },
  {
   "cell_type": "markdown",
   "metadata": {},
   "source": [
    "99"
   ]
  },
  {
   "cell_type": "markdown",
   "metadata": {},
   "source": [
    "129\n",
    "Share\n",
    "Given a number N and 2 arrays of N integers and their weights, sort the array based on their weights in the ascending order.\n",
    "Input Size : N <= 100000\n",
    "Sample Testcase :\n",
    "INPUT\n",
    "5\n",
    "1 2 3 4 5\n",
    "5 4 3 2 1\n",
    "OUTPUT\n",
    "5 4 3 2 1"
   ]
  },
  {
   "cell_type": "code",
   "execution_count": null,
   "metadata": {},
   "outputs": [],
   "source": [
    "n = int(input())\n",
    "nums1 = list(map(int, input().split()))\n",
    "nums2 = list(map(int, input().split()))\n",
    "\n",
    "comb = []\n",
    "\n",
    "for i in range(n):\n",
    "    comb.append((nums1[i], nums2[i]))\n",
    "\n",
    "comb = sorted(comb, key=lambda x: x[1])\n",
    "print(*[x[0] for x in comb])"
   ]
  },
  {
   "cell_type": "markdown",
   "metadata": {},
   "source": [
    "100"
   ]
  },
  {
   "cell_type": "markdown",
   "metadata": {},
   "source": [
    "130\n",
    "Share\n",
    "Given an value 'M' follwed by array of M elements in which the elements would have been rotated for certain 'N' times from the intial array representation where all elements are arranged in ascending order.Print the 'N' or print -1 if there is no rotation made or cannot be determined.Note: 1<=N<=length of the given array.Sample Testcase :\n",
    "INPUT\n",
    "5\n",
    "15 18 2 3 6 12\n",
    "OUTPUT\n",
    "2"
   ]
  },
  {
   "cell_type": "code",
   "execution_count": null,
   "metadata": {},
   "outputs": [],
   "source": [
    "n = int(input())\n",
    "nums = list(map(int, input().split()))\n",
    "r = nums.index(nums[-1])-sorted(nums).index(nums[-1])\n",
    "print(r if r else -1)"
   ]
  },
  {
   "cell_type": "markdown",
   "metadata": {},
   "source": [
    "131\n",
    "Share\n",
    "Given 2 numbers N,K and an array of N elements, print the number(s) that has been repeated K times.Print them in ascending order if there are more than one number to be printed.If no element satisfies the pattern then print -1\n",
    "Input Size : N,K <= 100000\n",
    "Sample Testcase :\n",
    "INPUT\n",
    "5 2\n",
    "1 2 4 1 2\n",
    "OUTPUT\n",
    "1 2"
   ]
  },
  {
   "cell_type": "code",
   "execution_count": null,
   "metadata": {},
   "outputs": [],
   "source": [
    "_,n = map(int, input().split())\n",
    "nums = list(map(int, input().split()))\n",
    "c = {}\n",
    "for i in nums:\n",
    "    c[i] = c.get(i, 0) + 1\n",
    "ans = []\n",
    "for i in c:\n",
    "    if c[i] >= n:\n",
    "        ans.append(i)\n",
    "\n",
    "print(*ans if ans else [-1])"
   ]
  },
  {
   "cell_type": "markdown",
   "metadata": {},
   "source": [
    "132\n",
    "Share\n",
    "Given a string S consisting of only '(' and ')', print 'yes' if it is balanced otherwise print 'no'.\n",
    "Sample Testcase :\n",
    "INPUT\n",
    "(())\n",
    "OUTPUT\n",
    "yes"
   ]
  },
  {
   "cell_type": "code",
   "execution_count": null,
   "metadata": {},
   "outputs": [],
   "source": [
    "s = input()\n",
    "print('yes' if s.count('(')==s.count(')') else 'no')"
   ]
  },
  {
   "cell_type": "markdown",
   "metadata": {},
   "source": [
    "133\n",
    "Share\n",
    "Given a number N and an array of N integers, find the minimum sum of the maximum elements obtained by considering all consecutive pairs of adjacent elements after rearranging the array suitably.\n",
    "Input Size : N <= 100000\n",
    "Sample Testcase :\n",
    "INPUT\n",
    "5\n",
    "1 2 3 4 5\n",
    "OUTPUT\n",
    "18"
   ]
  },
  {
   "cell_type": "code",
   "execution_count": 11,
   "metadata": {},
   "outputs": [
    {
     "name": "stdout",
     "output_type": "stream",
     "text": [
      "(1, 2, 3, 4, 5) 14\n",
      "(1, 2, 3, 5, 4) 15\n",
      "(1, 2, 4, 3, 5) 15\n",
      "(1, 2, 4, 5, 3) 16\n",
      "(1, 2, 5, 3, 4) 16\n",
      "(1, 2, 5, 4, 3) 16\n",
      "(1, 3, 2, 4, 5) 15\n",
      "(1, 3, 2, 5, 4) 16\n",
      "(1, 3, 4, 2, 5) 16\n",
      "(1, 3, 4, 5, 2) 17\n",
      "(1, 3, 5, 2, 4) 17\n",
      "(1, 3, 5, 4, 2) 17\n",
      "(1, 4, 2, 3, 5) 16\n",
      "(1, 4, 2, 5, 3) 18\n",
      "(1, 4, 3, 2, 5) 16\n",
      "(1, 4, 3, 5, 2) 18\n",
      "(1, 4, 5, 2, 3) 17\n",
      "(1, 4, 5, 3, 2) 17\n",
      "(1, 5, 2, 3, 4) 17\n",
      "(1, 5, 2, 4, 3) 18\n",
      "(1, 5, 3, 2, 4) 17\n",
      "(1, 5, 3, 4, 2) 18\n",
      "(1, 5, 4, 2, 3) 17\n",
      "(1, 5, 4, 3, 2) 17\n",
      "(2, 1, 3, 4, 5) 14\n",
      "(2, 1, 3, 5, 4) 15\n",
      "(2, 1, 4, 3, 5) 15\n",
      "(2, 1, 4, 5, 3) 16\n",
      "(2, 1, 5, 3, 4) 16\n",
      "(2, 1, 5, 4, 3) 16\n",
      "(2, 3, 1, 4, 5) 15\n",
      "(2, 3, 1, 5, 4) 16\n",
      "(2, 3, 4, 1, 5) 16\n",
      "(2, 3, 4, 5, 1) 17\n",
      "(2, 3, 5, 1, 4) 17\n",
      "(2, 3, 5, 4, 1) 17\n",
      "(2, 4, 1, 3, 5) 16\n",
      "(2, 4, 1, 5, 3) 18\n",
      "(2, 4, 3, 1, 5) 16\n",
      "(2, 4, 3, 5, 1) 18\n",
      "(2, 4, 5, 1, 3) 17\n",
      "(2, 4, 5, 3, 1) 17\n",
      "(2, 5, 1, 3, 4) 17\n",
      "(2, 5, 1, 4, 3) 18\n",
      "(2, 5, 3, 1, 4) 17\n",
      "(2, 5, 3, 4, 1) 18\n",
      "(2, 5, 4, 1, 3) 17\n",
      "(2, 5, 4, 3, 1) 17\n",
      "(3, 1, 2, 4, 5) 14\n",
      "(3, 1, 2, 5, 4) 15\n",
      "(3, 1, 4, 2, 5) 16\n",
      "(3, 1, 4, 5, 2) 17\n",
      "(3, 1, 5, 2, 4) 17\n",
      "(3, 1, 5, 4, 2) 17\n",
      "(3, 2, 1, 4, 5) 14\n",
      "(3, 2, 1, 5, 4) 15\n",
      "(3, 2, 4, 1, 5) 16\n",
      "(3, 2, 4, 5, 1) 17\n",
      "(3, 2, 5, 1, 4) 17\n",
      "(3, 2, 5, 4, 1) 17\n",
      "(3, 4, 1, 2, 5) 15\n",
      "(3, 4, 1, 5, 2) 18\n",
      "(3, 4, 2, 1, 5) 15\n",
      "(3, 4, 2, 5, 1) 18\n",
      "(3, 4, 5, 1, 2) 16\n",
      "(3, 4, 5, 2, 1) 16\n",
      "(3, 5, 1, 2, 4) 16\n",
      "(3, 5, 1, 4, 2) 18\n",
      "(3, 5, 2, 1, 4) 16\n",
      "(3, 5, 2, 4, 1) 18\n",
      "(3, 5, 4, 1, 2) 16\n",
      "(3, 5, 4, 2, 1) 16\n",
      "(4, 1, 2, 3, 5) 14\n",
      "(4, 1, 2, 5, 3) 16\n",
      "(4, 1, 3, 2, 5) 15\n",
      "(4, 1, 3, 5, 2) 17\n",
      "(4, 1, 5, 2, 3) 17\n",
      "(4, 1, 5, 3, 2) 17\n",
      "(4, 2, 1, 3, 5) 14\n",
      "(4, 2, 1, 5, 3) 16\n",
      "(4, 2, 3, 1, 5) 15\n",
      "(4, 2, 3, 5, 1) 17\n",
      "(4, 2, 5, 1, 3) 17\n",
      "(4, 2, 5, 3, 1) 17\n",
      "(4, 3, 1, 2, 5) 14\n",
      "(4, 3, 1, 5, 2) 17\n",
      "(4, 3, 2, 1, 5) 14\n",
      "(4, 3, 2, 5, 1) 17\n",
      "(4, 3, 5, 1, 2) 16\n",
      "(4, 3, 5, 2, 1) 16\n",
      "(4, 5, 1, 2, 3) 15\n",
      "(4, 5, 1, 3, 2) 16\n",
      "(4, 5, 2, 1, 3) 15\n",
      "(4, 5, 2, 3, 1) 16\n",
      "(4, 5, 3, 1, 2) 15\n",
      "(4, 5, 3, 2, 1) 15\n",
      "(5, 1, 2, 3, 4) 14\n",
      "(5, 1, 2, 4, 3) 15\n",
      "(5, 1, 3, 2, 4) 15\n",
      "(5, 1, 3, 4, 2) 16\n",
      "(5, 1, 4, 2, 3) 16\n",
      "(5, 1, 4, 3, 2) 16\n",
      "(5, 2, 1, 3, 4) 14\n",
      "(5, 2, 1, 4, 3) 15\n",
      "(5, 2, 3, 1, 4) 15\n",
      "(5, 2, 3, 4, 1) 16\n",
      "(5, 2, 4, 1, 3) 16\n",
      "(5, 2, 4, 3, 1) 16\n",
      "(5, 3, 1, 2, 4) 14\n",
      "(5, 3, 1, 4, 2) 16\n",
      "(5, 3, 2, 1, 4) 14\n",
      "(5, 3, 2, 4, 1) 16\n",
      "(5, 3, 4, 1, 2) 15\n",
      "(5, 3, 4, 2, 1) 15\n",
      "(5, 4, 1, 2, 3) 14\n",
      "(5, 4, 1, 3, 2) 15\n",
      "(5, 4, 2, 1, 3) 14\n",
      "(5, 4, 2, 3, 1) 15\n",
      "(5, 4, 3, 1, 2) 14\n",
      "(5, 4, 3, 2, 1) 14\n",
      "18\n"
     ]
    }
   ],
   "source": [
    "from itertools import permutations\n",
    "n = int(input())\n",
    "l = [int(x) for x in input().split()]\n",
    "n = len(l)\n",
    "m = list(permutations(l,len(l)))\n",
    "a = 0\n",
    "for i in range(len(m)):\n",
    "    b = 0 \n",
    "    for j in range(len(m[i])-1):\n",
    "        b += max(m[i][j], m[i][j+1]) \n",
    "    print(m[i], b)\n",
    "    if b > a:\n",
    "        a = b \n",
    "print(a)"
   ]
  },
  {
   "cell_type": "code",
   "execution_count": 13,
   "metadata": {},
   "outputs": [
    {
     "name": "stdout",
     "output_type": "stream",
     "text": [
      "[5, 5, 4, 4]\n",
      "18\n"
     ]
    }
   ],
   "source": [
    "n = int(input())\n",
    "nums = list(map(int, input().split()))\n",
    "\n",
    "nums.sort(reverse=True)\n",
    "a = []\n",
    "i = 0\n",
    "while len(a) < n-1:\n",
    "    a.extend([nums[i]]*2)\n",
    "    i += 1\n",
    "print(sum(a[:n-1]))"
   ]
  },
  {
   "cell_type": "markdown",
   "metadata": {},
   "source": [
    "134\n",
    "Share\n",
    "Given an array of N elements,find the maximum length of increasing continuous sub-array.If it is not found print '-1'.\n",
    "Input Size : N <= 100000\n",
    "Sample Testcase :\n",
    "INPUT\n",
    "5\n",
    "1 2 3 2 1\n",
    "OUTPUT\n",
    "3"
   ]
  },
  {
   "cell_type": "code",
   "execution_count": null,
   "metadata": {},
   "outputs": [],
   "source": [
    "n = int(input())\n",
    "nums = list(map(int, input().split()))\n",
    "\n",
    "l = 1\n",
    "m = 1\n",
    "for i in range(1, len(nums)):\n",
    "    if nums[i-1] < nums[i]:\n",
    "        l += 1\n",
    "    else:\n",
    "        m = max(l, m)\n",
    "        l = 1 \n",
    "m = max(l, m)\n",
    "print(m if m>1 else -1)"
   ]
  },
  {
   "cell_type": "markdown",
   "metadata": {},
   "source": [
    "135\n",
    "Share\n",
    "Given a string S,count the maximum number of times a character repeated in the string.If no character is repeated print '0'.\n",
    "Input Size : 1 <= N <= 100000\n",
    "Sample Testcase :\n",
    "INPUT\n",
    "codekata\n",
    "OUTPUT\n",
    "2"
   ]
  },
  {
   "cell_type": "code",
   "execution_count": null,
   "metadata": {},
   "outputs": [],
   "source": [
    "s = input()\n",
    "c = []\n",
    "for i in s:\n",
    "    c.append(s.count(i))\n",
    "print(max(c))"
   ]
  },
  {
   "cell_type": "markdown",
   "metadata": {},
   "source": [
    "136\n",
    "Share\n",
    "Given a number N and an array of N integers, find the maximum sum of the maximum elements obtained by considering all consecutive pairs of adjacent elements after rearranging the array suitably.\n",
    "Input Size : N <= 100000\n",
    "Sample Testcase :\n",
    "INPUT\n",
    "5\n",
    "1 2 3 4 5\n",
    "OUTPUT\n",
    "18"
   ]
  },
  {
   "cell_type": "code",
   "execution_count": null,
   "metadata": {},
   "outputs": [],
   "source": [
    "n = int(input())\n",
    "nums = list(map(int, input().split()))\n",
    "\n",
    "nums.sort(reverse=True)\n",
    "a = []\n",
    "i = 0\n",
    "while len(a) < n-1:\n",
    "    a.extend([nums[i]]*2)\n",
    "    i += 1\n",
    "print(sum(a[:n-1]))"
   ]
  },
  {
   "cell_type": "markdown",
   "metadata": {},
   "source": [
    "137\n",
    "Share\n",
    "Given a number N and an array of N elements, print the suffix sum of the array.\n",
    "Input Size : N <= 100000\n",
    "Sample Testcase :\n",
    "INPUT\n",
    "4\n",
    "2 4 4 2\n",
    "OUTPUT\n",
    "12 10 6 2"
   ]
  },
  {
   "cell_type": "code",
   "execution_count": null,
   "metadata": {},
   "outputs": [],
   "source": [
    "n = int(input())\n",
    "nums = list(map(int, input().split()))\n",
    "ans = []\n",
    "for i in range(n):\n",
    "    ans.append(sum(nums[i:]))\n",
    "print(*ans)"
   ]
  },
  {
   "cell_type": "markdown",
   "metadata": {},
   "source": [
    "138\n",
    "Share\n",
    "Given a number N and an array of N elements, find the sum of the maximum elements obtained by considering all consecutive pairs of adjacent elements.\n",
    "Input Size : N <= 100000\n",
    "Sample Testcase :\n",
    "INPUT\n",
    "5\n",
    "1 2 3 4 5\n",
    "OUTPUT\n",
    "14"
   ]
  },
  {
   "cell_type": "code",
   "execution_count": null,
   "metadata": {},
   "outputs": [],
   "source": [
    "n = int(input())\n",
    "nums = list(map(int, input().split()))\n",
    "s = []\n",
    "\n",
    "for i in range(n-1):\n",
    "    s.append(max(nums[i], nums[i+1]))\n",
    "\n",
    "print(sum(s))"
   ]
  },
  {
   "cell_type": "markdown",
   "metadata": {},
   "source": [
    "139\n",
    "Share\n",
    "Given 2 strings,check whether it is isomorphic.If it is not isomorphic print '-1'.\n",
    "Input Size : |s| <= 100000(complexity O(nlogn))\n",
    "Sample Testcase :\n",
    "INPUT\n",
    "aab xxy\n",
    "OUTPUT\n",
    "yes"
   ]
  },
  {
   "cell_type": "code",
   "execution_count": null,
   "metadata": {},
   "outputs": [],
   "source": [
    "a,b = input().split()\n",
    "f = 1\n",
    "for i in range(len(a)):\n",
    "    if a.count(a[i]) != b.count(b[i]):\n",
    "        f = 0\n",
    "print('yes' if f else 'no')"
   ]
  },
  {
   "cell_type": "markdown",
   "metadata": {},
   "source": [
    "140\n",
    "Share\n",
    "Given a number N and an array of N elements, print the prefix sum array.\n",
    "Input Size : N <= 100000\n",
    "Sample Testcase :\n",
    "INPUT\n",
    "4\n",
    "2 4 4 2\n",
    "OUTPUT\n",
    "2 6 10 12"
   ]
  },
  {
   "cell_type": "code",
   "execution_count": null,
   "metadata": {},
   "outputs": [],
   "source": [
    "n = int(input())\n",
    "nums = list(map(int, input().split()))\n",
    "ans = []\n",
    "for i in range(n):\n",
    "    ans.append(sum(nums[:i+1]))\n",
    "print(*ans)"
   ]
  },
  {
   "cell_type": "markdown",
   "metadata": {},
   "source": [
    "141\n",
    "Share\n",
    "Given a number N and a number K, check if it has all digits from 0 to k in it.\n",
    "Input Size : N <= 100000\n",
    "Sample Testcase :\n",
    "INPUT\n",
    "1234034 4\n",
    "OUTPUT\n",
    "yes"
   ]
  },
  {
   "cell_type": "code",
   "execution_count": null,
   "metadata": {},
   "outputs": [],
   "source": [
    "n, k = map(int, input().split())\n",
    "f = 1\n",
    "for i in range(k+1):\n",
    "    if str(i) not in str(n):\n",
    "        f = 0\n",
    "        break\n",
    "print('yes' if f else 'no')"
   ]
  },
  {
   "cell_type": "markdown",
   "metadata": {},
   "source": [
    "142\n",
    "Share\n",
    "Given a number N, print all the prime factors once in ascending order.\n",
    "Input Size : N <= 100000\n",
    "Sample Testcase :\n",
    "INPUT\n",
    "100\n",
    "OUTPUT\n",
    "2 5"
   ]
  },
  {
   "cell_type": "code",
   "execution_count": null,
   "metadata": {},
   "outputs": [],
   "source": [
    "def isprime(n):\n",
    "    p = True\n",
    "    for i in range(2, n):\n",
    "        if n%i == 0:\n",
    "            p = False\n",
    "            break\n",
    "    \n",
    "    return p\n",
    "\n",
    "ans = []\n",
    "\n",
    "n = int(input())\n",
    "for i in range(2, n+1):\n",
    "    if n%i == 0 and isprime(i):\n",
    "        ans.append(i)\n",
    "\n",
    "print(*ans)"
   ]
  },
  {
   "cell_type": "markdown",
   "metadata": {},
   "source": [
    "143\n",
    "Share\n",
    "Given a range[L,R], print the sum of all the odd numbers within the range(inclusive of L and R).\n",
    "Sample Testcase:\n",
    "INPUT\n",
    "5 10\n",
    "OUTPUT\n",
    "21"
   ]
  },
  {
   "cell_type": "code",
   "execution_count": null,
   "metadata": {},
   "outputs": [],
   "source": [
    "a, b = map(int, input().split())\n",
    "odd = []\n",
    "for i in range(a, b+1):\n",
    "    if i%2 == 1:\n",
    "        odd.append(i)\n",
    "print(sum(odd))"
   ]
  },
  {
   "cell_type": "markdown",
   "metadata": {},
   "source": [
    "144\n",
    "Share\n",
    "Given 2 numbers N,K and an array of N integers, print all numbers in sorted order if it has been repeated less than K times.\n",
    "Input Size : N,K <= 100000\n",
    "Sample Testcase :\n",
    "INPUT\n",
    "4 2\n",
    "2 4 4 1\n",
    "OUTPUT\n",
    "1 2"
   ]
  },
  {
   "cell_type": "code",
   "execution_count": null,
   "metadata": {},
   "outputs": [],
   "source": [
    "n, c = map(int, input().split())\n",
    "\n",
    "nums = list(map(int, input().split()))\n",
    "\n",
    "ans = []\n",
    "for i in set(sorted(nums)):\n",
    "    if nums.count(i) < c:\n",
    "        ans.append(i)\n",
    "\n",
    "print(*ans)"
   ]
  },
  {
   "cell_type": "markdown",
   "metadata": {},
   "source": [
    "145\n",
    "Share\n",
    "Given a number N and an array of N integers, find the smallest number divisible by all the elements of the array.\n",
    "Input Size : N <= 100000\n",
    "Sample Testcase :\n",
    "INPUT\n",
    "5\n",
    "1 2 3 4 5\n",
    "OUTPUT\n",
    "60"
   ]
  },
  {
   "cell_type": "code",
   "execution_count": null,
   "metadata": {},
   "outputs": [],
   "source": [
    "n = int(input())\n",
    "nums = list(map(int, input().split()))\n",
    "\n",
    "c = 1\n",
    "high = max(nums)\n",
    "lcm = c*high\n",
    "while True:\n",
    "    flag = 1\n",
    "    for i in nums:\n",
    "        if lcm%i != 0:\n",
    "            flag = 0\n",
    "    if flag:\n",
    "        break\n",
    "    else:\n",
    "        c += 1\n",
    "        lcm = high*c\n",
    "print(lcm)"
   ]
  },
  {
   "cell_type": "markdown",
   "metadata": {},
   "source": [
    "146\n",
    "Share\n",
    "Given an array of N elements.find the number of occurences of each character and print it in the decreasing order of occurences, if 2 or more number occurs the same number of times, print the numbers in decreasing order.\n",
    "Input Size : |N| <= 100000\n",
    "Sample Testcase :\n",
    "INPUT\n",
    "5\n",
    "3 3 4 4 7\n",
    "OUTPUT\n",
    "4 3 7"
   ]
  },
  {
   "cell_type": "code",
   "execution_count": null,
   "metadata": {},
   "outputs": [],
   "source": [
    "n = int(input())\n",
    "nums = list(map(int, input().split()))\n",
    "\n",
    "c = sorted(set(nums))\n",
    "c = sorted(c, key = lambda x : nums.count(x))\n",
    "print(*c[::-1])"
   ]
  },
  {
   "cell_type": "markdown",
   "metadata": {},
   "source": [
    "147\n",
    "Share\n",
    "Vishal is learning to skate on ice. He's a beginner, so his only mode of transportation is pushing off from a snow drift to the north, east, south or west and sliding until he lands in another snow drift. He has noticed that in this way it's impossible to get from some snow drifts to some other by any sequence of moves. He now wants to heap up some additional snow drifts, so that he can get from any snow drift to any other one. He asked you to find the minimal number of snow drifts that need to be created. We assume that Vishal can only heap up snow drifts at integer coordinates. The first line of input contains a single integer N the number of snow drifts. Each of the following n lines contains two integers xi and yi the coordinates of the i-th snow drift. Note that the north direction coinсides with the direction of Oy axis, so the east direction coinсides with the direction of the Ox axis. All snow drift's locations are distinct.\n",
    "Input Size : 1 <= N,Xi,Yi <= 1000\n",
    "Sample Testcase :\n",
    "INPUT\n",
    "2\n",
    "2 1\n",
    "1 2\n",
    "OUTPUT\n",
    "1"
   ]
  },
  {
   "cell_type": "markdown",
   "metadata": {},
   "source": [
    "148\n",
    "Share\n",
    "Given a number N and an array of N strings, find the lexicographically smallest string.\n",
    "Input Size : N <= 1000\n",
    "Sample Testcase :\n",
    "INPUT\n",
    "3\n",
    "code\n",
    "learn\n",
    "practice\n",
    "OUTPUT\n",
    "code"
   ]
  },
  {
   "cell_type": "code",
   "execution_count": null,
   "metadata": {},
   "outputs": [],
   "source": [
    "s = []\n",
    "for i in range(int(input())):\n",
    "    s.append(input())\n",
    "print(sorted(s)[0])"
   ]
  },
  {
   "cell_type": "markdown",
   "metadata": {},
   "source": [
    "149\n",
    "Share\n",
    "Given an array, find the absolute minimum difference between any two elements in the array.\n",
    "Input Size : N <= 1000000(complexity O(n) or O(nlogn))\n",
    "Sample Testcase :\n",
    "INPUT\n",
    "5\n",
    "0 2 3 4 5\n",
    "OUTPUT\n",
    "1"
   ]
  },
  {
   "cell_type": "code",
   "execution_count": null,
   "metadata": {},
   "outputs": [],
   "source": [
    "n = int(input())\n",
    "nums = list(map(int, input().split()))\n",
    "nums.sort()\n",
    "d = [abs(nums[i]-nums[i+1]) for i in range(n-1)]\n",
    "print(min(d))"
   ]
  },
  {
   "cell_type": "markdown",
   "metadata": {},
   "source": [
    "150\n",
    "Share\n",
    "Given array sort it in ascending order till the half of array and in descending order after the half.(array index starts at 0).\n",
    "conditons to calculate the position of half of the array:\n",
    "if the array has odd number elements : floor((lastindex-1)/2)\n",
    "if the array has even number of elements:floor(lastindex/2)\n",
    "Input Size : N <= 100000\n",
    "Sample Testcase :\n",
    "INPUT\n",
    "5\n",
    "4 3 1 2 4\n",
    "OUTPUT\n",
    "3 4 4 2 1"
   ]
  },
  {
   "cell_type": "code",
   "execution_count": null,
   "metadata": {},
   "outputs": [],
   "source": [
    "n = int(input())\n",
    "nums = list(map(int, input().split()))\n",
    "nums = sorted(nums[:n//2])+sorted(nums[n//2:], key= lambda x: -x)\n",
    "print(*nums)"
   ]
  },
  {
   "cell_type": "markdown",
   "metadata": {},
   "source": [
    "151\n",
    "Share\n",
    "Given a number N and an array of N integers, find the greatest number which divides all the elements of the array.\n",
    "Input Size : N <= 100000\n",
    "Sample Testcase :\n",
    "INPUT\n",
    "5\n",
    "1 2 3 4 5\n",
    "OUTPUT\n",
    "1"
   ]
  },
  {
   "cell_type": "code",
   "execution_count": null,
   "metadata": {},
   "outputs": [],
   "source": [
    "n = int(input())\n",
    "nums = sorted(\n",
    "        map(int, input().split()), \n",
    "        key = lambda x: -x\n",
    "    )\n",
    "    \n",
    "for i in nums:\n",
    "    a = i\n",
    "    for j in nums:\n",
    "        if j%i != 0:\n",
    "            a = None\n",
    "            break\n",
    "    if a:\n",
    "        print(a)\n",
    "        break"
   ]
  },
  {
   "cell_type": "markdown",
   "metadata": {},
   "source": [
    "152\n",
    "Share\n",
    "A number is given as input. Find the odd digits in the number, add them and find if the sum is odd or not. If even print E, if odd print O.\n",
    "Input Size : N <= 10000000000\n",
    "Sample Testcase :\n",
    "INPUT\n",
    "413\n",
    "OUTPUT\n",
    "E"
   ]
  },
  {
   "cell_type": "code",
   "execution_count": null,
   "metadata": {},
   "outputs": [],
   "source": [
    "n = input()\n",
    "\n",
    "s = 0\n",
    "for i in n:\n",
    "    if int(i)%2 == 1:\n",
    "        s += int(i)\n",
    "        \n",
    "print('E' if s%2==0 else 'O')"
   ]
  },
  {
   "cell_type": "markdown",
   "metadata": {},
   "source": [
    "153\n",
    "Share\n",
    "Given an array N, sort it in ascending order till it reaches kth elements and after that sort it in descending order.\n",
    "Input Size : N <= 100000\n",
    "Sample Testcase :\n",
    "INPUT\n",
    "5 2\n",
    "4 3 1 2 4\n",
    "OUTPUT\n",
    "3 4 4 2 1"
   ]
  },
  {
   "cell_type": "code",
   "execution_count": null,
   "metadata": {},
   "outputs": [],
   "source": [
    "n, k = map(int, input().split())\n",
    "nums = list(map(int, input().split()))\n",
    "nums = sorted(nums[:k])+sorted(nums[k:], key= lambda x: -x)\n",
    "print(*nums)"
   ]
  },
  {
   "cell_type": "markdown",
   "metadata": {},
   "source": [
    "154\n",
    "Share\n",
    "Given a number N and an array of N integers, check if its a permutation of(1-N).\n",
    "Input Size : N <= 100000\n",
    "Sample Testcase :\n",
    "INPUT\n",
    "5\n",
    "1 2 3 4 5\n",
    "OUTPUT\n",
    "yes"
   ]
  },
  {
   "cell_type": "code",
   "execution_count": null,
   "metadata": {},
   "outputs": [],
   "source": [
    "n = int(input())\n",
    "nums = list(map(int, input().split()))\n",
    "f = 1\n",
    "\n",
    "print('yes' if list(range(1,n+1)) == nums else 'no')"
   ]
  },
  {
   "cell_type": "markdown",
   "metadata": {},
   "source": [
    "155\n",
    "Share\n",
    "Given 2 numbers N,K and an array of N integers, print the element K if it exists in the array else print the nearest smaller element.If it doesn't exist print -1.\n",
    "Input Size : N <= 100000\n",
    "Sample Testcase :\n",
    "INPUT\n",
    "5 10\n",
    "1 2 3 4 15\n",
    "OUTPUT\n",
    "4"
   ]
  },
  {
   "cell_type": "code",
   "execution_count": null,
   "metadata": {},
   "outputs": [],
   "source": [
    "n, k = map(int, input().split())\n",
    "nums = list(map(int, input().split()))\n",
    " \n",
    "if k in nums:\n",
    "    print(k)\n",
    "else:\n",
    "    a = None\n",
    "    for i in sorted(nums)[::-1]:\n",
    "        if i < k:\n",
    "            a = i\n",
    "            break\n",
    "    print(a if a else -1)"
   ]
  },
  {
   "cell_type": "markdown",
   "metadata": {},
   "source": [
    "156\n",
    "Share\n",
    "Given a number N and an array of N strings, sort the strings based on the number of vowels in each of the strings in descending order.\n",
    "Input Size : N <= 1000\n",
    "Sample Testcase :\n",
    "INPUT\n",
    "3\n",
    "Vishal\n",
    "Aaae\n",
    "Awqr\n",
    "OUTPUT\n",
    "Aaae\n",
    "Vishal\n",
    "Awqr"
   ]
  },
  {
   "cell_type": "code",
   "execution_count": null,
   "metadata": {},
   "outputs": [],
   "source": [
    "n = int(input())\n",
    "s = []\n",
    "for i in range(n):\n",
    "    s.append(input())\n",
    "    \n",
    "c = []\n",
    "v = 'aeiou'\n",
    "for i in s:\n",
    "    ct = 0\n",
    "    for j in i:\n",
    "        if j in v:\n",
    "            ct += 1\n",
    "    c.append([i, ct])\n",
    "\n",
    "c.sort(reverse=True, key = lambda x: x[1])\n",
    "for x in c:\n",
    "    print(x[0])"
   ]
  },
  {
   "cell_type": "markdown",
   "metadata": {},
   "source": [
    "157\n",
    "Share\n",
    "Given a numbers N, print the sum of prefix sum and suffix sum array for each position.\n",
    "Input Size : N <= 10000\n",
    "Sample Testcase :\n",
    "INPUT\n",
    "4\n",
    "2 4 4 2\n",
    "OUTPUT\n",
    "14 16 16 14"
   ]
  },
  {
   "cell_type": "code",
   "execution_count": null,
   "metadata": {},
   "outputs": [],
   "source": [
    "n = int(input())\n",
    "nums = list(map(int, input().split()))\n",
    "ans = [sum(nums)+x for x in nums]\n",
    "print(*ans)"
   ]
  },
  {
   "cell_type": "markdown",
   "metadata": {},
   "source": [
    "158\n",
    "Share\n",
    "Karthick loves to analyse patterns in numbers. He is given a list of positive integers a1,a2...aN. He wants to count the number of pairs (ai,aj) such that: ai < aj. He solved it and wants to cross-check his answer with yours. Compute the same and display the number of pairs possible so that Karthick can verify his answer.\n",
    " \n",
    "\n",
    "Constraints:\n",
    "1<=N<=10^3\n",
    "1<=a[i]<=10^3\n",
    " \n",
    "\n",
    "Input Description:\n",
    "First line contains a positive integer N denoting the size of array.The second line contains N space-separated positive integers denoting the elements of array.\n",
    "\n",
    "Output Description:\n",
    "A single line containing number of pairs possible.\n",
    "\n",
    "Sample Input :\n",
    "3\n",
    "2 1  \n",
    "Sample Output :\n",
    "1"
   ]
  },
  {
   "cell_type": "code",
   "execution_count": null,
   "metadata": {},
   "outputs": [],
   "source": [
    "n = int(input())\n",
    "nums = set(list(map(int, input().split())))\n",
    "print(sum(range(len(nums))))"
   ]
  },
  {
   "cell_type": "markdown",
   "metadata": {},
   "source": [
    "159\n",
    "Share\n",
    "Given a number N, Print sum of every didgit to the power of the weight of corresponding digit(Explanation : If the input is 12345 and then output calculated as (1^0)+(2^1)+(3^2)+(4^3)+(5^4)).\n",
    "Input Size : 1 <= N <= 100000\n",
    "Sample Testcase :\n",
    "INPUT\n",
    "100\n",
    "OUTPUT\n",
    "1"
   ]
  },
  {
   "cell_type": "code",
   "execution_count": null,
   "metadata": {},
   "outputs": [],
   "source": [
    "n = input()\n",
    "ans = 0\n",
    "for i in range(len(n)):\n",
    "    ans += int(n[i])**i\n",
    "print(ans)"
   ]
  },
  {
   "cell_type": "markdown",
   "metadata": {},
   "source": [
    "160\n",
    "Share\n",
    "There is a business analysis company named “AJ”. It hired two interns “A” and “B”. Both of them are given tasks to sell product in n days. The one who will sell more share will get the job. As A and B are good friends they decided that they will equalize the collected money, they are only allowed to swap more than one day’s share to make the total of each same. Your task is to help them.\n",
    "\n",
    " \n",
    "\n",
    "Constraints\n",
    "\n",
    "1<=N,a[i],b[i]<=50\n",
    "\n",
    "Input Description:\n",
    "First line contains no of days. Next line contains the n space separated integers representing sale of A. Next line contains Space separated integers representing sale of B.\n",
    "\n",
    "Output Description:\n",
    "Print “yes” if it is possible by one one swap. Else no\n",
    "\n",
    "Sample Input :\n",
    "4 \n",
    "5 7 4 6\n",
    "1 2 3 8\n",
    "Sample Output :\n",
    "yes"
   ]
  },
  {
   "cell_type": "code",
   "execution_count": null,
   "metadata": {},
   "outputs": [],
   "source": [
    "n = int(input())\n",
    "a = list(map(int, input().split()))\n",
    "b = list(map(int, input().split()))\n",
    "\n",
    "d = sum(a)-sum(b)\n",
    "if d < 0:\n",
    "    mx = b \n",
    "    mn = a \n",
    "else:\n",
    "    mx = a \n",
    "    mn = b \n",
    "\n",
    "for i in mn:\n",
    "    if (abs(d)//2)+i in mx:\n",
    "        f = 1\n",
    "\n",
    "print('yes' if f else 'no')"
   ]
  },
  {
   "cell_type": "markdown",
   "metadata": {},
   "source": [
    "161\n",
    "Share\n",
    "Given a number N followed by N numbers,find if in any position of the array, the sum of numbers in the previous positions is equal to the sum of elements after the current position. i.e., at a particular position the prefix sum should be equal to suffix sum, if yes print 'yes' else 'no'.\n",
    "Input Size : N <= 100000\n",
    "Sample Testcase :\n",
    "INPUT\n",
    "5\n",
    "1 1 1 1 1\n",
    "OUTPUT\n",
    "yes\n",
    "Here we have the index 3 where the sum of left 2 elements is equal to the sum of elements on the right"
   ]
  },
  {
   "cell_type": "markdown",
   "metadata": {},
   "source": [
    "162\n",
    "Share\n",
    "Given k sorted arrays of possibly different sizes, merge them and print the sorted output.\n",
    "Input Size : N<=100\n",
    "Example:\n",
    "INPUT\n",
    "k = 3\n",
    "1 3\n",
    "2 4 6\n",
    "0 9 10 11\n",
    "OUTPUT\n",
    "0 1 2 3 4 6 9 10 11"
   ]
  },
  {
   "cell_type": "markdown",
   "metadata": {},
   "source": [
    "163\n",
    "Share\n",
    "Given a number N and array of N integers, print the prefix sum array for each position if it is divisible by 2 else print the element itself.\n",
    "Input Size : N <= 10000\n",
    "Sample Testcase :\n",
    "INPUT\n",
    "4\n",
    "2 4 4 4\n",
    "OUTPUT\n",
    "2 6 10 14"
   ]
  },
  {
   "cell_type": "markdown",
   "metadata": {},
   "source": [
    "164\n",
    "Share\n",
    "Rahul was learning about numbers in list. He came across one word ground of a number.\n",
    "\n",
    "A ground of a number is defined as the number which is just smaller or equal to the number given to you.Hence he started solving some assignments related to it. He got struck in some questions. Your task is to help him.\n",
    "\n",
    " \n",
    "\n",
    "O(n) time complexity\n",
    "\n",
    "O(n) Auxilary space\n",
    "\n",
    "Input Description:\n",
    "First line contains two numbers ‘n’ denoting number of integers and ‘k’ whose ground is to be check. Next line contains n space separated numbers.\n",
    "\n",
    "Output Description:\n",
    "Print the index of val.Print -1 if equal or near exqual number\n",
    "\n",
    "Sample Input :\n",
    "7 3\n",
    "1 2 3 4 5 6 7\n",
    "Sample Output :\n",
    "2"
   ]
  },
  {
   "cell_type": "markdown",
   "metadata": {},
   "source": [
    "165\n",
    "Share\n",
    "An organization named “Gupil” has a well-maintained library in its own building. Librarian orders and gets books for the library very frequently. Each book which is newly arrived has its own unique serial number. The books initially are placed in descending order. The librarian want to place a new book without disturbing the descending order of books in terms of unique id. Now you must help librarian to find the right spot for placing the book.\n",
    "\n",
    "Input Description:\n",
    "The first line of program contains integer ‘n denoting no. of books already placed in the shelf. Next line contains n serial number of already placed books. Next line contains integer m denoting no of new books to be placed on the shelf. Next line contains m serial numbers of new book.\n",
    "\n",
    "Output Description:\n",
    "print the position at which it must be placed\n",
    "\n",
    "Sample Input :\n",
    "7\n",
    "95 68 62 58 55 41 30\n",
    "2\n",
    "45 61\n",
    "Sample Output :\n",
    "6 4"
   ]
  },
  {
   "cell_type": "markdown",
   "metadata": {},
   "source": [
    "166\n",
    "Share\n",
    "Given a number n and 2 numbers l and r followed by n numbers, find the smallest number in the range [l,r].\n",
    "Sample Testcase :\n",
    "INPUT\n",
    "5 2 4\n",
    "1 2 3 4 5\n",
    "OUTPUT\n",
    "2"
   ]
  },
  {
   "cell_type": "markdown",
   "metadata": {},
   "source": [
    "167\n",
    "Share\n",
    "Given a number N and an array of N elements,sort the array in increasing order and print the original indices of the elements present in sorted array.\n",
    "Input Size : N <= 100000\n",
    "Sample Testcase :\n",
    "INPUT\n",
    "5\n",
    "5 4 3 2 1\n",
    "OUTPUT\n",
    "5 4 3 2 1"
   ]
  },
  {
   "cell_type": "markdown",
   "metadata": {},
   "source": [
    "168\n",
    "Share\n",
    "You are given a number n,ranging from 1 to n. Out of which one number is missing. Your task is to print that missing number.\n",
    "\n",
    " \n",
    "\n",
    "Input Description:\n",
    "You are given a number ‘n’.\n",
    "\n",
    "Output Description:\n",
    "Print the missing number.\n",
    "\n",
    "Sample Input :\n",
    "5\n",
    "1 3 5 2\n",
    "Sample Output :\n",
    "4"
   ]
  },
  {
   "cell_type": "markdown",
   "metadata": {},
   "source": [
    "169\n",
    "Share\n",
    "Given with Size of the array 'N' followed by array of 'N' strings, group the anagrams and print the number of grouping possible.If grouping not possible print '0'.\n",
    "Sample Testcase :\n",
    "INPUT\n",
    "7\n",
    "rat art cat act dog god tar pat\n",
    "OUTPUT\n",
    "3\n",
    "[rat, art, tar],[cat, act],[dog, god]"
   ]
  },
  {
   "cell_type": "markdown",
   "metadata": {},
   "source": [
    "170\n",
    "Share\n",
    "You are given with the marks of N students in CS, Maths and English. Sort the students based on marks in maths. If 2 students have the same marks in maths, sort them based on marks in CS. If there is a tie, sort based on marks in English. All the sorting must be done in descending order.\n",
    " \n",
    "\n",
    "Input Description:\n",
    "Number of students followed by student id,marks in CS, Maths and English\n",
    "\n",
    "Output Description:\n",
    "Sorted list of students\n",
    "\n",
    "Sample Input :\n",
    "3\n",
    "A 34 89 98\n",
    "B 98 87 98\n",
    "C 87 67 98\n",
    "Sample Output :\n",
    "A 34 89 98\n",
    "B 98 87 98\n",
    "C 87 67 98"
   ]
  },
  {
   "cell_type": "markdown",
   "metadata": {},
   "source": [
    "171\n",
    "Share\n",
    "Iron Man wants to extract an infinity stone from a safe. The safe is protected by a password and Iron Man knows the clue to the password which is “sum one and two when sorted they are true”. Decode the clue from the test case and help Iron Man open the safe.\n",
    "\n",
    " \n",
    "\n",
    "Input Description:\n",
    "Size of the array followed by the elements of the array\n",
    "\n",
    "Output Description:\n",
    "Sum of 2 specific elements in the array.\n",
    "\n",
    "Sample Input :\n",
    "5\n",
    "9 8 3 2 1\n",
    "Sample Output :\n",
    "3"
   ]
  },
  {
   "cell_type": "markdown",
   "metadata": {},
   "source": [
    "172\n",
    "Share\n",
    "Sensex has never been steady and stock values have been rising and falling in the past. Ram is a stock broker and on analysing the trend of change in sensex points, he decides that there was a period when the points was at its all time high and investing during that period would have earned him a huge profit in trade. Ram immediately regrets not having done any trade in that particular period. Find out which period in time was Ram referring to.\n",
    "\n",
    "Constraints:\n",
    "3 ≤ N ≤ 106\n",
    " \n",
    "\n",
    "Input Description:\n",
    "The size of array N, the number of periods Ram has assessed. The values of the array are the values of the sensex points.\n",
    "\n",
    "Output Description:\n",
    "Period in which the points was at its max value. The array index is the period value.\n",
    "\n",
    "Sample Input :\n",
    "9\n",
    "1 15 25 45 42 21 17 12 11\n",
    "Sample Output :\n",
    "3"
   ]
  },
  {
   "cell_type": "markdown",
   "metadata": {},
   "source": [
    "173\n",
    "Share\n",
    "Given a number N, check if the sum of the digits is a Palindrome. Print 'yes' or 'no' accordingly.\n",
    "Input Size : 2 <= N <= 1000000000000000000\n",
    "Sample Testcases :\n",
    "INPUT\n",
    "13\n",
    "OUTPUT\n",
    "yes"
   ]
  },
  {
   "cell_type": "markdown",
   "metadata": {},
   "source": [
    "174\n",
    "Share\n",
    "Given a number N, print the first N Catalan numbers.\n",
    "Input Size : N <= 100\n",
    "Sample Testcase :\n",
    "INPUT\n",
    "1\n",
    "OUTPUT\n",
    "1 1"
   ]
  },
  {
   "cell_type": "markdown",
   "metadata": {},
   "source": [
    "175\n",
    "Share\n",
    "Given a string 'S' print the substring of maximum length which is not a palindrome.If more than one solution is possible print the solution which you obtained by performing elimination at the end of the string\n",
    "Input Size : 1 <= length <= 1000\n",
    "Sample Testcases :\n",
    "INPUT\n",
    "ababababa\n",
    "OUTPUT\n",
    "abababab\n",
    "INPUT\n",
    "hello\n",
    "OUTPUT\n",
    "hello"
   ]
  },
  {
   "cell_type": "markdown",
   "metadata": {},
   "source": [
    "176\n",
    "Share\n",
    "Given a number N and an array of N integers, predict if the product of all elements would be even or odd(actual multiplication may lead to overflows ai <= 100000000).If there is only one element present in the array print whether that number is odd or even.\n",
    "Input Size : N <= 100000\n",
    "Sample Testcase :\n",
    "INPUT\n",
    "4\n",
    "2 4 4 2\n",
    "OUTPUT\n",
    "even"
   ]
  },
  {
   "cell_type": "markdown",
   "metadata": {},
   "source": [
    "177\n",
    "Share\n",
    "Given a number N followed by N numbers. Out of these N numbers some of them are repeated. Write a program to find the number which is repeated and print the repeated numbers in sorted order. If no numbers are repeated print \"unique\".\n",
    "Input Size : 1 <= N <= 100000\n",
    "Sample Testcase :\n",
    "INPUT\n",
    "7\n",
    "1 2 3 2 3 4 3\n",
    "OUTPUT\n",
    "2 3"
   ]
  },
  {
   "cell_type": "markdown",
   "metadata": {},
   "source": [
    "178\n",
    "Share\n",
    "Given a number n followed by n numbers. Find the numbers which are equal to their index value and print them in sorted order. If no such numbers are present print '-1' without quotes.\n",
    "Input Size : 1 <= n <= 100000\n",
    "Sample Testcases :\n",
    "INPUT\n",
    "6\n",
    "6 7 3 3 4 5\n",
    "OUTPUT\n",
    "3 4 5"
   ]
  },
  {
   "cell_type": "markdown",
   "metadata": {},
   "source": [
    "179\n",
    "Share\n",
    "Given a number N, find the smallest number which is greater than N with the same digits in N. If N is the greatest digit print 'impossible'.\n",
    "Input Size : 1 <= N <= 1000000000000000000\n",
    "Sample Testcases :\n",
    "INPUT\n",
    "123\n",
    "OUTPUT\n",
    "132"
   ]
  },
  {
   "cell_type": "markdown",
   "metadata": {},
   "source": [
    "180\n",
    "Share\n",
    "Given 2 numbers N and M followed by 2 arrays A an B of sizes N and M. Check if array B is a subset of array A. if yes print 'yes' else print 'no'.\n",
    "Input Size : 1 <= N <= 1000000\n",
    "Sample Testcases :\n",
    "INPUT\n",
    "7 6\n",
    "1 2 3 4 5 6 7\n",
    "3 4 5 6 7 1\n",
    "OUTPUT\n",
    "yes"
   ]
  },
  {
   "cell_type": "markdown",
   "metadata": {},
   "source": [
    "181\n",
    "Share\n",
    "Given a number N, print the even factors of N.If the even factor does not exists for N print '-1'.\n",
    "Input Size : 1 <= N <= 1000\n",
    "Sample Testcase :\n",
    "INPUT\n",
    "8\n",
    "OUTPUT\n",
    "2 4 8"
   ]
  },
  {
   "cell_type": "markdown",
   "metadata": {},
   "source": [
    "182\n",
    "Share\n",
    "Given a number N followed by N numbers. Print the even numbers which are present in odd positions and odd numbers which are present in even positions(0 indexing)If no element is found print '-1'.\n",
    "Input Size : 1 <= N <= 100000\n",
    "Sample Testcases :\n",
    "INPUT\n",
    "7\n",
    "1 2 3 4 5 6 7\n",
    "OUTPUT\n",
    "1 2 3 4 5 6 7"
   ]
  },
  {
   "cell_type": "markdown",
   "metadata": {},
   "source": [
    "183\n",
    "Share\n",
    "Given two numbers N,K and an array of size N, print the three nearest neighbours of K(nearest neighbours are numbers which have least difference with K).\n",
    "Input Size : 4 <= N, K <= 100000\n",
    "Sample Testcases :\n",
    "INPUT\n",
    "5 3\n",
    "1 2 3 4 6\n",
    "OUTPUT\n",
    "2 4 1"
   ]
  },
  {
   "cell_type": "markdown",
   "metadata": {},
   "source": [
    "184\n",
    "Share\n",
    "Given a number N followed by N numbers(negative or positive) print the maximum sum of any subarray of the array.\n",
    "Input Size : 1 <= N <= 100000\n",
    "Sample Testcases :\n",
    "INPUT\n",
    "7\n",
    "1 2 3 4 5 6 7\n",
    "OUTPUT\n",
    "28"
   ]
  },
  {
   "cell_type": "markdown",
   "metadata": {},
   "source": [
    "185\n",
    "Share\n",
    "Given a string S of length N, write a program that would reverse every word in the string.\n",
    "Input Size : 1 <= N <= 100000\n",
    "Sample Testcases :\n",
    "INPUT\n",
    "Hello World\n",
    "OUTPUT\n",
    "olleH dlroW"
   ]
  },
  {
   "cell_type": "markdown",
   "metadata": {},
   "source": [
    "186\n",
    "Share\n",
    "Given 2 numbers N,K and N arrays each of size K, print the elements that have appeared in all arrays,if any element are not same print '-1'.\n",
    "Input Size : 2 <= N, K <= 100000\n",
    "Sample Testcases :\n",
    "INPUT\n",
    "2 3\n",
    "1 0 2\n",
    "0 8 7\n",
    "OUTPUT\n",
    "0"
   ]
  },
  {
   "cell_type": "markdown",
   "metadata": {},
   "source": [
    "187\n",
    "Share\n",
    "Given a number N. There will be N numbers given. Print the smallest number in the given list after each input(Hint use priority queue).\n",
    "Input Size : N <= 100000\n",
    "Sample Testcase :\n",
    "INPUT\n",
    "4\n",
    "3 2 4 1\n",
    "OUTPUT\n",
    "3 2 2 1"
   ]
  },
  {
   "cell_type": "markdown",
   "metadata": {},
   "source": [
    "188\n",
    "Share\n",
    "Given 2 numbers N and K, print the number of ways of taking k elements from the first n elements.\n",
    "Input Size : 1 <= N <= K <= 100000\n",
    "Sample Testcases :\n",
    "INPUT\n",
    "2 2\n",
    "OUTPUT\n",
    "2"
   ]
  },
  {
   "cell_type": "markdown",
   "metadata": {},
   "source": [
    "189\n",
    "Share\n",
    "Given a number N followed by an array of N numbers. Another number D is given. Rotate the array D times and print the array.\n",
    "Input Size : N <= 100000, D<=100000\n",
    "Sample Testcase :\n",
    "INPUT\n",
    "4 1\n",
    "3 2 4 1\n",
    "OUTPUT\n",
    "2 4 1 3"
   ]
  },
  {
   "cell_type": "markdown",
   "metadata": {},
   "source": [
    "190\n",
    "Share\n",
    "Given a number N followed by 2 lists A and B of N integers each. Form a 3rd list C of size N where each element of list C is the sum the respective elements in lists A and B.\n",
    "Input Size : N <= 100000\n",
    "Sample Testcase :\n",
    "INPUT\n",
    "5\n",
    "30 5 5 30 -45\n",
    "1 2 3 4 5\n",
    "OUTPUT\n",
    "31 7 8 34 -40"
   ]
  },
  {
   "cell_type": "markdown",
   "metadata": {},
   "source": [
    "191\n",
    "Share\n",
    "Given N, K and follwed by N of integers , find two numbers such that they add up to a specific target number K. Example Input: numbers={2, 7, 11, 15}, K=9,print 'yes' if target achieved (2,7 can be added to get 9) if there is no such pair print 'no'.\n",
    "Input Size : 1 <= N <= 100000\n",
    "Sample Testcases :\n",
    "INPUT\n",
    "7 6\n",
    "1 2 3 4 5 6 7\n",
    "OUTPUT\n",
    "yes"
   ]
  },
  {
   "cell_type": "markdown",
   "metadata": {},
   "source": [
    "192\n",
    "Share\n",
    "Given an array A[n] of n numbers, create an output array such that out[i] is equal to the product of all the elements of A[n] except A[i]. Ex. out[4] assuming n >= 5 will be the product of the numbers from A[0] through A[3] and the numbers from A[5] through A[n - 1]. print the out array.\n",
    "Input Size : 1 <= N <= 100000\n",
    "Sample Testcases :\n",
    "INPUT\n",
    "5\n",
    "1 2 3 4 5\n",
    "OUTPUT\n",
    "120 60 40 30 24"
   ]
  },
  {
   "cell_type": "markdown",
   "metadata": {},
   "source": [
    "193\n",
    "Share\n",
    "Given two numbers a and b, write a program to print the count of numbers in the range [a,b] in which there are prime number of 1's in their binary representation.\n",
    "Input Size : 1 <= A <= B <= 100000\n",
    "Sample Testcases :\n",
    "INPUT\n",
    "1 3\n",
    "OUTPUT\n",
    "1"
   ]
  },
  {
   "cell_type": "markdown",
   "metadata": {},
   "source": [
    "194\n",
    "Share\n",
    "Given 2 numbers N and K and followed by an array of N integers. The given element K is removed from the array and new array is printed. If after removing every occurance of K the array becomes empty, print 'empty' without quotes.\n",
    "Example:\n",
    "Input: {10,10,20,30,76}, K=10\n",
    "Output: {20,20,76}\n",
    "Input Size : N <= 100000\n",
    "Sample Testcase :\n",
    "INPUT\n",
    "5 10\n",
    "10 10 20 30 76\n",
    "OUTPUT\n",
    "20 30 76"
   ]
  },
  {
   "cell_type": "markdown",
   "metadata": {},
   "source": [
    "195\n",
    "Share\n",
    "Given a number N, print all prime numbers less than N(in ascending order).\n",
    "Input Size : 1 <= N <= 100000\n",
    "Sample Testcase :\n",
    "INPUT\n",
    "10\n",
    "OUTPUT\n",
    "2 3 5 7"
   ]
  },
  {
   "cell_type": "markdown",
   "metadata": {},
   "source": [
    "196\n",
    "Share\n",
    "Given a limit N followed by N numbers, find the number of pairs such ai + aj = ak for all i < j < k.\n",
    "Input Size : 3 <= N <= 1000\n",
    "Sample Testcase :\n",
    "INPUT\n",
    "5\n",
    "1 4 2 3 5\n",
    "OUTPUT\n",
    "3"
   ]
  },
  {
   "cell_type": "markdown",
   "metadata": {},
   "source": [
    "197\n",
    "Share\n",
    "Given two numbers N,K(N>=K) and an array of N elements, write a program to find the Kth largest element.\n",
    "Input Size : 1 <= K <= N <= 100000\n",
    "Sample Testcases :\n",
    "INPUT\n",
    "6 2\n",
    "1 2 3 4 5 6\n",
    "OUTPUT\n",
    "5"
   ]
  },
  {
   "cell_type": "markdown",
   "metadata": {},
   "source": [
    "198\n",
    "Share\n",
    "Given a number N, print the smallest number with sum of digits N.\n",
    "Input Size : 1 <= N <= 100000\n",
    "Sample Testcase :\n",
    "INPUT\n",
    "12\n",
    "OUTPUT\n",
    "39"
   ]
  },
  {
   "cell_type": "markdown",
   "metadata": {},
   "source": [
    "199\n",
    "Share\n",
    "Given a number N followed by N numbers. Find the largest number which can be formed from the given numbers and print it.\n",
    "NOTE: Each number should be used exactly once.\n",
    "Input Size : 1 <= N <= 100000\n",
    "Sample Testcases :\n",
    "INPUT\n",
    "5\n",
    "5 6 7 8 9\n",
    "OUTPUT\n",
    "98765"
   ]
  },
  {
   "cell_type": "markdown",
   "metadata": {},
   "source": [
    "200\n",
    "Share\n",
    "Given a number N and an array of N elements, print the number of lucky numbers in the array.\n",
    "Lucky number: N*I is also present in the array then the number is lucky where N is the number of elements in the array and I is the position of the element.(1 based indexing)\n",
    "Input Size : 1 <= N, I <= 100000\n",
    "Sample Testcases :\n",
    "INPUT\n",
    "5\n",
    "1 2 3 4 5\n",
    "OUTPUT\n",
    "1"
   ]
  },
  {
   "cell_type": "markdown",
   "metadata": {},
   "source": [
    "201\n",
    "Share\n",
    "Given a limit N followed by N numbers, find the number of pairs which satisfies the condition of ai < aj for all i < j.\n",
    "Input Size : 1 <= N <= 100000\n",
    "Sample Testcase :\n",
    "INPUT\n",
    "5\n",
    "1 4 2 3 5\n",
    "OUTPUT\n",
    "8"
   ]
  },
  {
   "cell_type": "markdown",
   "metadata": {},
   "source": [
    "202\n",
    "Share\n",
    "You are given N integer arrays, find if the same array occurs more than once. Print YES if it does, NO otherwise. Two arrays A and B are same only if they are of equal size, say M, and for all 0 <= i <= M-1, A[i] = B[i].\n",
    "\n",
    "Input Description:\n",
    "The first line contains a single integer N, denoting the number of arrays. From the second line, 2*N lines follow. The (2i - 1)th line contains an integer M denoting the number of integers in the array. The 2i th line contains M space separated integers denoting the elements of the array.\n",
    "\n",
    "Output Description:\n",
    "Print a single line YES or NO\n",
    "\n",
    "Sample Input :\n",
    "3\n",
    "5\n",
    "1 8 3 1 2\n",
    "1\n",
    "9\n",
    "1\n",
    "9\n",
    "Sample Output :\n",
    "YES"
   ]
  },
  {
   "cell_type": "markdown",
   "metadata": {},
   "source": [
    "203\n",
    "Share\n",
    "Given a number N followed by an array of N integers, every element appears twice except for one. Find that single one and print it.\n",
    "Input Size : N <= 100000\n",
    "Sample Testcase :\n",
    "INPUT\n",
    "5\n",
    "30 5 5 30 -45\n",
    "OUTPUT\n",
    "-45"
   ]
  },
  {
   "cell_type": "markdown",
   "metadata": {},
   "source": [
    "204\n",
    "Share\n",
    "Given a number N followed by N numbers. Keep the count of each number and print the maximum repeating number.\n",
    "Input Size : N <= 100000\n",
    "Sample Testcase :\n",
    "INPUT\n",
    "5\n",
    "15 5 -20 -20 -45\n",
    "OUTPUT\n",
    "-20"
   ]
  },
  {
   "cell_type": "markdown",
   "metadata": {},
   "source": [
    "205\n",
    "Share\n",
    "Given a number N print the right-angled triangle with the top level having N 1's followed by each level with is one 1 lesser.\n",
    "Input Size : N <= 1000\n",
    "Sample Testcase :\n",
    "INPUT\n",
    "3\n",
    "OUTPUT\n",
    "1 1 1\n",
    "1 1\n",
    "1"
   ]
  },
  {
   "cell_type": "markdown",
   "metadata": {},
   "source": [
    "206\n",
    "Share\n",
    "Ramesh is given a special series to print,as he has some other work to do.Help ramesh in printing the series.\n",
    "\n",
    " \n",
    "\n",
    "Note:Observe the series very keenly in examples\n",
    "\n",
    "Input Description:\n",
    "You are given a number ‘n’.\n",
    "\n",
    "Output Description:\n",
    "Print the n term of series.\n",
    "\n",
    "Sample Input :\n",
    "6\n",
    "Sample Output :\n",
    "1 6 120"
   ]
  },
  {
   "cell_type": "markdown",
   "metadata": {},
   "source": [
    "207\n",
    "Share\n",
    "Varsha is a Machine learning scientist. She wants to apply a few ML algorithms on the dataset to do some research and for that, she wants to merge two given arrays and sort them in ascending order. You are an intern working under Varsha and she has asked for your help for the same. Given 2 arrays arr1[] and arr2[], find the union of both the arrays sorted in ascending order.  Note: Union of two arrays must have distinct elements.\n",
    "\n",
    " \n",
    "\n",
    "Input Description:\n",
    "Size of arr1[] followed by elements of arr1. Size of arr2[] followed by elements of arr2.\n",
    "\n",
    "Output Description:\n",
    "Union of arr1 and arr2 sorted in ascending order.\n",
    "\n",
    "Sample Input :\n",
    "2 \n",
    "87 78\n",
    "3\n",
    "1 2 3\n",
    "Sample Output :\n",
    "1 2 3 78 87"
   ]
  },
  {
   "cell_type": "markdown",
   "metadata": {},
   "source": [
    "208\n",
    "Share\n",
    "rahul is given an array containing digits values ranging from 0-9,Rahul’s task is to find the sum of minimum two numbers formed by the digits,but he has some other work to do, he called you and told you that he is busy with some work,your task is to do the same work for rahul\n",
    "\n",
    " \n",
    "\n",
    "Input Description:\n",
    "You are given a number ‘n’ denoting size of array Next line contains n space separated numbers\n",
    "\n",
    "Output Description:\n",
    "Print the sum of numbers formed by it\n",
    "\n",
    "Sample Input :\n",
    "6\n",
    "6 8 4 5 2 3\n",
    "Sample Output :\n",
    "604"
   ]
  },
  {
   "cell_type": "markdown",
   "metadata": {},
   "source": [
    "209\n",
    "Share\n",
    "Given a number N followed by N numbers.Find the smallest number and largest number and print both the indices(1 based indexing).\n",
    "Input Size : N <= 100000\n",
    "Sample Testcase :\n",
    "INPUT\n",
    "5\n",
    "1 2 3 4 5\n",
    "OUTPUT\n",
    "1 5"
   ]
  },
  {
   "cell_type": "code",
   "execution_count": null,
   "metadata": {},
   "outputs": [],
   "source": [
    "n = int(input())\n",
    "nums = list(map(int, input().split()))\n",
    "\n",
    "print(nums.index(min(nums))+1, nums.index(max(nums))+1)"
   ]
  },
  {
   "cell_type": "markdown",
   "metadata": {},
   "source": [
    "210\n",
    "Share\n",
    "Given an array of N elements, find the elements A[i], A[j] and A[k] in the array such that A[i]+A[j]=A[k] and i < j < k . Print number of possibilities.\n",
    "Input Size : 1 <= N <= 1000\n",
    "Sample Testcases :\n",
    "INPUT\n",
    "5\n",
    "1 2 3 4 5\n",
    "OUTPUT\n",
    "4"
   ]
  },
  {
   "cell_type": "markdown",
   "metadata": {},
   "source": [
    "211\n",
    "Share\n",
    "Shriti was going through some cryptographic concept. She just got stuck at some place . She needs your help to sort out the situation. Your task is to help her in writing the decrypted string.\n",
    "\n",
    " \n",
    "\n",
    "Input Description:\n",
    "The first line of the input consists of a Encrypted string input\n",
    "\n",
    "Output Description:\n",
    "Print the decrypted string, by analysing the logic behind the decryption using the sample input and output.\n",
    "\n",
    "Sample Input :\n",
    "3[b[2[aa]]]\n",
    "Sample Output :\n",
    "baaaabaaaabaaaa"
   ]
  },
  {
   "cell_type": "markdown",
   "metadata": {},
   "source": [
    "212\n",
    "Share\n",
    "Given a string S convert each characters of the string into ASCII values and print the sum of the numbers.\n",
    "Input Size : |s| <= 100000\n",
    "Sample Testcase :\n",
    "INPUT\n",
    "guvi\n",
    "OUTPUT\n",
    "443"
   ]
  },
  {
   "cell_type": "markdown",
   "metadata": {},
   "source": [
    "213\n",
    "Share\n",
    "Given a string S of length N, find whether the given string is a palindrome using stack or linked list and print 'yes' otherwise print 'no'.\n",
    "Input Size : 1 <= N <= 100000\n",
    "Sample Testcases :\n",
    "INPUT\n",
    "GuviGeek\n",
    "OUTPUT\n",
    "no"
   ]
  },
  {
   "cell_type": "markdown",
   "metadata": {},
   "source": [
    "214\n",
    "Share\n",
    "Given a number N and an array of N elements, a selection algorithm is implemented on this array where numbers at even position would be chosen, the algorithm is again and again implemented on the newly chosen array until only 1 element is remaining. Print the original position(index) of this element in the initial array.\n",
    "Input Size : 1 <= N <= 100000\n",
    "Sample Testcases :\n",
    "INPUT\n",
    "6\n",
    "1 2 3 4 5 6\n",
    "OUTPUT\n",
    "3"
   ]
  },
  {
   "cell_type": "markdown",
   "metadata": {},
   "source": [
    "215\n",
    "Share\n",
    "Tahir gets into an elevator. The elevator is programmed such that it moves up the number of floors mentioned at odd indexes of an array A[] and moves down the number of floors mentioned at even indexes of the array A[], in sequence. Sort the array such that when Tahir gets out of the elevator, he is at any floor other than the floor at which he got into the elevator. The index of the ground floor is 1 and assume that the building has 100 floors. The lift can move only up to the ground floor(i.e) floor indexes are positive integers.\n",
    " \n",
    "\n",
    "Input Description:\n",
    "Size of array followed by floor number at which Tahir gets into the elevator. The second line contains the number of elements in the array.\n",
    "\n",
    "Output Description:\n",
    "Sorted array according to the problem specifications. If no such arrangement is possible output “not possible”\n",
    "\n",
    "Sample Input :\n",
    "5 8\n",
    "5 8 1 3 4\n",
    "Sample Output :\n",
    "1 3 4 5 8"
   ]
  },
  {
   "cell_type": "markdown",
   "metadata": {},
   "source": [
    "216\n",
    "Share\n",
    "Swagger and Rock are playing a word game. They need to check the two strings use the same base alphabets. Two strings are said to have same base alphabets if they use the same characters to form the word. eg: rescue and curse have same base alphabets - c,e,r,s,u.If it so print 'true' else print 'false'.\n",
    "Input Size : |S| <= 1000000\n",
    "Sample Testcase :\n",
    "INPUT\n",
    "rescue curse\n",
    "OUTPUT\n",
    "true"
   ]
  },
  {
   "cell_type": "markdown",
   "metadata": {},
   "source": [
    "217\n",
    "Share\n",
    "Given an array of size N with both positive and negative numbers. Find two elements such that their sum is equal or closest to zero.\n",
    "Input Size : 1 <= N <= 100000\n",
    "Sample Testcases :\n",
    "INPUT\n",
    "5\n",
    "-1 2 3 1 0\n",
    "OUTPUT\n",
    "1 -1"
   ]
  },
  {
   "cell_type": "markdown",
   "metadata": {},
   "source": [
    "218\n",
    "Share\n",
    "Given a number N- (number of nodes) followed by N numbers. Construct a BST with the inputs in the same order. Now 2 numbers U and V are given. Find the LCA( Lowest Common Anscestor) of U and V.\n",
    "Input Size : 1 <= N <= 10000\n",
    "Sample Testcases :\n",
    "INPUT\n",
    "5\n",
    "1 2 3 4 5\n",
    "4 5\n",
    "OUTPUT\n",
    "4"
   ]
  },
  {
   "cell_type": "markdown",
   "metadata": {},
   "source": [
    "219\n",
    "Share\n",
    "You are given with an array. Your task is to print the left rotated array after k opearations.\n",
    "\n",
    "Time:O(n)\n",
    "\n",
    "Extra Space: O(1)\n",
    "\n",
    "Input Description:\n",
    "First line contains two number ‘n’ and ‘k’.Next line contains n space separated numbers.\n",
    "\n",
    "Output Description:\n",
    "Print the array as mentioned.\n",
    "\n",
    "Sample Input :\n",
    "7 3\n",
    "1 2 3 4 5 6 7\n",
    "Sample Output :\n",
    "4 5 6 7 1 2 3"
   ]
  },
  {
   "cell_type": "markdown",
   "metadata": {},
   "source": [
    "220\n",
    "Share\n",
    "The interest rates of two banks A and B vary. You have received offers from both bank in terms of annual rate of interest, tenure and variations of rate of interest over the entire tenure.\n",
    "\n",
    "You have to choose the offer which costs you least interest and reject the other.\n",
    "\n",
    "The loan repayment happens at a monthly frequency and Equated Monthly Installment (EMI) is calculated using the formula given below :\n",
    "\n",
    "EMI = loanAmount * monthlyInterestRate /\n",
    "\n",
    "( 1 - 1 / (1 + monthlyInterestRate)^(numberOfYears * 12))\n",
    "\n",
    "Input Description:\n",
    "First line : P – principal amount (Loan Amount) Second line : T – Total Tenure (in years). Third Line : N1 is number of slabs of interest rates for a given period T by Bank A. First slab starts from first year and second slab starts from end of first slab and so on. Next, there will be N1 lines of input containing interest rate and their period seperated by a single space. After N1 lines, we will receive N2 which will be the number of slabs offered by Bank B. Next N2 lines are number of slabs of interest rates for a given period by Bank B. First slab starts from first year and second slab starts from end of first slab and so on. The period and rate will be delimited by single white space.\n",
    "\n",
    "Output Description:\n",
    "Print 'Bank A' or 'Bank B' based on the factor which cost you the least interest amount.\n",
    "\n",
    "Sample Input :\n",
    "10000\n",
    "20\n",
    "3\n",
    "5 9.5\n",
    "10 9.6\n",
    "5 8.5\n",
    "3\n",
    "10 6.9\n",
    "5 8.5\n",
    "5 7.9\n",
    "Sample Output :\n",
    "Bank B"
   ]
  },
  {
   "cell_type": "markdown",
   "metadata": {},
   "source": [
    "221\n",
    "Share\n",
    "Given a number N and an array of size N(with both positive and negative integers), print the product of the elements in the maximum product subarray.\n",
    "Input Size : 1 <= N <= 100000\n",
    "Sample Testcases :\n",
    "INPUT\n",
    "5\n",
    "1 2 3 4 5\n",
    "OUTPUT\n",
    "120"
   ]
  },
  {
   "cell_type": "markdown",
   "metadata": {},
   "source": [
    "222\n",
    "Share\n",
    "N players with weights are given as input. Divide them into 2 teams such that the difference between the total weights of the 2 teams are minimum. While dividing , ensure that difference in number of players between the teams is minimum. Output the difference in number of players in 2 teams.\n",
    "Input Size : 1<= N <= 100000\n",
    "Sample Testcases :\n",
    "INPUT\n",
    "7\n",
    "1 2 3 4 5 6 7\n",
    "OUTPUT\n",
    "3"
   ]
  },
  {
   "cell_type": "markdown",
   "metadata": {},
   "source": [
    "223\n",
    "Share\n",
    "There is one meeting room in Flipkart. There are n meetings in the form of (S [ i ], F [ i ]) where S [ i ] is start time of meeting i and F [ i ] is finish time of meeting i Given a number N followed by 2 arrays S and F of sizes N and N, What is the maximum number of meetings that can be accommodated in the meeting room assuming the room can only accommodate one meeting at a time.\n",
    "Input Size : 1 <= N <= 100000\n",
    "Sample Testcases :\n",
    "INPUT\n",
    "3\n",
    "10 12 30\n",
    "20 25 30\n",
    "OUTPUT\n",
    "2"
   ]
  },
  {
   "cell_type": "markdown",
   "metadata": {},
   "source": [
    "224\n",
    "Share\n",
    "Find the count k by which array has been rotated in the rotated sorted array. Given a number N followed 2 arrays A and B of length N. Find the amount K by which the array has been rotated.\n",
    "Input Size : N <= 100000\n",
    "Sample Testcase :\n",
    "INPUT\n",
    "4\n",
    "4 3 2 5\n",
    "3 2 5 4\n",
    "OUTPUT\n",
    "1"
   ]
  },
  {
   "cell_type": "markdown",
   "metadata": {},
   "source": [
    "225\n",
    "Share\n",
    "This problem is also called minimum absolute sum pair. You are given a number N followed by an array of N numbers, containing both +ve and -ve numbers. You need to print the two elements such that their sum is closest to zero.\n",
    "Input Size : N <= 100000\n",
    "Sample Testcase :\n",
    "INPUT\n",
    "5\n",
    "15 5 -20 30 -45\n",
    "OUTPUT\n",
    "15 -20"
   ]
  },
  {
   "cell_type": "markdown",
   "metadata": {},
   "source": [
    "226\n",
    "Share\n",
    "Rohit wants to intern at Guvi Geek Network.To get the internship, he has to go through a test in form of gaming process. There are N candidates applying for the internship including Rohit and only one will be selected.\n",
    "\n",
    "Since he wants to qualify he asks you to help him. The test is as follows.\n",
    "\n",
    "The candidates are asked to stand in a line at positions 1 to N and given a number K. Now, every Kth candidate remains and the rest are eliminated. This is repeated until the number of candidates are less than K.\n",
    "\n",
    "Out of the remaining candidates, the one standing at smallest position is selected. You need to tell Rohit at which position he must stand so that he will get selected.\n",
    "\n",
    "Constraints :\n",
    "\n",
    "1 <= N <= 10^5\n",
    "\n",
    "2 <= K <= 10\n",
    "\n",
    " \n",
    "\n",
    "Input Description:\n",
    "Input contains 2 space-separated integers N, denoting number of candidates and K.\n",
    "\n",
    "Output Description:\n",
    "For each test case, print the required position in a new line.\n",
    "\n",
    "Sample Input :\n",
    "3\n",
    "30 3\n",
    "18 3\n",
    "5 2\n",
    "Sample Output :\n",
    "27\n",
    "9\n",
    "4"
   ]
  },
  {
   "cell_type": "markdown",
   "metadata": {},
   "source": [
    "227\n",
    "Share\n",
    "Given a string S of length N, print all permutations of the string in a separate line.\n",
    "Input Size : 1 <= N <= 100000\n",
    "Sample Testcases :\n",
    "INPUT\n",
    "123\n",
    "OUTPUT\n",
    "123\n",
    "231\n",
    "321\n",
    "213\n",
    "312\n",
    "132"
   ]
  },
  {
   "cell_type": "markdown",
   "metadata": {},
   "source": [
    "228\n",
    "Share\n",
    "There are n stairs, a person standing at the bottom wants to reach the top. The person can climb either 1 stair or 2 stairs at a time. Given a number N Count the number of ways, the person can reach the top.\n",
    "Input Size : N <= 100\n",
    "Sample Testcase :\n",
    "INPUT\n",
    "3\n",
    "OUTPUT\n",
    "3"
   ]
  },
  {
   "cell_type": "markdown",
   "metadata": {},
   "source": [
    "229\n",
    "Share\n",
    "Given a number N followed by an array of N integers, replace every element with the greatest element on the right side(to that element) in the array. Replace last element with 0 as there no element on the right side of it.\n",
    "eg. if the array is {6, 7, 4, 3, 5, 2}, output {7, 5, 5, 5, 2, 0}.\n",
    "Input Size : N <= 100000\n",
    "Sample Testcase :\n",
    "INPUT\n",
    "6\n",
    "6 7 4 3 5 2\n",
    "OUTPUT\n",
    "7 5 5 5 2 0"
   ]
  },
  {
   "cell_type": "markdown",
   "metadata": {},
   "source": [
    "230\n",
    "Share\n",
    "For 2 arrays A1 and A2 , sort A1 in such a way that the relative order among the elements will be the same as those in A2. For the elements not present in A2, append them at last to A1, in SORTED ORDER.\n",
    "\n",
    "Note: Number of elements in A2[] are smaller than or equal to the number of elements in A1[]. A2[] has all distinct elements.\n",
    "\n",
    "Constraints:\n",
    "\n",
    "1 ≤ N,M  ≤ 106\n",
    "\n",
    "1 ≤ A1[], A2[] <= 106\n",
    "\n",
    " \n",
    "\n",
    "Input Description:\n",
    "First line of input contains length of arrays N and M and next two line contains elements of A1 and A2 respectively.\n",
    "\n",
    "Output Description:\n",
    "Print the sorted array.\n",
    "\n",
    "Sample Input :\n",
    "11 4\n",
    "2 1 2 5 7 1 9 3 6 8 8\n",
    "2 1 8 3\n",
    "Sample Output :\n",
    "2 2 1 1 8 8 3 5 6 7 9"
   ]
  },
  {
   "cell_type": "markdown",
   "metadata": {},
   "source": [
    "231\n",
    "Share\n",
    "Given a number N,print number of all possible valid expressions with N pairs of brackets(use this {}).For example({{{}}}\n",
    "{{}{}}\n",
    "{{}}{}\n",
    "{}{{}}\n",
    "{}{}{})3 brackets has 5 pairs.\n",
    "Input Size : 1 <= N <= 100000\n",
    "Sample Testcases :\n",
    "INPUT\n",
    "2\n",
    "OUTPUT\n",
    "2"
   ]
  },
  {
   "cell_type": "markdown",
   "metadata": {},
   "source": [
    "232\n",
    "Share\n",
    "Form a number system with only 3 and 4. Find the nth number of the number system Eg.) The numbers are: 3, 4, 33, 34, 43, 44, 333, 334, 343, 344, 433, 434, 443, 444, 3333, 3334, 3343,3344, 3433, 3434, 3443, 3444.\n",
    "Input Size : 1 <= N <= 100000\n",
    "Sample Testcases :\n",
    "INPUT\n",
    "1\n",
    "OUTPUT\n",
    "3"
   ]
  },
  {
   "cell_type": "markdown",
   "metadata": {},
   "source": [
    "233\n",
    "Share\n",
    "Given a number N followed by an unsorted array of N numbers and a number K, find if there exists a pair of elements in the array whose difference is K. Return count of such pairs.\n",
    "Example k=4 and a[]={7,6,23,19,10,11,9,3,15}\n",
    "Output should be : 6\n",
    "Pairs can be:\n",
    "7,11\n",
    "7,3\n",
    "6,10\n",
    "19,23\n",
    "15,19\n",
    "15,11\n",
    "Input Size : N <= 100000\n",
    "Sample Testcase :\n",
    "INPUT\n",
    "6 4\n",
    "8 12 16 4 0 20\n",
    "OUTPUT\n",
    "5"
   ]
  },
  {
   "cell_type": "markdown",
   "metadata": {},
   "source": [
    "234\n",
    "Share\n",
    "Given a cache and 2 integers N(number of Cache entries), K(Size of the cache) followed by N queries each containing an integer, implement a LRU cache and output the final cache after all N queries.\n",
    "Input Size : 1 <= N <= 100000\n",
    "Sample Testcase :\n",
    "INPUT\n",
    "3 2\n",
    "1 2 3\n",
    "OUTPUT\n",
    "2 3"
   ]
  },
  {
   "cell_type": "markdown",
   "metadata": {},
   "source": [
    "235\n",
    "Share\n",
    "You are given a number N and followed by an array of N numbers and followed by two elements U and V, find the minimum distance between the elements in the array. The array may have duplicates.\n",
    "For example, if the array is (1, 5, 3, 7, 2, 8, 3, 4, 5, 9, 9, 3, 1, 3, 2, 9)\n",
    "Min Distance (U=4, V= 7): 4\n",
    "Input Size : N <= 100000\n",
    "Sample Testcase :\n",
    "INPUT\n",
    "16\n",
    "1 5 3 7 2 8 3 4 5 9 9 3 1 3 2 9\n",
    "4 7\n",
    "OUTPUT\n",
    "4"
   ]
  },
  {
   "cell_type": "markdown",
   "metadata": {},
   "source": [
    "236\n",
    "Share\n",
    "Email Validation :\n",
    "Given a string S check if is a valid email id based on the following Conditions.\n",
    "1)@ should be present;\n",
    "2)@ & . should not be repeated;\n",
    "3)there should be atleast four characters between @ and .;\n",
    "4)there should be at-least 3 characters before @ ;\n",
    "5)the end of mail id should be .com;\n",
    "If its a valid email id print 'yes' else print 'no'.\n",
    "Input Size : |S| <= 100000\n",
    "Sample Testcase :\n",
    "INPUT\n",
    "test@gmail.com\n",
    "OUTPUT\n",
    "yes"
   ]
  },
  {
   "cell_type": "markdown",
   "metadata": {},
   "source": [
    "237\n",
    "Share\n",
    "Given a positive number N, print count of all jumping numbers smaller than or equal to N. A number is called as a Jumping Number if all adjacent digits in it differ by 1. The difference between ‘9’ and ‘0’ is not considered as 1. All single digit numbers are considered as Jumping Numbers. For example 7, 8987 and 4343456 are Jumping numbers but 796 and 89098 are not.\n",
    "Input Size : 1 <= N <= 100000\n",
    "Sample Testcase :\n",
    "INPUT\n",
    "40\n",
    "OUTPUT\n",
    "16"
   ]
  },
  {
   "cell_type": "markdown",
   "metadata": {},
   "source": [
    "238\n",
    "Share\n",
    "Alternate sorting:Given a number N followed by array of N elements,sort the array in such a way that the first number is the first maximum and second number is the 1st minimum 3rd number isthe 2nd maximum and so on.\n",
    "Input Size : N <= 100000\n",
    "Sample Testcase :\n",
    "INPUT\n",
    "8\n",
    "7 623 19 10 11 9 3 15\n",
    "OUTPUT\n",
    "623 3 19 7 15 9 11 10"
   ]
  },
  {
   "cell_type": "markdown",
   "metadata": {},
   "source": [
    "239\n",
    "Share\n",
    "Jaspreet is a marketing manager and on inspecting the product ids of products documented as ‘sold’, he finds out that the sales person has repeated a few of the product ids. He decides to warn the sales person who has repeated the same product id thrice. Your task is to find out the number of triplets(ids occurring thrice) of product ids recorded.\n",
    "\n",
    "Constraints:\n",
    "\n",
    "1 <= N <= 100\n",
    "\n",
    "1 <= A[] <= 1000\n",
    "\n",
    " \n",
    "\n",
    "Input Description:\n",
    "Number of product ids followed by the list of product ids\n",
    "\n",
    "Output Description:\n",
    "Number of triplets detected.\n",
    "\n",
    "Sample Input :\n",
    "10\n",
    "2 1 1 3 1 8 7 2 2 6 \n",
    "Sample Output :\n",
    "2"
   ]
  },
  {
   "cell_type": "markdown",
   "metadata": {},
   "source": [
    "240\n",
    "Share\n",
    "You are given an array 'a' of size N. Your task is to print the array one element in a line in the decreasing order of number of ones in its binary representation. In case of two numbers having same number of ones, the bigger number in its decimal representation comes first.\n",
    "Input Size : N<=10000\n",
    "Example:\n",
    "INPUT\n",
    "5\n",
    "31 14 15 7 2\n",
    "OUTPUT\n",
    "31\n",
    "15\n",
    "14\n",
    "7\n",
    "2"
   ]
  },
  {
   "cell_type": "markdown",
   "metadata": {},
   "source": [
    "241\n",
    "Share\n",
    "You are given an array of integers. You can perform the following operation any number of times.(including zero)\n",
    "Operation is: Replace an integer with another integer.\n",
    "Find if the array can be rearranged or permuted to obtain a palindromic array. If it can be, print the minimum number of operations required,\n",
    "Print -1 otherwise.\n",
    "\n",
    "Input Description:\n",
    "The first line contains an integer N, denoting the size of the array. The next line contains N space separated integers.\n",
    "\n",
    "Output Description:\n",
    "Print the minimum number of operations required.\n",
    "\n",
    "Sample Input :\n",
    "4\n",
    "10 20 30 40\n",
    "Sample Output :\n",
    "2"
   ]
  },
  {
   "cell_type": "markdown",
   "metadata": {},
   "source": [
    "242\n",
    "Share\n",
    "Ram wants to be a leader. He is fascinated by any puzzle or news that has the word ‘leader’ in it. He comes across a puzzle about finding a leader amongst a list of numbers and is intrigued by the puzzle. As Ram is not good in either maths or logic, he is unable to solve the puzzle. Help Ram by finding out the leader among a given set of positive numbers.\n",
    "\n",
    "Note: An element in an array is a leader if it is greater than or equal to all the elements to its right side. Also, the rightmost element is always a leader.\n",
    "\n",
    "Constraints:\n",
    "\n",
    "1 <= N <= 100\n",
    "\n",
    "0 <= A[i] <= 100\n",
    "\n",
    " \n",
    "\n",
    "Input Description:\n",
    "The first line contains a single integer N denoting the size of array. The second line contains N space-separated integers denoting the elements of the array.\n",
    "\n",
    "Output Description:\n",
    "Print all the leaders.\n",
    "\n",
    "Sample Input :\n",
    "6\n",
    "16 17 4 3 5 2\n",
    "Sample Output :\n",
    "17 5 2"
   ]
  },
  {
   "cell_type": "markdown",
   "metadata": {},
   "source": [
    "243\n",
    "Share\n",
    "Vishal is a competitive coder and he loves problems on sorting and searching. He is bored right now and decides to solve a sorting problem with a modification. He decides to sort the elements at the even indices of an array in ascending order and the elements at the odd indices in descending order. Vishal goes outside his room after coding the solution, but his laptop crashes and he is unable to show it to his teacher. Can you help Vishal by coding the solution to the problem?\n",
    "\n",
    "Constraints:\n",
    "\n",
    "0<=array[i]<=10000\n",
    "\n",
    " \n",
    "\n",
    "Input Description:\n",
    "Size of the array followed by the elements of the array\n",
    "\n",
    "Output Description:\n",
    "Sorted elements of the array\n",
    "\n",
    "Sample Input :\n",
    "10 \n",
    "9 8 7 1 2 3 6 5 4 10\n",
    "Sample Output :\n",
    "2 10 4 8 6 5 7 3 9 1"
   ]
  },
  {
   "cell_type": "markdown",
   "metadata": {},
   "source": [
    "244\n",
    "Share\n",
    "Given a number N followed by N numbers. Out of these N numbers some of them are repeated. Write a program to find the first number which is repeated. If no numbers are repeated print 'unique'.\n",
    "Input Size : 1 <= N <= 100000\n",
    "Sample Testcases :\n",
    "INPUT\n",
    "7\n",
    "1 2 3 2 3 4 3\n",
    "OUTPUT\n",
    "2"
   ]
  },
  {
   "cell_type": "markdown",
   "metadata": {},
   "source": [
    "245\n",
    "Share\n",
    "Jack is fond of numbers. He has given an array.He has to find the maximum length of sub array such that sum of elements in that sub array gives output 0.He is in little trouble, help him in finding solution\n",
    "\n",
    "Input Description:\n",
    "You are given an integer ‘n’ denoting the number of elements in array.Next line contains n space separated integers\n",
    "\n",
    "Output Description:\n",
    "Print the max length of that array with sum 0 and print -1 if not possible\n",
    "\n",
    "Sample Input :\n",
    "6\n",
    "-4 3 1 0 0 6\n",
    "Sample Output :\n",
    "5"
   ]
  },
  {
   "cell_type": "markdown",
   "metadata": {},
   "source": [
    "246\n",
    "Share\n",
    "Given a number N an array of N numbers.The task is to find all the star and super star elements in the array an print in a seperate line.Star are those elements which are strictly greater than all the elements on its right side. Super star are those elements which are strictly greater than all the elements on its left and right side.Assume first element (A[0]) is greater than all the elements on its left side, And last element (A[n-1]) is greater than all the elements on its right side.\n",
    "Input Size : 1 <= N <= 100000\n",
    "Sample Testcases :\n",
    "INPUT\n",
    "6\n",
    "4 2 5 7 2 1\n",
    "OUTPUT\n",
    "7 2 1\n",
    "7"
   ]
  },
  {
   "cell_type": "markdown",
   "metadata": {},
   "source": [
    "247\n",
    "Share\n",
    "Bala is the CEO of a company and decides to reward a few hardworking employees with an extra bonus.  He wants to find out the number of employees who are working parallely on two different projects and give them a bonus. The ids of employees working on a particular project are stored in an array.Given two arrays project1 and project2, find out whether the employees working on project2 are a subset of employees working on project1.\n",
    "\n",
    "Constraints:\n",
    "\n",
    "1 <= project1[i], project2[j] <= 100\n",
    "\n",
    " \n",
    "\n",
    "Input Description:\n",
    "First line denotes the number of employees working on project 1. Second line contains the employee ids of the employees working on project 1. Third line denotes the number of employees working on project 2 and 4th line contains employee ids of the employees working on project 2.\n",
    "\n",
    "Output Description:\n",
    "(yes/no) Whether the second array is a subset of the first array.\n",
    "\n",
    "Sample Input :\n",
    "3\n",
    "1 2 3\n",
    "2\n",
    "1 2\n",
    "Sample Output :\n",
    "yes"
   ]
  },
  {
   "cell_type": "markdown",
   "metadata": {},
   "source": [
    "248\n",
    "Share\n",
    "Given a number N followed by N numbers. All the numbers in the given input appear twice except for one number(ie one number appears only once in the given input). Find the number which appears only once.\n",
    "Input Size : 1 <= N <= 100000\n",
    "Sample Testcases :\n",
    "INPUT\n",
    "5\n",
    "1 2 1 3 2\n",
    "OUTPUT\n",
    "3"
   ]
  },
  {
   "cell_type": "markdown",
   "metadata": {},
   "source": [
    "249\n",
    "Share\n",
    "Given a string containing a mix of upper and lowercase characters, sort the letters in ascending order such that the positions of upper and lowercase letters do not change. (eg) If the string is guVIONLineCoDIng, then the output must be  egCDIILginNnOVou\n",
    " \n",
    "\n",
    "Input Description:\n",
    "A string\n",
    "\n",
    "Output Description:\n",
    "Letters of the string sorted such that positions of upper and lower characters do not change.\n",
    "\n",
    "Sample Input :\n",
    "GuVi\n",
    "Sample Output :\n",
    "GiVu"
   ]
  },
  {
   "cell_type": "markdown",
   "metadata": {},
   "source": [
    "250\n",
    "Share\n",
    "Rohan’s teacher wants to teach him about permuting the numbers.He is given an assignment,in which he is given a number,His task is to print the sum of all permutations that can be made up using those digits.\n",
    "\n",
    "Input Description:\n",
    "You are given a number\n",
    "\n",
    "Output Description:\n",
    "Your task is to print the sum of all permutations of number.\n",
    "\n",
    "Sample Input :\n",
    "18\n",
    "Sample Output :\n",
    "99"
   ]
  },
  {
   "cell_type": "markdown",
   "metadata": {},
   "source": [
    "254\n",
    "Share\n",
    "Check whether the given 4 points form a square or not.\n",
    "Example:\n",
    "INPUT\n",
    "10 10\n",
    "10 20\n",
    "20 20\n",
    "20 10\n",
    "OUTPUT\n",
    "yes"
   ]
  },
  {
   "cell_type": "code",
   "execution_count": null,
   "metadata": {},
   "outputs": [],
   "source": [
    "x1, y1 = map(int, input().split())\n",
    "x2, y2 = map(int, input().split())\n",
    "x3, y3 = map(int, input().split())\n",
    "x4, y4 = map(int, input().split())\n",
    "\n",
    "if x4-x1 == x3-x2 == y2-y1 == y3-y4: print('yes')\n",
    "else: print('no')"
   ]
  },
  {
   "cell_type": "markdown",
   "metadata": {},
   "source": [
    "274\n",
    "Share\n",
    "Given a list of N coins, their values (V1, V2, … , VN), and the total sum S. Find the minimum number of coins the sum of which is S (we can use as many coins of one type as we want), if it is not possible to select coins in such a way that they sum up to S then print '-1'.\n",
    "Example: Given coins with values 1, 3, and 5. And the sum S is 11.\n",
    "Output: 3, 2 coins of 3 and 1 coin of 5\n",
    "Input Size : N<=10000\n",
    "Example:\n",
    "INPUT\n",
    "3 11\n",
    "1 3 5\n",
    "OUTPUT\n",
    "3"
   ]
  },
  {
   "cell_type": "code",
   "execution_count": null,
   "metadata": {},
   "outputs": [],
   "source": [
    "n, s = map(int, input().split())\n",
    "nums = list(map(int, input().split()))\n",
    "nums.sort()\n",
    "ans = 0\n",
    "i = n-1\n",
    "while i >= 0 and s > 0:\n",
    "  if s >= nums[i]:\n",
    "    ans += s//nums[i]\n",
    "    s = s%nums[i]\n",
    "  i -= 1\n",
    "if s > 0:\n",
    "  print(-1)\n",
    "else:\n",
    "  print(ans)"
   ]
  },
  {
   "cell_type": "markdown",
   "metadata": {},
   "source": [
    "281\n",
    "Share\n",
    "Kedar has ordinary pan scales and several weights of an equal mass. Kedar has already put some weights on the scales, while other weights are untouched. Kedar is now wondering whether it is possible to put all the remaining weights on the scales so that the scales were in equilibrium. The scales is in equilibrium if the total sum of weights on the left pan is equal to the total sum of weights on the right pan. The first line has a non-empty sequence of characters describing the scales. In this sequence, an uppercase English letter indicates a weight, and the symbol '|' indicates the delimiter (the character occurs in the sequence exactly once). All weights that are recorded in the sequence before the delimiter are initially on the left pan of the scale. All weights that are recorded in the sequence after the delimiter are initially on the right pan of the scale. The second line contains a non-empty sequence containing uppercase English letters. Each letter indicates a weight which is not used yet. It is guaranteed that all the English letters in the input data are different. It is guaranteed that the input does not contain any extra characters.\n",
    "Example:\n",
    "INPUT\n",
    "AC|T\n",
    "L\n",
    "OUTPUT\n",
    "AC|TL"
   ]
  },
  {
   "cell_type": "code",
   "execution_count": null,
   "metadata": {},
   "outputs": [],
   "source": [
    "a,b = input().split('|')\n",
    "c=input()\n",
    "if len(a) > len(b):\n",
    "    b+=c\n",
    "else: a+=c\n",
    "print(a+'|'+b)"
   ]
  },
  {
   "cell_type": "markdown",
   "metadata": {},
   "source": [
    "291\n",
    "Share\n",
    "The Romans have attacked again. This time they are much more than the Persians but Shapur is ready to defeat them. He says: 'A lion is never afraid of a hundred sheep'.\n",
    "\n",
    "Nevertheless Shapur has to find weaknesses in the Roman army to defeat them. So he gives the army a weakness number.\n",
    "\n",
    "In Shapur's opinion the weakness of an army is equal to the number of triplets i, j, k such that i < j < k and ai > aj > ak where ax is the power of man standing at position x. The Roman army has one special trait — powers of all the people in it are distinct.\n",
    "\n",
    "Help Shapur find out how weak the Romans are.\n",
    "\n",
    "The first line of input contains a single number n, the number of men in Roman army. Next line contains n different positive integers powers of men in the Roman army.\n",
    "Input Size : N<=100000\n",
    "Example:\n",
    "INPUT\n",
    "3\n",
    "3 2 1\n",
    "OUTPUT\n",
    "1"
   ]
  },
  {
   "cell_type": "code",
   "execution_count": null,
   "metadata": {},
   "outputs": [],
   "source": [
    "n = int(input())\n",
    "nums = list(map(int, input().split()))\n",
    "ans = 0\n",
    "for i in range(n-2):\n",
    "  for j in range(i+1, n-1):\n",
    "    for k in range(j+1, n):\n",
    "      if nums[i] > nums[j] > nums[k]:\n",
    "        ans += 1\n",
    "print(ans)"
   ]
  },
  {
   "cell_type": "markdown",
   "metadata": {},
   "source": [
    "308\n",
    "Share\n",
    "Chan’s girlfriend's birthday is near, so he wants to surprise her by making a special cake for her. Chan knows that his girlfriend likes cherries on the cake, so he puts cherries on the top of the cake, but he was not satisfied. Therefore, he decided to replace some of the cherries to make a beautiful pattern. However, Chan has a lot of other work to do so he decided to ask for your help. The cherries are of two colors red and green. Now Chan wants the cherries to be placed in such a way that each cherry of one color must be adjacent to only cherries of the other color, two cherries are adjacent if they share a side. Now Chan has asked for your help in making that pattern on the cake.You can replace any cherry of given color with the other color. But there is a cost for each replacement: if you replace a red cherry with a green one, the cost is 5 units and if you replace a green cherry with a red one, the cost is 3 units. Help your friend Chan by making the cake special with minimum cost.If there is no need of any changes print '0'(ie. minimum cost is zero)\n",
    "Input Size : N<=1000, M<=1000\n",
    "Example:\n",
    "INPUT\n",
    "2 3\n",
    "RRG\n",
    "GGR\n",
    "OUTPUT\n",
    "8"
   ]
  },
  {
   "cell_type": "code",
   "execution_count": null,
   "metadata": {},
   "outputs": [],
   "source": [
    "# r,c = map(int,input().split())\n",
    "# sum = 0\n",
    "# for i in range(r):\n",
    "#     cher = input()\n",
    "#     samefrom = -1\n",
    "#     samelast = -1\n",
    "#     alter = ''\n",
    "#     for j in range(1, len(cher)):\n",
    "#         if cher[j] == cher[j-1]:\n",
    "#             if samefrom != -1:\n",
    "#                 samefrom = j-1\n",
    "#                 samelast = j\n",
    "#         else:\n",
    "#             alter = cher[j]\n",
    "#             samelast = j-1\n",
    "#     if samefrom != -1 and samelast != -1 and alter != '':\n",
    "#         for k in range(samefrom+1,samelast-1,2): \n",
    "            \n",
    "        \n",
    "# print(sum)\n",
    "\n",
    "(m, n) = map(int, input().split())\n",
    "l = [list(input()) for _ in range(m)]\n",
    "cost = 0\n",
    "for i in range(m):\n",
    "    for j in range(n):\n",
    "        if j == 0:\n",
    "            if l[i][j] == 'R':\n",
    "                if l[i][j+1] == 'G': continue\n",
    "                else:\n",
    "                    if l[i][j+2] == 'G' :\n",
    "                        l[i][j] = 'G'\n",
    "                        cost += 5\n",
    "                    else:\n",
    "                        l[i][j+1] = 'G'\n",
    "                        cost += 5\n",
    "            else:\n",
    "                if l[i][j+1] == 'R': continue\n",
    "                else:\n",
    "                    if l[i][j+2] == 'R' :\n",
    "                        l[i][j] = 'R'\n",
    "                        cost += 3\n",
    "                    else:\n",
    "                        l[i][j+1] = 'R'\n",
    "                        cost += 3\n",
    "        elif j == n-1:\n",
    "            if l[i][j] == 'G':\n",
    "                if l[i][j-1] == 'R': continue\n",
    "                else:\n",
    "                    if l[i][j-2] == 'R' :\n",
    "                        l[i][j] == 'R'\n",
    "                        cost +=3\n",
    "                    else:\n",
    "                        l[i][j-1] = 'R'\n",
    "                        cost += 3\n",
    "            else:\n",
    "                if l[i][j-1] == 'G': continue\n",
    "                else:\n",
    "                    if l[i][j-2] == 'G' :\n",
    "                        l[i][j] == 'G'\n",
    "                        cost += 5\n",
    "                    else:\n",
    "                        l[i][j-1] = 'G'\n",
    "                        cost += 5\n",
    "        else:\n",
    "            if l[i][j] == 'R':\n",
    "                if l[i][j-1] == 'R' and l[i][j+1] == 'R':\n",
    "                    l[i][j] = 'G'\n",
    "                    cost += 5\n",
    "                elif l[i][j-1] == 'R' and l[i][j+1] == 'G':\n",
    "                    l[i][j-1] = 'G'\n",
    "                    cost += 5\n",
    "                elif l[i][j-1] == 'G' and l[i][j+1] == 'R':\n",
    "                    l[i][j+1] = 'G'\n",
    "                    cost += 5\n",
    "                else: continue\n",
    "            else:\n",
    "                if l[i][j-1] == 'G' and l[i][j+1] == 'G':\n",
    "                    l[i][j] = 'R'\n",
    "                    cost += 3\n",
    "                elif l[i][j-1] == 'G' and l[i][j+1] == 'R':\n",
    "                    l[i][j-1] = 'R'\n",
    "                    cost += 3\n",
    "                elif l[i][j-1] == 'R' and l[i][j+1] == 'G':\n",
    "                    l[i][j+1] = 'R'\n",
    "                    cost += 3\n",
    "                else: continue\n",
    "print(cost)"
   ]
  }
 ],
 "metadata": {
  "kernelspec": {
   "display_name": "Python 3",
   "language": "python",
   "name": "python3"
  },
  "language_info": {
   "codemirror_mode": {
    "name": "ipython",
    "version": 3
   },
   "file_extension": ".py",
   "mimetype": "text/x-python",
   "name": "python",
   "nbconvert_exporter": "python",
   "pygments_lexer": "ipython3",
   "version": "3.12.0"
  }
 },
 "nbformat": 4,
 "nbformat_minor": 2
}
