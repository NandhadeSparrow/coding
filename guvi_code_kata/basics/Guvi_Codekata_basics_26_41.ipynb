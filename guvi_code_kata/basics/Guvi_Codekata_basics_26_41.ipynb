{
  "nbformat": 4,
  "nbformat_minor": 0,
  "metadata": {
    "colab": {
      "provenance": []
    },
    "kernelspec": {
      "name": "python3",
      "display_name": "Python 3"
    },
    "language_info": {
      "name": "python"
    }
  },
  "cells": [
    {
      "cell_type": "markdown",
      "source": [
        "26. Given a number N and an array of N elements ,find the Bitwise AND of the array elements.\n",
        "Input Size N <= 100000\n",
        "Sample Testcase :\n",
        "INPUT\n",
        "4\n",
        "4 3 2 1\n",
        "OUTPUT\n",
        "0\n",
        "\n"
      ],
      "metadata": {
        "id": "eDlud379Hqr-"
      }
    },
    {
      "cell_type": "code",
      "source": [
        "n = int(input())\n",
        "nums = list(map(int, input().split()))\n",
        "\n",
        "ans = nums[0]\n",
        "for i in nums:\n",
        "  ans &= i\n",
        "print(ans)"
      ],
      "metadata": {
        "id": "WAJqikYNH1u3"
      },
      "execution_count": null,
      "outputs": []
    },
    {
      "cell_type": "markdown",
      "source": [
        "27.\n",
        "Given numbers A,B find A^B.\n",
        "Input Size : 1 <= A <= 5 <= B <= 50\n",
        "Sample Testcase :\n",
        "INPUT\n",
        "3 4\n",
        "OUTPUT\n",
        "81"
      ],
      "metadata": {
        "id": "ov3zE8QAIsBm"
      }
    },
    {
      "cell_type": "code",
      "source": [
        "a,b = map(int, input().split())\n",
        "print(a**b)"
      ],
      "metadata": {
        "id": "dFd4DXAjIswl"
      },
      "execution_count": null,
      "outputs": []
    },
    {
      "cell_type": "markdown",
      "source": [
        "28.\n",
        "Let P represent Paper, R represent Rock and S represent Scissors. Given 2 out of the 3 determine which one wins. If its a draw print 'D'.\n",
        "Sample Testcase :\n",
        "INPUT\n",
        "R P\n",
        "OUTPUT\n",
        "P"
      ],
      "metadata": {
        "id": "mFEyAgwUJGxA"
      }
    },
    {
      "cell_type": "code",
      "source": [
        "# prompt: Let P represent Paper, R represent Rock and S represent Scissors. Given 2 out of the 3 determine which one wins. If its a draw print 'D'. Sample Testcase : INPUT R P OUTPUT P\n",
        "\n",
        "def rps(a, b):\n",
        "  if a == b:\n",
        "    return 'D'\n",
        "  elif a == 'P' and b == 'R':\n",
        "    return 'P'\n",
        "  elif a == 'R' and b == 'S':\n",
        "    return 'R'\n",
        "  elif a == 'S' and b == 'P':\n",
        "    return 'S'\n",
        "  else:\n",
        "    return b\n",
        "\n",
        "a, b = input().split()\n",
        "print(rps(a, b))\n"
      ],
      "metadata": {
        "id": "QnDrCbUxJRQp"
      },
      "execution_count": null,
      "outputs": []
    },
    {
      "cell_type": "markdown",
      "source": [
        "29.\n",
        "Write a code get an integer number as input and print the odd and even digits of the number separately.\n",
        "\n",
        "Input Description:\n",
        "A single line containing an integer.\n",
        "\n",
        "Output Description:\n",
        "Print the even and odd integers of the integer in a separate line.\n",
        "\n",
        "Sample Input :\n",
        "1234\n",
        "Sample Output :\n",
        "2 4\n",
        "1 3"
      ],
      "metadata": {
        "id": "apZ1cYQlJqbs"
      }
    },
    {
      "cell_type": "code",
      "source": [
        "a = input()\n",
        "even = []\n",
        "odd = []\n",
        "for i in a:\n",
        "  if int(i)%2 == 0: even.append(int(i))\n",
        "  else: odd.append(int(i))\n",
        "even.sort()\n",
        "odd.sort()\n",
        "print(*even)\n",
        "print(*odd)"
      ],
      "metadata": {
        "id": "4_mCvWDSJu5e"
      },
      "execution_count": null,
      "outputs": []
    },
    {
      "cell_type": "markdown",
      "source": [
        "30.\n",
        "Given a number N, print the Bitwise NOT of that number.\n",
        "Input Size : 1 <= N <= 10000\n",
        "Sample Testcase :\n",
        "INPUT\n",
        "5\n",
        "OUTPUT\n",
        "-6"
      ],
      "metadata": {
        "id": "b5tmT-DZKp6T"
      }
    },
    {
      "cell_type": "code",
      "source": [
        "print(~int(input()))"
      ],
      "metadata": {
        "id": "FYaQQoVVK9bw"
      },
      "execution_count": null,
      "outputs": []
    },
    {
      "cell_type": "markdown",
      "source": [
        "31. The Caesar Cipher technique is one of the earliest and simplest method of encryption technique. It’s simply a type of substitution cipher, i.e., each letter of a given text is replaced by a letter some fixed number of positions down the alphabet. For example with a shift of 1, A would be replaced by B, B would become C, and so on. The method is apparently named after Julius Caesar, who apparently used it to communicate with his officials.For the given input string(S) and shift print the encrypted string.\n",
        "Sample Testcase :\n",
        "INPUT\n",
        "ABCdEFGHIJKLMNOPQRSTUVWXYz 23\n",
        "OUTPUT\n",
        "XYZaBCDEFGHIJKLMNOPQRSTUVw"
      ],
      "metadata": {
        "id": "mu_UE3uRLUTQ"
      }
    },
    {
      "cell_type": "code",
      "source": [
        "x, b = input().split()\n",
        "n = int(b)\n",
        "a = 'abcdefghijklmnopqrstuvwxyz'\n",
        "A = a.upper()\n",
        "ans = ''\n",
        "for i in range(len(x)):\n",
        "  loc = 0\n",
        "  if x[i] in a:\n",
        "    loc = a.index(x[i])\n",
        "    ans += a[(loc+n)%26]\n",
        "  else:\n",
        "    loc = A.index(x[i])\n",
        "    ans += A[(loc+n)%26]\n",
        "print(ans)"
      ],
      "metadata": {
        "id": "wn0itCOwLYY4"
      },
      "execution_count": null,
      "outputs": []
    },
    {
      "cell_type": "markdown",
      "source": [
        "32.\n",
        "Write a code get an integer number as input and print the sum of the digits.\n",
        "\n",
        "Input Description:\n",
        "A single line containing an integer.\n",
        "\n",
        "Output Description:\n",
        "Print the sum of the digits of the integer.\n",
        "\n",
        "Sample Input :\n",
        "124\n",
        "Sample Output :\n",
        "7"
      ],
      "metadata": {
        "id": "h2F5b_NlQK4p"
      }
    },
    {
      "cell_type": "code",
      "source": [
        "print(sum(map(int, input())))"
      ],
      "metadata": {
        "colab": {
          "base_uri": "https://localhost:8080/"
        },
        "id": "3gcRvvodQRzR",
        "outputId": "fe3fd028-80c2-4e72-c5f8-272d12e8f325"
      },
      "execution_count": null,
      "outputs": [
        {
          "output_type": "stream",
          "name": "stdout",
          "text": [
            "124\n",
            "7\n"
          ]
        }
      ]
    },
    {
      "cell_type": "markdown",
      "source": [
        "33.\n",
        "Given a number N followed by N numbers.Find the smallest number and largest number and print both the indices(1 based indexing).\n",
        "Input Size : N <= 100000\n",
        "Sample Testcase :\n",
        "INPUT\n",
        "5\n",
        "1 2 3 4 5\n",
        "OUTPUT\n",
        "1 5"
      ],
      "metadata": {
        "id": "SBPIgi7SQymX"
      }
    },
    {
      "cell_type": "code",
      "source": [
        "n = int(input())\n",
        "nums = list(map(int, input().split()))\n",
        "\n",
        "print(nums.index(min(nums))+1, nums.index(max(nums))+1)"
      ],
      "metadata": {
        "colab": {
          "base_uri": "https://localhost:8080/"
        },
        "id": "eYYqUFE2RBkn",
        "outputId": "78f99bd6-c3c3-4bc9-c5af-cd810a4de358"
      },
      "execution_count": null,
      "outputs": [
        {
          "output_type": "stream",
          "name": "stdout",
          "text": [
            "5\n",
            "1 2 3 4 5 6\n",
            "0 5\n"
          ]
        }
      ]
    },
    {
      "cell_type": "markdown",
      "source": [
        "34.\n",
        "The Romans have attacked again. This time they are much more than the Persians but Shapur is ready to defeat them. He says: 'A lion is never afraid of a hundred sheep'.\n",
        "\n",
        "Nevertheless Shapur has to find weaknesses in the Roman army to defeat them. So he gives the army a weakness number.\n",
        "\n",
        "In Shapur's opinion the weakness of an army is equal to the number of triplets i, j, k such that i < j < k and ai > aj > ak where ax is the power of man standing at position x. The Roman army has one special trait — powers of all the people in it are distinct.\n",
        "\n",
        "Help Shapur find out how weak the Romans are.\n",
        "\n",
        "The first line of input contains a single number n, the number of men in Roman army. Next line contains n different positive integers powers of men in the Roman army.\n",
        "Input Size : N<=100000\n",
        "Example:\n",
        "INPUT\n",
        "3\n",
        "3 2 1\n",
        "OUTPUT\n",
        "1"
      ],
      "metadata": {
        "id": "X6Vd564WRg44"
      }
    },
    {
      "cell_type": "code",
      "source": [
        "n = int(input())\n",
        "nums = list(map(int, input().split()))\n",
        "ans = 0\n",
        "for i in range(n-2):\n",
        "  for j in range(i+1, n-1):\n",
        "    for k in range(j+1, n):\n",
        "      if nums[i] > nums[j] > nums[k]:\n",
        "        ans += 1\n",
        "print(ans)\n"
      ],
      "metadata": {
        "id": "BXaUdykoRwcF"
      },
      "execution_count": null,
      "outputs": []
    },
    {
      "cell_type": "markdown",
      "source": [
        "35.\n",
        "Write a program to get a string as input and reverse the string without using temporary variable.\n",
        "\n",
        "Input Description:\n",
        "A single line containing a string.\n",
        "\n",
        "Output Description:\n",
        "Print the reversed string.\n",
        "\n",
        "Sample Input :\n",
        "GUVI\n",
        "Sample Output :\n",
        "IVUG"
      ],
      "metadata": {
        "id": "uUATXDECpZI_"
      }
    },
    {
      "cell_type": "code",
      "source": [
        "print(input()[::-1])"
      ],
      "metadata": {
        "colab": {
          "base_uri": "https://localhost:8080/"
        },
        "id": "Pqe59f6_pkNM",
        "outputId": "c29caff2-4a24-4456-bdd2-b453206cf506"
      },
      "execution_count": null,
      "outputs": [
        {
          "output_type": "stream",
          "name": "stdout",
          "text": [
            "hello\n",
            "olleh\n"
          ]
        }
      ]
    },
    {
      "cell_type": "markdown",
      "source": [
        "36.\n",
        "Given a list of N coins, their values (V1, V2, … , VN), and the total sum S. Find the minimum number of coins the sum of which is S (we can use as many coins of one type as we want), if it is not possible to select coins in such a way that they sum up to S then print '-1'.\n",
        "Example: Given coins with values 1, 3, and 5. And the sum S is 11.\n",
        "Output: 3, 2 coins of 3 and 1 coin of 5\n",
        "Input Size : N<=10000\n",
        "Example:\n",
        "INPUT\n",
        "3 11\n",
        "1 3 5\n",
        "OUTPUT\n",
        "3"
      ],
      "metadata": {
        "id": "n0MtF69nqOR0"
      }
    },
    {
      "cell_type": "code",
      "source": [
        "# prompt: 36. Given a list of N coins, their values (V1, V2, … , VN), and the total sum S. Find the minimum number of coins the sum of which is S (we can use as many coins of one type as we want), if it is not possible to select coins in such a way that they sum up to S then print '-1'. Example: Given coins with values 1, 3, and 5. And the sum S is 11. Output: 3, 2 coins of 3 and 1 coin of 5 Input Size : N<\n",
        "\n",
        "n, s = map(int, input().split())\n",
        "nums = list(map(int, input().split()))\n",
        "nums.sort()\n",
        "ans = 0\n",
        "i = n-1\n",
        "while i >= 0 and s > 0:\n",
        "  if s >= nums[i]:\n",
        "    ans += s//nums[i]\n",
        "    s = s%nums[i]\n",
        "  i -= 1\n",
        "if s > 0:\n",
        "  print(-1)\n",
        "else:\n",
        "  print(ans)\n"
      ],
      "metadata": {
        "id": "WRTesTlJzuun"
      },
      "execution_count": null,
      "outputs": []
    },
    {
      "cell_type": "code",
      "source": [
        "[n, s] = list(map(int, input().split()))\n",
        "nums = list(map(int, input().split()))\n",
        "nums.sort(reverse=True)\n",
        "f = list()\n",
        "bal = s\n",
        "if(min(nums)>s):\n",
        "    print(-1)\n",
        "\n",
        "for i in nums:\n",
        "  if i <= bal:\n",
        "    f.extend([i]*round(bal/i))\n",
        "    bal -= sum(f)\n",
        "    nums.pop(nums.index(i))\n",
        "\n",
        "  elif s%i in nums:\n",
        "    f.append(s%i)\n",
        "    bal -= sum(f)\n",
        "    nums.pop(nums.index(i))\n",
        "\n",
        "  if sum(f) == s:\n",
        "    print(len(f))\n",
        "    break\n",
        "  if nums == []:\n",
        "    print(-1)\n",
        "    break\n",
        "\n"
      ],
      "metadata": {
        "id": "-CyOJXZyqudv"
      },
      "execution_count": null,
      "outputs": []
    },
    {
      "cell_type": "markdown",
      "source": [
        "37.\n",
        "Given 3 numbers A,B,C process and print 'yes' if they can form the sides of a triangle otherwise print 'no'.\n",
        "Input Size : A,B,C <= 100000\n",
        "Sample Testcase :\n",
        "INPUT\n",
        "3 4 5\n",
        "OUTPUT\n",
        "yes"
      ],
      "metadata": {
        "id": "BGdm_vAZ0okP"
      }
    },
    {
      "cell_type": "code",
      "source": [
        "a, b, c = map(int, input().split())\n",
        "if (a**2+b**2)**.5 == c:\n",
        "  print('yes')\n",
        "else: print('no')"
      ],
      "metadata": {
        "id": "-oaTN7R9tncg"
      },
      "execution_count": null,
      "outputs": []
    },
    {
      "cell_type": "markdown",
      "source": [
        "38.\n",
        "Check whether the given 4 points form a square or not.\n",
        "Example:\n",
        "INPUT\n",
        "10 10\n",
        "10 20\n",
        "20 20\n",
        "20 10\n",
        "OUTPUT\n",
        "yes"
      ],
      "metadata": {
        "id": "qcRQcvPs1Wz7"
      }
    },
    {
      "cell_type": "code",
      "source": [
        "x1, y1 = map(int, input().split())\n",
        "x2, y2 = map(int, input().split())\n",
        "x3, y3 = map(int, input().split())\n",
        "x4, y4 = map(int, input().split())\n",
        "\n",
        "if x4-x1 == x3-x2 == y2-y1 == y3-y4: print('yes')\n",
        "else: print('no')"
      ],
      "metadata": {
        "id": "V6N0-Z6s1c3V"
      },
      "execution_count": null,
      "outputs": []
    },
    {
      "cell_type": "markdown",
      "source": [
        "39. Given a string 'S' swap the even and odd characters starting from index 1(Assume the index starts from 0).\n",
        "Input Size : |s| <= 10000000(complexity O(n))\n",
        "Sample Testcase :\n",
        "INPUT\n",
        "codekata\n",
        "OUTPUT\n",
        "ocedakat"
      ],
      "metadata": {
        "id": "9orm8Ofg2amE"
      }
    },
    {
      "cell_type": "code",
      "source": [
        "a = [*input()]\n",
        "for i in range(0, round(len(a)/2)*2, 2):\n",
        "  a[i], a[i+1] = a[i+1], a[i]\n",
        "print(*a, sep='')"
      ],
      "metadata": {
        "id": "1Sh88fwV2dSL"
      },
      "execution_count": null,
      "outputs": []
    },
    {
      "cell_type": "markdown",
      "source": [
        "40.\n",
        "Given a string S consisting of 2 words reverse the order of two words .\n",
        "Input Size : |S| <= 10000000\n",
        "Sample Testcase :\n",
        "INPUT\n",
        "hello world\n",
        "OUTPUT\n",
        "world hello"
      ],
      "metadata": {
        "id": "bKMsoLzv3zMY"
      }
    },
    {
      "cell_type": "code",
      "source": [
        "print(*input().split()[::-1], sep=' ')"
      ],
      "metadata": {
        "id": "ldMwsnnZ36E-"
      },
      "execution_count": null,
      "outputs": []
    },
    {
      "cell_type": "markdown",
      "source": [
        "41.\n",
        "Given 2 numbers N,M find the GCD of N and M.If it cannot be found for given number(s) then print -1\n",
        "Sample Testcase :\n",
        "INPUT\n",
        "10 5\n",
        "OUTPUT\n",
        "5"
      ],
      "metadata": {
        "id": "9X1Hqupj4QiY"
      }
    },
    {
      "cell_type": "code",
      "source": [
        "a = list(map(int, input().split()))\n",
        "f = 0\n",
        "for i in range(abs(min(a)), 0, -1):\n",
        "  if a[0]%i == a[1]%i == 0:\n",
        "    f = i\n",
        "    break\n",
        "if f == 0: print(-1)\n",
        "else: print(f)"
      ],
      "metadata": {
        "colab": {
          "base_uri": "https://localhost:8080/"
        },
        "id": "U5kXFLuu4VDG",
        "outputId": "84c75448-823e-46bb-835d-49b2ecb4296e"
      },
      "execution_count": null,
      "outputs": [
        {
          "output_type": "stream",
          "name": "stdout",
          "text": [
            "10 5\n",
            "5\n"
          ]
        }
      ]
    },
    {
      "cell_type": "code",
      "source": [
        "# prompt: Given 2 numbers N,M find the GCD of N and M.If it cannot be found for given number(s) then print -1 Sample Testcase : INPUT 10 5 OUTPUT 5\n",
        "\n",
        "a = list(map(int, input().split()))\n",
        "f = 0\n",
        "for i in range(min(a), 0, -1):\n",
        "  if a[0]%i == a[1]%i == 0:\n",
        "    f = i\n",
        "    break\n",
        "if f == 0: print(-1)\n",
        "else: print(f)\n"
      ],
      "metadata": {
        "id": "xfydADsp6JLJ"
      },
      "execution_count": null,
      "outputs": []
    }
  ]
}