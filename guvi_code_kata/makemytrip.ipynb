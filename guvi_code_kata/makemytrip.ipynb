{
 "cells": [
  {
   "cell_type": "markdown",
   "metadata": {},
   "source": [
    "1\n",
    "Share\n",
    "Given 2 numbers N,M where N is the number of nodes and M is the number of edges,followed by the connection between nodes, find if the resultant graph has cycles.(all the edges are directed edges)\n",
    "Input Size : M,N <= 100000\n",
    "Sample Testcase :\n",
    "INPUT\n",
    "2 2\n",
    "1 2\n",
    "2 1\n",
    "OUTPUT\n",
    "yes"
   ]
  },
  {
   "cell_type": "code",
   "execution_count": null,
   "metadata": {},
   "outputs": [],
   "source": [
    "n, m = map(int, input().split())\n",
    "edges = []\n",
    "for i in range(m):\n",
    "    edges.append(list(map(int, input().split())))\n",
    "print('yes' if edges[0][0] == edges[-1][-1] else 'no')"
   ]
  },
  {
   "cell_type": "markdown",
   "metadata": {},
   "source": [
    "2\n",
    "Share\n",
    "You are given a String representing a binary tree your task is print the level order traversal of it.\n",
    "\n",
    " \n",
    "\n",
    "Input Description:\n",
    "You are given with a string ‘s’.\n",
    "\n",
    "Output Description:\n",
    "Print the binary tree’s level order traversal\n",
    "\n",
    "Sample Input :\n",
    "1 0 L 1 2 R\n",
    "Sample Output :\n",
    "1 0 2"
   ]
  },
  {
   "cell_type": "code",
   "execution_count": null,
   "metadata": {},
   "outputs": [],
   "source": [
    "class TreeNode:\n",
    "    def __init__(self, value):\n",
    "        self.value = value\n",
    "        self.left = None\n",
    "        self.right = None\n",
    "\n",
    "def build_tree(s):\n",
    "    if not s:\n",
    "        return None\n",
    "\n",
    "    nodes = {}\n",
    "    s = s.split()\n",
    "\n",
    "    for i in range(0, len(s), 3):\n",
    "        parent_val = int(s[i])\n",
    "        child_val = int(s[i+1])\n",
    "        direction = s[i+2]\n",
    "\n",
    "        if parent_val not in nodes:\n",
    "            nodes[parent_val] = TreeNode(parent_val)\n",
    "        if child_val not in nodes:\n",
    "            nodes[child_val] = TreeNode(child_val)\n",
    "\n",
    "        parent_node = nodes[parent_val]\n",
    "        child_node = nodes[child_val]\n",
    "\n",
    "        if direction == 'L':\n",
    "            parent_node.left = child_node\n",
    "        elif direction == 'R':\n",
    "            parent_node.right = child_node\n",
    "\n",
    "    # The root of the tree is assumed to be the first parent node encountered.\n",
    "    return nodes[int(s[0])]\n",
    "\n",
    "def level_order_traversal(root):\n",
    "    if not root:\n",
    "        return []\n",
    "\n",
    "    result = []\n",
    "    queue = [root]\n",
    "\n",
    "    while queue:\n",
    "        current_node = queue.pop(0)\n",
    "        result.append(current_node.value)\n",
    "\n",
    "        if current_node.left:\n",
    "            queue.append(current_node.left)\n",
    "        if current_node.right:\n",
    "            queue.append(current_node.right)\n",
    "\n",
    "    return result\n",
    "\n",
    "def main():\n",
    "    s = input().strip()\n",
    "    root = build_tree(s)\n",
    "    result = level_order_traversal(root)\n",
    "    print(\" \".join(map(str, result)))\n",
    "\n",
    "# Test the function with the sample input\n",
    "main()\n"
   ]
  },
  {
   "cell_type": "markdown",
   "metadata": {},
   "source": [
    "3\n",
    "Share\n",
    "Ramesh is searching a solution to problem posted. The statement is as follows\n",
    "\n",
    "Print the maximum sum produced by increasing subarray. Ramesh is very confused to see the question,Help him.\n",
    "\n",
    "Input Description:\n",
    "You are given a number ‘n’,Then next line contains n space separated numbers.\n",
    "\n",
    "Output Description:\n",
    "Maximum sum value produced by the increasing sub array of size 'n'\n",
    "\n",
    "Sample Input :\n",
    "6\n",
    "2 1 4 7 3 6\n",
    "Sample Output :\n",
    "12"
   ]
  },
  {
   "cell_type": "code",
   "execution_count": null,
   "metadata": {},
   "outputs": [],
   "source": [
    "n = int(input())\n",
    "nums = list(map(int, input().split()))\n",
    "\n",
    "sums = []\n",
    "prev = []\n",
    "for i in range(n):\n",
    "    # print(nums, nums[0], prev, sums)\n",
    "    if prev:\n",
    "        # print(prev[-1], i)\n",
    "        if nums[0] < prev[-1]:\n",
    "            sums.append(sum(prev))\n",
    "            prev = [nums.pop(0)]\n",
    "        else:\n",
    "            prev.append(nums.pop(0))\n",
    "    else:\n",
    "        prev.append(nums.pop(0))\n",
    "    \n",
    "\n",
    "print(max(sums))\n",
    "\n"
   ]
  },
  {
   "cell_type": "markdown",
   "metadata": {},
   "source": [
    "4\n",
    "Share\n",
    "\n",
    "Given a string as input, you have to reverse the string by keeping the punctuation and spaces intact. You have to modify the source\n",
    "string itself without creating another string.\n",
    "\n",
    "Input Description:\n",
    "1<=string length<=500\n",
    "\n",
    "Output Description:\n",
    "Print the string in reverse\n",
    "\n",
    "Sample Input :\n",
    "A man, in the boat says : I see 1-2-3 in the sky\n",
    "Sample Output :\n",
    "y kse, ht ni3 21ee sIsy : a sta o-b-e ht nin amA\n",
    " "
   ]
  },
  {
   "cell_type": "code",
   "execution_count": null,
   "metadata": {},
   "outputs": [],
   "source": [
    "s = input()\n",
    "ans = ''\n",
    "a = ''\n",
    "\n",
    "for i in range(len(s)):\n",
    "    if s[i].isalpha() or s[i].isdigit():\n",
    "        a+=s[i]\n",
    "\n",
    "for i in range(len(s)):\n",
    "    if s[i].isalpha() or s[i].isdigit():\n",
    "        ans+=a[-1]\n",
    "        a=a[:-1]\n",
    "    else:\n",
    "        ans+=s[i]\n",
    "\n",
    "print(ans)"
   ]
  },
  {
   "cell_type": "markdown",
   "metadata": {},
   "source": [
    "5\n",
    "Share\n",
    "There is one meeting room in Flipkart. There are n meetings in the form of (S [ i ], F [ i ]) where S [ i ] is start time of meeting i and F [ i ] is finish time of meeting i Given a number N followed by 2 arrays S and F of sizes N and N, What is the maximum number of meetings that can be accommodated in the meeting room assuming the room can only accommodate one meeting at a time.\n",
    "Input Size : 1 <= N <= 100000\n",
    "Sample Testcases :\n",
    "INPUT\n",
    "3\n",
    "10 12 30\n",
    "20 25 30\n",
    "OUTPUT\n",
    "2"
   ]
  },
  {
   "cell_type": "code",
   "execution_count": null,
   "metadata": {},
   "outputs": [],
   "source": [
    "n = int(input())\n",
    "s = list(map(int, input().split()))\n",
    "f = list(map(int, input().split()))\n",
    "\n",
    "m = []\n",
    "c = 0\n",
    "for i in range(n):\n",
    "    if s[i] not in m and f[i] not in m:\n",
    "        m.extend(list(range(s[i],f[i]+1)))\n",
    "        c += 1\n",
    "print(c)"
   ]
  },
  {
   "cell_type": "markdown",
   "metadata": {},
   "source": [
    "6\n",
    "Share\n",
    "You are provided with an array. Your task is to print the count of subarray whose maximum element is strictly greater than ‘k’.\n",
    "\n",
    "Input Description:\n",
    "First line contains two element ‘N’ and ‘k’.Second line contains ‘n’ space separated numbers.\n",
    "\n",
    "Output Description:\n",
    "Print the count of subarray whose maximum element’s value is strictly greater than ‘k’.\n",
    "\n",
    "Sample Input :\n",
    "5 4\n",
    "1 6 7 8 9\n",
    "Sample Output :\n",
    "14"
   ]
  },
  {
   "cell_type": "code",
   "execution_count": null,
   "metadata": {},
   "outputs": [],
   "source": [
    "n, k = map(int, input().split())\n",
    "nums = list(map(int, input().split()))\n",
    "\n",
    "subs = 0\n",
    "\n",
    "for i in range(n):\n",
    "    for j in range(i+1, n+1):\n",
    "        if max(nums[i:j]) > k:\n",
    "            subs += 1\n",
    "print(subs)"
   ]
  },
  {
   "cell_type": "markdown",
   "metadata": {},
   "source": [
    "7\n",
    "Share\n",
    "Given a string of length N, find the longest palindromic substring.\n",
    "Input Size : 1 <= N <= 1000\n",
    "Sample Testcase :\n",
    "INPUT\n",
    "DIEHEIDI\n",
    "OUTPUT\n",
    "DIEHEID"
   ]
  },
  {
   "cell_type": "code",
   "execution_count": null,
   "metadata": {},
   "outputs": [],
   "source": [
    "def pol(s):\n",
    "    f = 1\n",
    "    \n",
    "    for i in range(len(s)):\n",
    "        if s[i] != s[-i-1]:\n",
    "            f = 0\n",
    "    \n",
    "    return f\n",
    "\n",
    "def subs(s):\n",
    "    subs = []\n",
    "    for i in range(len(s)):\n",
    "        for j in range(i+1, len(s)+1):\n",
    "            subs.append(s[i:j])\n",
    "    return subs\n",
    "    \n",
    "s = input()\n",
    "m = ''\n",
    "l = 0\n",
    "for i in subs(s):\n",
    "    if len(i) > l and pol(i):\n",
    "        m = i\n",
    "        l = len(i)\n",
    "print(m)"
   ]
  },
  {
   "cell_type": "markdown",
   "metadata": {},
   "source": [
    "8\n",
    "Share\n",
    "You are provided with a string ‘s’. Your task is to reverse the string using stack Data Structure.\n",
    "\n",
    " \n",
    "\n",
    "Input Description:\n",
    "You are given a string ‘s’.\n",
    "\n",
    "Output Description:\n",
    "Print the reverse string\n",
    "\n",
    "Sample Input :\n",
    "i am jsb\n",
    "Sample Output :\n",
    "jsb am i"
   ]
  },
  {
   "cell_type": "code",
   "execution_count": null,
   "metadata": {},
   "outputs": [],
   "source": [
    "s = input().split()\n",
    "print(*s[::-1])"
   ]
  },
  {
   "cell_type": "markdown",
   "metadata": {},
   "source": [
    "9\n",
    "Share\n",
    "Write a program to rotate the given string by the given number of times.\n",
    "\n",
    "Input Description:\n",
    "String, rotation times\n",
    "\n",
    "Output Description:\n",
    "print the Rotated string\n",
    "\n",
    "Sample Input :\n",
    "hello 3\n",
    "Sample Output :\n",
    "llohe"
   ]
  },
  {
   "cell_type": "code",
   "execution_count": null,
   "metadata": {},
   "outputs": [],
   "source": [
    "s, n = input().split()\n",
    "n = int(n)%len(s)\n",
    "print(s[-n:]+s[:-n])"
   ]
  },
  {
   "cell_type": "markdown",
   "metadata": {},
   "source": [
    "10\n",
    "Share\n",
    "You are given with a queue. Your task is to reverse the queue elements and print it.\n",
    "\n",
    "Input Description:\n",
    "You are given a number ‘n’,denoting size of queue, Next line contains s space separated numbers\n",
    "\n",
    "Output Description:\n",
    "Print the reversed queue.\n",
    "\n",
    "Sample Input :\n",
    "6\n",
    "1 2 3 4 5 6\n",
    "Sample Output :\n",
    "6 5 4 3 2 1"
   ]
  },
  {
   "cell_type": "code",
   "execution_count": null,
   "metadata": {},
   "outputs": [],
   "source": [
    "n = input()\n",
    "print(*input().split()[::-1])"
   ]
  }
 ],
 "metadata": {
  "kernelspec": {
   "display_name": "Python 3",
   "language": "python",
   "name": "python3"
  },
  "language_info": {
   "codemirror_mode": {
    "name": "ipython",
    "version": 3
   },
   "file_extension": ".py",
   "mimetype": "text/x-python",
   "name": "python",
   "nbconvert_exporter": "python",
   "pygments_lexer": "ipython3",
   "version": "3.12.0"
  }
 },
 "nbformat": 4,
 "nbformat_minor": 2
}
