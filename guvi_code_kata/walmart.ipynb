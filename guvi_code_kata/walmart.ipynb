{
 "cells": [
  {
   "cell_type": "markdown",
   "metadata": {},
   "source": [
    "6\n",
    "Share\n",
    "A heap can be represented as an array as it is a complete binary tree. The element at heap[i] is the parent of heap[2*i] and\n",
    "heap[2*i + 1]. (i >= 1). Determine if a given array is a min-heap, max-heap or neither.\n",
    "\n",
    "Input Description:\n",
    "The first line contains an Integer N denoting the number of citizens. The next line contains N space separated integers A[i] (1 <= i <= N) (N > 1)\n",
    "\n",
    "Output Description:\n",
    "If the given array is a min-heap print MIN If the given array is a max-heap print MAX Print NONE if it is neither.\n",
    "\n",
    "Sample Input :\n",
    "3\n",
    "1 2 3\n",
    "Sample Output :\n",
    "MIN"
   ]
  },
  {
   "cell_type": "code",
   "execution_count": null,
   "metadata": {},
   "outputs": [],
   "source": [
    "n = int(input())\n",
    "nums = list(map(int, input().split()))\n",
    "MIN = 1\n",
    "MAX = 1\n",
    "\n",
    "for i in range(0,n,2):\n",
    "    if MAX and nums[i]<nums[i+1]:\n",
    "        MAX = 0\n",
    "    if MIN and nums[i]>nums[i+1]:\n",
    "        MIN = 0\n",
    "if MIN:\n",
    "    print('MIN')\n",
    "elif MAX:\n",
    "    print('MAX')\n",
    "else:\n",
    "    print('NONE')"
   ]
  },
  {
   "cell_type": "markdown",
   "metadata": {},
   "source": [
    "9\n",
    "Share\n",
    "Given two numbers N,K(N>=K) and an array of N elements, write a program to find the Kth largest element.\n",
    "Input Size : 1 <= K <= N <= 100000\n",
    "Sample Testcases :\n",
    "INPUT\n",
    "6 2\n",
    "1 2 3 4 5 6\n",
    "OUTPUT\n",
    "5"
   ]
  },
  {
   "cell_type": "code",
   "execution_count": null,
   "metadata": {},
   "outputs": [],
   "source": [
    "n, k = map(int, input().split())\n",
    "nums = list(map(int, input().split()))\n",
    "\n",
    "for i in range(k-1):\n",
    "    nums.remove(max(nums))\n",
    "print(max(nums))"
   ]
  },
  {
   "cell_type": "markdown",
   "metadata": {},
   "source": [
    "10\n",
    "Share\n",
    "Ramesh is given  a task to generalise the array. An array is called generalise if median of that array is equal to sum ‘k’.Ramesh has less knowledge amongst median so he decided to take help from you.Your task is to count the number of elements that you must add to the median of given array equal to a number ‘k’.\n",
    "\n",
    "Input Description:\n",
    "First line contains a number ‘n’.next line contains n space separated numbers.next line contains a number ‘k’\n",
    "\n",
    "Output Description:\n",
    "Print the count required in order to make the median of array equal to k\n",
    "\n",
    "Sample Input :\n",
    "6 \n",
    "10 20 30 100 150 200\n",
    "30\n",
    "Sample Output :\n",
    "1"
   ]
  },
  {
   "cell_type": "code",
   "execution_count": null,
   "metadata": {},
   "outputs": [],
   "source": [
    "n = int(input())\n",
    "nums = list(map(int, input().split()))\n",
    "k = int(input())\n",
    "if k in nums:\n",
    "    i = nums.index(k)\n",
    "else:\n",
    "    i = 0\n",
    "print(n-(i*2)-1)"
   ]
  }
 ],
 "metadata": {
  "language_info": {
   "name": "python"
  }
 },
 "nbformat": 4,
 "nbformat_minor": 2
}
