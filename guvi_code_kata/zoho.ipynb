{
 "cells": [
  {
   "cell_type": "markdown",
   "metadata": {},
   "source": [
    "1\n",
    "Share\n",
    "Given a roman numeral N, convert it into integer.Take L=50, C=100.If it is not a valid roman numeral print '-1'\n",
    "Input Size : N <= 100\n",
    "Sample Testcase :\n",
    "INPUT\n",
    "VI\n",
    "OUTPUT\n",
    "6\n",
    "INPUT\n",
    "Y\n",
    "OUTPUT\n",
    "-1"
   ]
  },
  {
   "cell_type": "code",
   "execution_count": null,
   "metadata": {},
   "outputs": [],
   "source": [
    "# Python program to convert Roman \n",
    "# Numerals to Numbers\n",
    "\n",
    "# This function returns value of \n",
    "# each Roman symbol\n",
    "def value(r):\n",
    "\tif (r == 'I'):\n",
    "\t\treturn 1\n",
    "\tif (r == 'V'):\n",
    "\t\treturn 5\n",
    "\tif (r == 'X'):\n",
    "\t\treturn 10\n",
    "\tif (r == 'L'):\n",
    "\t\treturn 50\n",
    "\tif (r == 'C'):\n",
    "\t\treturn 100\n",
    "\tif (r == 'D'):\n",
    "\t\treturn 500\n",
    "\tif (r == 'M'):\n",
    "\t\treturn 1000\n",
    "\treturn -1\n",
    "\n",
    "def romanToDecimal(str):\n",
    "\tres = 0\n",
    "\ti = 0\n",
    "\n",
    "\twhile (i < len(str)):\n",
    "\n",
    "\t\t# Getting value of symbol s[i]\n",
    "\t\ts1 = value(str[i])\n",
    "\n",
    "\t\tif (i + 1 < len(str)):\n",
    "\n",
    "\t\t\t# Getting value of symbol s[i + 1]\n",
    "\t\t\ts2 = value(str[i + 1])\n",
    "\n",
    "\t\t\t# Comparing both values\n",
    "\t\t\tif (s1 >= s2):\n",
    "\n",
    "\t\t\t\t# Value of current symbol is greater\n",
    "\t\t\t\t# or equal to the next symbol\n",
    "\t\t\t\tres = res + s1\n",
    "\t\t\t\ti = i + 1\n",
    "\t\t\telse:\n",
    "\n",
    "\t\t\t\t# Value of current symbol is greater\n",
    "\t\t\t\t# or equal to the next symbol\n",
    "\t\t\t\tres = res + s2 - s1\n",
    "\t\t\t\ti = i + 2\n",
    "\t\telse:\n",
    "\t\t\tres = res + s1\n",
    "\t\t\ti = i + 1\n",
    "\n",
    "\treturn res\n",
    "\n",
    "print(romanToDecimal(input()))\n"
   ]
  },
  {
   "cell_type": "markdown",
   "metadata": {},
   "source": [
    "2\n",
    "Share\n",
    "Given a string S of length N, print all permutations of the string in a separate line.\n",
    "Input Size : 1 <= N <= 100000\n",
    "Sample Testcases :\n",
    "INPUT\n",
    "123\n",
    "OUTPUT\n",
    "123\n",
    "231\n",
    "321\n",
    "213\n",
    "312\n",
    "132"
   ]
  },
  {
   "cell_type": "code",
   "execution_count": null,
   "metadata": {},
   "outputs": [],
   "source": [
    "def p(nums):\n",
    "    nums = [*nums]\n",
    "    if not nums or len(nums) == 0:\n",
    "        return nums\n",
    "    # [1,2,3] -> [2,1,3] -> [2,3,1] => res[[2,3,1]]\n",
    "    # [2,1,3] -> \n",
    "    res = []\n",
    "    \n",
    "    def backtrack(start):\n",
    "        if start == len(nums):\n",
    "            res.append(nums.copy())\n",
    "            return\n",
    "    \n",
    "        seen = set()\n",
    "        for i in range(start, len(nums)):\n",
    "            if nums[i] not in seen:\n",
    "                seen.add(nums[i])\n",
    "                nums[i], nums[start] = nums[start], nums[i]\n",
    "                backtrack(start+1)\n",
    "                nums[start], nums[i] = nums[i], nums[start]\n",
    "    backtrack(0)\n",
    "    return res\n",
    "pers = p(input())\n",
    "for i in pers:\n",
    "    print(*i, sep='')"
   ]
  },
  {
   "cell_type": "markdown",
   "metadata": {},
   "source": [
    "3\n",
    "Share\n",
    "You are given a string of different type of brackets. Your task is to check whether the given string is balanced or not balanced.\n",
    "A string is said to be balanced if the number of opening brackets are equal to the number of closing brackets where the brackets should be of same kind.\n",
    "\n",
    "Input Description:\n",
    "You are given a string ‘s’.\n",
    "\n",
    "Output Description:\n",
    "Print 'yes' if the given string is balanced and no if it is not\n",
    "\n",
    "Sample Input :\n",
    "{}(())[][][{}]\n",
    "Sample Output :\n",
    "yes"
   ]
  },
  {
   "cell_type": "code",
   "execution_count": null,
   "metadata": {},
   "outputs": [],
   "source": [
    "opens = '({['\n",
    "closes = ')}]'\n",
    "s = input()\n",
    "p = ''\n",
    "for i in s:\n",
    "    if p and p[-1] in opens and i in closes:\n",
    "        if opens.index(p[-1]) == closes.index(i):\n",
    "            p = p[:-1]\n",
    "            continue\n",
    "    p += i\n",
    "print('no' if p else 'yes')"
   ]
  },
  {
   "cell_type": "markdown",
   "metadata": {},
   "source": [
    "4\n",
    "Share\n",
    "You are provided with a string ‘s’. Your task is to reverse the string using stack Data Structure.\n",
    "\n",
    " \n",
    "\n",
    "Input Description:\n",
    "You are given a string ‘s’.\n",
    "\n",
    "Output Description:\n",
    "Print the reverse string\n",
    "\n",
    "Sample Input :\n",
    "i am jsb\n",
    "Sample Output :\n",
    "jsb am i"
   ]
  },
  {
   "cell_type": "code",
   "execution_count": null,
   "metadata": {},
   "outputs": [],
   "source": [
    "s = input().split()\n",
    "print(*s[::-1])"
   ]
  },
  {
   "cell_type": "markdown",
   "metadata": {},
   "source": [
    "5\n",
    "Share\n",
    "You are provided with an array. Your task is to print the count of subarray whose maximum element is strictly greater than ‘k’.\n",
    "\n",
    "Input Description:\n",
    "First line contains two element ‘N’ and ‘k’.Second line contains ‘n’ space separated numbers.\n",
    "\n",
    "Output Description:\n",
    "Print the count of subarray whose maximum element’s value is strictly greater than ‘k’.\n",
    "\n",
    "Sample Input :\n",
    "5 4\n",
    "1 6 7 8 9\n",
    "Sample Output :\n",
    "14"
   ]
  },
  {
   "cell_type": "code",
   "execution_count": null,
   "metadata": {},
   "outputs": [],
   "source": [
    "n, k = map(int, input().split())\n",
    "nums = list(map(int, input().split()))\n",
    "\n",
    "subs = 0\n",
    "\n",
    "for i in range(n):\n",
    "    for j in range(i+1, n+1):\n",
    "        if max(nums[i:j]) > k:\n",
    "            subs += 1\n",
    "print(subs)"
   ]
  },
  {
   "cell_type": "markdown",
   "metadata": {},
   "source": [
    "6\n",
    "Share\n",
    "You are given with an array. For each element present in the array your task is to print the next smallest than that number. If it is not smallest print -1\n",
    "\n",
    "Input Description:\n",
    "You are given a number ‘n’ representing size of array. And n space separated numbers.\n",
    "\n",
    "Output Description:\n",
    "Print the next smallest number present in array and -1 if no smallest is present\n",
    "\n",
    "Sample Input :\n",
    "7\n",
    "10 7 9 3 2 1 15\n",
    "Sample Output :\n",
    "7 3 3 2 1 -1 -1"
   ]
  },
  {
   "cell_type": "code",
   "execution_count": null,
   "metadata": {},
   "outputs": [],
   "source": [
    "n = int(input())\n",
    "nums = list(map(int,input().split()))\n",
    "ans = []\n",
    "for i in range(n):\n",
    "    lower = -1\n",
    "    for j in range(i+1, n):\n",
    "        if nums[j]<nums[i]: \n",
    "            lower=nums[j]\n",
    "            break\n",
    "    ans.append(lower)\n",
    "print(*ans)"
   ]
  },
  {
   "cell_type": "markdown",
   "metadata": {},
   "source": [
    "7\n",
    "Share\n",
    "Given a string of length N, find the longest palindromic substring.\n",
    "Input Size : 1 <= N <= 1000\n",
    "Sample Testcase :\n",
    "INPUT\n",
    "DIEHEIDI\n",
    "OUTPUT\n",
    "DIEHEID"
   ]
  },
  {
   "cell_type": "code",
   "execution_count": null,
   "metadata": {},
   "outputs": [],
   "source": [
    "def pol(s):\n",
    "    f = 1\n",
    "    \n",
    "    for i in range(len(s)):\n",
    "        if s[i] != s[-i-1]:\n",
    "            f = 0\n",
    "    \n",
    "    return f\n",
    "\n",
    "def subs(s):\n",
    "    subs = []\n",
    "    for i in range(len(s)):\n",
    "        for j in range(i+1, len(s)+1):\n",
    "            subs.append(s[i:j])\n",
    "    return subs\n",
    "    \n",
    "s = input()\n",
    "m = ''\n",
    "l = 0\n",
    "for i in subs(s):\n",
    "    if len(i) > l and pol(i):\n",
    "        m = i\n",
    "        l = len(i)\n",
    "print(m)"
   ]
  },
  {
   "cell_type": "markdown",
   "metadata": {},
   "source": [
    "8\n",
    "Share\n",
    "You are given with a queue. Your task is to reverse the queue elements and print it.\n",
    "\n",
    "Input Description:\n",
    "You are given a number ‘n’,denoting size of queue, Next line contains s space separated numbers\n",
    "\n",
    "Output Description:\n",
    "Print the reversed queue.\n",
    "\n",
    "Sample Input :\n",
    "6\n",
    "1 2 3 4 5 6\n",
    "Sample Output :\n",
    "6 5 4 3 2 1"
   ]
  },
  {
   "cell_type": "code",
   "execution_count": null,
   "metadata": {},
   "outputs": [],
   "source": [
    "n = input()\n",
    "print(*input().split()[::-1])"
   ]
  },
  {
   "cell_type": "markdown",
   "metadata": {},
   "source": [
    "9\n",
    "Share\n",
    "Given an array of N elements, sort the elements of the array based on frequency. If two numbers have the same frequency,then the smaller number comes first (eg) if the elements are 1,1,3,1,2,3,4 then the output is 2,4,3,3,1,1,1\n",
    " \n",
    "\n",
    "Input Description:\n",
    "Size of the array followed by the number of elements\n",
    "\n",
    "Output Description:\n",
    "Array elements sorted based on increasing frequency\n",
    "\n",
    "Sample Input :\n",
    "5\n",
    "8 8 1 1 3\n",
    "Sample Output :\n",
    "3 1 1 8 8"
   ]
  },
  {
   "cell_type": "code",
   "execution_count": null,
   "metadata": {},
   "outputs": [],
   "source": [
    "n = input()\n",
    "nums = list(map(int, input().split()))\n",
    "\n",
    "print(*sorted(sorted(nums), key=lambda x: nums.count(x)))"
   ]
  },
  {
   "cell_type": "markdown",
   "metadata": {},
   "source": [
    "10\n",
    "Share\n",
    "Rajesh was going through alternative array sorting. He wishes to print the array alternatively. Hence hired you. Your task is to help rajesh in printing the array alternatively.\n",
    "\n",
    "\n",
    "\n",
    "An alternative array is an array in which first element is maximum of the whole array second element is minimum of the whole array. Third element is the second largest. Fourth element is the second smallest And so on. print the array in the desired manner.\n",
    "\n",
    "\n",
    "\n",
    "\n",
    "Input Description:\n",
    "You are given with the length of array ‘n’. followed by ‘n’ space separated numbers.\n",
    "\n",
    "Output Description:\n",
    "Print the array as mentioned.\n",
    "\n",
    "Sample Input :\n",
    "5 1 7 11 16 19\n",
    "Sample Output :\n",
    "19 1 16 7 11"
   ]
  },
  {
   "cell_type": "code",
   "execution_count": null,
   "metadata": {},
   "outputs": [],
   "source": [
    "n = int(input())\n",
    "nums = list(map(int, input().split()))\n",
    "ans = []\n",
    "while len(nums) > 0:\n",
    "    if len(ans)%2 == 0:\n",
    "        ans.append(max(nums))\n",
    "        nums.remove(max(nums))\n",
    "    else:\n",
    "        ans.append(min(nums))\n",
    "        nums.remove(min(nums))\n",
    "\n",
    "print(*ans)"
   ]
  },
  {
   "cell_type": "markdown",
   "metadata": {},
   "source": [
    "11\n",
    "Share\n",
    "Given k sorted arrays of possibly different sizes, merge them and print the sorted output.\n",
    "Input Size : N<=100\n",
    "Example:\n",
    "INPUT\n",
    "k = 3\n",
    "1 3\n",
    "2 4 6\n",
    "0 9 10 11\n",
    "OUTPUT\n",
    "0 1 2 3 4 6 9 10 11"
   ]
  },
  {
   "cell_type": "code",
   "execution_count": null,
   "metadata": {},
   "outputs": [],
   "source": [
    "nums = []\n",
    "for i in range(int(input())):\n",
    "    nums.extend(map(int, input().split()))\n",
    "print(*sorted(nums))"
   ]
  }
 ],
 "metadata": {
  "language_info": {
   "name": "python"
  }
 },
 "nbformat": 4,
 "nbformat_minor": 2
}
