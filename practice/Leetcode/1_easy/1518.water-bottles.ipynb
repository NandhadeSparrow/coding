{
 "cells": [
  {
   "cell_type": "markdown",
   "metadata": {},
   "source": [
    "1518. Water Bottles\n",
    "Easy\n",
    "Topics\n",
    "Companies\n",
    "Hint\n",
    "There are numBottles water bottles that are initially full of water. You can exchange numExchange empty water bottles from the market with one full water bottle.\n",
    "\n",
    "The operation of drinking a full water bottle turns it into an empty bottle.\n",
    "\n",
    "Given the two integers numBottles and numExchange, return the maximum number of water bottles you can drink.\n",
    "\n",
    " \n",
    "\n",
    "Example 1:\n",
    "\n",
    "\n",
    "Input: numBottles = 9, numExchange = 3\n",
    "Output: 13\n",
    "Explanation: You can exchange 3 empty bottles to get 1 full water bottle.\n",
    "Number of water bottles you can drink: 9 + 3 + 1 = 13.\n",
    "Example 2:\n",
    "\n",
    "\n",
    "Input: numBottles = 15, numExchange = 4\n",
    "Output: 19\n",
    "Explanation: You can exchange 4 empty bottles to get 1 full water bottle. \n",
    "Number of water bottles you can drink: 15 + 3 + 1 = 19.\n",
    " \n",
    "\n",
    "Constraints:\n",
    "\n",
    "1 <= numBottles <= 100\n",
    "2 <= numExchange <= 100"
   ]
  },
  {
   "cell_type": "code",
   "execution_count": 7,
   "metadata": {},
   "outputs": [
    {
     "name": "stdout",
     "output_type": "stream",
     "text": [
      "0 15 0\n",
      "15 3 3\n",
      "18 1 2\n"
     ]
    },
    {
     "data": {
      "text/plain": [
       "19"
      ]
     },
     "execution_count": 7,
     "metadata": {},
     "output_type": "execute_result"
    }
   ],
   "source": [
    "d = 0\n",
    "e = 0\n",
    "f = 15\n",
    "n = 4\n",
    "print(d, f, e)\n",
    "while f+e >= n:\n",
    "    d += f\n",
    "    e += f\n",
    "    f = e // n\n",
    "    e = e % n\n",
    "    print(d, f, e)\n",
    "d += f\n",
    "d"
   ]
  }
 ],
 "metadata": {
  "kernelspec": {
   "display_name": "Python 3",
   "language": "python",
   "name": "python3"
  },
  "language_info": {
   "codemirror_mode": {
    "name": "ipython",
    "version": 3
   },
   "file_extension": ".py",
   "mimetype": "text/x-python",
   "name": "python",
   "nbconvert_exporter": "python",
   "pygments_lexer": "ipython3",
   "version": "3.12.0"
  }
 },
 "nbformat": 4,
 "nbformat_minor": 2
}
