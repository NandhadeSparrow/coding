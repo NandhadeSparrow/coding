{
 "cells": [
  {
   "cell_type": "markdown",
   "metadata": {},
   "source": [
    "Question 1\n",
    "Problem Description:\n",
    "You are given an integer array coins representing coins of different denominations and an integer\n",
    "amount representing a total amount of money.\n",
    "Return the fewest number of coins that you need to make up that amount. If that amount of money\n",
    "cannot be made up by any combination of the coins, return -1.\n",
    "You may assume that you have an infinite number of each kind of coin.\n",
    "Input Description:\n",
    "An integer array `coins` representing coins of different denominations.\n",
    "An integer `amount` representing a total amount of money.\n",
    "Output Description:\n",
    "The fewest number of coins needed to make up the amount. If the amount cannot be made up,\n",
    "return -1.\n",
    "Examples:\n",
    "**Example 1:**\n",
    "- Input: `coins = [1, 2, 5]`, `amount = 11`\n",
    "- Output: `3`\n",
    "- Explanation: `11 = 5 + 5 + 1`\n",
    "**Example 2:**\n",
    "- Input: `coins = [2]`, `amount = 3`\n",
    "- Output: `-1`\n",
    "**Example 3:**\n",
    "- Input: `coins = [1]`, `amount = 0`\n",
    "- Output: `0`\n",
    "Constraints:\n",
    "1 <= coins.length <= 12\n",
    "1 <= coins[i] <= 2^31 - 1\n",
    "0 <= amount <= 10^4\n"
   ]
  },
  {
   "cell_type": "code",
   "execution_count": null,
   "metadata": {},
   "outputs": [],
   "source": [
    "class Solution:\n",
    "    def coinChange(self, coins: List[int], amount: int) -> int:\n",
    "        min_coins = [amount + 1] * (amount + 1)\n",
    "        min_coins[0] = 0\n",
    "\n",
    "        for i in range(1, amount + 1):\n",
    "            for c in coins:\n",
    "                if i - c >= 0:\n",
    "                    min_coins[i] = min(min_coins[i], 1 + min_coins[i - c])\n",
    "                    print(i, c, min_coins)\n",
    "        \n",
    "        return min_coins[-1] if min_coins[-1] != amount + 1 else -1"
   ]
  },
  {
   "cell_type": "code",
   "execution_count": 10,
   "metadata": {},
   "outputs": [],
   "source": [
    "def coinChange(coins, amount) -> int:\n",
    "        min_coins = [amount + 1] * (amount + 1)\n",
    "        min_coins[0] = 0\n",
    "        print(min_coins)\n",
    "        for i in range(1, amount + 1):\n",
    "            for c in coins:\n",
    "                if c <= i:\n",
    "                    min_coins[i] = min(min_coins[i], 1 + min_coins[i - c])\n",
    "                    print(i, c, ',', (min_coins[i], 1 + min_coins[i - c]), min_coins)\n",
    "        \n",
    "        return min_coins[-1] if min_coins[-1] != amount + 1 else -1"
   ]
  },
  {
   "cell_type": "code",
   "execution_count": 11,
   "metadata": {},
   "outputs": [
    {
     "name": "stdout",
     "output_type": "stream",
     "text": [
      "[0, 12, 12, 12, 12, 12, 12, 12, 12, 12, 12, 12]\n",
      "1 1 , (1, 1) [0, 1, 12, 12, 12, 12, 12, 12, 12, 12, 12, 12]\n",
      "2 1 , (2, 2) [0, 1, 2, 12, 12, 12, 12, 12, 12, 12, 12, 12]\n",
      "3 1 , (3, 3) [0, 1, 2, 3, 12, 12, 12, 12, 12, 12, 12, 12]\n",
      "3 3 , (1, 1) [0, 1, 2, 1, 12, 12, 12, 12, 12, 12, 12, 12]\n",
      "4 1 , (2, 2) [0, 1, 2, 1, 2, 12, 12, 12, 12, 12, 12, 12]\n",
      "4 3 , (2, 2) [0, 1, 2, 1, 2, 12, 12, 12, 12, 12, 12, 12]\n",
      "5 1 , (3, 3) [0, 1, 2, 1, 2, 3, 12, 12, 12, 12, 12, 12]\n",
      "5 3 , (3, 3) [0, 1, 2, 1, 2, 3, 12, 12, 12, 12, 12, 12]\n",
      "5 5 , (1, 1) [0, 1, 2, 1, 2, 1, 12, 12, 12, 12, 12, 12]\n",
      "6 1 , (2, 2) [0, 1, 2, 1, 2, 1, 2, 12, 12, 12, 12, 12]\n",
      "6 3 , (2, 2) [0, 1, 2, 1, 2, 1, 2, 12, 12, 12, 12, 12]\n",
      "6 5 , (2, 2) [0, 1, 2, 1, 2, 1, 2, 12, 12, 12, 12, 12]\n",
      "7 1 , (3, 3) [0, 1, 2, 1, 2, 1, 2, 3, 12, 12, 12, 12]\n",
      "7 3 , (3, 3) [0, 1, 2, 1, 2, 1, 2, 3, 12, 12, 12, 12]\n",
      "7 5 , (3, 3) [0, 1, 2, 1, 2, 1, 2, 3, 12, 12, 12, 12]\n",
      "8 1 , (4, 4) [0, 1, 2, 1, 2, 1, 2, 3, 4, 12, 12, 12]\n",
      "8 3 , (2, 2) [0, 1, 2, 1, 2, 1, 2, 3, 2, 12, 12, 12]\n",
      "8 5 , (2, 2) [0, 1, 2, 1, 2, 1, 2, 3, 2, 12, 12, 12]\n",
      "9 1 , (3, 3) [0, 1, 2, 1, 2, 1, 2, 3, 2, 3, 12, 12]\n",
      "9 3 , (3, 3) [0, 1, 2, 1, 2, 1, 2, 3, 2, 3, 12, 12]\n",
      "9 5 , (3, 3) [0, 1, 2, 1, 2, 1, 2, 3, 2, 3, 12, 12]\n",
      "10 1 , (4, 4) [0, 1, 2, 1, 2, 1, 2, 3, 2, 3, 4, 12]\n",
      "10 3 , (4, 4) [0, 1, 2, 1, 2, 1, 2, 3, 2, 3, 4, 12]\n",
      "10 5 , (2, 2) [0, 1, 2, 1, 2, 1, 2, 3, 2, 3, 2, 12]\n",
      "11 1 , (3, 3) [0, 1, 2, 1, 2, 1, 2, 3, 2, 3, 2, 3]\n",
      "11 3 , (3, 3) [0, 1, 2, 1, 2, 1, 2, 3, 2, 3, 2, 3]\n",
      "11 5 , (3, 3) [0, 1, 2, 1, 2, 1, 2, 3, 2, 3, 2, 3]\n"
     ]
    },
    {
     "data": {
      "text/plain": [
       "3"
      ]
     },
     "execution_count": 11,
     "metadata": {},
     "output_type": "execute_result"
    }
   ],
   "source": [
    "coinChange([1, 3, 5], 11)"
   ]
  }
 ],
 "metadata": {
  "kernelspec": {
   "display_name": "Python 3",
   "language": "python",
   "name": "python3"
  },
  "language_info": {
   "codemirror_mode": {
    "name": "ipython",
    "version": 3
   },
   "file_extension": ".py",
   "mimetype": "text/x-python",
   "name": "python",
   "nbconvert_exporter": "python",
   "pygments_lexer": "ipython3",
   "version": "3.12.0"
  }
 },
 "nbformat": 4,
 "nbformat_minor": 2
}
