{
 "cells": [
  {
   "cell_type": "markdown",
   "metadata": {},
   "source": [
    "3\n",
    "Share\n",
    "You are given a number N and followed by an array of N numbers and followed by two elements U and V, find the minimum distance between the elements in the array. The array may have duplicates.\n",
    "For example, if the array is (1, 5, 3, 7, 2, 8, 3, 4, 5, 9, 9, 3, 1, 3, 2, 9)\n",
    "Min Distance (U=4, V= 7): 4\n",
    "Input Size : N <= 100000\n",
    "Sample Testcase :\n",
    "INPUT\n",
    "16\n",
    "1 5 3 7 2 8 3 4 5 9 9 3 1 3 2 9\n",
    "4 7\n",
    "OUTPUT\n",
    "4"
   ]
  },
  {
   "cell_type": "code",
   "execution_count": null,
   "metadata": {},
   "outputs": [],
   "source": [
    "n = int(input())\n",
    "nums = list(map(int, input().split()))\n",
    "u, v = map(int, input().split())\n",
    "ds = []\n",
    "pi = None\n",
    "\n",
    "\n",
    "for i in range(n):\n",
    "    if nums[i] in [u,v]:\n",
    "        # print(i)\n",
    "        if pi and nums[i] != nums[pi]:\n",
    "                    ds.append(i-pi)\n",
    "        pi = i\n",
    "        \n",
    "        \n",
    "print(min(ds))"
   ]
  },
  {
   "cell_type": "markdown",
   "metadata": {},
   "source": []
  }
 ],
 "metadata": {
  "language_info": {
   "name": "python"
  }
 },
 "nbformat": 4,
 "nbformat_minor": 2
}
