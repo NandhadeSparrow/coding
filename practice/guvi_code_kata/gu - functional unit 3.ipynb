{
 "cells": [
  {
   "cell_type": "markdown",
   "metadata": {},
   "source": [
    "\n",
    "Share\n",
    "Python, Filter Function\n",
    "\n",
    "You are a college professor and you have the scores of your students in a list. You want to find out which students have passed the course. A student passes the course if they score 60 or more. Write a Python function passed_students(scores) that takes a list of scores and returns a list of scores that are 60 or more. Use the filter function to filter out the passing scores.\n",
    "\n",
    "Input:\n",
    "\n",
    "scores: a list of integers representing the scores of the students.\n",
    "Output:\n",
    "\n",
    "The function should return a list of integers representing the scores of the students who have passed.\n",
    "Sample Input:\n",
    "\n",
    "[55, 60, 65, 70, 75, 80, 85, 90, 95, 100]\n",
    "\n",
    "Sample Output:\n",
    "\n",
    "[60, 65, 70, 75, 80, 85, 90, 95, 100]\n",
    "\n",
    "Explanation:\n",
    "\n",
    "The filter function applies a function to every item in the scores list and returns a new list with the items for which the function returns True. In this case, the function is a lambda function that checks if a score is 60 or more. This demonstrates how the filter function can be used to filter items in a list based on a condition. In the context of grading students in a college, this can be useful to find out which students have passed the course based on their scores."
   ]
  },
  {
   "cell_type": "code",
   "execution_count": 1,
   "metadata": {},
   "outputs": [
    {
     "data": {
      "text/plain": [
       "<filter at 0x1c7c21ec430>"
      ]
     },
     "execution_count": 1,
     "metadata": {},
     "output_type": "execute_result"
    }
   ],
   "source": [
    "return list(filter(lambda x: x>=60, scores))"
   ]
  },
  {
   "cell_type": "code",
   "execution_count": null,
   "metadata": {},
   "outputs": [],
   "source": [
    "return list(zip(names, scores))"
   ]
  },
  {
   "cell_type": "code",
   "execution_count": null,
   "metadata": {},
   "outputs": [],
   "source": [
    "return reduce(lambda x, y: x+y, scores)"
   ]
  },
  {
   "cell_type": "code",
   "execution_count": null,
   "metadata": {},
   "outputs": [],
   "source": [
    "p = r'([\\w\\s]+) \\((\\d{4})\\)'\n",
    "matches = re.findall(p, data)\n",
    "movies = [(t.strip(), y) for t, y in matches]\n",
    "return movies"
   ]
  },
  {
   "cell_type": "code",
   "execution_count": null,
   "metadata": {},
   "outputs": [],
   "source": [
    "return [x['name'] for x in products if x['price']>50]"
   ]
  }
 ],
 "metadata": {
  "kernelspec": {
   "display_name": "Python 3",
   "language": "python",
   "name": "python3"
  },
  "language_info": {
   "codemirror_mode": {
    "name": "ipython",
    "version": 3
   },
   "file_extension": ".py",
   "mimetype": "text/x-python",
   "name": "python",
   "nbconvert_exporter": "python",
   "pygments_lexer": "ipython3",
   "version": "3.12.0"
  }
 },
 "nbformat": 4,
 "nbformat_minor": 2
}
