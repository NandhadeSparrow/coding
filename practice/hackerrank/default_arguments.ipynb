{
 "cells": [
  {
   "cell_type": "code",
   "execution_count": null,
   "metadata": {},
   "outputs": [],
   "source": [
    "# Enter your code here. Read input from STDIN. Print output to STDOUT\n",
    "n = int(input())\n",
    "qs = []\n",
    "def stream(n, s='even'):\n",
    "    if s == 'even':\n",
    "        start = 0\n",
    "    else:\n",
    "        start = 1\n",
    "    for i in range(start, n*2, 2):\n",
    "        print(i)\n",
    "        \n",
    "for _ in range(n):\n",
    "    i = input().split()\n",
    "    if i[0].isdigit():\n",
    "        stream(int(i[0]))\n",
    "    else:\n",
    "        stream(int(i[1]), i[0])"
   ]
  }
 ],
 "metadata": {
  "language_info": {
   "name": "python"
  }
 },
 "nbformat": 4,
 "nbformat_minor": 2
}
