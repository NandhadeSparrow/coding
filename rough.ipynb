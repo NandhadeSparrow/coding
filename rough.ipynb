{
 "cells": [
  {
   "cell_type": "code",
   "execution_count": 2,
   "metadata": {},
   "outputs": [
    {
     "data": {
      "text/plain": [
       "3"
      ]
     },
     "execution_count": 2,
     "metadata": {},
     "output_type": "execute_result"
    }
   ],
   "source": [
    "def find_max(l):\n",
    "    maximum = l[0]\n",
    "    max2 = l[0]\n",
    "    for n in l[1:]:\n",
    "        if maximum < n:\n",
    "            max2 = maximum\n",
    "            maximum = n\n",
    "    return max2\n",
    "find_max([1,3,4,2])"
   ]
  },
  {
   "cell_type": "code",
   "execution_count": 1,
   "metadata": {},
   "outputs": [
    {
     "data": {
      "text/plain": [
       "-2"
      ]
     },
     "execution_count": 1,
     "metadata": {},
     "output_type": "execute_result"
    }
   ],
   "source": [
    "[-1,-2,-2,3,-2][3]"
   ]
  },
  {
   "cell_type": "code",
   "execution_count": null,
   "metadata": {},
   "outputs": [],
   "source": [
    "class Solution:\n",
    "    def findTheLongestSubstring(self, s: str) -> int:\n",
    "        v = 'aeiou'\n",
    "        l = 0\n",
    "        subs = []\n",
    "        for i in range(len(s)):\n",
    "\n",
    "            start = False\n",
    "            if i > 0 and ((s[i] in v) or (s[i] not in v and s[i-1] in v)): start = True\n",
    "            elif i == 0: start = True\n",
    "\n",
    "            if start:\n",
    "                for j in range(i+1, len(s)+1):\n",
    "\n",
    "                    end = False\n",
    "                    if j < len(s) and ((s[j-1] in v) or (s[j-1] not in v and s[j] in v)): end = True\n",
    "                    elif j == len(s): end = True\n",
    "\n",
    "                    if end:\n",
    "                        subs.append(s[i:j])\n",
    "\n",
    "\n",
    "        subs = sorted(subs, key = lambda x: -len(x))\n",
    "\n",
    "\n",
    "        for sub in subs:\n",
    "            counts = {'a':0, 'e':0, 'i':0, 'o':0, 'u':0}\n",
    "            for ch in v:\n",
    "                counts[ch] = sub.count(ch)\n",
    "            even = True\n",
    "            for ch in counts:\n",
    "                if counts[ch] % 2 != 0:\n",
    "                    even = False\n",
    "                    break\n",
    "            if even:\n",
    "                l = len(sub)\n",
    "                break\n",
    "            print(sub, counts)\n",
    "\n",
    "\n",
    "        return l"
   ]
  },
  {
   "cell_type": "code",
   "execution_count": 15,
   "metadata": {},
   "outputs": [
    {
     "name": "stdout",
     "output_type": "stream",
     "text": [
      "0 1 [-1, 0, -2, -2, -2, -2, -2, -2, -2, -2, -2, -2, -2, -2, -2, -2, -2, -2, -2, -2, -2, -2, -2, -2, -2, -2, -2, -2, -2, -2, -2, -2] 0\n",
      "1 3 [-1, 0, -2, 1, -2, -2, -2, -2, -2, -2, -2, -2, -2, -2, -2, -2, -2, -2, -2, -2, -2, -2, -2, -2, -2, -2, -2, -2, -2, -2, -2, -2] 0\n",
      "2 7 [-1, 0, -2, 1, -2, -2, -2, 2, -2, -2, -2, -2, -2, -2, -2, -2, -2, -2, -2, -2, -2, -2, -2, -2, -2, -2, -2, -2, -2, -2, -2, -2] 0\n",
      "3 15 [-1, 0, -2, 1, -2, -2, -2, 2, -2, -2, -2, -2, -2, -2, -2, 3, -2, -2, -2, -2, -2, -2, -2, -2, -2, -2, -2, -2, -2, -2, -2, -2] 0\n",
      "4 31 [-1, 0, -2, 1, -2, -2, -2, 2, -2, -2, -2, -2, -2, -2, -2, 3, -2, -2, -2, -2, -2, -2, -2, -2, -2, -2, -2, -2, -2, -2, -2, 4] 0\n"
     ]
    },
    {
     "data": {
      "text/plain": [
       "0"
      ]
     },
     "execution_count": 15,
     "metadata": {},
     "output_type": "execute_result"
    }
   ],
   "source": [
    "s = 'aeiou'\n",
    "mapy = [-2] * 32\n",
    "mapy[0] = -1\n",
    "\n",
    "max_len = 0\n",
    "mask = 0\n",
    "\n",
    "for i, char in enumerate(s):\n",
    "    if char == 'a':\n",
    "        mask ^= 1\n",
    "    elif char == 'e':\n",
    "        mask ^= 2\n",
    "    elif char == 'i':\n",
    "        mask ^= 4\n",
    "    elif char == 'o':\n",
    "        mask ^= 8\n",
    "    elif char == 'u':\n",
    "        mask ^= 16\n",
    "\n",
    "    prev = mapy[mask]\n",
    "    if prev == -2:\n",
    "        mapy[mask] = i\n",
    "    else:\n",
    "        max_len = max(max_len, i - prev)\n",
    "    print(i, mask, mapy, max_len)\n",
    "    \n",
    "\n",
    "max_len\n",
    "# https://leetcode.com/problems/find-the-longest-substring-containing-vowels-in-even-counts/solutions/5784707/effortless-bitmasking-solution-o-n-o-1/?envType=daily-question&envId=2024-09-15"
   ]
  },
  {
   "cell_type": "code",
   "execution_count": 11,
   "metadata": {},
   "outputs": [
    {
     "name": "stdout",
     "output_type": "stream",
     "text": [
      "max(0, 0 - {0: -1, 97: 0}.setdefault(97, 0))\n",
      "0 a 0b1100001 0 {0: -1, 97: 0}\n",
      "max(2, 1 - {0: -1, 97: 0}.setdefault(0, 1))\n",
      "1 a 0b0 2 {0: -1, 97: 0}\n",
      "max(3, 2 - {0: -1, 97: 0}.setdefault(0, 2))\n",
      "2 b 0b0 3 {0: -1, 97: 0}\n",
      "max(3, 3 - {0: -1, 97: 0, 101: 3}.setdefault(101, 3))\n",
      "3 e 0b1100101 3 {0: -1, 97: 0, 101: 3}\n",
      "max(5, 4 - {0: -1, 97: 0, 101: 3}.setdefault(0, 4))\n",
      "4 e 0b0 5 {0: -1, 97: 0, 101: 3}\n",
      "max(5, 5 - {0: -1, 97: 0, 101: 3}.setdefault(97, 5))\n",
      "5 a 0b1100001 5 {0: -1, 97: 0, 101: 3}\n",
      "max(5, 6 - {0: -1, 97: 0, 101: 3, 4: 6}.setdefault(4, 6))\n",
      "6 e 0b100 5 {0: -1, 97: 0, 101: 3, 4: 6}\n",
      "max(7, 7 - {0: -1, 97: 0, 101: 3, 4: 6}.setdefault(97, 7))\n",
      "7 e 0b1100001 7 {0: -1, 97: 0, 101: 3, 4: 6}\n",
      "max(8, 8 - {0: -1, 97: 0, 101: 3, 4: 6}.setdefault(97, 8))\n",
      "8 v 0b1100001 8 {0: -1, 97: 0, 101: 3, 4: 6}\n"
     ]
    },
    {
     "data": {
      "text/plain": [
       "8"
      ]
     },
     "execution_count": 11,
     "metadata": {},
     "output_type": "execute_result"
    }
   ],
   "source": [
    "s = 'aabeeaeev'\n",
    "p = {0: -1}\n",
    "res = m = 0\n",
    "for i, c in enumerate(s):\n",
    "    m ^= (c in 'aeiou')*ord(c)\n",
    "    res = max(res, i - p.setdefault(m, i))\n",
    "    print(f'max({res}, {i} - {p}.setdefault({m}, {i}))')\n",
    "    print(i, c, bin(m), res, p)\n",
    "    # print(res)\n",
    "    \n",
    "res\n",
    "# https://leetcode.com/problems/find-the-longest-substring-containing-vowels-in-even-counts/solutions/4178213/one-line-solution/"
   ]
  }
 ],
 "metadata": {
  "kernelspec": {
   "display_name": "Python 3",
   "language": "python",
   "name": "python3"
  },
  "language_info": {
   "codemirror_mode": {
    "name": "ipython",
    "version": 3
   },
   "file_extension": ".py",
   "mimetype": "text/x-python",
   "name": "python",
   "nbconvert_exporter": "python",
   "pygments_lexer": "ipython3",
   "version": "3.12.0"
  }
 },
 "nbformat": 4,
 "nbformat_minor": 2
}
