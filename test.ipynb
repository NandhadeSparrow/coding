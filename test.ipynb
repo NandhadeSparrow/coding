{
 "cells": [
  {
   "cell_type": "code",
   "execution_count": 2,
   "metadata": {},
   "outputs": [
    {
     "name": "stdout",
     "output_type": "stream",
     "text": [
      "3 4\n",
      "2 4\n",
      "2 3\n",
      "1 4\n",
      "1 3\n",
      "1 2\n",
      "0 4\n",
      "0 3\n",
      "0 2\n",
      "0 1\n"
     ]
    }
   ],
   "source": [
    "for i in range(5-2,-1,-1):\n",
    "            for j in range(5-1, i, -1):\n",
    "                print(i,j)"
   ]
  },
  {
   "cell_type": "code",
   "execution_count": 7,
   "metadata": {},
   "outputs": [
    {
     "name": "stdout",
     "output_type": "stream",
     "text": [
      "1 2\n",
      "change [1, 3, 2]\n",
      "0 2\n",
      "change [2, 1, 3]\n",
      "0 1\n",
      "after loop [2, 1, 3]\n",
      "after sort [1, 2, 3]\n"
     ]
    }
   ],
   "source": [
    "nums = [1,2,3]\n",
    "n = len(nums)\n",
    "for i in range(n-2,-1,-1):\n",
    "    for j in range(n-1, i, -1):\n",
    "        print(i,j)\n",
    "\n",
    "        if nums[i] < nums[j]:\n",
    "            nums[i], nums[j] = nums[j], nums[i]\n",
    "            nums[i+1:] = sorted(nums[i+1:])\n",
    "            print('change', nums)\n",
    "\n",
    "print('after loop', nums)\n",
    "nums.sort()\n",
    "print('after sort', nums)"
   ]
  }
 ],
 "metadata": {
  "kernelspec": {
   "display_name": "Python 3",
   "language": "python",
   "name": "python3"
  },
  "language_info": {
   "codemirror_mode": {
    "name": "ipython",
    "version": 3
   },
   "file_extension": ".py",
   "mimetype": "text/x-python",
   "name": "python",
   "nbconvert_exporter": "python",
   "pygments_lexer": "ipython3",
   "version": "3.12.0"
  }
 },
 "nbformat": 4,
 "nbformat_minor": 2
}
